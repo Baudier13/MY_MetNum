{
 "cells": [
  {
   "cell_type": "markdown",
   "metadata": {},
   "source": [
    "# 6. Markdown y $\\LaTeX$\n",
    "> Por Arturo Erdely"
   ]
  },
  {
   "cell_type": "markdown",
   "metadata": {},
   "source": [
    "Si bien hemos utilizado `Jupyter notebooks` para escribir y ejecutar código en `Julia` ahora dedicaremos tiempo a analizar más a fondo algunas características relacionadas con la composición de texto."
   ]
  },
  {
   "cell_type": "markdown",
   "metadata": {},
   "source": [
    "## 6.1 Markdown"
   ]
  },
  {
   "cell_type": "markdown",
   "metadata": {},
   "source": [
    "Se trata de un lenguaje de composición de textos, que es reconocido dentro de los Jupyter notebooks, entre otros entornos. Mediante una sintaxis sencilla sintaxis se agrega formato al texto. En lo siguiente, con doble click se muestra el texto con la sintaxis de `Markdown` y luego con la combinación de teclas $\\uparrow$ + `enter`, o bien haciendo click en el botón `>|Run` se ejecuta la sintaxis."
   ]
  },
  {
   "cell_type": "markdown",
   "metadata": {},
   "source": [
    "En una misma línea, lo que siga a uno varios símbolos `#` se convierte en encabezado. Entre más símbolos, de menor nivel (tamaño) será el encabezado:"
   ]
  },
  {
   "cell_type": "markdown",
   "metadata": {},
   "source": [
    "# Encabezado nivel 1"
   ]
  },
  {
   "cell_type": "markdown",
   "metadata": {},
   "source": [
    "## Encabezado nivel 2"
   ]
  },
  {
   "cell_type": "markdown",
   "metadata": {},
   "source": [
    "### Encabezado nivel 3"
   ]
  },
  {
   "cell_type": "markdown",
   "metadata": {},
   "source": [
    "Para resaltar en formato código se utiliza un apóstrofo invertido como apertura y otro igual como cierre, por ejemplo: `Julia`"
   ]
  },
  {
   "cell_type": "markdown",
   "metadata": {},
   "source": [
    "Para convertir texto a formato en *itálicas* basta encerrar el texto mediante símbolos de asterisco `*`"
   ]
  },
  {
   "cell_type": "markdown",
   "metadata": {},
   "source": [
    "Para convertir texto a formato en **negritas** basta encerrar el texto mediante doble asterisco `**` en la apertura y luego nuevamente `**` al cierre."
   ]
  },
  {
   "cell_type": "markdown",
   "metadata": {},
   "source": [
    "Con apertura y cierre mediante triple asterisco `***` se obtiene ***negritas en itálicas***."
   ]
  },
  {
   "cell_type": "markdown",
   "metadata": {},
   "source": [
    "Para iniciar un nuevo renglón dentro de la misma celda, es necesario dejar dos espacios antes de generar el nuevo renglón, de lo contrario aparecerá en forma seguida.  \n",
    "Si queremos generar un nuevo párrafo dentro de una misma celda, debemos dejar un renglón vacío que los separe.\n",
    "\n",
    "Aquí inicia el siguiente párrafo."
   ]
  },
  {
   "cell_type": "markdown",
   "metadata": {},
   "source": [
    "Formato especial para citas:\n",
    "> Esta es una cita."
   ]
  },
  {
   "cell_type": "markdown",
   "metadata": {},
   "source": [
    "El formato de cita puede anidarse, es decir, tener varios niveles, citas dentro de las citas:\n",
    "> Este es el primer nivel de cita.\n",
    ">> Y aquí una cita dentro de la cita."
   ]
  },
  {
   "cell_type": "markdown",
   "metadata": {},
   "source": [
    "Para generar líneas divisorias horizontales ocupar 3 o más símbolos `___` (underscore), dejando siempre un renglón en blanco antes y después. Por ejemplo:"
   ]
  },
  {
   "cell_type": "markdown",
   "metadata": {},
   "source": [
    "Antes de la línea\n",
    "\n",
    "_____\n",
    "\n",
    "Después de la línea"
   ]
  },
  {
   "cell_type": "markdown",
   "metadata": {},
   "source": [
    "Bloques de código de programación dentro del entorno de Markdown mediante triple apóstrofo invertido a la apertura y cierre del bloque. Por ejemplo:\n",
    "\n",
    "```\n",
    "n = 20\n",
    "for d ∈ 0:n\n",
    "    print(d, \" \")\n",
    "end\n",
    "```"
   ]
  },
  {
   "cell_type": "code",
   "execution_count": 1,
   "metadata": {},
   "outputs": [
    {
     "name": "stdout",
     "output_type": "stream",
     "text": [
      "0 1 2 3 4 5 6 7 8 9 10 11 12 13 14 15 16 17 18 19 20 "
     ]
    }
   ],
   "source": [
    "n = 20\n",
    "for d ∈ 0:n\n",
    "    print(d, \" \")\n",
    "end"
   ]
  },
  {
   "cell_type": "markdown",
   "metadata": {},
   "source": [
    "### Listas"
   ]
  },
  {
   "cell_type": "markdown",
   "metadata": {},
   "source": [
    "Las hay ordenadas y no ordenadas. Para el caso de **lista ordenada** se utiliza numeración arábiga:\n",
    "1. La primera\n",
    "2. La segunda\n",
    "3. La tercera"
   ]
  },
  {
   "cell_type": "markdown",
   "metadata": {},
   "source": [
    "Aunque se intente utilizar otra numeración, Markdown asignará la numeración de forma consecutiva, iniciando con el primer número que se propocione:\n",
    "8. Escribí 8\n",
    "5. Escribí 5\n",
    "99. Escribí 99"
   ]
  },
  {
   "cell_type": "markdown",
   "metadata": {},
   "source": [
    "Es posible crear **sublistas ordenadas** dentro de una lista, mediante indentación:\n",
    "1. Primera\n",
    "2. Segunda\n",
    "   1. primera\n",
    "   2. segunda\n",
    "3. Tercera\n",
    "   1. primera\n",
    "      1. prim\n",
    "      2. seg\n",
    "         1. pr\n",
    "         2. se\n",
    "   2. segunda\n",
    "4. Cuarta"
   ]
  },
  {
   "cell_type": "markdown",
   "metadata": {},
   "source": [
    "Para crear **listas no ordenadas** se utilizan los símbolos `-` `*` `+` indistintamente, pero no los combine porque esto puede generar errores en ocasiones:\n",
    "\n",
    "- ítem\n",
    "- ítem siguiente\n",
    "- etc."
   ]
  },
  {
   "cell_type": "markdown",
   "metadata": {},
   "source": [
    "También es posible tener **sublistas no ordenadas** mediante indentación:\n",
    "\n",
    "- ítem \n",
    "  - subítem\n",
    "  - subítem siguiente\n",
    "    - subsubítem\n",
    "    - subsubítem siguiente\n",
    "    - etc.\n",
    "  - etc.\n",
    "- ítem siguiente\n",
    "- etc."
   ]
  },
  {
   "cell_type": "markdown",
   "metadata": {},
   "source": [
    "Combinar listas ordenadas y no ordenadas:\n",
    "\n",
    "1. Primera\n",
    "   - ítem\n",
    "   - ítem siguiente\n",
    "     1. perro\n",
    "     2. gato\n",
    "   - etc.\n",
    "2. Segunda\n",
    "3. Bye"
   ]
  },
  {
   "cell_type": "markdown",
   "metadata": {},
   "source": [
    "En una lista (ordenada o no) se pueden intercalar párrafos o citas:\n",
    "\n",
    "1. Primera\n",
    "2. Segunda\n",
    "   > Comentario\n",
    "3. Tercera\n",
    "4. etc."
   ]
  },
  {
   "cell_type": "markdown",
   "metadata": {},
   "source": [
    "### Tablas"
   ]
  },
  {
   "cell_type": "markdown",
   "metadata": {},
   "source": [
    "Abrir la celda siguiente para ver la sintaxis:"
   ]
  },
  {
   "cell_type": "markdown",
   "metadata": {},
   "source": [
    "| columna 1 | columna 2 | columna 3 |\n",
    "|-----------|-----------|-----------|\n",
    "| valor 11  | valor 12  | valor 13  |\n",
    "| valor 21  | valor 22  | valor 23  |\n",
    "| valor 31  | valor 32  | valor 33  |\n",
    "| valor 41  | valor 42  | valor 43  |"
   ]
  },
  {
   "cell_type": "markdown",
   "metadata": {},
   "source": [
    "### Ligas"
   ]
  },
  {
   "cell_type": "markdown",
   "metadata": {},
   "source": [
    "Para un **enlace a internet**, escribir el nombre que los describe entre corchetes y seguido la dirección de internet entre paréntesis. Sintaxis:\n",
    "> `[nombre que le doy al enlace](dirección de internet)`\n",
    "\n",
    "Y así se ve un ejemplo:\n",
    "\n",
    "[Página oficial de Julia](https://julialang.org/)"
   ]
  },
  {
   "cell_type": "markdown",
   "metadata": {},
   "source": [
    "Se puede agregar además un título al enlace para que aparezca cuando el puntero se coloca sobre el enlace sin hacer click. Sintaxis:\n",
    "> `[nombre enlace](dirección_internet \"título\")`\n",
    "\n",
    "Y así se ve un ejemplo:\n",
    "\n",
    "[UNAM FES Acatlán](https://www.acatlan.unam.mx \"¡Arriba los Pumas!\")"
   ]
  },
  {
   "cell_type": "markdown",
   "metadata": {},
   "source": [
    "Si únicamente se desea compartir un enlace de internet, la sintaxis es más simple:\n",
    "> `<dirección_internet>`\n",
    "\n",
    "Por ejemplo: <https://www.unam.mx>"
   ]
  },
  {
   "cell_type": "markdown",
   "metadata": {},
   "source": [
    "Se puede agregar estilo de negritas, itálicas o tipo código a un enlace. Por ejemplo:\n",
    "\n",
    "[***Julia Computing Inc.***](https://juliacomputing.com \"Julia Computing\")"
   ]
  },
  {
   "cell_type": "markdown",
   "metadata": {},
   "source": [
    "De forma similar, el enlace puede crearse para un **archivo de imagen** que se encuentre en la computadora del usuario, mediante la sintaxis:\n",
    "> `![nombre_identificador](nombre_archivo \"título (opcional)\")`"
   ]
  },
  {
   "cell_type": "markdown",
   "metadata": {},
   "source": [
    "![Letras](LetrasAcatlan.jpg \"UNAM FES Acatlán\")"
   ]
  },
  {
   "cell_type": "markdown",
   "metadata": {},
   "source": [
    "Se puede utilizar código `HTML` dentro de `Markdown` para manipulaciones más sofisticadas. Por ejemplo, modificar el tamaño de la imagen. Sintaxis:\n",
    "> `<img src=\"nombre_archivo\" alt=\"nombre_identificador\" width=\"500\"/>`"
   ]
  },
  {
   "cell_type": "markdown",
   "metadata": {},
   "source": [
    "<img src=\"LetrasAcatlan.jpg\" alt=\"Letras FES Acatlán\" width=\"500\"/>"
   ]
  },
  {
   "cell_type": "markdown",
   "metadata": {},
   "source": [
    "Se puede combinar una imagen de archivo con un enlace a internet. Sintaxis:\n",
    "> `[![nombre_imagen](archivo_imagen)](dirección_internet \"título (opcional)\")`"
   ]
  },
  {
   "cell_type": "markdown",
   "metadata": {},
   "source": [
    "[![LogoFESA](LogotipoFESA.png)](https://www.acatlan.unam.mx \"Página FES Acatlán\")"
   ]
  },
  {
   "cell_type": "markdown",
   "metadata": {},
   "source": [
    "Igual que lo anterior, pero con la imagen en otro tamaño:"
   ]
  },
  {
   "cell_type": "markdown",
   "metadata": {},
   "source": [
    "[<img src=\"LogotipoFESA.png\" alt=\"LogoFESA\" width=\"500\"/>](https://www.acatlan.unam.mx \"Página FES Acatlán\")"
   ]
  },
  {
   "cell_type": "markdown",
   "metadata": {},
   "source": []
  },
  {
   "cell_type": "markdown",
   "metadata": {},
   "source": [
    "## 6.2 $\\LaTeX$"
   ]
  },
  {
   "cell_type": "markdown",
   "metadata": {},
   "source": [
    "Es también un lenguaje de composición de textos, pero mucho más sofisticado y poderoso, especialmente diseñado para el uso de símbolos sofisticados, de particular uso en disciplinas como Matemáticas, Física, Química y Lingüística, entre otras. Para explotar todo el potencial de $\\LaTeX$ es necesario instalarlo por separado, pero dentro de Jupyter notebooks funciona mucho de su sintaxis, que con frecuencia resultará más que suficiente."
   ]
  },
  {
   "cell_type": "markdown",
   "metadata": {},
   "source": [
    "Para que `Markdown` reconozca sintaxis de $\\LaTeX$ simplemente hay que escribirla entre símbolos `$`, uno de apertura y uno de cierre si se va a intercalar dentro de una redacción, o bien utilizándolo doble `$$` a la apertura y cierre si se desea en un párrafo aparte y centrado."
   ]
  },
  {
   "cell_type": "markdown",
   "metadata": {},
   "source": [
    "Por ejemplo, dentro de este párrafo de texto introducimos la notación $f(x) = 2x + 1$ y continuamos escribiendo. Si escribimos lo mismo pero utilizando `$$` obtenemos lo siguiente: $$f(x) = 2x + 1$$"
   ]
  },
  {
   "cell_type": "markdown",
   "metadata": {},
   "source": [
    "La diferencia puede ser más notoria dependiendo de la notación utilizada. Un ejemplo muy claro es con el uso del símbolo de integración, que dentro de un párrafo de texto se ve así $\\int_a^b f(x)\\,dx$ pero mediante `$$` se ve así: $$\\int_a^b f(x)\\,dx$$"
   ]
  },
  {
   "cell_type": "markdown",
   "metadata": {},
   "source": [
    "### Tipos de letras"
   ]
  },
  {
   "cell_type": "markdown",
   "metadata": {},
   "source": [
    "Griegas minúsculas: \n",
    "\n",
    "`\\alpha` $\\alpha$ `\\beta` $\\beta$ `\\gamma` $\\gamma$ `\\delta` $\\delta$ `\\epsilon` $\\epsilon$ `\\varepsilon` $\\varepsilon$ `\\zeta` $\\zeta$ `\\eta` $\\eta$ `\\theta` $\\theta$ `\\vartheta` $\\vartheta$ `\\iota` $\\iota$ `\\kappa` $\\kappa$ `\\lambda` $\\lambda$ `\\mu` $\\mu$ `\\nu` $\\nu$ `\\xi` $\\xi$ `\\omicron` $\\omicron$ `\\pi` $\\pi$ `\\varpi` $\\varpi$ `\\rho` $\\rho$ `\\varrho` $\\varrho$ `\\sigma` $\\sigma$ `\\varsigma` $\\varsigma$ `\\tau` $\\tau$ `\\upsilon` $\\upsilon$ `\\phi` $\\phi$ `\\varphi` $\\varphi$ `\\chi` $\\chi$ `\\psi` $\\psi$ `\\omega` $\\omega$\n",
    "\n",
    "Griegas mayúsculas:\n",
    "\n",
    "`\\Gamma` $\\Gamma$ `\\Delta` $\\Delta$ `\\Theta` $\\Theta$ `\\Lambda` $\\Lambda$ `\\Xi` $\\Xi$ `\\Pi` $\\Pi$ `\\Sigma` $\\Sigma$ `\\Upsilon` $\\Upsilon$ `\\Phi` $\\Phi$ `\\Psi` $\\Psi$ `\\Omega` $\\Omega$ `\\mho` $\\mho$"
   ]
  },
  {
   "cell_type": "markdown",
   "metadata": {},
   "source": [
    "Caligráficas mayúsculas:\n",
    "\n",
    "`\\mathcal{A}` $\\mathcal{A}$ `\\mathcal{B}` $\\mathcal{B}$ ... `\\mathcal{Y}` $\\mathcal{Y}$ `\\mathcal{Z}` $\\mathcal{Z}$"
   ]
  },
  {
   "cell_type": "markdown",
   "metadata": {},
   "source": [
    "Bold mayúsculas:\n",
    "\n",
    "`\\mathbb{A}` $\\mathbb{A}$ `\\mathbb{B}` $\\mathbb{B}$ ... `\\mathbb{Y}` $\\mathbb{Y}$ `\\mathbb{Z}` $\\mathbb{Z}$"
   ]
  },
  {
   "cell_type": "markdown",
   "metadata": {},
   "source": [
    "### Miscelánea"
   ]
  },
  {
   "cell_type": "markdown",
   "metadata": {},
   "source": [
    "`\\forall` $\\forall$ `\\exists` $\\exists$ `\\neg` $\\neg$ `\\infty` $\\infty$ `\\emptyset` $\\emptyset$ `\\varnothing` $\\varnothing$ `\\partial` $\\partial$ `\\nabla` $\\nabla$ `\\surd` $\\surd$ \n",
    "\n",
    "`\\angle` $\\angle$ `\\top` $\\top$ `\\bot` $\\bot$ `\\triangle` $\\triangle$  `\\square` $\\square$ `\\diamond` $\\diamond$ `\\circ` $\\circ$ `\\bigcirc` $\\bigcirc$ `\\aleph` $\\aleph$ `\\ell` $\\ell$"
   ]
  },
  {
   "cell_type": "markdown",
   "metadata": {},
   "source": [
    "### Operadores binarios"
   ]
  },
  {
   "cell_type": "markdown",
   "metadata": {},
   "source": [
    "`\\pm` $\\pm$ `\\mp` $\\mp$ `\\times` $\\times$ `\\div` $\\div$ `\\ast` $\\ast$ `\\star` $\\star$ `\\circ` $\\circ$ `\\bullet` $\\bullet$ `\\cdot` $\\cdot$\n",
    "\n",
    "`\\oplus` $\\oplus$ `\\ominus` $\\ominus$ `\\otimes` $\\otimes$ `\\oslash` $\\oslash$ `\\odot` $\\odot$\n",
    "\n",
    "`\\vee` $\\vee$ `\\wedge` $\\wedge$ `\\wr` $\\wr$ `\\cap` $\\cap$ `\\cup` $\\cup$ `\\uplus` $\\uplus$ `\\sqcap` $\\sqcap$ `\\sqcup` $\\sqcup$ `\\setminus` $\\setminus$\n",
    "\n",
    "`\\bigtriangleup` $\\bigtriangleup$ `\\bigtriangledown` $\\bigtriangledown$ `\\triangleleft` $\\triangleleft$ `\\triangleright` $\\triangleright$"
   ]
  },
  {
   "cell_type": "markdown",
   "metadata": {},
   "source": [
    "### Operadores grandes"
   ]
  },
  {
   "cell_type": "markdown",
   "metadata": {},
   "source": [
    "`\\sum` $\\sum$ `\\prod` $\\prod$ `\\coprod` $\\coprod$ `\\int` $\\int$ `\\oint` $\\oint$\n",
    "\n",
    "`\\bigoplus` $\\bigoplus$ `\\bigotimes` $\\bigotimes$ `\\bigodot` $\\bigodot$  \n",
    "\n",
    "`\\bigcap` $\\bigcap$ `\\bigcup` $\\bigcup$ `\\biguplus` $\\biguplus$ `\\bigvee` $\\bigvee$ `\\bigwedge` $\\bigwedge$ `\\bigsqcup` $\\bigsqcup$"
   ]
  },
  {
   "cell_type": "markdown",
   "metadata": {},
   "source": [
    "### Relaciones binarias"
   ]
  },
  {
   "cell_type": "markdown",
   "metadata": {},
   "source": [
    "`\\leq` $\\leq$ `\\geq` $\\geq$ `\\prec` $\\prec$ `\\succ` $\\succ$ `\\sim` $\\sim$ `\\preceq` $\\preceq$ `\\succeq` $\\succeq$ `\\simeq` $\\simeq$ `\\ll` $\\ll$ `\\gg` $\\gg$\n",
    "\n",
    "`\\neq` $\\neq$ `\\doteq` $\\doteq$ `\\approx` $\\approx$ `\\cong` $\\cong$ `\\propto` $\\propto$ `\\equiv` $\\equiv$ `\\not\\equiv` $\\not\\equiv$\n",
    "\n",
    "`\\subset` $\\subset$ `\\supset` $\\supset$ `\\subseteq` $\\subseteq$ `\\supseteq` $\\supseteq$ `\\sqsubset` $\\sqsubset$ `\\sqsupset` $\\sqsupset$ `\\sqsubseteq` $\\sqsubseteq$ `\\sqsupseteq` $\\sqsupseteq$ `\\in` $\\in$ `\\ni` $\\ni$ `\\notin` $\\notin$\n",
    "\n",
    "`\\vdash` $\\vdash$ `\\dashv` $\\dashv$ `\\perp` $\\perp$ `\\parallel` $\\parallel$ `\\models` $\\models$ `\\smile` $\\smile$ `\\frown` $\\frown$"
   ]
  },
  {
   "cell_type": "markdown",
   "metadata": {},
   "source": [
    "### Flechas"
   ]
  },
  {
   "cell_type": "markdown",
   "metadata": {},
   "source": [
    "`\\leftarrow` $\\leftarrow$ `\\longleftarrow` $\\longleftarrow$ `\\Leftarrow` $\\Leftarrow$ `\\Longleftarrow` $\\Longleftarrow$ \n",
    "\n",
    "`\\rightarrow` $\\rightarrow$ `\\longrightarrow` $\\longrightarrow$ `\\Rightarrow` $\\Rightarrow$ `\\Longrightarrow` $\\Longrightarrow$\n",
    "\n",
    "`\\leftrightarrow` $\\leftrightarrow$ `\\longleftrightarrow` $\\longleftrightarrow$ `\\Leftrightarrow` $\\Leftrightarrow$ `\\Longleftrightarrow` $\\Longleftrightarrow$\n",
    "\n",
    "`\\uparrow` $\\uparrow$ `\\Uparrow` $\\Uparrow$ `\\downarrow` $\\downarrow$ `\\Downarrow` $\\Downarrow$ `\\updownarrow` $\\updownarrow$ `\\Updownarrow` $\\Updownarrow$ \n",
    "\n",
    "`\\mapsto` $\\mapsto$ `\\longmapsto` $\\longmapsto$ `\\hookrightarrow` $\\hookrightarrow$ `\\hookleftarrow` $\\hookleftarrow$ `\\leadsto` $\\leadsto$\n",
    "\n",
    "`\\nwarrow` $\\nwarrow$ `\\nearrow` $\\nearrow$ `\\searrow` $\\searrow$ `\\swarrow` $\\swarrow$"
   ]
  },
  {
   "cell_type": "markdown",
   "metadata": {},
   "source": [
    "### Delimitadores"
   ]
  },
  {
   "cell_type": "markdown",
   "metadata": {},
   "source": [
    "`\\{` $\\{$ `\\}` $\\}$ `\\lfloor` $\\lfloor$ `\\rfloor` $\\rfloor$ `\\lceil` $\\lceil$ `\\rceil` $\\rceil$ `\\langle` $\\langle$ `\\rangle` $\\rangle$\n",
    "\n",
    "`\\lmoustache` $\\lmoustache$ `\\rmoustache` $\\rmoustache$ `\\lgroup` $\\lgroup$ `\\rgroup` $\\rgroup$ `\\bracevert` $\\bracevert$"
   ]
  },
  {
   "cell_type": "markdown",
   "metadata": {},
   "source": [
    "### Detexify"
   ]
  },
  {
   "cell_type": "markdown",
   "metadata": {},
   "source": [
    "Si tienes pantalla touch y/o pluma electrónica, puedes escribir a mano un símbolo deseado y obtienes sugerencias de la sintaxis que podría generarlo, sin garantía que funcione en la versión $\\LaTeX$ de Jupyter notebooks:\n",
    "> [Detexify](https://detexify.kirelabs.org/classify.html \"Detexify\")"
   ]
  },
  {
   "cell_type": "markdown",
   "metadata": {},
   "source": [
    "### Guías rápidas"
   ]
  },
  {
   "cell_type": "markdown",
   "metadata": {},
   "source": [
    "> <https://www.math.ubc.ca/~pwalls/math-python/jupyter/latex/>\n",
    "\n",
    "> <https://en.wikibooks.org/wiki/LaTeX/Mathematics>"
   ]
  },
  {
   "cell_type": "markdown",
   "metadata": {},
   "source": [
    "### Ejemplos"
   ]
  },
  {
   "cell_type": "markdown",
   "metadata": {},
   "source": [
    "`Para resolver una integral del tipo $$\\int_{a}^{b}\\sqrt{1 + \\hat{f}(x)}\\,dx$$ se requiere...`\n",
    "\n",
    "Para resolver una integral del tipo $$\\int_{a}^{b}\\sqrt{1 + \\hat{f}(x)}\\,dx$$ se requiere..."
   ]
  },
  {
   "cell_type": "markdown",
   "metadata": {},
   "source": [
    "`Para resolver una integral del tipo $\\int_{a}^{b}\\sqrt{1 + \\hat{f}(x)}\\,dx$ se requiere...`\n",
    "\n",
    "Para resolver una integral del tipo $\\int_{a}^{b}\\sqrt{1 + \\hat{f}(x)}\\,dx$ se requiere..."
   ]
  },
  {
   "cell_type": "markdown",
   "metadata": {},
   "source": [
    "`Para resolver una integral del tipo $\\displaystyle{\\int_{a}^{b}\\sqrt{1 + \\hat{f}(x)}\\,dx}$ se requiere...`\n",
    "\n",
    "Para resolver una integral del tipo $\\displaystyle{\\int_{a}^{b}\\sqrt{1 + \\hat{f}(x)}\\,dx}$ se requiere..."
   ]
  },
  {
   "cell_type": "markdown",
   "metadata": {},
   "source": [
    "`$\\hat{x} \\quad \\widehat{x} \\qquad \\bar{x} \\qquad \\tilde{x} \\qquad \\widetilde{x} \\qquad \\vec{x} \\qquad \\dot{x} \\qquad \\sqrt{x}$`\n",
    "\n",
    "$\\hat{x} \\quad \\widehat{x} \\qquad \\bar{x} \\qquad \\tilde{x} \\qquad \\widetilde{x} \\qquad \\vec{x} \\qquad \\dot{x} \\qquad \\sqrt{x}$"
   ]
  },
  {
   "cell_type": "markdown",
   "metadata": {},
   "source": [
    "`$$\\sqrt{\\tilde{\\alpha}_{1}^{2} + \\dot{\\beta}_{1}^{\\delta^{2}}}$$`\n",
    "\n",
    "$$\\sqrt{\\tilde{\\alpha}_{1}^{2} + \\dot{\\beta}_{1}^{\\delta^{2}}}$$"
   ]
  },
  {
   "cell_type": "markdown",
   "metadata": {},
   "source": [
    "`$$\\sqrt{1 + \\sqrt{1 + \\sqrt{1 + \\sqrt{1 + \\delta}}}}$$`\n",
    "\n",
    "$$\\sqrt{1 + \\sqrt{1 + \\sqrt{1 + \\sqrt{1 + \\delta}}}}$$"
   ]
  },
  {
   "cell_type": "markdown",
   "metadata": {},
   "source": [
    "`\\Gamma \\stackrel{f}{\\longrightarrow} \\Psi \\stackrel{g}{\\longrightarrow} \\Omega`\n",
    "\n",
    "$$\\Gamma \\stackrel{f}{\\longrightarrow} \\Psi \\stackrel{g}{\\longrightarrow} \\Omega$$"
   ]
  },
  {
   "cell_type": "markdown",
   "metadata": {},
   "source": [
    "Se recomienda el uso de `\\exp \\log ...` esto es, por ejemplo $\\exp(-x^2)$ en lugar de $exp(x^2)$"
   ]
  },
  {
   "cell_type": "markdown",
   "metadata": {},
   "source": [
    "`Usar $\\bigcup_{k=1}^n\\{k:k^2\\leq\\frac{1}{2}\\alpha_k\\}$ versus $$\\bigcup_{k=1}^n\\{k:k^2\\leq\\frac{1}{2}\\alpha_k\\}$$`\n",
    "\n",
    "Usar $\\bigcup_{k=1}^n\\{k:k^2\\leq\\frac{1}{2}\\alpha_k\\}$ versus $$\\bigcup_{k=1}^n\\{k:k^2\\leq\\frac{1}{2}\\alpha_k\\}$$"
   ]
  },
  {
   "cell_type": "markdown",
   "metadata": {},
   "source": [
    "Aunque siempre se puede forzar el `displaystyle` por ejemplo:\n",
    "\n",
    "`Usar $\\displaystyle{\\bigcup_{k=1}^n\\{k:k^2\\leq\\frac{1}{2}\\alpha_k\\}}$ versus $$\\bigcup_{k=1}^n\\{k:k^2\\leq\\frac{1}{2}\\alpha_k\\}$$`\n",
    "\n",
    "Usar $\\displaystyle{\\bigcup_{k=1}^n\\{k:k^2\\leq\\frac{1}{2}\\alpha_k\\}}$ versus $$\\bigcup_{k=1}^n\\{k:k^2\\leq\\frac{1}{2}\\alpha_k\\}$$"
   ]
  },
  {
   "cell_type": "markdown",
   "metadata": {},
   "source": [
    "`$x_1,\\ldots, x_n \\qquad x_1 + \\cdots + x_n$` \n",
    "\n",
    "$x_1,\\ldots, x_n \\qquad x_1 + \\cdots + x_n$"
   ]
  },
  {
   "cell_type": "markdown",
   "metadata": {},
   "source": [
    "`$$\\underline{x} \\qquad \\overline{\\alpha + \\beta} \\qquad{\\underbrace{a + b + \\cdots + z}}$$`\n",
    "\n",
    "$$\\underline{x} \\qquad \\overline{\\alpha + \\beta} \\qquad{\\underbrace{a + b + \\cdots + z}}$$"
   ]
  },
  {
   "cell_type": "markdown",
   "metadata": {},
   "source": [
    "`$$\\underbrace{a + \\overbrace{b + \\cdots + y}^{24} + z}_{26}$$`\n",
    "\n",
    "$$\\underbrace{a + \\overbrace{b + \\cdots + y}^{24} + z}_{26}$$"
   ]
  },
  {
   "cell_type": "markdown",
   "metadata": {},
   "source": [
    "`$($ $\\big($ $\\Big($ $\\bigg($ $\\Bigg($ y lo análogo para $), [, ], \\{, \\}$` \n",
    "\n",
    "$($ $\\big($ $\\Big($ $\\bigg($ $\\Bigg($ y lo análogo para $), [, ], \\{, \\}$\n",
    "\n",
    "O bien ajustar automáticamente mediante `\\left` y `\\right`:"
   ]
  },
  {
   "cell_type": "markdown",
   "metadata": {},
   "source": [
    "`$$\\sqrt{1 + \\left(\\int_a^b \\frac{f(x)}{1 + g(x)}\\,dx\\right)^2}$$`\n",
    "\n",
    "$$\\sqrt{1 + \\left(\\int_a^b \\frac{f(x)}{1 + g(x)}\\,dx\\right)^2}$$"
   ]
  },
  {
   "cell_type": "markdown",
   "metadata": {},
   "source": [
    "Espacios:\n",
    "\n",
    "Ninguno: `$2x$` $2x$\n",
    "\n",
    "Poco: `$2\\,x$` $2\\,x$\n",
    "\n",
    "Algo: `$2\\quad x$` $2\\quad x$\n",
    "\n",
    "Mucho: `$2\\qquad x$` $2\\qquad x$"
   ]
  },
  {
   "cell_type": "markdown",
   "metadata": {},
   "source": [
    "En ocasiones queremos que las expresiones se acerquen: `$$\\int_a^b \\int_c^d \\sqrt{1 + f(x,y)}\\,dxdy$$` $$\\int_a^b \\int_c^d \\sqrt{1 + f(x,y)}\\,dxdy$$\n",
    "\n",
    "Esto se logra mediante `\\!` por ejemplo: `$$\\int_a^b\\!\\!\\!\\int_c^d\\!\\!\\!\\!\\!\\sqrt{1 + f(x,y)}\\,dxdy$$`\n",
    "$$\\int_a^b\\!\\!\\!\\int_c^d\\!\\!\\!\\!\\!\\sqrt{1 + f(x,y)}\\,dxdy$$"
   ]
  },
  {
   "cell_type": "markdown",
   "metadata": {},
   "source": [
    "Ecuación en varias líneas:\n",
    "```\n",
    "$$\\begin{eqnarray}\n",
    "  F(x) &=& \\int_{0}^{\\,x}e^{-t}\\,dt \\\\\n",
    "       &=& -e^{-t}\\Big|_{\\,t=0}^{\\,t=x} \\\\\n",
    "       &=& 1 - e^{-x}\n",
    "   \\end{eqnarray}$$\n",
    "```\n",
    "\n",
    "$$\\begin{eqnarray}\n",
    "  F(x) &=& \\int_{0}^{\\,x}e^{-t}\\,dt \\\\\n",
    "       &=& -e^{-t}\\Big|_{\\,t=0}^{\\,t=x} \\\\\n",
    "       &=& 1 - e^{-x}\n",
    "  \\end{eqnarray}$$"
   ]
  },
  {
   "cell_type": "markdown",
   "metadata": {},
   "source": [
    "Matrices `r = right` `l = left` `c = center`\n",
    "\n",
    "```\n",
    "$$\\mathbb{A} = \\left( \\begin{array}{lcr}\n",
    "                         1 &   2 &   3 \\\\\n",
    "                        10 &  20 &  30 \\\\\n",
    "                       100 & 200 & 300 \n",
    "                       \\end{array} \\right)$$\n",
    "```\n",
    "\n",
    "$$\\mathbb{A} = \\left( \\begin{array}{lcr}\n",
    "                         1 &   2 &   3 \\\\\n",
    "                        10 &  20 &  30 \\\\\n",
    "                       100 & 200 & 300 \n",
    "                       \\end{array} \\right)$$"
   ]
  }
 ],
 "metadata": {
  "kernelspec": {
   "display_name": "Julia 1.5.0",
   "language": "julia",
   "name": "julia-1.5"
  },
  "language_info": {
   "file_extension": ".jl",
   "mimetype": "application/julia",
   "name": "julia",
   "version": "1.5.0"
  }
 },
 "nbformat": 4,
 "nbformat_minor": 4
}
