{
 "cells": [
  {
   "cell_type": "code",
   "execution_count": 1,
   "id": "modern-drinking",
   "metadata": {},
   "outputs": [
    {
     "data": {
      "text/plain": [
       "-9223372036854775808"
      ]
     },
     "execution_count": 1,
     "metadata": {},
     "output_type": "execute_result"
    }
   ],
   "source": [
    "(-2)^63"
   ]
  },
  {
   "cell_type": "code",
   "execution_count": 2,
   "id": "transparent-forest",
   "metadata": {},
   "outputs": [
    {
     "data": {
      "text/plain": [
       "\"1000000000000000000000000000000000000000000000000000000000000000\""
      ]
     },
     "execution_count": 2,
     "metadata": {},
     "output_type": "execute_result"
    }
   ],
   "source": [
    "bitstring((-2)^63)"
   ]
  },
  {
   "cell_type": "code",
   "execution_count": 3,
   "id": "continuous-cinema",
   "metadata": {},
   "outputs": [
    {
     "data": {
      "text/plain": [
       "\"1111111111111111111111111111111111111111111111111111111111111111\""
      ]
     },
     "execution_count": 3,
     "metadata": {},
     "output_type": "execute_result"
    }
   ],
   "source": [
    "bitstring(-1)"
   ]
  },
  {
   "cell_type": "code",
   "execution_count": 4,
   "id": "unlike-puzzle",
   "metadata": {},
   "outputs": [
    {
     "data": {
      "text/plain": [
       "\"0000000000000000000000000000000000000000000000000000000000001000\""
      ]
     },
     "execution_count": 4,
     "metadata": {},
     "output_type": "execute_result"
    }
   ],
   "source": [
    "bitstring(8)"
   ]
  },
  {
   "cell_type": "code",
   "execution_count": 5,
   "id": "large-making",
   "metadata": {},
   "outputs": [
    {
     "data": {
      "text/plain": [
       "2"
      ]
     },
     "execution_count": 5,
     "metadata": {},
     "output_type": "execute_result"
    }
   ],
   "source": [
    "5 ÷ 2"
   ]
  },
  {
   "cell_type": "code",
   "execution_count": 8,
   "id": "incoming-region",
   "metadata": {},
   "outputs": [
    {
     "data": {
      "text/plain": [
       "1"
      ]
     },
     "execution_count": 8,
     "metadata": {},
     "output_type": "execute_result"
    }
   ],
   "source": [
    "5 ÷ 3"
   ]
  },
  {
   "cell_type": "code",
   "execution_count": 9,
   "id": "accurate-proxy",
   "metadata": {},
   "outputs": [
    {
     "data": {
      "text/plain": [
       "2.5"
      ]
     },
     "execution_count": 9,
     "metadata": {},
     "output_type": "execute_result"
    }
   ],
   "source": [
    "5 / 2"
   ]
  },
  {
   "cell_type": "code",
   "execution_count": 10,
   "id": "smooth-tomorrow",
   "metadata": {},
   "outputs": [
    {
     "data": {
      "text/plain": [
       "Rational{Int64}"
      ]
     },
     "execution_count": 10,
     "metadata": {},
     "output_type": "execute_result"
    }
   ],
   "source": [
    "typeof(5//2)"
   ]
  },
  {
   "cell_type": "code",
   "execution_count": 11,
   "id": "regulation-reach",
   "metadata": {},
   "outputs": [
    {
     "data": {
      "text/plain": [
       "5//2"
      ]
     },
     "execution_count": 11,
     "metadata": {},
     "output_type": "execute_result"
    }
   ],
   "source": [
    "5//2"
   ]
  },
  {
   "cell_type": "code",
   "execution_count": 12,
   "id": "elegant-steps",
   "metadata": {},
   "outputs": [
    {
     "data": {
      "text/plain": [
       "1//1"
      ]
     },
     "execution_count": 12,
     "metadata": {},
     "output_type": "execute_result"
    }
   ],
   "source": [
    "1//2 + 1//2 \n"
   ]
  },
  {
   "cell_type": "code",
   "execution_count": 13,
   "id": "failing-holmes",
   "metadata": {},
   "outputs": [
    {
     "data": {
      "text/plain": [
       "1//2"
      ]
     },
     "execution_count": 13,
     "metadata": {},
     "output_type": "execute_result"
    }
   ],
   "source": [
    "1//4 + 1//4"
   ]
  },
  {
   "cell_type": "code",
   "execution_count": 15,
   "id": "specified-mainland",
   "metadata": {},
   "outputs": [
    {
     "data": {
      "text/plain": [
       "typeof(>)"
      ]
     },
     "execution_count": 15,
     "metadata": {},
     "output_type": "execute_result"
    }
   ],
   "source": [
    "typeof(>)"
   ]
  },
  {
   "cell_type": "code",
   "execution_count": 16,
   "id": "capital-daisy",
   "metadata": {},
   "outputs": [
    {
     "ename": "LoadError",
     "evalue": "\u001b[91mArgumentError: Package Plots not found in current path:\u001b[39m\n\u001b[91m- Run `import Pkg; Pkg.add(\"Plots\")` to install the Plots package.\u001b[39m\n",
     "output_type": "error",
     "traceback": [
      "\u001b[91mArgumentError: Package Plots not found in current path:\u001b[39m\n\u001b[91m- Run `import Pkg; Pkg.add(\"Plots\")` to install the Plots package.\u001b[39m\n",
      "",
      "Stacktrace:",
      " [1] require(::Module, ::Symbol) at ./loading.jl:893",
      " [2] include_string(::Function, ::Module, ::String, ::String) at ./loading.jl:1091"
     ]
    }
   ],
   "source": [
    "using Plots"
   ]
  },
  {
   "cell_type": "code",
   "execution_count": 17,
   "id": "secondary-defensive",
   "metadata": {},
   "outputs": [
    {
     "name": "stderr",
     "output_type": "stream",
     "text": [
      "\u001b[32m\u001b[1m   Updating\u001b[22m\u001b[39m registry at `~/.julia/registries/General`\n",
      "--2021-03-24 21:23:02--  https://pkg.julialang.org/registry/23338594-aafe-5451-b93e-139f81909106/1b540b22fc569cd0bbdb910055f0f8a3bb404b72\n",
      "Resolviendo pkg.julialang.org (pkg.julialang.org)... 2a04:4e42:16::729, 151.101.94.217\n",
      "Conectando con pkg.julialang.org (pkg.julialang.org)[2a04:4e42:16::729]:443... conectado.\n",
      "Petición HTTP enviada, esperando respuesta... 301 ipv6 us-east internal redirect trigger\n",
      "Ubicación: https://us-east.pkg.julialang.org/registry/23338594-aafe-5451-b93e-139f81909106/1b540b22fc569cd0bbdb910055f0f8a3bb404b72 [siguiente]\n",
      "--2021-03-24 21:23:03--  https://us-east.pkg.julialang.org/registry/23338594-aafe-5451-b93e-139f81909106/1b540b22fc569cd0bbdb910055f0f8a3bb404b72\n",
      "Resolviendo us-east.pkg.julialang.org (us-east.pkg.julialang.org)... 2600:1f18:18bc:3800:8d39:de54:21e4:22d5, 54.144.24.222\n",
      "Conectando con us-east.pkg.julialang.org (us-east.pkg.julialang.org)[2600:1f18:18bc:3800:8d39:de54:21e4:22d5]:443... conectado.\n",
      "Petición HTTP enviada, esperando respuesta... 200 OK\n",
      "Longitud: 2909425 (2,8M) [application/octet-stream]\n",
      "Guardando como: “/tmp/jl_tbJQ2X-download.gz”\n",
      "\n",
      "     0K .......... .......... .......... .......... ..........  1%  313K 9s\n",
      "    50K .......... .......... .......... .......... ..........  3%  314K 9s\n",
      "   100K .......... .......... .......... .......... ..........  5% 38,8M 6s\n",
      "   150K .......... .......... .......... .......... ..........  7%  315K 6s\n",
      "   200K .......... .......... .......... .......... ..........  8% 42,1M 5s\n",
      "   250K .......... .......... .......... .......... .......... 10% 27,2M 4s\n",
      "   300K .......... .......... .......... .......... .......... 12% 57,2M 3s\n",
      "   350K .......... .......... .......... .......... .......... 14% 78,7M 3s\n",
      "   400K .......... .......... .......... .......... .......... 15%  322K 3s\n",
      "   450K .......... .......... .......... .......... .......... 17% 24,0M 3s\n",
      "   500K .......... .......... .......... .......... .......... 19% 39,5M 3s\n",
      "   550K .......... .......... .......... .......... .......... 21% 46,9M 2s\n",
      "   600K .......... .......... .......... .......... .......... 22% 49,1M 2s\n",
      "   650K .......... .......... .......... .......... .......... 24% 41,6M 2s\n",
      "   700K .......... .......... .......... .......... .......... 26% 45,9M 2s\n",
      "   750K .......... .......... .......... .......... .......... 28% 40,7M 2s\n",
      "   800K .......... .......... .......... .......... .......... 29%  335K 2s\n",
      "   850K .......... .......... .......... .......... .......... 31% 79,0M 2s\n",
      "   900K .......... .......... .......... .......... .......... 33%  105M 2s\n",
      "   950K .......... .......... .......... .......... .......... 35% 32,4M 1s\n",
      "  1000K .......... .......... .......... .......... .......... 36% 59,6M 1s\n",
      "  1050K .......... .......... .......... .......... .......... 38% 82,9M 1s\n",
      "  1100K .......... .......... .......... .......... .......... 40%  107M 1s\n",
      "  1150K .......... .......... .......... .......... .......... 42% 95,2M 1s\n",
      "  1200K .......... .......... .......... .......... .......... 43%  114M 1s\n",
      "  1250K .......... .......... .......... .......... .......... 45%  116M 1s\n",
      "  1300K .......... .......... .......... .......... .......... 47%  112M 1s\n",
      "  1350K .......... .......... .......... .......... .......... 49% 95,2M 1s\n",
      "  1400K .......... .......... .......... .......... .......... 51%  105M 1s\n",
      "  1450K .......... .......... .......... .......... .......... 52%  113M 1s\n",
      "  1500K .......... .......... .......... .......... .......... 54% 27,9M 1s\n",
      "  1550K .......... .......... .......... .......... .......... 56% 40,1M 1s\n",
      "  1600K .......... .......... .......... .......... .......... 58%  113M 1s\n",
      "  1650K .......... .......... .......... .......... .......... 59% 20,8M 1s\n",
      "  1700K .......... .......... .......... .......... .......... 61%  341K 1s\n",
      "  1750K .......... .......... .......... .......... .......... 63% 60,3M 1s\n",
      "  1800K .......... .......... .......... .......... .......... 65% 23,0M 1s\n",
      "  1850K .......... .......... .......... .......... .......... 66% 43,0M 0s\n",
      "  1900K .......... .......... .......... .......... .......... 68% 50,5M 0s\n",
      "  1950K .......... .......... .......... .......... .......... 70% 55,3M 0s\n",
      "  2000K .......... .......... .......... .......... .......... 72% 90,4M 0s\n",
      "  2050K .......... .......... .......... .......... .......... 73% 92,0M 0s\n",
      "  2100K .......... .......... .......... .......... .......... 75% 84,4M 0s\n",
      "  2150K .......... .......... .......... .......... .......... 77% 76,2M 0s\n",
      "  2200K .......... .......... .......... .......... .......... 79% 95,1M 0s\n",
      "  2250K .......... .......... .......... .......... .......... 80%  103M 0s\n",
      "  2300K .......... .......... .......... .......... .......... 82% 73,4M 0s\n",
      "  2350K .......... .......... .......... .......... .......... 84% 93,0M 0s\n",
      "  2400K .......... .......... .......... .......... .......... 86%  122M 0s\n",
      "  2450K .......... .......... .......... .......... .......... 87%  164M 0s\n",
      "  2500K .......... .......... .......... .......... .......... 89%  172M 0s\n",
      "  2550K .......... .......... .......... .......... .......... 91%  152M 0s\n",
      "  2600K .......... .......... .......... .......... .......... 93%  133M 0s\n",
      "  2650K .......... .......... .......... .......... .......... 95%  125M 0s\n",
      "  2700K .......... .......... .......... .......... .......... 96%  172M 0s\n",
      "  2750K .......... .......... .......... .......... .......... 98% 91,7M 0s\n",
      "  2800K .......... .......... .......... .......... .         100%  172M=1,0s\n",
      "\n",
      "2021-03-24 21:23:05 (2,86 MB/s) - “/tmp/jl_tbJQ2X-download.gz” guardado [2909425/2909425]\n",
      "\n",
      "\u001b[32m\u001b[1m  Resolving\u001b[22m\u001b[39m package versions...\n",
      "\u001b[32m\u001b[1m  Installed\u001b[22m\u001b[39m Xorg_xcb_util_image_jll ────── v0.4.0+1\n",
      "\u001b[32m\u001b[1m  Installed\u001b[22m\u001b[39m OpenSSL_jll ────────────────── v1.1.1+6\n",
      "\u001b[32m\u001b[1m  Installed\u001b[22m\u001b[39m Reexport ───────────────────── v1.0.0\n",
      "\u001b[32m\u001b[1m  Installed\u001b[22m\u001b[39m Ogg_jll ────────────────────── v1.3.4+2\n",
      "\u001b[32m\u001b[1m  Installed\u001b[22m\u001b[39m Xorg_xkeyboard_config_jll ──── v2.27.0+4\n",
      "\u001b[32m\u001b[1m  Installed\u001b[22m\u001b[39m FreeType2_jll ──────────────── v2.10.1+5\n",
      "\u001b[32m\u001b[1m  Installed\u001b[22m\u001b[39m Adapt ──────────────────────── v3.2.0\n",
      "\u001b[32m\u001b[1m  Installed\u001b[22m\u001b[39m Plots ──────────────────────── v1.11.0\n",
      "\u001b[32m\u001b[1m  Installed\u001b[22m\u001b[39m x265_jll ───────────────────── v3.0.0+3\n",
      "\u001b[32m\u001b[1m  Installed\u001b[22m\u001b[39m Libffi_jll ─────────────────── v3.2.1+4\n",
      "\u001b[32m\u001b[1m  Installed\u001b[22m\u001b[39m JpegTurbo_jll ──────────────── v2.0.1+3\n",
      "\u001b[32m\u001b[1m  Installed\u001b[22m\u001b[39m Missings ───────────────────── v0.4.5\n",
      "\u001b[32m\u001b[1m  Installed\u001b[22m\u001b[39m EarCut_jll ─────────────────── v2.1.5+1\n",
      "\u001b[32m\u001b[1m  Installed\u001b[22m\u001b[39m FixedPointNumbers ──────────── v0.8.4\n",
      "\u001b[32m\u001b[1m  Installed\u001b[22m\u001b[39m DataAPI ────────────────────── v1.6.0\n",
      "\u001b[32m\u001b[1m  Installed\u001b[22m\u001b[39m Xorg_libXinerama_jll ───────── v1.1.4+4\n",
      "\u001b[32m\u001b[1m  Installed\u001b[22m\u001b[39m Xorg_xcb_util_jll ──────────── v0.4.0+1\n",
      "\u001b[32m\u001b[1m  Installed\u001b[22m\u001b[39m Pixman_jll ─────────────────── v0.40.0+0\n",
      "\u001b[32m\u001b[1m  Installed\u001b[22m\u001b[39m TableTraits ────────────────── v1.0.0\n",
      "\u001b[32m\u001b[1m  Installed\u001b[22m\u001b[39m Xorg_libXext_jll ───────────── v1.3.4+4\n",
      "\u001b[32m\u001b[1m  Installed\u001b[22m\u001b[39m GR ─────────────────────────── v0.55.0\n",
      "\u001b[32m\u001b[1m  Installed\u001b[22m\u001b[39m Xorg_libxkbfile_jll ────────── v1.1.0+4\n",
      "\u001b[32m\u001b[1m  Installed\u001b[22m\u001b[39m Qt_jll ─────────────────────── v5.15.2+2\n",
      "\u001b[32m\u001b[1m  Installed\u001b[22m\u001b[39m Libiconv_jll ───────────────── v1.16.0+7\n",
      "\u001b[32m\u001b[1m  Installed\u001b[22m\u001b[39m FFMPEG_jll ─────────────────── v4.3.1+4\n",
      "\u001b[32m\u001b[1m  Installed\u001b[22m\u001b[39m libpng_jll ─────────────────── v1.6.37+6\n",
      "\u001b[32m\u001b[1m  Installed\u001b[22m\u001b[39m Compat ─────────────────────── v3.25.0\n",
      "\u001b[32m\u001b[1m  Installed\u001b[22m\u001b[39m Xorg_libXau_jll ────────────── v1.0.9+4\n",
      "\u001b[32m\u001b[1m  Installed\u001b[22m\u001b[39m MacroTools ─────────────────── v0.5.6\n",
      "\u001b[32m\u001b[1m  Installed\u001b[22m\u001b[39m HTTP ───────────────────────── v0.9.5\n",
      "\u001b[32m\u001b[1m  Installed\u001b[22m\u001b[39m Xorg_libXdmcp_jll ──────────── v1.1.3+4\n",
      "\u001b[32m\u001b[1m  Installed\u001b[22m\u001b[39m Zlib_jll ───────────────────── v1.2.11+18\n",
      "\u001b[32m\u001b[1m  Installed\u001b[22m\u001b[39m PCRE_jll ───────────────────── v8.42.0+4\n",
      "\u001b[32m\u001b[1m  Installed\u001b[22m\u001b[39m IteratorInterfaceExtensions ── v1.0.0\n",
      "\u001b[32m\u001b[1m  Installed\u001b[22m\u001b[39m Bzip2_jll ──────────────────── v1.0.6+5\n",
      "\u001b[32m\u001b[1m  Installed\u001b[22m\u001b[39m DataValueInterfaces ────────── v1.0.0\n",
      "\u001b[32m\u001b[1m  Installed\u001b[22m\u001b[39m LibVPX_jll ─────────────────── v1.9.0+1\n",
      "\u001b[32m\u001b[1m  Installed\u001b[22m\u001b[39m Libtiff_jll ────────────────── v4.1.0+2\n"
     ]
    },
    {
     "name": "stderr",
     "output_type": "stream",
     "text": [
      "\u001b[32m\u001b[1m  Installed\u001b[22m\u001b[39m ColorTypes ─────────────────── v0.10.12\n",
      "\u001b[32m\u001b[1m  Installed\u001b[22m\u001b[39m Xorg_libX11_jll ────────────── v1.6.9+4\n",
      "\u001b[32m\u001b[1m  Installed\u001b[22m\u001b[39m LZO_jll ────────────────────── v2.10.0+3\n",
      "\u001b[32m\u001b[1m  Installed\u001b[22m\u001b[39m PlotThemes ─────────────────── v2.0.1\n",
      "\u001b[32m\u001b[1m  Installed\u001b[22m\u001b[39m Xorg_libXcursor_jll ────────── v1.2.0+4\n",
      "\u001b[32m\u001b[1m  Installed\u001b[22m\u001b[39m Grisu ──────────────────────── v1.0.0\n",
      "\u001b[32m\u001b[1m  Installed\u001b[22m\u001b[39m NetworkOptions ─────────────── v1.2.0\n",
      "\u001b[32m\u001b[1m  Installed\u001b[22m\u001b[39m Contour ────────────────────── v0.5.7\n",
      "\u001b[32m\u001b[1m  Installed\u001b[22m\u001b[39m URIs ───────────────────────── v1.2.0\n",
      "\u001b[32m\u001b[1m  Installed\u001b[22m\u001b[39m LAME_jll ───────────────────── v3.100.0+3\n",
      "\u001b[32m\u001b[1m  Installed\u001b[22m\u001b[39m Formatting ─────────────────── v0.4.2\n",
      "\u001b[32m\u001b[1m  Installed\u001b[22m\u001b[39m OrderedCollections ─────────── v1.4.0\n",
      "\u001b[32m\u001b[1m  Installed\u001b[22m\u001b[39m Xorg_libXi_jll ─────────────── v1.7.10+4\n",
      "\u001b[32m\u001b[1m  Installed\u001b[22m\u001b[39m Measures ───────────────────── v0.3.1\n",
      "\u001b[32m\u001b[1m  Installed\u001b[22m\u001b[39m Fontconfig_jll ─────────────── v2.13.1+14\n",
      "\u001b[32m\u001b[1m  Installed\u001b[22m\u001b[39m StructArrays ───────────────── v0.5.0\n",
      "\u001b[32m\u001b[1m  Installed\u001b[22m\u001b[39m Scratch ────────────────────── v1.0.3\n",
      "\u001b[32m\u001b[1m  Installed\u001b[22m\u001b[39m PlotUtils ──────────────────── v1.0.10\n",
      "\u001b[32m\u001b[1m  Installed\u001b[22m\u001b[39m Requires ───────────────────── v1.1.3\n",
      "\u001b[32m\u001b[1m  Installed\u001b[22m\u001b[39m RecipesBase ────────────────── v1.1.1\n",
      "\u001b[32m\u001b[1m  Installed\u001b[22m\u001b[39m ColorSchemes ───────────────── v3.10.2\n",
      "\u001b[32m\u001b[1m  Installed\u001b[22m\u001b[39m Xorg_libXfixes_jll ─────────── v5.0.3+4\n",
      "\u001b[32m\u001b[1m  Installed\u001b[22m\u001b[39m Libmount_jll ───────────────── v2.34.0+3\n",
      "\u001b[32m\u001b[1m  Installed\u001b[22m\u001b[39m CompilerSupportLibraries_jll ─ v0.3.4+0\n",
      "\u001b[32m\u001b[1m  Installed\u001b[22m\u001b[39m libfdk_aac_jll ─────────────── v0.1.6+4\n",
      "\u001b[32m\u001b[1m  Installed\u001b[22m\u001b[39m FFMPEG ─────────────────────── v0.4.0\n",
      "\u001b[32m\u001b[1m  Installed\u001b[22m\u001b[39m Libglvnd_jll ───────────────── v1.3.0+3\n",
      "\u001b[32m\u001b[1m  Installed\u001b[22m\u001b[39m Xorg_libxcb_jll ────────────── v1.13.0+3\n",
      "\u001b[32m\u001b[1m  Installed\u001b[22m\u001b[39m Xorg_xcb_util_renderutil_jll ─ v0.3.9+1\n",
      "\u001b[32m\u001b[1m  Installed\u001b[22m\u001b[39m Showoff ────────────────────── v0.3.2\n",
      "\u001b[32m\u001b[1m  Installed\u001b[22m\u001b[39m Xorg_xcb_util_wm_jll ───────── v0.4.1+1\n",
      "\u001b[32m\u001b[1m  Installed\u001b[22m\u001b[39m XML2_jll ───────────────────── v2.9.10+3\n",
      "\u001b[32m\u001b[1m  Installed\u001b[22m\u001b[39m Xorg_xtrans_jll ────────────── v1.4.0+3\n",
      "\u001b[32m\u001b[1m  Installed\u001b[22m\u001b[39m Gettext_jll ────────────────── v0.20.1+7\n",
      "\u001b[32m\u001b[1m  Installed\u001b[22m\u001b[39m GLFW_jll ───────────────────── v3.3.3+0\n",
      "\u001b[32m\u001b[1m  Installed\u001b[22m\u001b[39m XSLT_jll ───────────────────── v1.1.33+4\n",
      "\u001b[32m\u001b[1m  Installed\u001b[22m\u001b[39m x264_jll ───────────────────── v2020.7.14+2\n",
      "\u001b[32m\u001b[1m  Installed\u001b[22m\u001b[39m StaticArrays ───────────────── v1.0.1\n",
      "\u001b[32m\u001b[1m  Installed\u001b[22m\u001b[39m Expat_jll ──────────────────── v2.2.7+6\n",
      "\u001b[32m\u001b[1m  Installed\u001b[22m\u001b[39m StatsBase ──────────────────── v0.33.4\n",
      "\u001b[32m\u001b[1m  Installed\u001b[22m\u001b[39m Wayland_protocols_jll ──────── v1.18.0+4\n",
      "\u001b[32m\u001b[1m  Installed\u001b[22m\u001b[39m Glib_jll ───────────────────── v2.59.0+4\n",
      "\u001b[32m\u001b[1m  Installed\u001b[22m\u001b[39m Libgpg_error_jll ───────────── v1.36.0+3\n",
      "\u001b[32m\u001b[1m  Installed\u001b[22m\u001b[39m Tables ─────────────────────── v1.4.1\n",
      "\u001b[32m\u001b[1m  Installed\u001b[22m\u001b[39m libass_jll ─────────────────── v0.14.0+4\n",
      "\u001b[32m\u001b[1m  Installed\u001b[22m\u001b[39m xkbcommon_jll ──────────────── v0.9.1+5\n",
      "\u001b[32m\u001b[1m  Installed\u001b[22m\u001b[39m DataStructures ─────────────── v0.18.9\n",
      "\u001b[32m\u001b[1m  Installed\u001b[22m\u001b[39m RecipesPipeline ────────────── v0.3.1\n",
      "\u001b[32m\u001b[1m  Installed\u001b[22m\u001b[39m SortingAlgorithms ──────────── v0.3.1\n",
      "\u001b[32m\u001b[1m  Installed\u001b[22m\u001b[39m Libgcrypt_jll ──────────────── v1.8.5+4\n",
      "\u001b[32m\u001b[1m  Installed\u001b[22m\u001b[39m NaNMath ────────────────────── v0.3.5\n",
      "\u001b[32m\u001b[1m  Installed\u001b[22m\u001b[39m Libuuid_jll ────────────────── v2.34.0+7\n",
      "\u001b[32m\u001b[1m  Installed\u001b[22m\u001b[39m Zstd_jll ───────────────────── v1.4.8+0\n",
      "\u001b[32m\u001b[1m  Installed\u001b[22m\u001b[39m LaTeXStrings ───────────────── v1.2.1\n",
      "\u001b[32m\u001b[1m  Installed\u001b[22m\u001b[39m Opus_jll ───────────────────── v1.3.1+3\n",
      "\u001b[32m\u001b[1m  Installed\u001b[22m\u001b[39m Xorg_libXrender_jll ────────── v0.9.10+4\n",
      "\u001b[32m\u001b[1m  Installed\u001b[22m\u001b[39m IniFile ────────────────────── v0.5.0\n",
      "\u001b[32m\u001b[1m  Installed\u001b[22m\u001b[39m Xorg_libXrandr_jll ─────────── v1.5.2+4\n",
      "\u001b[32m\u001b[1m  Installed\u001b[22m\u001b[39m GR_jll ─────────────────────── v0.53.0+0\n",
      "\u001b[32m\u001b[1m  Installed\u001b[22m\u001b[39m Cairo_jll ──────────────────── v1.16.0+6\n",
      "\u001b[32m\u001b[1m  Installed\u001b[22m\u001b[39m FriBidi_jll ────────────────── v1.0.5+6\n",
      "\u001b[32m\u001b[1m  Installed\u001b[22m\u001b[39m libvorbis_jll ──────────────── v1.3.6+6\n",
      "\u001b[32m\u001b[1m  Installed\u001b[22m\u001b[39m Xorg_xkbcomp_jll ───────────── v1.4.2+4\n",
      "\u001b[32m\u001b[1m  Installed\u001b[22m\u001b[39m IterTools ──────────────────── v1.3.0\n",
      "\u001b[32m\u001b[1m  Installed\u001b[22m\u001b[39m Xorg_xcb_util_keysyms_jll ──── v0.4.0+1\n",
      "\u001b[32m\u001b[1m  Installed\u001b[22m\u001b[39m Colors ─────────────────────── v0.12.6\n",
      "\u001b[32m\u001b[1m  Installed\u001b[22m\u001b[39m Wayland_jll ────────────────── v1.17.0+4\n",
      "\u001b[32m\u001b[1m  Installed\u001b[22m\u001b[39m Xorg_libpthread_stubs_jll ──── v0.1.0+3\n",
      "\u001b[32m\u001b[1m  Installed\u001b[22m\u001b[39m Latexify ───────────────────── v0.14.11\n",
      "\u001b[32m\u001b[1m  Installed\u001b[22m\u001b[39m GeometryBasics ─────────────── v0.3.11\n",
      "\u001b[32m\u001b[1mUpdating\u001b[22m\u001b[39m `~/.julia/environments/v1.5/Project.toml`\n",
      " \u001b[90m [91a5bcdd] \u001b[39m\u001b[92m+ Plots v1.11.0\u001b[39m\n",
      "\u001b[32m\u001b[1mUpdating\u001b[22m\u001b[39m `~/.julia/environments/v1.5/Manifest.toml`\n",
      " \u001b[90m [79e6a3ab] \u001b[39m\u001b[92m+ Adapt v3.2.0\u001b[39m\n",
      " \u001b[90m [6e34b625] \u001b[39m\u001b[92m+ Bzip2_jll v1.0.6+5\u001b[39m\n",
      " \u001b[90m [83423d85] \u001b[39m\u001b[92m+ Cairo_jll v1.16.0+6\u001b[39m\n",
      " \u001b[90m [35d6a980] \u001b[39m\u001b[92m+ ColorSchemes v3.10.2\u001b[39m\n",
      " \u001b[90m [3da002f7] \u001b[39m\u001b[92m+ ColorTypes v0.10.12\u001b[39m\n",
      " \u001b[90m [5ae59095] \u001b[39m\u001b[92m+ Colors v0.12.6\u001b[39m\n",
      " \u001b[90m [34da2185] \u001b[39m\u001b[92m+ Compat v3.25.0\u001b[39m\n",
      " \u001b[90m [e66e0078] \u001b[39m\u001b[92m+ CompilerSupportLibraries_jll v0.3.4+0\u001b[39m\n",
      " \u001b[90m [d38c429a] \u001b[39m\u001b[92m+ Contour v0.5.7\u001b[39m\n",
      " \u001b[90m [9a962f9c] \u001b[39m\u001b[92m+ DataAPI v1.6.0\u001b[39m\n",
      " \u001b[90m [864edb3b] \u001b[39m\u001b[92m+ DataStructures v0.18.9\u001b[39m\n",
      " \u001b[90m [e2d170a0] \u001b[39m\u001b[92m+ DataValueInterfaces v1.0.0\u001b[39m\n",
      " \u001b[90m [5ae413db] \u001b[39m\u001b[92m+ EarCut_jll v2.1.5+1\u001b[39m\n",
      " \u001b[90m [2e619515] \u001b[39m\u001b[92m+ Expat_jll v2.2.7+6\u001b[39m\n",
      " \u001b[90m [c87230d0] \u001b[39m\u001b[92m+ FFMPEG v0.4.0\u001b[39m\n",
      " \u001b[90m [b22a6f82] \u001b[39m\u001b[92m+ FFMPEG_jll v4.3.1+4\u001b[39m\n",
      " \u001b[90m [53c48c17] \u001b[39m\u001b[92m+ FixedPointNumbers v0.8.4\u001b[39m\n",
      " \u001b[90m [a3f928ae] \u001b[39m\u001b[92m+ Fontconfig_jll v2.13.1+14\u001b[39m\n",
      " \u001b[90m [59287772] \u001b[39m\u001b[92m+ Formatting v0.4.2\u001b[39m\n",
      " \u001b[90m [d7e528f0] \u001b[39m\u001b[92m+ FreeType2_jll v2.10.1+5\u001b[39m\n",
      " \u001b[90m [559328eb] \u001b[39m\u001b[92m+ FriBidi_jll v1.0.5+6\u001b[39m\n",
      " \u001b[90m [0656b61e] \u001b[39m\u001b[92m+ GLFW_jll v3.3.3+0\u001b[39m\n",
      " \u001b[90m [28b8d3ca] \u001b[39m\u001b[92m+ GR v0.55.0\u001b[39m\n",
      " \u001b[90m [d2c73de3] \u001b[39m\u001b[92m+ GR_jll v0.53.0+0\u001b[39m\n",
      " \u001b[90m [5c1252a2] \u001b[39m\u001b[92m+ GeometryBasics v0.3.11\u001b[39m\n",
      " \u001b[90m [78b55507] \u001b[39m\u001b[92m+ Gettext_jll v0.20.1+7\u001b[39m\n",
      " \u001b[90m [7746bdde] \u001b[39m\u001b[92m+ Glib_jll v2.59.0+4\u001b[39m\n",
      " \u001b[90m [42e2da0e] \u001b[39m\u001b[92m+ Grisu v1.0.0\u001b[39m\n",
      " \u001b[90m [cd3eb016] \u001b[39m\u001b[92m+ HTTP v0.9.5\u001b[39m\n",
      " \u001b[90m [83e8ac13] \u001b[39m\u001b[92m+ IniFile v0.5.0\u001b[39m\n",
      " \u001b[90m [c8e1da08] \u001b[39m\u001b[92m+ IterTools v1.3.0\u001b[39m\n",
      " \u001b[90m [82899510] \u001b[39m\u001b[92m+ IteratorInterfaceExtensions v1.0.0\u001b[39m\n",
      " \u001b[90m [aacddb02] \u001b[39m\u001b[92m+ JpegTurbo_jll v2.0.1+3\u001b[39m\n",
      " \u001b[90m [c1c5ebd0] \u001b[39m\u001b[92m+ LAME_jll v3.100.0+3\u001b[39m\n",
      " \u001b[90m [dd4b983a] \u001b[39m\u001b[92m+ LZO_jll v2.10.0+3\u001b[39m\n",
      " \u001b[90m [b964fa9f] \u001b[39m\u001b[92m+ LaTeXStrings v1.2.1\u001b[39m\n",
      " \u001b[90m [23fbe1c1] \u001b[39m\u001b[92m+ Latexify v0.14.11\u001b[39m\n",
      " \u001b[90m [dd192d2f] \u001b[39m\u001b[92m+ LibVPX_jll v1.9.0+1\u001b[39m\n",
      " \u001b[90m [e9f186c6] \u001b[39m\u001b[92m+ Libffi_jll v3.2.1+4\u001b[39m\n",
      " \u001b[90m [d4300ac3] \u001b[39m\u001b[92m+ Libgcrypt_jll v1.8.5+4\u001b[39m\n",
      " \u001b[90m [7e76a0d4] \u001b[39m\u001b[92m+ Libglvnd_jll v1.3.0+3\u001b[39m\n",
      " \u001b[90m [7add5ba3] \u001b[39m\u001b[92m+ Libgpg_error_jll v1.36.0+3\u001b[39m\n",
      " \u001b[90m [94ce4f54] \u001b[39m\u001b[92m+ Libiconv_jll v1.16.0+7\u001b[39m\n",
      " \u001b[90m [4b2f31a3] \u001b[39m\u001b[92m+ Libmount_jll v2.34.0+3\u001b[39m\n",
      " \u001b[90m [89763e89] \u001b[39m\u001b[92m+ Libtiff_jll v4.1.0+2\u001b[39m\n",
      " \u001b[90m [38a345b3] \u001b[39m\u001b[92m+ Libuuid_jll v2.34.0+7\u001b[39m\n",
      " \u001b[90m [1914dd2f] \u001b[39m\u001b[92m+ MacroTools v0.5.6\u001b[39m\n",
      " \u001b[90m [442fdcdd] \u001b[39m\u001b[92m+ Measures v0.3.1\u001b[39m\n",
      " \u001b[90m [e1d29d7a] \u001b[39m\u001b[92m+ Missings v0.4.5\u001b[39m\n",
      " \u001b[90m [77ba4419] \u001b[39m\u001b[92m+ NaNMath v0.3.5\u001b[39m\n",
      " \u001b[90m [ca575930] \u001b[39m\u001b[92m+ NetworkOptions v1.2.0\u001b[39m\n",
      " \u001b[90m [e7412a2a] \u001b[39m\u001b[92m+ Ogg_jll v1.3.4+2\u001b[39m\n",
      " \u001b[90m [458c3c95] \u001b[39m\u001b[92m+ OpenSSL_jll v1.1.1+6\u001b[39m\n",
      " \u001b[90m [91d4177d] \u001b[39m\u001b[92m+ Opus_jll v1.3.1+3\u001b[39m\n",
      " \u001b[90m [bac558e1] \u001b[39m\u001b[92m+ OrderedCollections v1.4.0\u001b[39m\n",
      " \u001b[90m [2f80f16e] \u001b[39m\u001b[92m+ PCRE_jll v8.42.0+4\u001b[39m\n",
      " \u001b[90m [30392449] \u001b[39m\u001b[92m+ Pixman_jll v0.40.0+0\u001b[39m\n",
      " \u001b[90m [ccf2f8ad] \u001b[39m\u001b[92m+ PlotThemes v2.0.1\u001b[39m\n",
      " \u001b[90m [995b91a9] \u001b[39m\u001b[92m+ PlotUtils v1.0.10\u001b[39m\n",
      " \u001b[90m [91a5bcdd] \u001b[39m\u001b[92m+ Plots v1.11.0\u001b[39m\n",
      " \u001b[90m [ede63266] \u001b[39m\u001b[92m+ Qt_jll v5.15.2+2\u001b[39m\n",
      " \u001b[90m [3cdcf5f2] \u001b[39m\u001b[92m+ RecipesBase v1.1.1\u001b[39m\n",
      " \u001b[90m [01d81517] \u001b[39m\u001b[92m+ RecipesPipeline v0.3.1\u001b[39m\n",
      " \u001b[90m [189a3867] \u001b[39m\u001b[92m+ Reexport v1.0.0\u001b[39m\n",
      " \u001b[90m [ae029012] \u001b[39m\u001b[92m+ Requires v1.1.3\u001b[39m\n",
      " \u001b[90m [6c6a2e73] \u001b[39m\u001b[92m+ Scratch v1.0.3\u001b[39m\n",
      " \u001b[90m [992d4aef] \u001b[39m\u001b[92m+ Showoff v0.3.2\u001b[39m\n",
      " \u001b[90m [a2af1166] \u001b[39m\u001b[92m+ SortingAlgorithms v0.3.1\u001b[39m\n",
      " \u001b[90m [90137ffa] \u001b[39m\u001b[92m+ StaticArrays v1.0.1\u001b[39m\n",
      " \u001b[90m [2913bbd2] \u001b[39m\u001b[92m+ StatsBase v0.33.4\u001b[39m\n",
      " \u001b[90m [09ab397b] \u001b[39m\u001b[92m+ StructArrays v0.5.0\u001b[39m\n",
      " \u001b[90m [3783bdb8] \u001b[39m\u001b[92m+ TableTraits v1.0.0\u001b[39m\n",
      " \u001b[90m [bd369af6] \u001b[39m\u001b[92m+ Tables v1.4.1\u001b[39m\n",
      " \u001b[90m [5c2747f8] \u001b[39m\u001b[92m+ URIs v1.2.0\u001b[39m\n",
      " \u001b[90m [a2964d1f] \u001b[39m\u001b[92m+ Wayland_jll v1.17.0+4\u001b[39m\n",
      " \u001b[90m [2381bf8a] \u001b[39m\u001b[92m+ Wayland_protocols_jll v1.18.0+4\u001b[39m\n",
      " \u001b[90m [02c8fc9c] \u001b[39m\u001b[92m+ XML2_jll v2.9.10+3\u001b[39m\n",
      " \u001b[90m [aed1982a] \u001b[39m\u001b[92m+ XSLT_jll v1.1.33+4\u001b[39m\n",
      " \u001b[90m [4f6342f7] \u001b[39m\u001b[92m+ Xorg_libX11_jll v1.6.9+4\u001b[39m\n",
      " \u001b[90m [0c0b7dd1] \u001b[39m\u001b[92m+ Xorg_libXau_jll v1.0.9+4\u001b[39m\n",
      " \u001b[90m [935fb764] \u001b[39m\u001b[92m+ Xorg_libXcursor_jll v1.2.0+4\u001b[39m\n",
      " \u001b[90m [a3789734] \u001b[39m\u001b[92m+ Xorg_libXdmcp_jll v1.1.3+4\u001b[39m\n",
      " \u001b[90m [1082639a] \u001b[39m\u001b[92m+ Xorg_libXext_jll v1.3.4+4\u001b[39m\n",
      " \u001b[90m [d091e8ba] \u001b[39m\u001b[92m+ Xorg_libXfixes_jll v5.0.3+4\u001b[39m\n",
      " \u001b[90m [a51aa0fd] \u001b[39m\u001b[92m+ Xorg_libXi_jll v1.7.10+4\u001b[39m\n",
      " \u001b[90m [d1454406] \u001b[39m\u001b[92m+ Xorg_libXinerama_jll v1.1.4+4\u001b[39m\n",
      " \u001b[90m [ec84b674] \u001b[39m\u001b[92m+ Xorg_libXrandr_jll v1.5.2+4\u001b[39m\n",
      " \u001b[90m [ea2f1a96] \u001b[39m\u001b[92m+ Xorg_libXrender_jll v0.9.10+4\u001b[39m\n",
      " \u001b[90m [14d82f49] \u001b[39m\u001b[92m+ Xorg_libpthread_stubs_jll v0.1.0+3\u001b[39m\n",
      " \u001b[90m [c7cfdc94] \u001b[39m\u001b[92m+ Xorg_libxcb_jll v1.13.0+3\u001b[39m\n",
      " \u001b[90m [cc61e674] \u001b[39m\u001b[92m+ Xorg_libxkbfile_jll v1.1.0+4\u001b[39m\n",
      " \u001b[90m [12413925] \u001b[39m\u001b[92m+ Xorg_xcb_util_image_jll v0.4.0+1\u001b[39m\n",
      " \u001b[90m [2def613f] \u001b[39m\u001b[92m+ Xorg_xcb_util_jll v0.4.0+1\u001b[39m\n",
      " \u001b[90m [975044d2] \u001b[39m\u001b[92m+ Xorg_xcb_util_keysyms_jll v0.4.0+1\u001b[39m\n",
      " \u001b[90m [0d47668e] \u001b[39m\u001b[92m+ Xorg_xcb_util_renderutil_jll v0.3.9+1\u001b[39m\n",
      " \u001b[90m [c22f9ab0] \u001b[39m\u001b[92m+ Xorg_xcb_util_wm_jll v0.4.1+1\u001b[39m\n",
      " \u001b[90m [35661453] \u001b[39m\u001b[92m+ Xorg_xkbcomp_jll v1.4.2+4\u001b[39m\n",
      " \u001b[90m [33bec58e] \u001b[39m\u001b[92m+ Xorg_xkeyboard_config_jll v2.27.0+4\u001b[39m\n",
      " \u001b[90m [c5fb5394] \u001b[39m\u001b[92m+ Xorg_xtrans_jll v1.4.0+3\u001b[39m\n",
      " \u001b[90m [83775a58] \u001b[39m\u001b[92m+ Zlib_jll v1.2.11+18\u001b[39m\n",
      " \u001b[90m [3161d3a3] \u001b[39m\u001b[92m+ Zstd_jll v1.4.8+0\u001b[39m\n",
      " \u001b[90m [0ac62f75] \u001b[39m\u001b[92m+ libass_jll v0.14.0+4\u001b[39m\n",
      " \u001b[90m [f638f0a6] \u001b[39m\u001b[92m+ libfdk_aac_jll v0.1.6+4\u001b[39m\n",
      " \u001b[90m [b53b4c65] \u001b[39m\u001b[92m+ libpng_jll v1.6.37+6\u001b[39m\n",
      " \u001b[90m [f27f6e37] \u001b[39m\u001b[92m+ libvorbis_jll v1.3.6+6\u001b[39m\n",
      " \u001b[90m [1270edf5] \u001b[39m\u001b[92m+ x264_jll v2020.7.14+2\u001b[39m\n",
      " \u001b[90m [dfaa095f] \u001b[39m\u001b[92m+ x265_jll v3.0.0+3\u001b[39m\n",
      " \u001b[90m [d8fb68d0] \u001b[39m\u001b[92m+ xkbcommon_jll v0.9.1+5\u001b[39m\n",
      " \u001b[90m [8bb1440f] \u001b[39m\u001b[92m+ DelimitedFiles\u001b[39m\n",
      " \u001b[90m [37e2e46d] \u001b[39m\u001b[92m+ LinearAlgebra\u001b[39m\n",
      " \u001b[90m [1a1011a3] \u001b[39m\u001b[92m+ SharedArrays\u001b[39m\n",
      " \u001b[90m [2f01184e] \u001b[39m\u001b[92m+ SparseArrays\u001b[39m\n",
      " \u001b[90m [10745b16] \u001b[39m\u001b[92m+ Statistics\u001b[39m\n"
     ]
    },
    {
     "name": "stderr",
     "output_type": "stream",
     "text": [
      "\u001b[32m\u001b[1m   Building\u001b[22m\u001b[39m GR → `~/.julia/packages/GR/9Vi4m/deps/build.log`\n"
     ]
    }
   ],
   "source": [
    "import Pkg; Pkg.add(\"Plots\")"
   ]
  },
  {
   "cell_type": "code",
   "execution_count": 18,
   "id": "affected-poland",
   "metadata": {},
   "outputs": [
    {
     "name": "stderr",
     "output_type": "stream",
     "text": [
      "┌ Info: Precompiling Plots [91a5bcdd-55d7-5caf-9e0b-520d859cae80]\n",
      "└ @ Base loading.jl:1278\n"
     ]
    }
   ],
   "source": [
    "using Plots"
   ]
  },
  {
   "cell_type": "code",
   "execution_count": 19,
   "id": "helpful-steps",
   "metadata": {},
   "outputs": [
    {
     "data": {
      "image/svg+xml": [
       "<?xml version=\"1.0\" encoding=\"utf-8\"?>\n",
       "<svg xmlns=\"http://www.w3.org/2000/svg\" xmlns:xlink=\"http://www.w3.org/1999/xlink\" width=\"600\" height=\"400\" viewBox=\"0 0 2400 1600\">\n",
       "<defs>\n",
       "  <clipPath id=\"clip510\">\n",
       "    <rect x=\"0\" y=\"0\" width=\"2400\" height=\"1600\"/>\n",
       "  </clipPath>\n",
       "</defs>\n",
       "<path clip-path=\"url(#clip510)\" d=\"\n",
       "M0 1600 L2400 1600 L2400 0 L0 0  Z\n",
       "  \" fill=\"#ffffff\" fill-rule=\"evenodd\" fill-opacity=\"1\"/>\n",
       "<defs>\n",
       "  <clipPath id=\"clip511\">\n",
       "    <rect x=\"480\" y=\"0\" width=\"1681\" height=\"1600\"/>\n",
       "  </clipPath>\n",
       "</defs>\n",
       "<path clip-path=\"url(#clip510)\" d=\"\n",
       "M174.862 1486.45 L2352.76 1486.45 L2352.76 47.2441 L174.862 47.2441  Z\n",
       "  \" fill=\"#ffffff\" fill-rule=\"evenodd\" fill-opacity=\"1\"/>\n",
       "<defs>\n",
       "  <clipPath id=\"clip512\">\n",
       "    <rect x=\"174\" y=\"47\" width=\"2179\" height=\"1440\"/>\n",
       "  </clipPath>\n",
       "</defs>\n",
       "<polyline clip-path=\"url(#clip512)\" style=\"stroke:#000000; stroke-width:2; stroke-opacity:0.1; fill:none\" points=\"\n",
       "  441.962,1486.45 441.962,47.2441 \n",
       "  \"/>\n",
       "<polyline clip-path=\"url(#clip512)\" style=\"stroke:#000000; stroke-width:2; stroke-opacity:0.1; fill:none\" points=\"\n",
       "  852.886,1486.45 852.886,47.2441 \n",
       "  \"/>\n",
       "<polyline clip-path=\"url(#clip512)\" style=\"stroke:#000000; stroke-width:2; stroke-opacity:0.1; fill:none\" points=\"\n",
       "  1263.81,1486.45 1263.81,47.2441 \n",
       "  \"/>\n",
       "<polyline clip-path=\"url(#clip512)\" style=\"stroke:#000000; stroke-width:2; stroke-opacity:0.1; fill:none\" points=\"\n",
       "  1674.73,1486.45 1674.73,47.2441 \n",
       "  \"/>\n",
       "<polyline clip-path=\"url(#clip512)\" style=\"stroke:#000000; stroke-width:2; stroke-opacity:0.1; fill:none\" points=\"\n",
       "  2085.66,1486.45 2085.66,47.2441 \n",
       "  \"/>\n",
       "<polyline clip-path=\"url(#clip510)\" style=\"stroke:#000000; stroke-width:4; stroke-opacity:1; fill:none\" points=\"\n",
       "  174.862,1486.45 2352.76,1486.45 \n",
       "  \"/>\n",
       "<polyline clip-path=\"url(#clip510)\" style=\"stroke:#000000; stroke-width:4; stroke-opacity:1; fill:none\" points=\"\n",
       "  441.962,1486.45 441.962,1469.18 \n",
       "  \"/>\n",
       "<polyline clip-path=\"url(#clip510)\" style=\"stroke:#000000; stroke-width:4; stroke-opacity:1; fill:none\" points=\"\n",
       "  852.886,1486.45 852.886,1469.18 \n",
       "  \"/>\n",
       "<polyline clip-path=\"url(#clip510)\" style=\"stroke:#000000; stroke-width:4; stroke-opacity:1; fill:none\" points=\"\n",
       "  1263.81,1486.45 1263.81,1469.18 \n",
       "  \"/>\n",
       "<polyline clip-path=\"url(#clip510)\" style=\"stroke:#000000; stroke-width:4; stroke-opacity:1; fill:none\" points=\"\n",
       "  1674.73,1486.45 1674.73,1469.18 \n",
       "  \"/>\n",
       "<polyline clip-path=\"url(#clip510)\" style=\"stroke:#000000; stroke-width:4; stroke-opacity:1; fill:none\" points=\"\n",
       "  2085.66,1486.45 2085.66,1469.18 \n",
       "  \"/>\n",
       "<path clip-path=\"url(#clip510)\" d=\"M 0 0 M413.374 1530.29 L443.05 1530.29 L443.05 1534.23 L413.374 1534.23 L413.374 1530.29 Z\" fill=\"#000000\" fill-rule=\"evenodd\" fill-opacity=\"1\" /><path clip-path=\"url(#clip510)\" d=\"M 0 0 M460.967 1516.63 L449.161 1535.08 L460.967 1535.08 L460.967 1516.63 M459.74 1512.56 L465.619 1512.56 L465.619 1535.08 L470.55 1535.08 L470.55 1538.97 L465.619 1538.97 L465.619 1547.12 L460.967 1547.12 L460.967 1538.97 L445.365 1538.97 L445.365 1534.46 L459.74 1512.56 Z\" fill=\"#000000\" fill-rule=\"evenodd\" fill-opacity=\"1\" /><path clip-path=\"url(#clip510)\" d=\"M 0 0 M825.339 1530.29 L855.015 1530.29 L855.015 1534.23 L825.339 1534.23 L825.339 1530.29 Z\" fill=\"#000000\" fill-rule=\"evenodd\" fill-opacity=\"1\" /><path clip-path=\"url(#clip510)\" d=\"M 0 0 M864.112 1543.18 L880.432 1543.18 L880.432 1547.12 L858.487 1547.12 L858.487 1543.18 Q861.149 1540.43 865.733 1535.8 Q870.339 1531.15 871.52 1529.81 Q873.765 1527.28 874.645 1525.55 Q875.548 1523.79 875.548 1522.1 Q875.548 1519.34 873.603 1517.61 Q871.682 1515.87 868.58 1515.87 Q866.381 1515.87 863.927 1516.63 Q861.497 1517.4 858.719 1518.95 L858.719 1514.23 Q861.543 1513.09 863.997 1512.51 Q866.45 1511.93 868.487 1511.93 Q873.858 1511.93 877.052 1514.62 Q880.247 1517.31 880.247 1521.8 Q880.247 1523.93 879.436 1525.85 Q878.649 1527.74 876.543 1530.34 Q875.964 1531.01 872.862 1534.23 Q869.761 1537.42 864.112 1543.18 Z\" fill=\"#000000\" fill-rule=\"evenodd\" fill-opacity=\"1\" /><path clip-path=\"url(#clip510)\" d=\"M 0 0 M1263.81 1515.64 Q1260.2 1515.64 1258.37 1519.2 Q1256.56 1522.75 1256.56 1529.87 Q1256.56 1536.98 1258.37 1540.55 Q1260.2 1544.09 1263.81 1544.09 Q1267.44 1544.09 1269.25 1540.55 Q1271.08 1536.98 1271.08 1529.87 Q1271.08 1522.75 1269.25 1519.2 Q1267.44 1515.64 1263.81 1515.64 M1263.81 1511.93 Q1269.62 1511.93 1272.67 1516.54 Q1275.75 1521.12 1275.75 1529.87 Q1275.75 1538.6 1272.67 1543.21 Q1269.62 1547.79 1263.81 1547.79 Q1258 1547.79 1254.92 1543.21 Q1251.86 1538.6 1251.86 1529.87 Q1251.86 1521.12 1254.92 1516.54 Q1258 1511.93 1263.81 1511.93 Z\" fill=\"#000000\" fill-rule=\"evenodd\" fill-opacity=\"1\" /><path clip-path=\"url(#clip510)\" d=\"M 0 0 M1669.39 1543.18 L1685.7 1543.18 L1685.7 1547.12 L1663.76 1547.12 L1663.76 1543.18 Q1666.42 1540.43 1671.01 1535.8 Q1675.61 1531.15 1676.79 1529.81 Q1679.04 1527.28 1679.92 1525.55 Q1680.82 1523.79 1680.82 1522.1 Q1680.82 1519.34 1678.88 1517.61 Q1676.95 1515.87 1673.85 1515.87 Q1671.65 1515.87 1669.2 1516.63 Q1666.77 1517.4 1663.99 1518.95 L1663.99 1514.23 Q1666.82 1513.09 1669.27 1512.51 Q1671.72 1511.93 1673.76 1511.93 Q1679.13 1511.93 1682.32 1514.62 Q1685.52 1517.31 1685.52 1521.8 Q1685.52 1523.93 1684.71 1525.85 Q1683.92 1527.74 1681.82 1530.34 Q1681.24 1531.01 1678.14 1534.23 Q1675.03 1537.42 1669.39 1543.18 Z\" fill=\"#000000\" fill-rule=\"evenodd\" fill-opacity=\"1\" /><path clip-path=\"url(#clip510)\" d=\"M 0 0 M2088.66 1516.63 L2076.86 1535.08 L2088.66 1535.08 L2088.66 1516.63 M2087.44 1512.56 L2093.32 1512.56 L2093.32 1535.08 L2098.25 1535.08 L2098.25 1538.97 L2093.32 1538.97 L2093.32 1547.12 L2088.66 1547.12 L2088.66 1538.97 L2073.06 1538.97 L2073.06 1534.46 L2087.44 1512.56 Z\" fill=\"#000000\" fill-rule=\"evenodd\" fill-opacity=\"1\" /><polyline clip-path=\"url(#clip512)\" style=\"stroke:#000000; stroke-width:2; stroke-opacity:0.1; fill:none\" points=\"\n",
       "  174.862,1445.72 2352.76,1445.72 \n",
       "  \"/>\n",
       "<polyline clip-path=\"url(#clip512)\" style=\"stroke:#000000; stroke-width:2; stroke-opacity:0.1; fill:none\" points=\"\n",
       "  174.862,1106.28 2352.76,1106.28 \n",
       "  \"/>\n",
       "<polyline clip-path=\"url(#clip512)\" style=\"stroke:#000000; stroke-width:2; stroke-opacity:0.1; fill:none\" points=\"\n",
       "  174.862,766.846 2352.76,766.846 \n",
       "  \"/>\n",
       "<polyline clip-path=\"url(#clip512)\" style=\"stroke:#000000; stroke-width:2; stroke-opacity:0.1; fill:none\" points=\"\n",
       "  174.862,427.411 2352.76,427.411 \n",
       "  \"/>\n",
       "<polyline clip-path=\"url(#clip512)\" style=\"stroke:#000000; stroke-width:2; stroke-opacity:0.1; fill:none\" points=\"\n",
       "  174.862,87.9763 2352.76,87.9763 \n",
       "  \"/>\n",
       "<polyline clip-path=\"url(#clip510)\" style=\"stroke:#000000; stroke-width:4; stroke-opacity:1; fill:none\" points=\"\n",
       "  174.862,1486.45 174.862,47.2441 \n",
       "  \"/>\n",
       "<polyline clip-path=\"url(#clip510)\" style=\"stroke:#000000; stroke-width:4; stroke-opacity:1; fill:none\" points=\"\n",
       "  174.862,1445.72 200.997,1445.72 \n",
       "  \"/>\n",
       "<polyline clip-path=\"url(#clip510)\" style=\"stroke:#000000; stroke-width:4; stroke-opacity:1; fill:none\" points=\"\n",
       "  174.862,1106.28 200.997,1106.28 \n",
       "  \"/>\n",
       "<polyline clip-path=\"url(#clip510)\" style=\"stroke:#000000; stroke-width:4; stroke-opacity:1; fill:none\" points=\"\n",
       "  174.862,766.846 200.997,766.846 \n",
       "  \"/>\n",
       "<polyline clip-path=\"url(#clip510)\" style=\"stroke:#000000; stroke-width:4; stroke-opacity:1; fill:none\" points=\"\n",
       "  174.862,427.411 200.997,427.411 \n",
       "  \"/>\n",
       "<polyline clip-path=\"url(#clip510)\" style=\"stroke:#000000; stroke-width:4; stroke-opacity:1; fill:none\" points=\"\n",
       "  174.862,87.9763 200.997,87.9763 \n",
       "  \"/>\n",
       "<path clip-path=\"url(#clip510)\" d=\"M 0 0 M62.9365 1431.51 Q59.3254 1431.51 57.4967 1435.08 Q55.6912 1438.62 55.6912 1445.75 Q55.6912 1452.86 57.4967 1456.42 Q59.3254 1459.96 62.9365 1459.96 Q66.5707 1459.96 68.3763 1456.42 Q70.205 1452.86 70.205 1445.75 Q70.205 1438.62 68.3763 1435.08 Q66.5707 1431.51 62.9365 1431.51 M62.9365 1427.81 Q68.7467 1427.81 71.8022 1432.42 Q74.8809 1437 74.8809 1445.75 Q74.8809 1454.48 71.8022 1459.08 Q68.7467 1463.67 62.9365 1463.67 Q57.1264 1463.67 54.0477 1459.08 Q50.9921 1454.48 50.9921 1445.75 Q50.9921 1437 54.0477 1432.42 Q57.1264 1427.81 62.9365 1427.81 Z\" fill=\"#000000\" fill-rule=\"evenodd\" fill-opacity=\"1\" /><path clip-path=\"url(#clip510)\" d=\"M 0 0 M79.9503 1457.12 L84.8345 1457.12 L84.8345 1463 L79.9503 1463 L79.9503 1457.12 Z\" fill=\"#000000\" fill-rule=\"evenodd\" fill-opacity=\"1\" /><path clip-path=\"url(#clip510)\" d=\"M 0 0 M99.9039 1431.51 Q96.2928 1431.51 94.4641 1435.08 Q92.6586 1438.62 92.6586 1445.75 Q92.6586 1452.86 94.4641 1456.42 Q96.2928 1459.96 99.9039 1459.96 Q103.538 1459.96 105.344 1456.42 Q107.172 1452.86 107.172 1445.75 Q107.172 1438.62 105.344 1435.08 Q103.538 1431.51 99.9039 1431.51 M99.9039 1427.81 Q105.714 1427.81 108.77 1432.42 Q111.848 1437 111.848 1445.75 Q111.848 1454.48 108.77 1459.08 Q105.714 1463.67 99.9039 1463.67 Q94.0937 1463.67 91.0151 1459.08 Q87.9595 1454.48 87.9595 1445.75 Q87.9595 1437 91.0151 1432.42 Q94.0937 1427.81 99.9039 1427.81 Z\" fill=\"#000000\" fill-rule=\"evenodd\" fill-opacity=\"1\" /><path clip-path=\"url(#clip510)\" d=\"M 0 0 M126.918 1431.51 Q123.307 1431.51 121.478 1435.08 Q119.672 1438.62 119.672 1445.75 Q119.672 1452.86 121.478 1456.42 Q123.307 1459.96 126.918 1459.96 Q130.552 1459.96 132.357 1456.42 Q134.186 1452.86 134.186 1445.75 Q134.186 1438.62 132.357 1435.08 Q130.552 1431.51 126.918 1431.51 M126.918 1427.81 Q132.728 1427.81 135.783 1432.42 Q138.862 1437 138.862 1445.75 Q138.862 1454.48 135.783 1459.08 Q132.728 1463.67 126.918 1463.67 Q121.107 1463.67 118.029 1459.08 Q114.973 1454.48 114.973 1445.75 Q114.973 1437 118.029 1432.42 Q121.107 1427.81 126.918 1427.81 Z\" fill=\"#000000\" fill-rule=\"evenodd\" fill-opacity=\"1\" /><path clip-path=\"url(#clip510)\" d=\"M 0 0 M65.5291 1092.08 Q61.918 1092.08 60.0893 1095.64 Q58.2838 1099.19 58.2838 1106.32 Q58.2838 1113.42 60.0893 1116.99 Q61.918 1120.53 65.5291 1120.53 Q69.1633 1120.53 70.9689 1116.99 Q72.7976 1113.42 72.7976 1106.32 Q72.7976 1099.19 70.9689 1095.64 Q69.1633 1092.08 65.5291 1092.08 M65.5291 1088.38 Q71.3392 1088.38 74.3948 1092.98 Q77.4735 1097.57 77.4735 1106.32 Q77.4735 1115.04 74.3948 1119.65 Q71.3392 1124.23 65.5291 1124.23 Q59.7189 1124.23 56.6402 1119.65 Q53.5847 1115.04 53.5847 1106.32 Q53.5847 1097.57 56.6402 1092.98 Q59.7189 1088.38 65.5291 1088.38 Z\" fill=\"#000000\" fill-rule=\"evenodd\" fill-opacity=\"1\" /><path clip-path=\"url(#clip510)\" d=\"M 0 0 M82.5429 1117.68 L87.4271 1117.68 L87.4271 1123.56 L82.5429 1123.56 L82.5429 1117.68 Z\" fill=\"#000000\" fill-rule=\"evenodd\" fill-opacity=\"1\" /><path clip-path=\"url(#clip510)\" d=\"M 0 0 M96.5243 1119.63 L112.844 1119.63 L112.844 1123.56 L90.8993 1123.56 L90.8993 1119.63 Q93.5613 1116.87 98.1447 1112.24 Q102.751 1107.59 103.932 1106.25 Q106.177 1103.72 107.057 1101.99 Q107.959 1100.23 107.959 1098.54 Q107.959 1095.78 106.015 1094.05 Q104.094 1092.31 100.992 1092.31 Q98.7928 1092.31 96.3391 1093.07 Q93.9086 1093.84 91.1308 1095.39 L91.1308 1090.67 Q93.9549 1089.53 96.4085 1088.95 Q98.8622 1088.38 100.899 1088.38 Q106.27 1088.38 109.464 1091.06 Q112.658 1093.75 112.658 1098.24 Q112.658 1100.37 111.848 1102.29 Q111.061 1104.19 108.955 1106.78 Q108.376 1107.45 105.274 1110.67 Q102.172 1113.86 96.5243 1119.63 Z\" fill=\"#000000\" fill-rule=\"evenodd\" fill-opacity=\"1\" /><path clip-path=\"url(#clip510)\" d=\"M 0 0 M117.959 1089 L136.316 1089 L136.316 1092.94 L122.242 1092.94 L122.242 1101.41 Q123.26 1101.06 124.279 1100.9 Q125.297 1100.71 126.316 1100.71 Q132.103 1100.71 135.482 1103.89 Q138.862 1107.06 138.862 1112.47 Q138.862 1118.05 135.39 1121.15 Q131.918 1124.23 125.598 1124.23 Q123.422 1124.23 121.154 1123.86 Q118.908 1123.49 116.501 1122.75 L116.501 1118.05 Q118.584 1119.19 120.807 1119.74 Q123.029 1120.3 125.506 1120.3 Q129.51 1120.3 131.848 1118.19 Q134.186 1116.08 134.186 1112.47 Q134.186 1108.86 131.848 1106.76 Q129.51 1104.65 125.506 1104.65 Q123.631 1104.65 121.756 1105.07 Q119.904 1105.48 117.959 1106.36 L117.959 1089 Z\" fill=\"#000000\" fill-rule=\"evenodd\" fill-opacity=\"1\" /><path clip-path=\"url(#clip510)\" d=\"M 0 0 M63.9319 752.645 Q60.3208 752.645 58.4921 756.209 Q56.6865 759.751 56.6865 766.881 Q56.6865 773.987 58.4921 777.552 Q60.3208 781.094 63.9319 781.094 Q67.5661 781.094 69.3717 777.552 Q71.2004 773.987 71.2004 766.881 Q71.2004 759.751 69.3717 756.209 Q67.5661 752.645 63.9319 752.645 M63.9319 748.941 Q69.742 748.941 72.7976 753.547 Q75.8763 758.131 75.8763 766.881 Q75.8763 775.608 72.7976 780.214 Q69.742 784.797 63.9319 784.797 Q58.1217 784.797 55.043 780.214 Q51.9875 775.608 51.9875 766.881 Q51.9875 758.131 55.043 753.547 Q58.1217 748.941 63.9319 748.941 Z\" fill=\"#000000\" fill-rule=\"evenodd\" fill-opacity=\"1\" /><path clip-path=\"url(#clip510)\" d=\"M 0 0 M80.9457 778.246 L85.8299 778.246 L85.8299 784.126 L80.9457 784.126 L80.9457 778.246 Z\" fill=\"#000000\" fill-rule=\"evenodd\" fill-opacity=\"1\" /><path clip-path=\"url(#clip510)\" d=\"M 0 0 M90.9456 749.566 L109.302 749.566 L109.302 753.501 L95.228 753.501 L95.228 761.973 Q96.2465 761.626 97.265 761.464 Q98.2835 761.279 99.3021 761.279 Q105.089 761.279 108.469 764.45 Q111.848 767.621 111.848 773.038 Q111.848 778.617 108.376 781.719 Q104.904 784.797 98.5845 784.797 Q96.4085 784.797 94.14 784.427 Q91.8947 784.057 89.4873 783.316 L89.4873 778.617 Q91.5706 779.751 93.7928 780.307 Q96.015 780.862 98.4919 780.862 Q102.496 780.862 104.834 778.756 Q107.172 776.649 107.172 773.038 Q107.172 769.427 104.834 767.321 Q102.496 765.214 98.4919 765.214 Q96.6169 765.214 94.7419 765.631 Q92.89 766.047 90.9456 766.927 L90.9456 749.566 Z\" fill=\"#000000\" fill-rule=\"evenodd\" fill-opacity=\"1\" /><path clip-path=\"url(#clip510)\" d=\"M 0 0 M126.918 752.645 Q123.307 752.645 121.478 756.209 Q119.672 759.751 119.672 766.881 Q119.672 773.987 121.478 777.552 Q123.307 781.094 126.918 781.094 Q130.552 781.094 132.357 777.552 Q134.186 773.987 134.186 766.881 Q134.186 759.751 132.357 756.209 Q130.552 752.645 126.918 752.645 M126.918 748.941 Q132.728 748.941 135.783 753.547 Q138.862 758.131 138.862 766.881 Q138.862 775.608 135.783 780.214 Q132.728 784.797 126.918 784.797 Q121.107 784.797 118.029 780.214 Q114.973 775.608 114.973 766.881 Q114.973 758.131 118.029 753.547 Q121.107 748.941 126.918 748.941 Z\" fill=\"#000000\" fill-rule=\"evenodd\" fill-opacity=\"1\" /><path clip-path=\"url(#clip510)\" d=\"M 0 0 M64.8346 413.21 Q61.2236 413.21 59.3949 416.775 Q57.5893 420.316 57.5893 427.446 Q57.5893 434.552 59.3949 438.117 Q61.2236 441.659 64.8346 441.659 Q68.4689 441.659 70.2744 438.117 Q72.1031 434.552 72.1031 427.446 Q72.1031 420.316 70.2744 416.775 Q68.4689 413.21 64.8346 413.21 M64.8346 409.506 Q70.6448 409.506 73.7003 414.113 Q76.779 418.696 76.779 427.446 Q76.779 436.173 73.7003 440.779 Q70.6448 445.362 64.8346 445.362 Q59.0245 445.362 55.9458 440.779 Q52.8903 436.173 52.8903 427.446 Q52.8903 418.696 55.9458 414.113 Q59.0245 409.506 64.8346 409.506 Z\" fill=\"#000000\" fill-rule=\"evenodd\" fill-opacity=\"1\" /><path clip-path=\"url(#clip510)\" d=\"M 0 0 M81.8484 438.812 L86.7327 438.812 L86.7327 444.691 L81.8484 444.691 L81.8484 438.812 Z\" fill=\"#000000\" fill-rule=\"evenodd\" fill-opacity=\"1\" /><path clip-path=\"url(#clip510)\" d=\"M 0 0 M90.6215 410.131 L112.844 410.131 L112.844 412.122 L100.297 444.691 L95.4132 444.691 L107.219 414.066 L90.6215 414.066 L90.6215 410.131 Z\" fill=\"#000000\" fill-rule=\"evenodd\" fill-opacity=\"1\" /><path clip-path=\"url(#clip510)\" d=\"M 0 0 M117.959 410.131 L136.316 410.131 L136.316 414.066 L122.242 414.066 L122.242 422.538 Q123.26 422.191 124.279 422.029 Q125.297 421.844 126.316 421.844 Q132.103 421.844 135.482 425.015 Q138.862 428.187 138.862 433.603 Q138.862 439.182 135.39 442.284 Q131.918 445.362 125.598 445.362 Q123.422 445.362 121.154 444.992 Q118.908 444.622 116.501 443.881 L116.501 439.182 Q118.584 440.316 120.807 440.872 Q123.029 441.427 125.506 441.427 Q129.51 441.427 131.848 439.321 Q134.186 437.214 134.186 433.603 Q134.186 429.992 131.848 427.886 Q129.51 425.779 125.506 425.779 Q123.631 425.779 121.756 426.196 Q119.904 426.613 117.959 427.492 L117.959 410.131 Z\" fill=\"#000000\" fill-rule=\"evenodd\" fill-opacity=\"1\" /><path clip-path=\"url(#clip510)\" d=\"M 0 0 M54.9736 101.321 L62.6124 101.321 L62.6124 74.9555 L54.3023 76.6222 L54.3023 72.3629 L62.5661 70.6963 L67.242 70.6963 L67.242 101.321 L74.8809 101.321 L74.8809 105.256 L54.9736 105.256 L54.9736 101.321 Z\" fill=\"#000000\" fill-rule=\"evenodd\" fill-opacity=\"1\" /><path clip-path=\"url(#clip510)\" d=\"M 0 0 M79.9503 99.3767 L84.8345 99.3767 L84.8345 105.256 L79.9503 105.256 L79.9503 99.3767 Z\" fill=\"#000000\" fill-rule=\"evenodd\" fill-opacity=\"1\" /><path clip-path=\"url(#clip510)\" d=\"M 0 0 M99.9039 73.775 Q96.2928 73.775 94.4641 77.3398 Q92.6586 80.8814 92.6586 88.011 Q92.6586 95.1174 94.4641 98.6822 Q96.2928 102.224 99.9039 102.224 Q103.538 102.224 105.344 98.6822 Q107.172 95.1174 107.172 88.011 Q107.172 80.8814 105.344 77.3398 Q103.538 73.775 99.9039 73.775 M99.9039 70.0713 Q105.714 70.0713 108.77 74.6777 Q111.848 79.261 111.848 88.011 Q111.848 96.7378 108.77 101.344 Q105.714 105.928 99.9039 105.928 Q94.0937 105.928 91.0151 101.344 Q87.9595 96.7378 87.9595 88.011 Q87.9595 79.261 91.0151 74.6777 Q94.0937 70.0713 99.9039 70.0713 Z\" fill=\"#000000\" fill-rule=\"evenodd\" fill-opacity=\"1\" /><path clip-path=\"url(#clip510)\" d=\"M 0 0 M126.918 73.775 Q123.307 73.775 121.478 77.3398 Q119.672 80.8814 119.672 88.011 Q119.672 95.1174 121.478 98.6822 Q123.307 102.224 126.918 102.224 Q130.552 102.224 132.357 98.6822 Q134.186 95.1174 134.186 88.011 Q134.186 80.8814 132.357 77.3398 Q130.552 73.775 126.918 73.775 M126.918 70.0713 Q132.728 70.0713 135.783 74.6777 Q138.862 79.261 138.862 88.011 Q138.862 96.7378 135.783 101.344 Q132.728 105.928 126.918 105.928 Q121.107 105.928 118.029 101.344 Q114.973 96.7378 114.973 88.011 Q114.973 79.261 118.029 74.6777 Q121.107 70.0713 126.918 70.0713 Z\" fill=\"#000000\" fill-rule=\"evenodd\" fill-opacity=\"1\" /><polyline clip-path=\"url(#clip512)\" style=\"stroke:#009af9; stroke-width:4; stroke-opacity:1; fill:none\" points=\"\n",
       "  236.501,1445.72 256.566,1445.72 442.096,1445.72 553.591,1445.72 647.86,1445.72 750.262,1445.72 844.667,1445.72 945.879,1445.72 1063.14,1445.72 1115.25,1445.72 \n",
       "  1167.36,1445.72 1190.2,1445.72 1213.05,1445.72 1224.47,1445.72 1235.89,1445.72 1241.6,1445.72 1247.32,1445.72 1250.17,1445.72 1253.03,1445.72 1255.88,1445.72 \n",
       "  1258.74,1445.72 1260.3,1445.72 1261.85,1445.72 1262.63,1445.72 1263.41,1445.72 1264.19,87.9763 1264.97,87.9763 1265.74,87.9763 1266.52,87.9763 1267.3,87.9763 \n",
       "  1268.08,87.9763 1269.64,87.9763 1271.19,87.9763 1277.42,87.9763 1283.65,87.9763 1296.1,87.9763 1308.56,87.9763 1333.46,87.9763 1358.37,87.9763 1408.48,87.9763 \n",
       "  1458.6,87.9763 1569.41,87.9763 1674.84,87.9763 1784.47,87.9763 1876.75,87.9763 1933.09,87.9763 1989.42,87.9763 2015.9,87.9763 2042.37,87.9763 2055.61,87.9763 \n",
       "  2068.85,87.9763 2072.16,87.9763 2075.47,87.9763 2078.78,87.9763 2082.09,87.9763 2082.92,87.9763 2083.74,87.9763 2084.57,87.9763 2085.4,87.9763 2086.23,1445.72 \n",
       "  2087.05,1445.72 2087.88,1445.72 2088.71,1445.72 2090.36,1445.72 2092.02,1445.72 2093.67,1445.72 2095.33,1445.72 2105.93,1445.72 2116.54,1445.72 2127.14,1445.72 \n",
       "  2137.75,1445.72 2158.96,1445.72 2180.17,1445.72 2222.59,1445.72 2265,1445.72 2271.53,1445.72 2278.06,1445.72 2284.59,1445.72 2291.12,1445.72 \n",
       "  \"/>\n",
       "<path clip-path=\"url(#clip510)\" d=\"\n",
       "M1987.15 216.178 L2280.16 216.178 L2280.16 95.2176 L1987.15 95.2176  Z\n",
       "  \" fill=\"#ffffff\" fill-rule=\"evenodd\" fill-opacity=\"1\"/>\n",
       "<polyline clip-path=\"url(#clip510)\" style=\"stroke:#000000; stroke-width:4; stroke-opacity:1; fill:none\" points=\"\n",
       "  1987.15,216.178 2280.16,216.178 2280.16,95.2176 1987.15,95.2176 1987.15,216.178 \n",
       "  \"/>\n",
       "<polyline clip-path=\"url(#clip510)\" style=\"stroke:#009af9; stroke-width:4; stroke-opacity:1; fill:none\" points=\"\n",
       "  2011.35,155.698 2156.54,155.698 \n",
       "  \"/>\n",
       "<path clip-path=\"url(#clip510)\" d=\"M 0 0 M2194.59 175.385 Q2192.78 180.015 2191.07 181.427 Q2189.35 182.839 2186.48 182.839 L2183.08 182.839 L2183.08 179.274 L2185.58 179.274 Q2187.34 179.274 2188.31 178.44 Q2189.29 177.607 2190.47 174.505 L2191.23 172.561 L2180.74 147.052 L2185.26 147.052 L2193.36 167.329 L2201.46 147.052 L2205.97 147.052 L2194.59 175.385 Z\" fill=\"#000000\" fill-rule=\"evenodd\" fill-opacity=\"1\" /><path clip-path=\"url(#clip510)\" d=\"M 0 0 M2211.85 169.042 L2219.49 169.042 L2219.49 142.677 L2211.18 144.343 L2211.18 140.084 L2219.45 138.418 L2224.12 138.418 L2224.12 169.042 L2231.76 169.042 L2231.76 172.978 L2211.85 172.978 L2211.85 169.042 Z\" fill=\"#000000\" fill-rule=\"evenodd\" fill-opacity=\"1\" /></svg>\n"
      ]
     },
     "execution_count": 19,
     "metadata": {},
     "output_type": "execute_result"
    }
   ],
   "source": [
    "f(x) = (x>=0) && (x<=4)\n",
    "plot(f)"
   ]
  },
  {
   "cell_type": "code",
   "execution_count": 22,
   "id": "three-corpus",
   "metadata": {},
   "outputs": [
    {
     "data": {
      "image/svg+xml": [
       "<?xml version=\"1.0\" encoding=\"utf-8\"?>\n",
       "<svg xmlns=\"http://www.w3.org/2000/svg\" xmlns:xlink=\"http://www.w3.org/1999/xlink\" width=\"600\" height=\"400\" viewBox=\"0 0 2400 1600\">\n",
       "<defs>\n",
       "  <clipPath id=\"clip630\">\n",
       "    <rect x=\"0\" y=\"0\" width=\"2400\" height=\"1600\"/>\n",
       "  </clipPath>\n",
       "</defs>\n",
       "<path clip-path=\"url(#clip630)\" d=\"\n",
       "M0 1600 L2400 1600 L2400 0 L0 0  Z\n",
       "  \" fill=\"#ffffff\" fill-rule=\"evenodd\" fill-opacity=\"1\"/>\n",
       "<defs>\n",
       "  <clipPath id=\"clip631\">\n",
       "    <rect x=\"480\" y=\"0\" width=\"1681\" height=\"1600\"/>\n",
       "  </clipPath>\n",
       "</defs>\n",
       "<path clip-path=\"url(#clip630)\" d=\"\n",
       "M198.195 1486.45 L2352.76 1486.45 L2352.76 47.2441 L198.195 47.2441  Z\n",
       "  \" fill=\"#ffffff\" fill-rule=\"evenodd\" fill-opacity=\"1\"/>\n",
       "<defs>\n",
       "  <clipPath id=\"clip632\">\n",
       "    <rect x=\"198\" y=\"47\" width=\"2156\" height=\"1440\"/>\n",
       "  </clipPath>\n",
       "</defs>\n",
       "<polyline clip-path=\"url(#clip632)\" style=\"stroke:#000000; stroke-width:2; stroke-opacity:0.1; fill:none\" points=\"\n",
       "  259.173,1486.45 259.173,47.2441 \n",
       "  \"/>\n",
       "<polyline clip-path=\"url(#clip632)\" style=\"stroke:#000000; stroke-width:2; stroke-opacity:0.1; fill:none\" points=\"\n",
       "  767.324,1486.45 767.324,47.2441 \n",
       "  \"/>\n",
       "<polyline clip-path=\"url(#clip632)\" style=\"stroke:#000000; stroke-width:2; stroke-opacity:0.1; fill:none\" points=\"\n",
       "  1275.48,1486.45 1275.48,47.2441 \n",
       "  \"/>\n",
       "<polyline clip-path=\"url(#clip632)\" style=\"stroke:#000000; stroke-width:2; stroke-opacity:0.1; fill:none\" points=\"\n",
       "  1783.63,1486.45 1783.63,47.2441 \n",
       "  \"/>\n",
       "<polyline clip-path=\"url(#clip632)\" style=\"stroke:#000000; stroke-width:2; stroke-opacity:0.1; fill:none\" points=\"\n",
       "  2291.78,1486.45 2291.78,47.2441 \n",
       "  \"/>\n",
       "<polyline clip-path=\"url(#clip630)\" style=\"stroke:#000000; stroke-width:4; stroke-opacity:1; fill:none\" points=\"\n",
       "  198.195,1486.45 2352.76,1486.45 \n",
       "  \"/>\n",
       "<polyline clip-path=\"url(#clip630)\" style=\"stroke:#000000; stroke-width:4; stroke-opacity:1; fill:none\" points=\"\n",
       "  259.173,1486.45 259.173,1469.18 \n",
       "  \"/>\n",
       "<polyline clip-path=\"url(#clip630)\" style=\"stroke:#000000; stroke-width:4; stroke-opacity:1; fill:none\" points=\"\n",
       "  767.324,1486.45 767.324,1469.18 \n",
       "  \"/>\n",
       "<polyline clip-path=\"url(#clip630)\" style=\"stroke:#000000; stroke-width:4; stroke-opacity:1; fill:none\" points=\"\n",
       "  1275.48,1486.45 1275.48,1469.18 \n",
       "  \"/>\n",
       "<polyline clip-path=\"url(#clip630)\" style=\"stroke:#000000; stroke-width:4; stroke-opacity:1; fill:none\" points=\"\n",
       "  1783.63,1486.45 1783.63,1469.18 \n",
       "  \"/>\n",
       "<polyline clip-path=\"url(#clip630)\" style=\"stroke:#000000; stroke-width:4; stroke-opacity:1; fill:none\" points=\"\n",
       "  2291.78,1486.45 2291.78,1469.18 \n",
       "  \"/>\n",
       "<path clip-path=\"url(#clip630)\" d=\"M 0 0 M203.572 1530.29 L233.248 1530.29 L233.248 1534.23 L203.572 1534.23 L203.572 1530.29 Z\" fill=\"#000000\" fill-rule=\"evenodd\" fill-opacity=\"1\" /><path clip-path=\"url(#clip630)\" d=\"M 0 0 M251.164 1516.63 L239.359 1535.08 L251.164 1535.08 L251.164 1516.63 M249.937 1512.56 L255.817 1512.56 L255.817 1535.08 L260.747 1535.08 L260.747 1538.97 L255.817 1538.97 L255.817 1547.12 L251.164 1547.12 L251.164 1538.97 L235.562 1538.97 L235.562 1534.46 L249.937 1512.56 Z\" fill=\"#000000\" fill-rule=\"evenodd\" fill-opacity=\"1\" /><path clip-path=\"url(#clip630)\" d=\"M 0 0 M275.817 1515.64 Q272.206 1515.64 270.377 1519.2 Q268.571 1522.75 268.571 1529.87 Q268.571 1536.98 270.377 1540.55 Q272.206 1544.09 275.817 1544.09 Q279.451 1544.09 281.257 1540.55 Q283.085 1536.98 283.085 1529.87 Q283.085 1522.75 281.257 1519.2 Q279.451 1515.64 275.817 1515.64 M275.817 1511.93 Q281.627 1511.93 284.682 1516.54 Q287.761 1521.12 287.761 1529.87 Q287.761 1538.6 284.682 1543.21 Q281.627 1547.79 275.817 1547.79 Q270.007 1547.79 266.928 1543.21 Q263.872 1538.6 263.872 1529.87 Q263.872 1521.12 266.928 1516.54 Q270.007 1511.93 275.817 1511.93 Z\" fill=\"#000000\" fill-rule=\"evenodd\" fill-opacity=\"1\" /><path clip-path=\"url(#clip630)\" d=\"M 0 0 M302.831 1515.64 Q299.219 1515.64 297.391 1519.2 Q295.585 1522.75 295.585 1529.87 Q295.585 1536.98 297.391 1540.55 Q299.219 1544.09 302.831 1544.09 Q306.465 1544.09 308.27 1540.55 Q310.099 1536.98 310.099 1529.87 Q310.099 1522.75 308.27 1519.2 Q306.465 1515.64 302.831 1515.64 M302.831 1511.93 Q308.641 1511.93 311.696 1516.54 Q314.775 1521.12 314.775 1529.87 Q314.775 1538.6 311.696 1543.21 Q308.641 1547.79 302.831 1547.79 Q297.02 1547.79 293.942 1543.21 Q290.886 1538.6 290.886 1529.87 Q290.886 1521.12 293.942 1516.54 Q297.02 1511.93 302.831 1511.93 Z\" fill=\"#000000\" fill-rule=\"evenodd\" fill-opacity=\"1\" /><path clip-path=\"url(#clip630)\" d=\"M 0 0 M712.765 1530.29 L742.44 1530.29 L742.44 1534.23 L712.765 1534.23 L712.765 1530.29 Z\" fill=\"#000000\" fill-rule=\"evenodd\" fill-opacity=\"1\" /><path clip-path=\"url(#clip630)\" d=\"M 0 0 M751.538 1543.18 L767.857 1543.18 L767.857 1547.12 L745.913 1547.12 L745.913 1543.18 Q748.575 1540.43 753.158 1535.8 Q757.764 1531.15 758.945 1529.81 Q761.19 1527.28 762.07 1525.55 Q762.973 1523.79 762.973 1522.1 Q762.973 1519.34 761.028 1517.61 Q759.107 1515.87 756.005 1515.87 Q753.806 1515.87 751.352 1516.63 Q748.922 1517.4 746.144 1518.95 L746.144 1514.23 Q748.968 1513.09 751.422 1512.51 Q753.875 1511.93 755.912 1511.93 Q761.283 1511.93 764.477 1514.62 Q767.672 1517.31 767.672 1521.8 Q767.672 1523.93 766.862 1525.85 Q766.074 1527.74 763.968 1530.34 Q763.389 1531.01 760.287 1534.23 Q757.186 1537.42 751.538 1543.18 Z\" fill=\"#000000\" fill-rule=\"evenodd\" fill-opacity=\"1\" /><path clip-path=\"url(#clip630)\" d=\"M 0 0 M782.926 1515.64 Q779.315 1515.64 777.486 1519.2 Q775.681 1522.75 775.681 1529.87 Q775.681 1536.98 777.486 1540.55 Q779.315 1544.09 782.926 1544.09 Q786.56 1544.09 788.366 1540.55 Q790.195 1536.98 790.195 1529.87 Q790.195 1522.75 788.366 1519.2 Q786.56 1515.64 782.926 1515.64 M782.926 1511.93 Q788.736 1511.93 791.792 1516.54 Q794.871 1521.12 794.871 1529.87 Q794.871 1538.6 791.792 1543.21 Q788.736 1547.79 782.926 1547.79 Q777.116 1547.79 774.037 1543.21 Q770.982 1538.6 770.982 1529.87 Q770.982 1521.12 774.037 1516.54 Q777.116 1511.93 782.926 1511.93 Z\" fill=\"#000000\" fill-rule=\"evenodd\" fill-opacity=\"1\" /><path clip-path=\"url(#clip630)\" d=\"M 0 0 M809.94 1515.64 Q806.329 1515.64 804.5 1519.2 Q802.695 1522.75 802.695 1529.87 Q802.695 1536.98 804.5 1540.55 Q806.329 1544.09 809.94 1544.09 Q813.574 1544.09 815.38 1540.55 Q817.208 1536.98 817.208 1529.87 Q817.208 1522.75 815.38 1519.2 Q813.574 1515.64 809.94 1515.64 M809.94 1511.93 Q815.75 1511.93 818.806 1516.54 Q821.884 1521.12 821.884 1529.87 Q821.884 1538.6 818.806 1543.21 Q815.75 1547.79 809.94 1547.79 Q804.13 1547.79 801.051 1543.21 Q797.996 1538.6 797.996 1529.87 Q797.996 1521.12 801.051 1516.54 Q804.13 1511.93 809.94 1511.93 Z\" fill=\"#000000\" fill-rule=\"evenodd\" fill-opacity=\"1\" /><path clip-path=\"url(#clip630)\" d=\"M 0 0 M1275.48 1515.64 Q1271.86 1515.64 1270.04 1519.2 Q1268.23 1522.75 1268.23 1529.87 Q1268.23 1536.98 1270.04 1540.55 Q1271.86 1544.09 1275.48 1544.09 Q1279.11 1544.09 1280.92 1540.55 Q1282.74 1536.98 1282.74 1529.87 Q1282.74 1522.75 1280.92 1519.2 Q1279.11 1515.64 1275.48 1515.64 M1275.48 1511.93 Q1281.29 1511.93 1284.34 1516.54 Q1287.42 1521.12 1287.42 1529.87 Q1287.42 1538.6 1284.34 1543.21 Q1281.29 1547.79 1275.48 1547.79 Q1269.67 1547.79 1266.59 1543.21 Q1263.53 1538.6 1263.53 1529.87 Q1263.53 1521.12 1266.59 1516.54 Q1269.67 1511.93 1275.48 1511.93 Z\" fill=\"#000000\" fill-rule=\"evenodd\" fill-opacity=\"1\" /><path clip-path=\"url(#clip630)\" d=\"M 0 0 M1751.27 1543.18 L1767.59 1543.18 L1767.59 1547.12 L1745.64 1547.12 L1745.64 1543.18 Q1748.3 1540.43 1752.89 1535.8 Q1757.49 1531.15 1758.67 1529.81 Q1760.92 1527.28 1761.8 1525.55 Q1762.7 1523.79 1762.7 1522.1 Q1762.7 1519.34 1760.76 1517.61 Q1758.84 1515.87 1755.73 1515.87 Q1753.53 1515.87 1751.08 1516.63 Q1748.65 1517.4 1745.87 1518.95 L1745.87 1514.23 Q1748.7 1513.09 1751.15 1512.51 Q1753.6 1511.93 1755.64 1511.93 Q1761.01 1511.93 1764.21 1514.62 Q1767.4 1517.31 1767.4 1521.8 Q1767.4 1523.93 1766.59 1525.85 Q1765.8 1527.74 1763.7 1530.34 Q1763.12 1531.01 1760.02 1534.23 Q1756.91 1537.42 1751.27 1543.18 Z\" fill=\"#000000\" fill-rule=\"evenodd\" fill-opacity=\"1\" /><path clip-path=\"url(#clip630)\" d=\"M 0 0 M1782.65 1515.64 Q1779.04 1515.64 1777.21 1519.2 Q1775.41 1522.75 1775.41 1529.87 Q1775.41 1536.98 1777.21 1540.55 Q1779.04 1544.09 1782.65 1544.09 Q1786.29 1544.09 1788.09 1540.55 Q1789.92 1536.98 1789.92 1529.87 Q1789.92 1522.75 1788.09 1519.2 Q1786.29 1515.64 1782.65 1515.64 M1782.65 1511.93 Q1788.46 1511.93 1791.52 1516.54 Q1794.6 1521.12 1794.6 1529.87 Q1794.6 1538.6 1791.52 1543.21 Q1788.46 1547.79 1782.65 1547.79 Q1776.84 1547.79 1773.77 1543.21 Q1770.71 1538.6 1770.71 1529.87 Q1770.71 1521.12 1773.77 1516.54 Q1776.84 1511.93 1782.65 1511.93 Z\" fill=\"#000000\" fill-rule=\"evenodd\" fill-opacity=\"1\" /><path clip-path=\"url(#clip630)\" d=\"M 0 0 M1809.67 1515.64 Q1806.06 1515.64 1804.23 1519.2 Q1802.42 1522.75 1802.42 1529.87 Q1802.42 1536.98 1804.23 1540.55 Q1806.06 1544.09 1809.67 1544.09 Q1813.3 1544.09 1815.11 1540.55 Q1816.94 1536.98 1816.94 1529.87 Q1816.94 1522.75 1815.11 1519.2 Q1813.3 1515.64 1809.67 1515.64 M1809.67 1511.93 Q1815.48 1511.93 1818.53 1516.54 Q1821.61 1521.12 1821.61 1529.87 Q1821.61 1538.6 1818.53 1543.21 Q1815.48 1547.79 1809.67 1547.79 Q1803.86 1547.79 1800.78 1543.21 Q1797.72 1538.6 1797.72 1529.87 Q1797.72 1521.12 1800.78 1516.54 Q1803.86 1511.93 1809.67 1511.93 Z\" fill=\"#000000\" fill-rule=\"evenodd\" fill-opacity=\"1\" /><path clip-path=\"url(#clip630)\" d=\"M 0 0 M2267.77 1516.63 L2255.97 1535.08 L2267.77 1535.08 L2267.77 1516.63 M2266.55 1512.56 L2272.43 1512.56 L2272.43 1535.08 L2277.36 1535.08 L2277.36 1538.97 L2272.43 1538.97 L2272.43 1547.12 L2267.77 1547.12 L2267.77 1538.97 L2252.17 1538.97 L2252.17 1534.46 L2266.55 1512.56 Z\" fill=\"#000000\" fill-rule=\"evenodd\" fill-opacity=\"1\" /><path clip-path=\"url(#clip630)\" d=\"M 0 0 M2292.43 1515.64 Q2288.81 1515.64 2286.99 1519.2 Q2285.18 1522.75 2285.18 1529.87 Q2285.18 1536.98 2286.99 1540.55 Q2288.81 1544.09 2292.43 1544.09 Q2296.06 1544.09 2297.87 1540.55 Q2299.69 1536.98 2299.69 1529.87 Q2299.69 1522.75 2297.87 1519.2 Q2296.06 1515.64 2292.43 1515.64 M2292.43 1511.93 Q2298.24 1511.93 2301.29 1516.54 Q2304.37 1521.12 2304.37 1529.87 Q2304.37 1538.6 2301.29 1543.21 Q2298.24 1547.79 2292.43 1547.79 Q2286.62 1547.79 2283.54 1543.21 Q2280.48 1538.6 2280.48 1529.87 Q2280.48 1521.12 2283.54 1516.54 Q2286.62 1511.93 2292.43 1511.93 Z\" fill=\"#000000\" fill-rule=\"evenodd\" fill-opacity=\"1\" /><path clip-path=\"url(#clip630)\" d=\"M 0 0 M2319.44 1515.64 Q2315.83 1515.64 2314 1519.2 Q2312.19 1522.75 2312.19 1529.87 Q2312.19 1536.98 2314 1540.55 Q2315.83 1544.09 2319.44 1544.09 Q2323.07 1544.09 2324.88 1540.55 Q2326.71 1536.98 2326.71 1529.87 Q2326.71 1522.75 2324.88 1519.2 Q2323.07 1515.64 2319.44 1515.64 M2319.44 1511.93 Q2325.25 1511.93 2328.31 1516.54 Q2331.38 1521.12 2331.38 1529.87 Q2331.38 1538.6 2328.31 1543.21 Q2325.25 1547.79 2319.44 1547.79 Q2313.63 1547.79 2310.55 1543.21 Q2307.5 1538.6 2307.5 1529.87 Q2307.5 1521.12 2310.55 1516.54 Q2313.63 1511.93 2319.44 1511.93 Z\" fill=\"#000000\" fill-rule=\"evenodd\" fill-opacity=\"1\" /><polyline clip-path=\"url(#clip632)\" style=\"stroke:#000000; stroke-width:2; stroke-opacity:0.1; fill:none\" points=\"\n",
       "  198.195,1317.24 2352.76,1317.24 \n",
       "  \"/>\n",
       "<polyline clip-path=\"url(#clip632)\" style=\"stroke:#000000; stroke-width:2; stroke-opacity:0.1; fill:none\" points=\"\n",
       "  198.195,1129.45 2352.76,1129.45 \n",
       "  \"/>\n",
       "<polyline clip-path=\"url(#clip632)\" style=\"stroke:#000000; stroke-width:2; stroke-opacity:0.1; fill:none\" points=\"\n",
       "  198.195,941.663 2352.76,941.663 \n",
       "  \"/>\n",
       "<polyline clip-path=\"url(#clip632)\" style=\"stroke:#000000; stroke-width:2; stroke-opacity:0.1; fill:none\" points=\"\n",
       "  198.195,753.874 2352.76,753.874 \n",
       "  \"/>\n",
       "<polyline clip-path=\"url(#clip632)\" style=\"stroke:#000000; stroke-width:2; stroke-opacity:0.1; fill:none\" points=\"\n",
       "  198.195,566.085 2352.76,566.085 \n",
       "  \"/>\n",
       "<polyline clip-path=\"url(#clip632)\" style=\"stroke:#000000; stroke-width:2; stroke-opacity:0.1; fill:none\" points=\"\n",
       "  198.195,378.295 2352.76,378.295 \n",
       "  \"/>\n",
       "<polyline clip-path=\"url(#clip632)\" style=\"stroke:#000000; stroke-width:2; stroke-opacity:0.1; fill:none\" points=\"\n",
       "  198.195,190.506 2352.76,190.506 \n",
       "  \"/>\n",
       "<polyline clip-path=\"url(#clip630)\" style=\"stroke:#000000; stroke-width:4; stroke-opacity:1; fill:none\" points=\"\n",
       "  198.195,1486.45 198.195,47.2441 \n",
       "  \"/>\n",
       "<polyline clip-path=\"url(#clip630)\" style=\"stroke:#000000; stroke-width:4; stroke-opacity:1; fill:none\" points=\"\n",
       "  198.195,1317.24 224.05,1317.24 \n",
       "  \"/>\n",
       "<polyline clip-path=\"url(#clip630)\" style=\"stroke:#000000; stroke-width:4; stroke-opacity:1; fill:none\" points=\"\n",
       "  198.195,1129.45 224.05,1129.45 \n",
       "  \"/>\n",
       "<polyline clip-path=\"url(#clip630)\" style=\"stroke:#000000; stroke-width:4; stroke-opacity:1; fill:none\" points=\"\n",
       "  198.195,941.663 224.05,941.663 \n",
       "  \"/>\n",
       "<polyline clip-path=\"url(#clip630)\" style=\"stroke:#000000; stroke-width:4; stroke-opacity:1; fill:none\" points=\"\n",
       "  198.195,753.874 224.05,753.874 \n",
       "  \"/>\n",
       "<polyline clip-path=\"url(#clip630)\" style=\"stroke:#000000; stroke-width:4; stroke-opacity:1; fill:none\" points=\"\n",
       "  198.195,566.085 224.05,566.085 \n",
       "  \"/>\n",
       "<polyline clip-path=\"url(#clip630)\" style=\"stroke:#000000; stroke-width:4; stroke-opacity:1; fill:none\" points=\"\n",
       "  198.195,378.295 224.05,378.295 \n",
       "  \"/>\n",
       "<polyline clip-path=\"url(#clip630)\" style=\"stroke:#000000; stroke-width:4; stroke-opacity:1; fill:none\" points=\"\n",
       "  198.195,190.506 224.05,190.506 \n",
       "  \"/>\n",
       "<path clip-path=\"url(#clip630)\" d=\"M 0 0 M51.3162 1317.69 L80.992 1317.69 L80.992 1321.63 L51.3162 1321.63 L51.3162 1317.69 Z\" fill=\"#000000\" fill-rule=\"evenodd\" fill-opacity=\"1\" /><path clip-path=\"url(#clip630)\" d=\"M 0 0 M96.64 1315.38 Q93.4919 1315.38 91.6401 1317.53 Q89.8114 1319.68 89.8114 1323.43 Q89.8114 1327.16 91.6401 1329.34 Q93.4919 1331.49 96.64 1331.49 Q99.7882 1331.49 101.617 1329.34 Q103.469 1327.16 103.469 1323.43 Q103.469 1319.68 101.617 1317.53 Q99.7882 1315.38 96.64 1315.38 M105.922 1300.73 L105.922 1304.99 Q104.163 1304.15 102.358 1303.71 Q100.575 1303.27 98.8159 1303.27 Q94.1863 1303.27 91.7326 1306.4 Q89.3021 1309.52 88.9549 1315.84 Q90.3206 1313.83 92.3808 1312.76 Q94.441 1311.68 96.9178 1311.68 Q102.126 1311.68 105.135 1314.85 Q108.168 1317.99 108.168 1323.43 Q108.168 1328.76 105.02 1331.98 Q101.871 1335.19 96.64 1335.19 Q90.6447 1335.19 87.4734 1330.61 Q84.3021 1326 84.3021 1317.28 Q84.3021 1309.08 88.191 1304.22 Q92.0799 1299.34 98.6308 1299.34 Q100.39 1299.34 102.172 1299.68 Q103.978 1300.03 105.922 1300.73 Z\" fill=\"#000000\" fill-rule=\"evenodd\" fill-opacity=\"1\" /><path clip-path=\"url(#clip630)\" d=\"M 0 0 M123.237 1303.04 Q119.626 1303.04 117.797 1306.61 Q115.992 1310.15 115.992 1317.28 Q115.992 1324.38 117.797 1327.95 Q119.626 1331.49 123.237 1331.49 Q126.871 1331.49 128.677 1327.95 Q130.506 1324.38 130.506 1317.28 Q130.506 1310.15 128.677 1306.61 Q126.871 1303.04 123.237 1303.04 M123.237 1299.34 Q129.047 1299.34 132.103 1303.94 Q135.181 1308.53 135.181 1317.28 Q135.181 1326 132.103 1330.61 Q129.047 1335.19 123.237 1335.19 Q117.427 1335.19 114.348 1330.61 Q111.293 1326 111.293 1317.28 Q111.293 1308.53 114.348 1303.94 Q117.427 1299.34 123.237 1299.34 Z\" fill=\"#000000\" fill-rule=\"evenodd\" fill-opacity=\"1\" /><path clip-path=\"url(#clip630)\" d=\"M 0 0 M150.251 1303.04 Q146.64 1303.04 144.811 1306.61 Q143.006 1310.15 143.006 1317.28 Q143.006 1324.38 144.811 1327.95 Q146.64 1331.49 150.251 1331.49 Q153.885 1331.49 155.691 1327.95 Q157.519 1324.38 157.519 1317.28 Q157.519 1310.15 155.691 1306.61 Q153.885 1303.04 150.251 1303.04 M150.251 1299.34 Q156.061 1299.34 159.117 1303.94 Q162.195 1308.53 162.195 1317.28 Q162.195 1326 159.117 1330.61 Q156.061 1335.19 150.251 1335.19 Q144.441 1335.19 141.362 1330.61 Q138.306 1326 138.306 1317.28 Q138.306 1308.53 141.362 1303.94 Q144.441 1299.34 150.251 1299.34 Z\" fill=\"#000000\" fill-rule=\"evenodd\" fill-opacity=\"1\" /><path clip-path=\"url(#clip630)\" d=\"M 0 0 M50.9921 1129.9 L80.6679 1129.9 L80.6679 1133.84 L50.9921 1133.84 L50.9921 1129.9 Z\" fill=\"#000000\" fill-rule=\"evenodd\" fill-opacity=\"1\" /><path clip-path=\"url(#clip630)\" d=\"M 0 0 M98.5845 1116.25 L86.779 1134.7 L98.5845 1134.7 L98.5845 1116.25 M97.3576 1112.17 L103.237 1112.17 L103.237 1134.7 L108.168 1134.7 L108.168 1138.58 L103.237 1138.58 L103.237 1146.73 L98.5845 1146.73 L98.5845 1138.58 L82.9827 1138.58 L82.9827 1134.07 L97.3576 1112.17 Z\" fill=\"#000000\" fill-rule=\"evenodd\" fill-opacity=\"1\" /><path clip-path=\"url(#clip630)\" d=\"M 0 0 M123.237 1115.25 Q119.626 1115.25 117.797 1118.82 Q115.992 1122.36 115.992 1129.49 Q115.992 1136.59 117.797 1140.16 Q119.626 1143.7 123.237 1143.7 Q126.871 1143.7 128.677 1140.16 Q130.506 1136.59 130.506 1129.49 Q130.506 1122.36 128.677 1118.82 Q126.871 1115.25 123.237 1115.25 M123.237 1111.55 Q129.047 1111.55 132.103 1116.15 Q135.181 1120.74 135.181 1129.49 Q135.181 1138.21 132.103 1142.82 Q129.047 1147.4 123.237 1147.4 Q117.427 1147.4 114.348 1142.82 Q111.293 1138.21 111.293 1129.49 Q111.293 1120.74 114.348 1116.15 Q117.427 1111.55 123.237 1111.55 Z\" fill=\"#000000\" fill-rule=\"evenodd\" fill-opacity=\"1\" /><path clip-path=\"url(#clip630)\" d=\"M 0 0 M150.251 1115.25 Q146.64 1115.25 144.811 1118.82 Q143.006 1122.36 143.006 1129.49 Q143.006 1136.59 144.811 1140.16 Q146.64 1143.7 150.251 1143.7 Q153.885 1143.7 155.691 1140.16 Q157.519 1136.59 157.519 1129.49 Q157.519 1122.36 155.691 1118.82 Q153.885 1115.25 150.251 1115.25 M150.251 1111.55 Q156.061 1111.55 159.117 1116.15 Q162.195 1120.74 162.195 1129.49 Q162.195 1138.21 159.117 1142.82 Q156.061 1147.4 150.251 1147.4 Q144.441 1147.4 141.362 1142.82 Q138.306 1138.21 138.306 1129.49 Q138.306 1120.74 141.362 1116.15 Q144.441 1111.55 150.251 1111.55 Z\" fill=\"#000000\" fill-rule=\"evenodd\" fill-opacity=\"1\" /><path clip-path=\"url(#clip630)\" d=\"M 0 0 M53.0754 942.115 L82.7512 942.115 L82.7512 946.05 L53.0754 946.05 L53.0754 942.115 Z\" fill=\"#000000\" fill-rule=\"evenodd\" fill-opacity=\"1\" /><path clip-path=\"url(#clip630)\" d=\"M 0 0 M91.8484 955.008 L108.168 955.008 L108.168 958.943 L86.2234 958.943 L86.2234 955.008 Q88.8854 952.254 93.4688 947.624 Q98.0752 942.971 99.2558 941.629 Q101.501 939.105 102.381 937.369 Q103.284 935.61 103.284 933.92 Q103.284 931.166 101.339 929.43 Q99.4178 927.694 96.316 927.694 Q94.1169 927.694 91.6632 928.457 Q89.2327 929.221 86.4549 930.772 L86.4549 926.05 Q89.279 924.916 91.7326 924.337 Q94.1863 923.758 96.2234 923.758 Q101.594 923.758 104.788 926.444 Q107.983 929.129 107.983 933.619 Q107.983 935.749 107.172 937.67 Q106.385 939.568 104.279 942.161 Q103.7 942.832 100.598 946.05 Q97.4965 949.244 91.8484 955.008 Z\" fill=\"#000000\" fill-rule=\"evenodd\" fill-opacity=\"1\" /><path clip-path=\"url(#clip630)\" d=\"M 0 0 M123.237 927.462 Q119.626 927.462 117.797 931.027 Q115.992 934.568 115.992 941.698 Q115.992 948.805 117.797 952.369 Q119.626 955.911 123.237 955.911 Q126.871 955.911 128.677 952.369 Q130.506 948.805 130.506 941.698 Q130.506 934.568 128.677 931.027 Q126.871 927.462 123.237 927.462 M123.237 923.758 Q129.047 923.758 132.103 928.365 Q135.181 932.948 135.181 941.698 Q135.181 950.425 132.103 955.031 Q129.047 959.615 123.237 959.615 Q117.427 959.615 114.348 955.031 Q111.293 950.425 111.293 941.698 Q111.293 932.948 114.348 928.365 Q117.427 923.758 123.237 923.758 Z\" fill=\"#000000\" fill-rule=\"evenodd\" fill-opacity=\"1\" /><path clip-path=\"url(#clip630)\" d=\"M 0 0 M150.251 927.462 Q146.64 927.462 144.811 931.027 Q143.006 934.568 143.006 941.698 Q143.006 948.805 144.811 952.369 Q146.64 955.911 150.251 955.911 Q153.885 955.911 155.691 952.369 Q157.519 948.805 157.519 941.698 Q157.519 934.568 155.691 931.027 Q153.885 927.462 150.251 927.462 M150.251 923.758 Q156.061 923.758 159.117 928.365 Q162.195 932.948 162.195 941.698 Q162.195 950.425 159.117 955.031 Q156.061 959.615 150.251 959.615 Q144.441 959.615 141.362 955.031 Q138.306 950.425 138.306 941.698 Q138.306 932.948 141.362 928.365 Q144.441 923.758 150.251 923.758 Z\" fill=\"#000000\" fill-rule=\"evenodd\" fill-opacity=\"1\" /><path clip-path=\"url(#clip630)\" d=\"M 0 0 M150.251 739.673 Q146.64 739.673 144.811 743.237 Q143.006 746.779 143.006 753.909 Q143.006 761.015 144.811 764.58 Q146.64 768.122 150.251 768.122 Q153.885 768.122 155.691 764.58 Q157.519 761.015 157.519 753.909 Q157.519 746.779 155.691 743.237 Q153.885 739.673 150.251 739.673 M150.251 735.969 Q156.061 735.969 159.117 740.575 Q162.195 745.159 162.195 753.909 Q162.195 762.635 159.117 767.242 Q156.061 771.825 150.251 771.825 Q144.441 771.825 141.362 767.242 Q138.306 762.635 138.306 753.909 Q138.306 745.159 141.362 740.575 Q144.441 735.969 150.251 735.969 Z\" fill=\"#000000\" fill-rule=\"evenodd\" fill-opacity=\"1\" /><path clip-path=\"url(#clip630)\" d=\"M 0 0 M91.8484 579.429 L108.168 579.429 L108.168 583.365 L86.2234 583.365 L86.2234 579.429 Q88.8854 576.675 93.4688 572.045 Q98.0752 567.392 99.2558 566.05 Q101.501 563.527 102.381 561.791 Q103.284 560.031 103.284 558.342 Q103.284 555.587 101.339 553.851 Q99.4178 552.115 96.316 552.115 Q94.1169 552.115 91.6632 552.879 Q89.2327 553.642 86.4549 555.193 L86.4549 550.471 Q89.279 549.337 91.7326 548.758 Q94.1863 548.18 96.2234 548.18 Q101.594 548.18 104.788 550.865 Q107.983 553.55 107.983 558.041 Q107.983 560.17 107.172 562.092 Q106.385 563.99 104.279 566.582 Q103.7 567.254 100.598 570.471 Q97.4965 573.666 91.8484 579.429 Z\" fill=\"#000000\" fill-rule=\"evenodd\" fill-opacity=\"1\" /><path clip-path=\"url(#clip630)\" d=\"M 0 0 M123.237 551.883 Q119.626 551.883 117.797 555.448 Q115.992 558.99 115.992 566.119 Q115.992 573.226 117.797 576.791 Q119.626 580.332 123.237 580.332 Q126.871 580.332 128.677 576.791 Q130.506 573.226 130.506 566.119 Q130.506 558.99 128.677 555.448 Q126.871 551.883 123.237 551.883 M123.237 548.18 Q129.047 548.18 132.103 552.786 Q135.181 557.369 135.181 566.119 Q135.181 574.846 132.103 579.453 Q129.047 584.036 123.237 584.036 Q117.427 584.036 114.348 579.453 Q111.293 574.846 111.293 566.119 Q111.293 557.369 114.348 552.786 Q117.427 548.18 123.237 548.18 Z\" fill=\"#000000\" fill-rule=\"evenodd\" fill-opacity=\"1\" /><path clip-path=\"url(#clip630)\" d=\"M 0 0 M150.251 551.883 Q146.64 551.883 144.811 555.448 Q143.006 558.99 143.006 566.119 Q143.006 573.226 144.811 576.791 Q146.64 580.332 150.251 580.332 Q153.885 580.332 155.691 576.791 Q157.519 573.226 157.519 566.119 Q157.519 558.99 155.691 555.448 Q153.885 551.883 150.251 551.883 M150.251 548.18 Q156.061 548.18 159.117 552.786 Q162.195 557.369 162.195 566.119 Q162.195 574.846 159.117 579.453 Q156.061 584.036 150.251 584.036 Q144.441 584.036 141.362 579.453 Q138.306 574.846 138.306 566.119 Q138.306 557.369 141.362 552.786 Q144.441 548.18 150.251 548.18 Z\" fill=\"#000000\" fill-rule=\"evenodd\" fill-opacity=\"1\" /><path clip-path=\"url(#clip630)\" d=\"M 0 0 M98.5845 365.089 L86.779 383.538 L98.5845 383.538 L98.5845 365.089 M97.3576 361.015 L103.237 361.015 L103.237 383.538 L108.168 383.538 L108.168 387.427 L103.237 387.427 L103.237 395.575 L98.5845 395.575 L98.5845 387.427 L82.9827 387.427 L82.9827 382.913 L97.3576 361.015 Z\" fill=\"#000000\" fill-rule=\"evenodd\" fill-opacity=\"1\" /><path clip-path=\"url(#clip630)\" d=\"M 0 0 M123.237 364.094 Q119.626 364.094 117.797 367.659 Q115.992 371.2 115.992 378.33 Q115.992 385.436 117.797 389.001 Q119.626 392.543 123.237 392.543 Q126.871 392.543 128.677 389.001 Q130.506 385.436 130.506 378.33 Q130.506 371.2 128.677 367.659 Q126.871 364.094 123.237 364.094 M123.237 360.39 Q129.047 360.39 132.103 364.997 Q135.181 369.58 135.181 378.33 Q135.181 387.057 132.103 391.663 Q129.047 396.246 123.237 396.246 Q117.427 396.246 114.348 391.663 Q111.293 387.057 111.293 378.33 Q111.293 369.58 114.348 364.997 Q117.427 360.39 123.237 360.39 Z\" fill=\"#000000\" fill-rule=\"evenodd\" fill-opacity=\"1\" /><path clip-path=\"url(#clip630)\" d=\"M 0 0 M150.251 364.094 Q146.64 364.094 144.811 367.659 Q143.006 371.2 143.006 378.33 Q143.006 385.436 144.811 389.001 Q146.64 392.543 150.251 392.543 Q153.885 392.543 155.691 389.001 Q157.519 385.436 157.519 378.33 Q157.519 371.2 155.691 367.659 Q153.885 364.094 150.251 364.094 M150.251 360.39 Q156.061 360.39 159.117 364.997 Q162.195 369.58 162.195 378.33 Q162.195 387.057 159.117 391.663 Q156.061 396.246 150.251 396.246 Q144.441 396.246 141.362 391.663 Q138.306 387.057 138.306 378.33 Q138.306 369.58 141.362 364.997 Q144.441 360.39 150.251 360.39 Z\" fill=\"#000000\" fill-rule=\"evenodd\" fill-opacity=\"1\" /><path clip-path=\"url(#clip630)\" d=\"M 0 0 M96.64 188.642 Q93.4919 188.642 91.6401 190.795 Q89.8114 192.948 89.8114 196.698 Q89.8114 200.425 91.6401 202.601 Q93.4919 204.753 96.64 204.753 Q99.7882 204.753 101.617 202.601 Q103.469 200.425 103.469 196.698 Q103.469 192.948 101.617 190.795 Q99.7882 188.642 96.64 188.642 M105.922 173.99 L105.922 178.249 Q104.163 177.416 102.358 176.976 Q100.575 176.536 98.8159 176.536 Q94.1863 176.536 91.7326 179.661 Q89.3021 182.786 88.9549 189.105 Q90.3206 187.091 92.3808 186.027 Q94.441 184.939 96.9178 184.939 Q102.126 184.939 105.135 188.11 Q108.168 191.258 108.168 196.698 Q108.168 202.022 105.02 205.239 Q101.871 208.457 96.64 208.457 Q90.6447 208.457 87.4734 203.874 Q84.3021 199.267 84.3021 190.54 Q84.3021 182.346 88.191 177.485 Q92.0799 172.601 98.6308 172.601 Q100.39 172.601 102.172 172.948 Q103.978 173.295 105.922 173.99 Z\" fill=\"#000000\" fill-rule=\"evenodd\" fill-opacity=\"1\" /><path clip-path=\"url(#clip630)\" d=\"M 0 0 M123.237 176.304 Q119.626 176.304 117.797 179.869 Q115.992 183.411 115.992 190.54 Q115.992 197.647 117.797 201.212 Q119.626 204.753 123.237 204.753 Q126.871 204.753 128.677 201.212 Q130.506 197.647 130.506 190.54 Q130.506 183.411 128.677 179.869 Q126.871 176.304 123.237 176.304 M123.237 172.601 Q129.047 172.601 132.103 177.207 Q135.181 181.791 135.181 190.54 Q135.181 199.267 132.103 203.874 Q129.047 208.457 123.237 208.457 Q117.427 208.457 114.348 203.874 Q111.293 199.267 111.293 190.54 Q111.293 181.791 114.348 177.207 Q117.427 172.601 123.237 172.601 Z\" fill=\"#000000\" fill-rule=\"evenodd\" fill-opacity=\"1\" /><path clip-path=\"url(#clip630)\" d=\"M 0 0 M150.251 176.304 Q146.64 176.304 144.811 179.869 Q143.006 183.411 143.006 190.54 Q143.006 197.647 144.811 201.212 Q146.64 204.753 150.251 204.753 Q153.885 204.753 155.691 201.212 Q157.519 197.647 157.519 190.54 Q157.519 183.411 155.691 179.869 Q153.885 176.304 150.251 176.304 M150.251 172.601 Q156.061 172.601 159.117 177.207 Q162.195 181.791 162.195 190.54 Q162.195 199.267 159.117 203.874 Q156.061 208.457 150.251 208.457 Q144.441 208.457 141.362 203.874 Q138.306 199.267 138.306 190.54 Q138.306 181.791 141.362 177.207 Q144.441 172.601 150.251 172.601 Z\" fill=\"#000000\" fill-rule=\"evenodd\" fill-opacity=\"1\" /><circle clip-path=\"url(#clip632)\" cx=\"462.434\" cy=\"1445.72\" r=\"14\" fill=\"#009af9\" fill-rule=\"evenodd\" fill-opacity=\"1\" stroke=\"#000000\" stroke-opacity=\"1\" stroke-width=\"3.2\"/>\n",
       "<circle clip-path=\"url(#clip632)\" cx=\"472.597\" cy=\"1437.07\" r=\"14\" fill=\"#009af9\" fill-rule=\"evenodd\" fill-opacity=\"1\" stroke=\"#000000\" stroke-opacity=\"1\" stroke-width=\"3.2\"/>\n",
       "<circle clip-path=\"url(#clip632)\" cx=\"482.76\" cy=\"1428.42\" r=\"14\" fill=\"#009af9\" fill-rule=\"evenodd\" fill-opacity=\"1\" stroke=\"#000000\" stroke-opacity=\"1\" stroke-width=\"3.2\"/>\n",
       "<circle clip-path=\"url(#clip632)\" cx=\"492.923\" cy=\"1419.77\" r=\"14\" fill=\"#009af9\" fill-rule=\"evenodd\" fill-opacity=\"1\" stroke=\"#000000\" stroke-opacity=\"1\" stroke-width=\"3.2\"/>\n",
       "<circle clip-path=\"url(#clip632)\" cx=\"503.086\" cy=\"1411.12\" r=\"14\" fill=\"#009af9\" fill-rule=\"evenodd\" fill-opacity=\"1\" stroke=\"#000000\" stroke-opacity=\"1\" stroke-width=\"3.2\"/>\n",
       "<circle clip-path=\"url(#clip632)\" cx=\"513.249\" cy=\"1402.48\" r=\"14\" fill=\"#009af9\" fill-rule=\"evenodd\" fill-opacity=\"1\" stroke=\"#000000\" stroke-opacity=\"1\" stroke-width=\"3.2\"/>\n",
       "<circle clip-path=\"url(#clip632)\" cx=\"523.412\" cy=\"1393.83\" r=\"14\" fill=\"#009af9\" fill-rule=\"evenodd\" fill-opacity=\"1\" stroke=\"#000000\" stroke-opacity=\"1\" stroke-width=\"3.2\"/>\n",
       "<circle clip-path=\"url(#clip632)\" cx=\"533.575\" cy=\"1385.18\" r=\"14\" fill=\"#009af9\" fill-rule=\"evenodd\" fill-opacity=\"1\" stroke=\"#000000\" stroke-opacity=\"1\" stroke-width=\"3.2\"/>\n",
       "<circle clip-path=\"url(#clip632)\" cx=\"543.738\" cy=\"1376.53\" r=\"14\" fill=\"#009af9\" fill-rule=\"evenodd\" fill-opacity=\"1\" stroke=\"#000000\" stroke-opacity=\"1\" stroke-width=\"3.2\"/>\n",
       "<circle clip-path=\"url(#clip632)\" cx=\"553.901\" cy=\"1367.88\" r=\"14\" fill=\"#009af9\" fill-rule=\"evenodd\" fill-opacity=\"1\" stroke=\"#000000\" stroke-opacity=\"1\" stroke-width=\"3.2\"/>\n",
       "<circle clip-path=\"url(#clip632)\" cx=\"564.064\" cy=\"1359.24\" r=\"14\" fill=\"#009af9\" fill-rule=\"evenodd\" fill-opacity=\"1\" stroke=\"#000000\" stroke-opacity=\"1\" stroke-width=\"3.2\"/>\n",
       "<circle clip-path=\"url(#clip632)\" cx=\"574.227\" cy=\"1350.59\" r=\"14\" fill=\"#009af9\" fill-rule=\"evenodd\" fill-opacity=\"1\" stroke=\"#000000\" stroke-opacity=\"1\" stroke-width=\"3.2\"/>\n",
       "<circle clip-path=\"url(#clip632)\" cx=\"584.39\" cy=\"1341.94\" r=\"14\" fill=\"#009af9\" fill-rule=\"evenodd\" fill-opacity=\"1\" stroke=\"#000000\" stroke-opacity=\"1\" stroke-width=\"3.2\"/>\n",
       "<circle clip-path=\"url(#clip632)\" cx=\"594.553\" cy=\"1333.29\" r=\"14\" fill=\"#009af9\" fill-rule=\"evenodd\" fill-opacity=\"1\" stroke=\"#000000\" stroke-opacity=\"1\" stroke-width=\"3.2\"/>\n",
       "<circle clip-path=\"url(#clip632)\" cx=\"604.716\" cy=\"1324.64\" r=\"14\" fill=\"#009af9\" fill-rule=\"evenodd\" fill-opacity=\"1\" stroke=\"#000000\" stroke-opacity=\"1\" stroke-width=\"3.2\"/>\n",
       "<circle clip-path=\"url(#clip632)\" cx=\"614.879\" cy=\"1316\" r=\"14\" fill=\"#009af9\" fill-rule=\"evenodd\" fill-opacity=\"1\" stroke=\"#000000\" stroke-opacity=\"1\" stroke-width=\"3.2\"/>\n",
       "<circle clip-path=\"url(#clip632)\" cx=\"625.042\" cy=\"1307.35\" r=\"14\" fill=\"#009af9\" fill-rule=\"evenodd\" fill-opacity=\"1\" stroke=\"#000000\" stroke-opacity=\"1\" stroke-width=\"3.2\"/>\n",
       "<circle clip-path=\"url(#clip632)\" cx=\"635.205\" cy=\"1298.7\" r=\"14\" fill=\"#009af9\" fill-rule=\"evenodd\" fill-opacity=\"1\" stroke=\"#000000\" stroke-opacity=\"1\" stroke-width=\"3.2\"/>\n",
       "<circle clip-path=\"url(#clip632)\" cx=\"645.368\" cy=\"1290.05\" r=\"14\" fill=\"#009af9\" fill-rule=\"evenodd\" fill-opacity=\"1\" stroke=\"#000000\" stroke-opacity=\"1\" stroke-width=\"3.2\"/>\n",
       "<circle clip-path=\"url(#clip632)\" cx=\"655.531\" cy=\"1281.4\" r=\"14\" fill=\"#009af9\" fill-rule=\"evenodd\" fill-opacity=\"1\" stroke=\"#000000\" stroke-opacity=\"1\" stroke-width=\"3.2\"/>\n",
       "<circle clip-path=\"url(#clip632)\" cx=\"665.694\" cy=\"1272.76\" r=\"14\" fill=\"#009af9\" fill-rule=\"evenodd\" fill-opacity=\"1\" stroke=\"#000000\" stroke-opacity=\"1\" stroke-width=\"3.2\"/>\n",
       "<circle clip-path=\"url(#clip632)\" cx=\"675.857\" cy=\"1264.11\" r=\"14\" fill=\"#009af9\" fill-rule=\"evenodd\" fill-opacity=\"1\" stroke=\"#000000\" stroke-opacity=\"1\" stroke-width=\"3.2\"/>\n",
       "<circle clip-path=\"url(#clip632)\" cx=\"686.02\" cy=\"1255.46\" r=\"14\" fill=\"#009af9\" fill-rule=\"evenodd\" fill-opacity=\"1\" stroke=\"#000000\" stroke-opacity=\"1\" stroke-width=\"3.2\"/>\n",
       "<circle clip-path=\"url(#clip632)\" cx=\"696.183\" cy=\"1246.81\" r=\"14\" fill=\"#009af9\" fill-rule=\"evenodd\" fill-opacity=\"1\" stroke=\"#000000\" stroke-opacity=\"1\" stroke-width=\"3.2\"/>\n",
       "<circle clip-path=\"url(#clip632)\" cx=\"706.346\" cy=\"1238.16\" r=\"14\" fill=\"#009af9\" fill-rule=\"evenodd\" fill-opacity=\"1\" stroke=\"#000000\" stroke-opacity=\"1\" stroke-width=\"3.2\"/>\n",
       "<circle clip-path=\"url(#clip632)\" cx=\"716.509\" cy=\"1229.52\" r=\"14\" fill=\"#009af9\" fill-rule=\"evenodd\" fill-opacity=\"1\" stroke=\"#000000\" stroke-opacity=\"1\" stroke-width=\"3.2\"/>\n",
       "<circle clip-path=\"url(#clip632)\" cx=\"726.672\" cy=\"1220.87\" r=\"14\" fill=\"#009af9\" fill-rule=\"evenodd\" fill-opacity=\"1\" stroke=\"#000000\" stroke-opacity=\"1\" stroke-width=\"3.2\"/>\n",
       "<circle clip-path=\"url(#clip632)\" cx=\"736.835\" cy=\"1212.22\" r=\"14\" fill=\"#009af9\" fill-rule=\"evenodd\" fill-opacity=\"1\" stroke=\"#000000\" stroke-opacity=\"1\" stroke-width=\"3.2\"/>\n",
       "<circle clip-path=\"url(#clip632)\" cx=\"746.998\" cy=\"1203.57\" r=\"14\" fill=\"#009af9\" fill-rule=\"evenodd\" fill-opacity=\"1\" stroke=\"#000000\" stroke-opacity=\"1\" stroke-width=\"3.2\"/>\n",
       "<circle clip-path=\"url(#clip632)\" cx=\"757.161\" cy=\"1194.92\" r=\"14\" fill=\"#009af9\" fill-rule=\"evenodd\" fill-opacity=\"1\" stroke=\"#000000\" stroke-opacity=\"1\" stroke-width=\"3.2\"/>\n",
       "<circle clip-path=\"url(#clip632)\" cx=\"767.324\" cy=\"1186.28\" r=\"14\" fill=\"#009af9\" fill-rule=\"evenodd\" fill-opacity=\"1\" stroke=\"#000000\" stroke-opacity=\"1\" stroke-width=\"3.2\"/>\n",
       "<circle clip-path=\"url(#clip632)\" cx=\"777.487\" cy=\"1177.63\" r=\"14\" fill=\"#009af9\" fill-rule=\"evenodd\" fill-opacity=\"1\" stroke=\"#000000\" stroke-opacity=\"1\" stroke-width=\"3.2\"/>\n",
       "<circle clip-path=\"url(#clip632)\" cx=\"787.651\" cy=\"1168.98\" r=\"14\" fill=\"#009af9\" fill-rule=\"evenodd\" fill-opacity=\"1\" stroke=\"#000000\" stroke-opacity=\"1\" stroke-width=\"3.2\"/>\n",
       "<circle clip-path=\"url(#clip632)\" cx=\"797.814\" cy=\"1160.33\" r=\"14\" fill=\"#009af9\" fill-rule=\"evenodd\" fill-opacity=\"1\" stroke=\"#000000\" stroke-opacity=\"1\" stroke-width=\"3.2\"/>\n",
       "<circle clip-path=\"url(#clip632)\" cx=\"807.977\" cy=\"1151.68\" r=\"14\" fill=\"#009af9\" fill-rule=\"evenodd\" fill-opacity=\"1\" stroke=\"#000000\" stroke-opacity=\"1\" stroke-width=\"3.2\"/>\n",
       "<circle clip-path=\"url(#clip632)\" cx=\"818.14\" cy=\"1143.03\" r=\"14\" fill=\"#009af9\" fill-rule=\"evenodd\" fill-opacity=\"1\" stroke=\"#000000\" stroke-opacity=\"1\" stroke-width=\"3.2\"/>\n",
       "<circle clip-path=\"url(#clip632)\" cx=\"828.303\" cy=\"1134.39\" r=\"14\" fill=\"#009af9\" fill-rule=\"evenodd\" fill-opacity=\"1\" stroke=\"#000000\" stroke-opacity=\"1\" stroke-width=\"3.2\"/>\n",
       "<circle clip-path=\"url(#clip632)\" cx=\"838.466\" cy=\"1125.74\" r=\"14\" fill=\"#009af9\" fill-rule=\"evenodd\" fill-opacity=\"1\" stroke=\"#000000\" stroke-opacity=\"1\" stroke-width=\"3.2\"/>\n",
       "<circle clip-path=\"url(#clip632)\" cx=\"848.629\" cy=\"1117.09\" r=\"14\" fill=\"#009af9\" fill-rule=\"evenodd\" fill-opacity=\"1\" stroke=\"#000000\" stroke-opacity=\"1\" stroke-width=\"3.2\"/>\n",
       "<circle clip-path=\"url(#clip632)\" cx=\"858.792\" cy=\"1108.44\" r=\"14\" fill=\"#009af9\" fill-rule=\"evenodd\" fill-opacity=\"1\" stroke=\"#000000\" stroke-opacity=\"1\" stroke-width=\"3.2\"/>\n",
       "<circle clip-path=\"url(#clip632)\" cx=\"868.955\" cy=\"1099.79\" r=\"14\" fill=\"#009af9\" fill-rule=\"evenodd\" fill-opacity=\"1\" stroke=\"#000000\" stroke-opacity=\"1\" stroke-width=\"3.2\"/>\n",
       "<circle clip-path=\"url(#clip632)\" cx=\"879.118\" cy=\"1091.15\" r=\"14\" fill=\"#009af9\" fill-rule=\"evenodd\" fill-opacity=\"1\" stroke=\"#000000\" stroke-opacity=\"1\" stroke-width=\"3.2\"/>\n",
       "<circle clip-path=\"url(#clip632)\" cx=\"889.281\" cy=\"1082.5\" r=\"14\" fill=\"#009af9\" fill-rule=\"evenodd\" fill-opacity=\"1\" stroke=\"#000000\" stroke-opacity=\"1\" stroke-width=\"3.2\"/>\n",
       "<circle clip-path=\"url(#clip632)\" cx=\"899.444\" cy=\"1073.85\" r=\"14\" fill=\"#009af9\" fill-rule=\"evenodd\" fill-opacity=\"1\" stroke=\"#000000\" stroke-opacity=\"1\" stroke-width=\"3.2\"/>\n",
       "<circle clip-path=\"url(#clip632)\" cx=\"909.607\" cy=\"1065.2\" r=\"14\" fill=\"#009af9\" fill-rule=\"evenodd\" fill-opacity=\"1\" stroke=\"#000000\" stroke-opacity=\"1\" stroke-width=\"3.2\"/>\n",
       "<circle clip-path=\"url(#clip632)\" cx=\"919.77\" cy=\"1056.55\" r=\"14\" fill=\"#009af9\" fill-rule=\"evenodd\" fill-opacity=\"1\" stroke=\"#000000\" stroke-opacity=\"1\" stroke-width=\"3.2\"/>\n",
       "<circle clip-path=\"url(#clip632)\" cx=\"929.933\" cy=\"1047.91\" r=\"14\" fill=\"#009af9\" fill-rule=\"evenodd\" fill-opacity=\"1\" stroke=\"#000000\" stroke-opacity=\"1\" stroke-width=\"3.2\"/>\n",
       "<circle clip-path=\"url(#clip632)\" cx=\"940.096\" cy=\"1039.26\" r=\"14\" fill=\"#009af9\" fill-rule=\"evenodd\" fill-opacity=\"1\" stroke=\"#000000\" stroke-opacity=\"1\" stroke-width=\"3.2\"/>\n",
       "<circle clip-path=\"url(#clip632)\" cx=\"950.259\" cy=\"1030.61\" r=\"14\" fill=\"#009af9\" fill-rule=\"evenodd\" fill-opacity=\"1\" stroke=\"#000000\" stroke-opacity=\"1\" stroke-width=\"3.2\"/>\n",
       "<circle clip-path=\"url(#clip632)\" cx=\"960.422\" cy=\"1021.96\" r=\"14\" fill=\"#009af9\" fill-rule=\"evenodd\" fill-opacity=\"1\" stroke=\"#000000\" stroke-opacity=\"1\" stroke-width=\"3.2\"/>\n",
       "<circle clip-path=\"url(#clip632)\" cx=\"970.585\" cy=\"1013.31\" r=\"14\" fill=\"#009af9\" fill-rule=\"evenodd\" fill-opacity=\"1\" stroke=\"#000000\" stroke-opacity=\"1\" stroke-width=\"3.2\"/>\n",
       "<circle clip-path=\"url(#clip632)\" cx=\"980.748\" cy=\"1004.67\" r=\"14\" fill=\"#009af9\" fill-rule=\"evenodd\" fill-opacity=\"1\" stroke=\"#000000\" stroke-opacity=\"1\" stroke-width=\"3.2\"/>\n",
       "<circle clip-path=\"url(#clip632)\" cx=\"990.911\" cy=\"996.019\" r=\"14\" fill=\"#009af9\" fill-rule=\"evenodd\" fill-opacity=\"1\" stroke=\"#000000\" stroke-opacity=\"1\" stroke-width=\"3.2\"/>\n",
       "<circle clip-path=\"url(#clip632)\" cx=\"1001.07\" cy=\"987.371\" r=\"14\" fill=\"#009af9\" fill-rule=\"evenodd\" fill-opacity=\"1\" stroke=\"#000000\" stroke-opacity=\"1\" stroke-width=\"3.2\"/>\n",
       "<circle clip-path=\"url(#clip632)\" cx=\"1011.24\" cy=\"978.723\" r=\"14\" fill=\"#009af9\" fill-rule=\"evenodd\" fill-opacity=\"1\" stroke=\"#000000\" stroke-opacity=\"1\" stroke-width=\"3.2\"/>\n",
       "<circle clip-path=\"url(#clip632)\" cx=\"1021.4\" cy=\"970.074\" r=\"14\" fill=\"#009af9\" fill-rule=\"evenodd\" fill-opacity=\"1\" stroke=\"#000000\" stroke-opacity=\"1\" stroke-width=\"3.2\"/>\n",
       "<circle clip-path=\"url(#clip632)\" cx=\"1031.56\" cy=\"961.426\" r=\"14\" fill=\"#009af9\" fill-rule=\"evenodd\" fill-opacity=\"1\" stroke=\"#000000\" stroke-opacity=\"1\" stroke-width=\"3.2\"/>\n",
       "<circle clip-path=\"url(#clip632)\" cx=\"1041.73\" cy=\"952.778\" r=\"14\" fill=\"#009af9\" fill-rule=\"evenodd\" fill-opacity=\"1\" stroke=\"#000000\" stroke-opacity=\"1\" stroke-width=\"3.2\"/>\n",
       "<circle clip-path=\"url(#clip632)\" cx=\"1051.89\" cy=\"944.13\" r=\"14\" fill=\"#009af9\" fill-rule=\"evenodd\" fill-opacity=\"1\" stroke=\"#000000\" stroke-opacity=\"1\" stroke-width=\"3.2\"/>\n",
       "<circle clip-path=\"url(#clip632)\" cx=\"1062.05\" cy=\"935.482\" r=\"14\" fill=\"#009af9\" fill-rule=\"evenodd\" fill-opacity=\"1\" stroke=\"#000000\" stroke-opacity=\"1\" stroke-width=\"3.2\"/>\n",
       "<circle clip-path=\"url(#clip632)\" cx=\"1072.22\" cy=\"926.834\" r=\"14\" fill=\"#009af9\" fill-rule=\"evenodd\" fill-opacity=\"1\" stroke=\"#000000\" stroke-opacity=\"1\" stroke-width=\"3.2\"/>\n",
       "<circle clip-path=\"url(#clip632)\" cx=\"1082.38\" cy=\"918.186\" r=\"14\" fill=\"#009af9\" fill-rule=\"evenodd\" fill-opacity=\"1\" stroke=\"#000000\" stroke-opacity=\"1\" stroke-width=\"3.2\"/>\n",
       "<circle clip-path=\"url(#clip632)\" cx=\"1092.54\" cy=\"909.538\" r=\"14\" fill=\"#009af9\" fill-rule=\"evenodd\" fill-opacity=\"1\" stroke=\"#000000\" stroke-opacity=\"1\" stroke-width=\"3.2\"/>\n",
       "<circle clip-path=\"url(#clip632)\" cx=\"1102.7\" cy=\"900.89\" r=\"14\" fill=\"#009af9\" fill-rule=\"evenodd\" fill-opacity=\"1\" stroke=\"#000000\" stroke-opacity=\"1\" stroke-width=\"3.2\"/>\n",
       "<circle clip-path=\"url(#clip632)\" cx=\"1112.87\" cy=\"892.242\" r=\"14\" fill=\"#009af9\" fill-rule=\"evenodd\" fill-opacity=\"1\" stroke=\"#000000\" stroke-opacity=\"1\" stroke-width=\"3.2\"/>\n",
       "<circle clip-path=\"url(#clip632)\" cx=\"1123.03\" cy=\"883.594\" r=\"14\" fill=\"#009af9\" fill-rule=\"evenodd\" fill-opacity=\"1\" stroke=\"#000000\" stroke-opacity=\"1\" stroke-width=\"3.2\"/>\n",
       "<circle clip-path=\"url(#clip632)\" cx=\"1133.19\" cy=\"874.946\" r=\"14\" fill=\"#009af9\" fill-rule=\"evenodd\" fill-opacity=\"1\" stroke=\"#000000\" stroke-opacity=\"1\" stroke-width=\"3.2\"/>\n",
       "<circle clip-path=\"url(#clip632)\" cx=\"1143.36\" cy=\"866.298\" r=\"14\" fill=\"#009af9\" fill-rule=\"evenodd\" fill-opacity=\"1\" stroke=\"#000000\" stroke-opacity=\"1\" stroke-width=\"3.2\"/>\n",
       "<circle clip-path=\"url(#clip632)\" cx=\"1153.52\" cy=\"857.65\" r=\"14\" fill=\"#009af9\" fill-rule=\"evenodd\" fill-opacity=\"1\" stroke=\"#000000\" stroke-opacity=\"1\" stroke-width=\"3.2\"/>\n",
       "<circle clip-path=\"url(#clip632)\" cx=\"1163.68\" cy=\"849.002\" r=\"14\" fill=\"#009af9\" fill-rule=\"evenodd\" fill-opacity=\"1\" stroke=\"#000000\" stroke-opacity=\"1\" stroke-width=\"3.2\"/>\n",
       "<circle clip-path=\"url(#clip632)\" cx=\"1173.85\" cy=\"840.354\" r=\"14\" fill=\"#009af9\" fill-rule=\"evenodd\" fill-opacity=\"1\" stroke=\"#000000\" stroke-opacity=\"1\" stroke-width=\"3.2\"/>\n",
       "<circle clip-path=\"url(#clip632)\" cx=\"1184.01\" cy=\"831.706\" r=\"14\" fill=\"#009af9\" fill-rule=\"evenodd\" fill-opacity=\"1\" stroke=\"#000000\" stroke-opacity=\"1\" stroke-width=\"3.2\"/>\n",
       "<circle clip-path=\"url(#clip632)\" cx=\"1194.17\" cy=\"823.058\" r=\"14\" fill=\"#009af9\" fill-rule=\"evenodd\" fill-opacity=\"1\" stroke=\"#000000\" stroke-opacity=\"1\" stroke-width=\"3.2\"/>\n",
       "<circle clip-path=\"url(#clip632)\" cx=\"1204.33\" cy=\"814.41\" r=\"14\" fill=\"#009af9\" fill-rule=\"evenodd\" fill-opacity=\"1\" stroke=\"#000000\" stroke-opacity=\"1\" stroke-width=\"3.2\"/>\n",
       "<circle clip-path=\"url(#clip632)\" cx=\"1214.5\" cy=\"805.762\" r=\"14\" fill=\"#009af9\" fill-rule=\"evenodd\" fill-opacity=\"1\" stroke=\"#000000\" stroke-opacity=\"1\" stroke-width=\"3.2\"/>\n",
       "<circle clip-path=\"url(#clip632)\" cx=\"1224.66\" cy=\"797.114\" r=\"14\" fill=\"#009af9\" fill-rule=\"evenodd\" fill-opacity=\"1\" stroke=\"#000000\" stroke-opacity=\"1\" stroke-width=\"3.2\"/>\n",
       "<circle clip-path=\"url(#clip632)\" cx=\"1234.82\" cy=\"788.466\" r=\"14\" fill=\"#009af9\" fill-rule=\"evenodd\" fill-opacity=\"1\" stroke=\"#000000\" stroke-opacity=\"1\" stroke-width=\"3.2\"/>\n",
       "<circle clip-path=\"url(#clip632)\" cx=\"1244.99\" cy=\"779.818\" r=\"14\" fill=\"#009af9\" fill-rule=\"evenodd\" fill-opacity=\"1\" stroke=\"#000000\" stroke-opacity=\"1\" stroke-width=\"3.2\"/>\n",
       "<circle clip-path=\"url(#clip632)\" cx=\"1255.15\" cy=\"771.17\" r=\"14\" fill=\"#009af9\" fill-rule=\"evenodd\" fill-opacity=\"1\" stroke=\"#000000\" stroke-opacity=\"1\" stroke-width=\"3.2\"/>\n",
       "<circle clip-path=\"url(#clip632)\" cx=\"1265.31\" cy=\"762.522\" r=\"14\" fill=\"#009af9\" fill-rule=\"evenodd\" fill-opacity=\"1\" stroke=\"#000000\" stroke-opacity=\"1\" stroke-width=\"3.2\"/>\n",
       "<circle clip-path=\"url(#clip632)\" cx=\"1275.48\" cy=\"753.874\" r=\"14\" fill=\"#009af9\" fill-rule=\"evenodd\" fill-opacity=\"1\" stroke=\"#000000\" stroke-opacity=\"1\" stroke-width=\"3.2\"/>\n",
       "<circle clip-path=\"url(#clip632)\" cx=\"1285.64\" cy=\"745.226\" r=\"14\" fill=\"#009af9\" fill-rule=\"evenodd\" fill-opacity=\"1\" stroke=\"#000000\" stroke-opacity=\"1\" stroke-width=\"3.2\"/>\n",
       "<circle clip-path=\"url(#clip632)\" cx=\"1295.8\" cy=\"736.578\" r=\"14\" fill=\"#009af9\" fill-rule=\"evenodd\" fill-opacity=\"1\" stroke=\"#000000\" stroke-opacity=\"1\" stroke-width=\"3.2\"/>\n",
       "<circle clip-path=\"url(#clip632)\" cx=\"1305.96\" cy=\"727.93\" r=\"14\" fill=\"#009af9\" fill-rule=\"evenodd\" fill-opacity=\"1\" stroke=\"#000000\" stroke-opacity=\"1\" stroke-width=\"3.2\"/>\n",
       "<circle clip-path=\"url(#clip632)\" cx=\"1316.13\" cy=\"719.282\" r=\"14\" fill=\"#009af9\" fill-rule=\"evenodd\" fill-opacity=\"1\" stroke=\"#000000\" stroke-opacity=\"1\" stroke-width=\"3.2\"/>\n",
       "<circle clip-path=\"url(#clip632)\" cx=\"1326.29\" cy=\"710.634\" r=\"14\" fill=\"#009af9\" fill-rule=\"evenodd\" fill-opacity=\"1\" stroke=\"#000000\" stroke-opacity=\"1\" stroke-width=\"3.2\"/>\n",
       "<circle clip-path=\"url(#clip632)\" cx=\"1336.45\" cy=\"701.986\" r=\"14\" fill=\"#009af9\" fill-rule=\"evenodd\" fill-opacity=\"1\" stroke=\"#000000\" stroke-opacity=\"1\" stroke-width=\"3.2\"/>\n",
       "<circle clip-path=\"url(#clip632)\" cx=\"1346.62\" cy=\"693.338\" r=\"14\" fill=\"#009af9\" fill-rule=\"evenodd\" fill-opacity=\"1\" stroke=\"#000000\" stroke-opacity=\"1\" stroke-width=\"3.2\"/>\n",
       "<circle clip-path=\"url(#clip632)\" cx=\"1356.78\" cy=\"684.69\" r=\"14\" fill=\"#009af9\" fill-rule=\"evenodd\" fill-opacity=\"1\" stroke=\"#000000\" stroke-opacity=\"1\" stroke-width=\"3.2\"/>\n",
       "<circle clip-path=\"url(#clip632)\" cx=\"1366.94\" cy=\"676.042\" r=\"14\" fill=\"#009af9\" fill-rule=\"evenodd\" fill-opacity=\"1\" stroke=\"#000000\" stroke-opacity=\"1\" stroke-width=\"3.2\"/>\n",
       "<circle clip-path=\"url(#clip632)\" cx=\"1377.11\" cy=\"667.394\" r=\"14\" fill=\"#009af9\" fill-rule=\"evenodd\" fill-opacity=\"1\" stroke=\"#000000\" stroke-opacity=\"1\" stroke-width=\"3.2\"/>\n",
       "<circle clip-path=\"url(#clip632)\" cx=\"1387.27\" cy=\"658.746\" r=\"14\" fill=\"#009af9\" fill-rule=\"evenodd\" fill-opacity=\"1\" stroke=\"#000000\" stroke-opacity=\"1\" stroke-width=\"3.2\"/>\n",
       "<circle clip-path=\"url(#clip632)\" cx=\"1397.43\" cy=\"650.098\" r=\"14\" fill=\"#009af9\" fill-rule=\"evenodd\" fill-opacity=\"1\" stroke=\"#000000\" stroke-opacity=\"1\" stroke-width=\"3.2\"/>\n",
       "<circle clip-path=\"url(#clip632)\" cx=\"1407.59\" cy=\"641.45\" r=\"14\" fill=\"#009af9\" fill-rule=\"evenodd\" fill-opacity=\"1\" stroke=\"#000000\" stroke-opacity=\"1\" stroke-width=\"3.2\"/>\n",
       "<circle clip-path=\"url(#clip632)\" cx=\"1417.76\" cy=\"632.802\" r=\"14\" fill=\"#009af9\" fill-rule=\"evenodd\" fill-opacity=\"1\" stroke=\"#000000\" stroke-opacity=\"1\" stroke-width=\"3.2\"/>\n",
       "<circle clip-path=\"url(#clip632)\" cx=\"1427.92\" cy=\"624.154\" r=\"14\" fill=\"#009af9\" fill-rule=\"evenodd\" fill-opacity=\"1\" stroke=\"#000000\" stroke-opacity=\"1\" stroke-width=\"3.2\"/>\n",
       "<circle clip-path=\"url(#clip632)\" cx=\"1438.08\" cy=\"615.506\" r=\"14\" fill=\"#009af9\" fill-rule=\"evenodd\" fill-opacity=\"1\" stroke=\"#000000\" stroke-opacity=\"1\" stroke-width=\"3.2\"/>\n",
       "<circle clip-path=\"url(#clip632)\" cx=\"1448.25\" cy=\"606.858\" r=\"14\" fill=\"#009af9\" fill-rule=\"evenodd\" fill-opacity=\"1\" stroke=\"#000000\" stroke-opacity=\"1\" stroke-width=\"3.2\"/>\n",
       "<circle clip-path=\"url(#clip632)\" cx=\"1458.41\" cy=\"598.21\" r=\"14\" fill=\"#009af9\" fill-rule=\"evenodd\" fill-opacity=\"1\" stroke=\"#000000\" stroke-opacity=\"1\" stroke-width=\"3.2\"/>\n",
       "<circle clip-path=\"url(#clip632)\" cx=\"1468.57\" cy=\"589.562\" r=\"14\" fill=\"#009af9\" fill-rule=\"evenodd\" fill-opacity=\"1\" stroke=\"#000000\" stroke-opacity=\"1\" stroke-width=\"3.2\"/>\n",
       "<circle clip-path=\"url(#clip632)\" cx=\"1478.74\" cy=\"580.914\" r=\"14\" fill=\"#009af9\" fill-rule=\"evenodd\" fill-opacity=\"1\" stroke=\"#000000\" stroke-opacity=\"1\" stroke-width=\"3.2\"/>\n",
       "<circle clip-path=\"url(#clip632)\" cx=\"1488.9\" cy=\"572.265\" r=\"14\" fill=\"#009af9\" fill-rule=\"evenodd\" fill-opacity=\"1\" stroke=\"#000000\" stroke-opacity=\"1\" stroke-width=\"3.2\"/>\n",
       "<circle clip-path=\"url(#clip632)\" cx=\"1499.06\" cy=\"563.617\" r=\"14\" fill=\"#009af9\" fill-rule=\"evenodd\" fill-opacity=\"1\" stroke=\"#000000\" stroke-opacity=\"1\" stroke-width=\"3.2\"/>\n",
       "<circle clip-path=\"url(#clip632)\" cx=\"1509.23\" cy=\"554.969\" r=\"14\" fill=\"#009af9\" fill-rule=\"evenodd\" fill-opacity=\"1\" stroke=\"#000000\" stroke-opacity=\"1\" stroke-width=\"3.2\"/>\n",
       "<circle clip-path=\"url(#clip632)\" cx=\"1519.39\" cy=\"546.321\" r=\"14\" fill=\"#009af9\" fill-rule=\"evenodd\" fill-opacity=\"1\" stroke=\"#000000\" stroke-opacity=\"1\" stroke-width=\"3.2\"/>\n",
       "<circle clip-path=\"url(#clip632)\" cx=\"1529.55\" cy=\"537.673\" r=\"14\" fill=\"#009af9\" fill-rule=\"evenodd\" fill-opacity=\"1\" stroke=\"#000000\" stroke-opacity=\"1\" stroke-width=\"3.2\"/>\n",
       "<circle clip-path=\"url(#clip632)\" cx=\"1539.71\" cy=\"529.025\" r=\"14\" fill=\"#009af9\" fill-rule=\"evenodd\" fill-opacity=\"1\" stroke=\"#000000\" stroke-opacity=\"1\" stroke-width=\"3.2\"/>\n",
       "<circle clip-path=\"url(#clip632)\" cx=\"1549.88\" cy=\"520.377\" r=\"14\" fill=\"#009af9\" fill-rule=\"evenodd\" fill-opacity=\"1\" stroke=\"#000000\" stroke-opacity=\"1\" stroke-width=\"3.2\"/>\n",
       "<circle clip-path=\"url(#clip632)\" cx=\"1560.04\" cy=\"511.729\" r=\"14\" fill=\"#009af9\" fill-rule=\"evenodd\" fill-opacity=\"1\" stroke=\"#000000\" stroke-opacity=\"1\" stroke-width=\"3.2\"/>\n",
       "<circle clip-path=\"url(#clip632)\" cx=\"1570.2\" cy=\"503.081\" r=\"14\" fill=\"#009af9\" fill-rule=\"evenodd\" fill-opacity=\"1\" stroke=\"#000000\" stroke-opacity=\"1\" stroke-width=\"3.2\"/>\n",
       "<circle clip-path=\"url(#clip632)\" cx=\"1580.37\" cy=\"494.433\" r=\"14\" fill=\"#009af9\" fill-rule=\"evenodd\" fill-opacity=\"1\" stroke=\"#000000\" stroke-opacity=\"1\" stroke-width=\"3.2\"/>\n",
       "<circle clip-path=\"url(#clip632)\" cx=\"1590.53\" cy=\"485.785\" r=\"14\" fill=\"#009af9\" fill-rule=\"evenodd\" fill-opacity=\"1\" stroke=\"#000000\" stroke-opacity=\"1\" stroke-width=\"3.2\"/>\n",
       "<circle clip-path=\"url(#clip632)\" cx=\"1600.69\" cy=\"477.137\" r=\"14\" fill=\"#009af9\" fill-rule=\"evenodd\" fill-opacity=\"1\" stroke=\"#000000\" stroke-opacity=\"1\" stroke-width=\"3.2\"/>\n",
       "<circle clip-path=\"url(#clip632)\" cx=\"1610.86\" cy=\"468.489\" r=\"14\" fill=\"#009af9\" fill-rule=\"evenodd\" fill-opacity=\"1\" stroke=\"#000000\" stroke-opacity=\"1\" stroke-width=\"3.2\"/>\n",
       "<circle clip-path=\"url(#clip632)\" cx=\"1621.02\" cy=\"459.841\" r=\"14\" fill=\"#009af9\" fill-rule=\"evenodd\" fill-opacity=\"1\" stroke=\"#000000\" stroke-opacity=\"1\" stroke-width=\"3.2\"/>\n",
       "<circle clip-path=\"url(#clip632)\" cx=\"1631.18\" cy=\"451.193\" r=\"14\" fill=\"#009af9\" fill-rule=\"evenodd\" fill-opacity=\"1\" stroke=\"#000000\" stroke-opacity=\"1\" stroke-width=\"3.2\"/>\n",
       "<circle clip-path=\"url(#clip632)\" cx=\"1641.34\" cy=\"442.545\" r=\"14\" fill=\"#009af9\" fill-rule=\"evenodd\" fill-opacity=\"1\" stroke=\"#000000\" stroke-opacity=\"1\" stroke-width=\"3.2\"/>\n",
       "<circle clip-path=\"url(#clip632)\" cx=\"1651.51\" cy=\"433.897\" r=\"14\" fill=\"#009af9\" fill-rule=\"evenodd\" fill-opacity=\"1\" stroke=\"#000000\" stroke-opacity=\"1\" stroke-width=\"3.2\"/>\n",
       "<circle clip-path=\"url(#clip632)\" cx=\"1661.67\" cy=\"425.249\" r=\"14\" fill=\"#009af9\" fill-rule=\"evenodd\" fill-opacity=\"1\" stroke=\"#000000\" stroke-opacity=\"1\" stroke-width=\"3.2\"/>\n",
       "<circle clip-path=\"url(#clip632)\" cx=\"1671.83\" cy=\"416.601\" r=\"14\" fill=\"#009af9\" fill-rule=\"evenodd\" fill-opacity=\"1\" stroke=\"#000000\" stroke-opacity=\"1\" stroke-width=\"3.2\"/>\n",
       "<circle clip-path=\"url(#clip632)\" cx=\"1682\" cy=\"407.953\" r=\"14\" fill=\"#009af9\" fill-rule=\"evenodd\" fill-opacity=\"1\" stroke=\"#000000\" stroke-opacity=\"1\" stroke-width=\"3.2\"/>\n",
       "<circle clip-path=\"url(#clip632)\" cx=\"1692.16\" cy=\"399.305\" r=\"14\" fill=\"#009af9\" fill-rule=\"evenodd\" fill-opacity=\"1\" stroke=\"#000000\" stroke-opacity=\"1\" stroke-width=\"3.2\"/>\n",
       "<circle clip-path=\"url(#clip632)\" cx=\"1702.32\" cy=\"390.657\" r=\"14\" fill=\"#009af9\" fill-rule=\"evenodd\" fill-opacity=\"1\" stroke=\"#000000\" stroke-opacity=\"1\" stroke-width=\"3.2\"/>\n",
       "<circle clip-path=\"url(#clip632)\" cx=\"1712.49\" cy=\"382.009\" r=\"14\" fill=\"#009af9\" fill-rule=\"evenodd\" fill-opacity=\"1\" stroke=\"#000000\" stroke-opacity=\"1\" stroke-width=\"3.2\"/>\n",
       "<circle clip-path=\"url(#clip632)\" cx=\"1722.65\" cy=\"373.361\" r=\"14\" fill=\"#009af9\" fill-rule=\"evenodd\" fill-opacity=\"1\" stroke=\"#000000\" stroke-opacity=\"1\" stroke-width=\"3.2\"/>\n",
       "<circle clip-path=\"url(#clip632)\" cx=\"1732.81\" cy=\"364.713\" r=\"14\" fill=\"#009af9\" fill-rule=\"evenodd\" fill-opacity=\"1\" stroke=\"#000000\" stroke-opacity=\"1\" stroke-width=\"3.2\"/>\n",
       "<circle clip-path=\"url(#clip632)\" cx=\"1742.97\" cy=\"356.065\" r=\"14\" fill=\"#009af9\" fill-rule=\"evenodd\" fill-opacity=\"1\" stroke=\"#000000\" stroke-opacity=\"1\" stroke-width=\"3.2\"/>\n",
       "<circle clip-path=\"url(#clip632)\" cx=\"1753.14\" cy=\"347.417\" r=\"14\" fill=\"#009af9\" fill-rule=\"evenodd\" fill-opacity=\"1\" stroke=\"#000000\" stroke-opacity=\"1\" stroke-width=\"3.2\"/>\n",
       "<circle clip-path=\"url(#clip632)\" cx=\"1763.3\" cy=\"338.769\" r=\"14\" fill=\"#009af9\" fill-rule=\"evenodd\" fill-opacity=\"1\" stroke=\"#000000\" stroke-opacity=\"1\" stroke-width=\"3.2\"/>\n",
       "<circle clip-path=\"url(#clip632)\" cx=\"1773.46\" cy=\"330.121\" r=\"14\" fill=\"#009af9\" fill-rule=\"evenodd\" fill-opacity=\"1\" stroke=\"#000000\" stroke-opacity=\"1\" stroke-width=\"3.2\"/>\n",
       "<circle clip-path=\"url(#clip632)\" cx=\"1783.63\" cy=\"321.473\" r=\"14\" fill=\"#009af9\" fill-rule=\"evenodd\" fill-opacity=\"1\" stroke=\"#000000\" stroke-opacity=\"1\" stroke-width=\"3.2\"/>\n",
       "<circle clip-path=\"url(#clip632)\" cx=\"1793.79\" cy=\"312.825\" r=\"14\" fill=\"#009af9\" fill-rule=\"evenodd\" fill-opacity=\"1\" stroke=\"#000000\" stroke-opacity=\"1\" stroke-width=\"3.2\"/>\n",
       "<circle clip-path=\"url(#clip632)\" cx=\"1803.95\" cy=\"304.177\" r=\"14\" fill=\"#009af9\" fill-rule=\"evenodd\" fill-opacity=\"1\" stroke=\"#000000\" stroke-opacity=\"1\" stroke-width=\"3.2\"/>\n",
       "<circle clip-path=\"url(#clip632)\" cx=\"1814.12\" cy=\"295.529\" r=\"14\" fill=\"#009af9\" fill-rule=\"evenodd\" fill-opacity=\"1\" stroke=\"#000000\" stroke-opacity=\"1\" stroke-width=\"3.2\"/>\n",
       "<circle clip-path=\"url(#clip632)\" cx=\"1824.28\" cy=\"286.881\" r=\"14\" fill=\"#009af9\" fill-rule=\"evenodd\" fill-opacity=\"1\" stroke=\"#000000\" stroke-opacity=\"1\" stroke-width=\"3.2\"/>\n",
       "<circle clip-path=\"url(#clip632)\" cx=\"1834.44\" cy=\"278.233\" r=\"14\" fill=\"#009af9\" fill-rule=\"evenodd\" fill-opacity=\"1\" stroke=\"#000000\" stroke-opacity=\"1\" stroke-width=\"3.2\"/>\n",
       "<circle clip-path=\"url(#clip632)\" cx=\"1844.6\" cy=\"269.585\" r=\"14\" fill=\"#009af9\" fill-rule=\"evenodd\" fill-opacity=\"1\" stroke=\"#000000\" stroke-opacity=\"1\" stroke-width=\"3.2\"/>\n",
       "<circle clip-path=\"url(#clip632)\" cx=\"1854.77\" cy=\"260.937\" r=\"14\" fill=\"#009af9\" fill-rule=\"evenodd\" fill-opacity=\"1\" stroke=\"#000000\" stroke-opacity=\"1\" stroke-width=\"3.2\"/>\n",
       "<circle clip-path=\"url(#clip632)\" cx=\"1864.93\" cy=\"252.289\" r=\"14\" fill=\"#009af9\" fill-rule=\"evenodd\" fill-opacity=\"1\" stroke=\"#000000\" stroke-opacity=\"1\" stroke-width=\"3.2\"/>\n",
       "<circle clip-path=\"url(#clip632)\" cx=\"1875.09\" cy=\"243.641\" r=\"14\" fill=\"#009af9\" fill-rule=\"evenodd\" fill-opacity=\"1\" stroke=\"#000000\" stroke-opacity=\"1\" stroke-width=\"3.2\"/>\n",
       "<circle clip-path=\"url(#clip632)\" cx=\"1885.26\" cy=\"234.993\" r=\"14\" fill=\"#009af9\" fill-rule=\"evenodd\" fill-opacity=\"1\" stroke=\"#000000\" stroke-opacity=\"1\" stroke-width=\"3.2\"/>\n",
       "<circle clip-path=\"url(#clip632)\" cx=\"1895.42\" cy=\"226.345\" r=\"14\" fill=\"#009af9\" fill-rule=\"evenodd\" fill-opacity=\"1\" stroke=\"#000000\" stroke-opacity=\"1\" stroke-width=\"3.2\"/>\n",
       "<circle clip-path=\"url(#clip632)\" cx=\"1905.58\" cy=\"217.697\" r=\"14\" fill=\"#009af9\" fill-rule=\"evenodd\" fill-opacity=\"1\" stroke=\"#000000\" stroke-opacity=\"1\" stroke-width=\"3.2\"/>\n",
       "<circle clip-path=\"url(#clip632)\" cx=\"1915.75\" cy=\"209.049\" r=\"14\" fill=\"#009af9\" fill-rule=\"evenodd\" fill-opacity=\"1\" stroke=\"#000000\" stroke-opacity=\"1\" stroke-width=\"3.2\"/>\n",
       "<circle clip-path=\"url(#clip632)\" cx=\"1925.91\" cy=\"200.401\" r=\"14\" fill=\"#009af9\" fill-rule=\"evenodd\" fill-opacity=\"1\" stroke=\"#000000\" stroke-opacity=\"1\" stroke-width=\"3.2\"/>\n",
       "<circle clip-path=\"url(#clip632)\" cx=\"1936.07\" cy=\"191.753\" r=\"14\" fill=\"#009af9\" fill-rule=\"evenodd\" fill-opacity=\"1\" stroke=\"#000000\" stroke-opacity=\"1\" stroke-width=\"3.2\"/>\n",
       "<circle clip-path=\"url(#clip632)\" cx=\"1946.24\" cy=\"183.105\" r=\"14\" fill=\"#009af9\" fill-rule=\"evenodd\" fill-opacity=\"1\" stroke=\"#000000\" stroke-opacity=\"1\" stroke-width=\"3.2\"/>\n",
       "<circle clip-path=\"url(#clip632)\" cx=\"1956.4\" cy=\"174.456\" r=\"14\" fill=\"#009af9\" fill-rule=\"evenodd\" fill-opacity=\"1\" stroke=\"#000000\" stroke-opacity=\"1\" stroke-width=\"3.2\"/>\n",
       "<circle clip-path=\"url(#clip632)\" cx=\"1966.56\" cy=\"165.808\" r=\"14\" fill=\"#009af9\" fill-rule=\"evenodd\" fill-opacity=\"1\" stroke=\"#000000\" stroke-opacity=\"1\" stroke-width=\"3.2\"/>\n",
       "<circle clip-path=\"url(#clip632)\" cx=\"1976.72\" cy=\"157.16\" r=\"14\" fill=\"#009af9\" fill-rule=\"evenodd\" fill-opacity=\"1\" stroke=\"#000000\" stroke-opacity=\"1\" stroke-width=\"3.2\"/>\n",
       "<circle clip-path=\"url(#clip632)\" cx=\"1986.89\" cy=\"148.512\" r=\"14\" fill=\"#009af9\" fill-rule=\"evenodd\" fill-opacity=\"1\" stroke=\"#000000\" stroke-opacity=\"1\" stroke-width=\"3.2\"/>\n",
       "<circle clip-path=\"url(#clip632)\" cx=\"1997.05\" cy=\"139.864\" r=\"14\" fill=\"#009af9\" fill-rule=\"evenodd\" fill-opacity=\"1\" stroke=\"#000000\" stroke-opacity=\"1\" stroke-width=\"3.2\"/>\n",
       "<circle clip-path=\"url(#clip632)\" cx=\"2007.21\" cy=\"131.216\" r=\"14\" fill=\"#009af9\" fill-rule=\"evenodd\" fill-opacity=\"1\" stroke=\"#000000\" stroke-opacity=\"1\" stroke-width=\"3.2\"/>\n",
       "<circle clip-path=\"url(#clip632)\" cx=\"2017.38\" cy=\"122.568\" r=\"14\" fill=\"#009af9\" fill-rule=\"evenodd\" fill-opacity=\"1\" stroke=\"#000000\" stroke-opacity=\"1\" stroke-width=\"3.2\"/>\n",
       "<circle clip-path=\"url(#clip632)\" cx=\"2027.54\" cy=\"113.92\" r=\"14\" fill=\"#009af9\" fill-rule=\"evenodd\" fill-opacity=\"1\" stroke=\"#000000\" stroke-opacity=\"1\" stroke-width=\"3.2\"/>\n",
       "<circle clip-path=\"url(#clip632)\" cx=\"2037.7\" cy=\"105.272\" r=\"14\" fill=\"#009af9\" fill-rule=\"evenodd\" fill-opacity=\"1\" stroke=\"#000000\" stroke-opacity=\"1\" stroke-width=\"3.2\"/>\n",
       "<circle clip-path=\"url(#clip632)\" cx=\"2047.87\" cy=\"96.6243\" r=\"14\" fill=\"#009af9\" fill-rule=\"evenodd\" fill-opacity=\"1\" stroke=\"#000000\" stroke-opacity=\"1\" stroke-width=\"3.2\"/>\n",
       "<circle clip-path=\"url(#clip632)\" cx=\"2058.03\" cy=\"87.9763\" r=\"14\" fill=\"#009af9\" fill-rule=\"evenodd\" fill-opacity=\"1\" stroke=\"#000000\" stroke-opacity=\"1\" stroke-width=\"3.2\"/>\n",
       "<path clip-path=\"url(#clip630)\" d=\"\n",
       "M1990.52 216.178 L2280.94 216.178 L2280.94 95.2176 L1990.52 95.2176  Z\n",
       "  \" fill=\"#ffffff\" fill-rule=\"evenodd\" fill-opacity=\"1\"/>\n",
       "<polyline clip-path=\"url(#clip630)\" style=\"stroke:#000000; stroke-width:4; stroke-opacity:1; fill:none\" points=\"\n",
       "  1990.52,216.178 2280.94,216.178 2280.94,95.2176 1990.52,95.2176 1990.52,216.178 \n",
       "  \"/>\n",
       "<path clip-path=\"url(#clip630)\" d=\"M 0 0 M2195.88 175.385 Q2194.08 180.015 2192.36 181.427 Q2190.65 182.839 2187.78 182.839 L2184.38 182.839 L2184.38 179.274 L2186.88 179.274 Q2188.64 179.274 2189.61 178.44 Q2190.58 177.607 2191.76 174.505 L2192.53 172.561 L2182.04 147.052 L2186.55 147.052 L2194.66 167.329 L2202.76 147.052 L2207.27 147.052 L2195.88 175.385 Z\" fill=\"#000000\" fill-rule=\"evenodd\" fill-opacity=\"1\" /><path clip-path=\"url(#clip630)\" d=\"M 0 0 M2213.15 169.042 L2220.79 169.042 L2220.79 142.677 L2212.48 144.343 L2212.48 140.084 L2220.74 138.418 L2225.42 138.418 L2225.42 169.042 L2233.06 169.042 L2233.06 172.978 L2213.15 172.978 L2213.15 169.042 Z\" fill=\"#000000\" fill-rule=\"evenodd\" fill-opacity=\"1\" /></svg>\n"
      ]
     },
     "execution_count": 22,
     "metadata": {},
     "output_type": "execute_result"
    }
   ],
   "source": [
    "x = -400:4:400\n",
    "y = log.(10.0.^(x))\n",
    "scatter(x,y)"
   ]
  },
  {
   "cell_type": "code",
   "execution_count": null,
   "id": "antique-acrylic",
   "metadata": {},
   "outputs": [],
   "source": []
  }
 ],
 "metadata": {
  "kernelspec": {
   "display_name": "Julia 1.5.4",
   "language": "julia",
   "name": "julia-1.5"
  },
  "language_info": {
   "file_extension": ".jl",
   "mimetype": "application/julia",
   "name": "julia",
   "version": "1.5.4"
  }
 },
 "nbformat": 4,
 "nbformat_minor": 5
}
