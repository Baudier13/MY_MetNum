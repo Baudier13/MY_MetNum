{
 "cells": [
  {
   "cell_type": "code",
   "execution_count": 1,
   "id": "periodic-collar",
   "metadata": {},
   "outputs": [
    {
     "ename": "LoadError",
     "evalue": "\u001b[91msyntax: unexpected \",\"\u001b[39m",
     "output_type": "error",
     "traceback": [
      "\u001b[91msyntax: unexpected \",\"\u001b[39m",
      "",
      "Stacktrace:",
      " [1] top-level scope at In[1]:1",
      " [2] include_string(::Function, ::Module, ::String, ::String) at ./loading.jl:1091"
     ]
    }
   ],
   "source": [
    "# Aca se suele escribir una documentacion de que es lo que se hace\n",
    "\n",
    "function biseccion(f::function,\n",
    "    a::Float64,\n",
    "    b::Float64;\n",
    "    tolx::Float64=1e-5,\n",
    "    toly::Float64=1e-5,\n",
    "    Nmax::Ont64=100,\n",
    "    arch::String=\"biseccion.dat\")\n",
    "\n",
    "    a1 = a\n",
    "    b1 = b\n",
    "    fa1 = f(a1)\n",
    "    fb1 = f(b1)\n",
    "    if fa*fb <= 0\n",
    "        error(\"La raíz no esta en el intervalo o hay más de una\")\n",
    "    end\n",
    "    p1 = (a1+b1)/2.0\n",
    "    fp1 = f(p1)\n",
    "    errabsx = abs(b1-a1)/2\n",
    "    errelx = errabsx/abs(p1)\n",
    "    errabsy = abs(fp1)\n",
    "    i=0\n",
    "    open(arch,\"w\") do io\n",
    "        prinln(io, \"# 1.i 2.p 3.fp 4.errrlex 5.errabsy\")\n",
    "        while tolx <= errrelx || toly <= errabsy\n",
    "            i += 1\n",
    "            p1 = (a1+b1)/2\n",
    "            fp1 = f(p1)\n",
    "            prinln(io,\"$i $p $fp $errrelx $ errabsy $\")\n",
    "            if fa1*fp1 >= 0 \n",
    "                b1 = p1\n",
    "                fb1 = fp1\n",
    "            else\n",
    "                a1 = p1\n",
    "                fa1 = fa1\n",
    "            end\n",
    "            errabsx = abs(b1-a1)/2\n",
    "            errelx = errabsx/abs(p1)\n",
    "            errabsy = abs(fp1)\n",
    "        end\n",
    "    end\n",
    "    return p1\n",
    "end        "
   ]
  },
  {
   "cell_type": "code",
   "execution_count": null,
   "id": "graphic-mirror",
   "metadata": {},
   "outputs": [],
   "source": []
  }
 ],
 "metadata": {
  "kernelspec": {
   "display_name": "Julia 1.5.4",
   "language": "julia",
   "name": "julia-1.5"
  },
  "language_info": {
   "file_extension": ".jl",
   "mimetype": "application/julia",
   "name": "julia",
   "version": "1.5.4"
  }
 },
 "nbformat": 4,
 "nbformat_minor": 5
}
