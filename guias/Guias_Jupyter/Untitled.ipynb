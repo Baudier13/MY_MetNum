{
 "cells": [
  {
   "cell_type": "code",
   "execution_count": 18,
   "id": "5ccd3497-0d80-4e52-8ba5-7b77597ee739",
   "metadata": {},
   "outputs": [
    {
     "data": {
      "text/plain": [
       "1"
      ]
     },
     "execution_count": 18,
     "metadata": {},
     "output_type": "execute_result"
    }
   ],
   "source": [
    "num = [1,3,5,2,5,6]\n",
    "target = 7\n",
    "\n",
    "prevMap = {7 : \"ahora\", 5 : 1}\n",
    "prevMap[5]"
   ]
  },
  {
   "cell_type": "code",
   "execution_count": 8,
   "id": "04813305-5fa3-4cdf-a958-a2b4dc0df686",
   "metadata": {},
   "outputs": [
    {
     "data": {
      "text/plain": [
       "enumerate"
      ]
     },
     "execution_count": 8,
     "metadata": {},
     "output_type": "execute_result"
    }
   ],
   "source": []
  }
 ],
 "metadata": {
  "kernelspec": {
   "display_name": "Python 3 (ipykernel)",
   "language": "python",
   "name": "python3"
  },
  "language_info": {
   "codemirror_mode": {
    "name": "ipython",
    "version": 3
   },
   "file_extension": ".py",
   "mimetype": "text/x-python",
   "name": "python",
   "nbconvert_exporter": "python",
   "pygments_lexer": "ipython3",
   "version": "3.10.10"
  }
 },
 "nbformat": 4,
 "nbformat_minor": 5
}
