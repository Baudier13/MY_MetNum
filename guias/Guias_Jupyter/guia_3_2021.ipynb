{
 "cells": [
  {
   "cell_type": "markdown",
   "metadata": {},
   "source": [
    "# Problema 1\n",
    "\n",
    "Desarrolle una función llamada `biseccion` para encontrar la raíz de otra función arbitraria $f:x\\in \\mathbb{R}\\to f(x)\\in \\mathbb{R}$ utilizando el método de la bisección. Dé como datos de entrada a `biseccion` la función $f$, el intervalo inicial $[a,b]$, la tolerancia $\\varepsilon_x$, la tolerancia $\\varepsilon_f$ y el número máximo de iteraciones permitidas `maxiter`. \n",
    "\n",
    "Considere las estimaciones del error absoluto $A_N=|b_N-a_N|/2$ y del error relativo $R_N=A_N/|x_N|=|b_N-a_N|/|b_N+a_N|$ obtenidos en la $N$-ésima iteración.\n",
    "\n",
    "La función `biseccion` debe finalizar cuando: i) $R_N<\\varepsilon_x$, ii) $|f(x_N)| < \\varepsilon_f$ o iii) $N \\geq$ `maxiter`.\n",
    "\n",
    "La función `biseccion` debe retornar la tupla $N$, $x_N$, $f(x_N)$, $A_N$, $R_N$ y $|f(x_N)|$.\n",
    "\n",
    "Utilice `println()` para mostrar la salida que la función `biseccion` retorna, con el fin de:\n",
    "\n",
    "1. Encontrar la menor solución positiva de la ecuación $2x = \\tan{(x)}$ con un error menor a $10^{-5}$. Cuántos pasos son necesarios si se comienza con el intervalo $[0.8,1.4]$?\n",
    "\n",
    "2. Encontrar una aproximación a $\\sqrt{3}$ con un error menor a $10^{-5}$. Note que $\\sqrt{3}$ es la raíz positiva de la ecuación $f(x)=x^2 -3$."
   ]
  },
  {
   "cell_type": "code",
   "execution_count": 68,
   "metadata": {},
   "outputs": [
    {
     "data": {
      "text/plain": [
       "Biseccion (generic function with 1 method)"
      ]
     },
     "execution_count": 68,
     "metadata": {},
     "output_type": "execute_result"
    }
   ],
   "source": [
    "function Biseccion(f::Function,\n",
    "    a::Float64,\n",
    "    b::Float64;\n",
    "    tol_x::Float64=10.0^(-10),    #Agregar valores iniciales\n",
    "    tol_y::Float64=10.0^(-10),\n",
    "    maxiter::Int64=1000)\n",
    "    \n",
    "    a1 = a   \n",
    "    b1 = b  \n",
    "    fa = f(a1)\n",
    "    fb = f(b1)\n",
    "    p1 = (a1+b1)/2.0\n",
    "    fp = f(p1)\n",
    "    err_abs= abs(b1-a1)/2.0\n",
    "    err_rel= abs(b1-a1)/abs(b1+a1)\n",
    "    \n",
    "    if fa*fb >= 0\n",
    "        println(\"Error, no se encuentran raices en el intervalo\")\n",
    "    end\n",
    "    i = 1\n",
    "    while i <= maxiter\n",
    "        if sign(fp) == sign(fa)\n",
    "            a1 = p1\n",
    "            fa = fp\n",
    "        elseif sign(fp) == sign(fb)\n",
    "            b1 = p1\n",
    "            fb = fp\n",
    "        end\n",
    "        if fp == 0\n",
    "            break\n",
    "        end\n",
    "        i = i + 1\n",
    "        err_abs= abs(b1-a1)/2\n",
    "        err_rel= abs(b1-a1)/abs(b1+a1)\n",
    "        if err_rel < tol_x || (abs(fp)) < tol_y\n",
    "            break\n",
    "        end\n",
    "        p1 = (a1+b1)/2.0\n",
    "        fp = f(p1)\n",
    "    end\n",
    "    absoluto_raiz = abs(fp)\n",
    "    return[\"la raiz es: $p1\",\n",
    "        \"iteraciones $i\",\n",
    "        \"valor de la función: $fp\",\n",
    "        \"error absoluto $err_abs\",\n",
    "        \"error relativo $err_rel\",\n",
    "        \"valor absoluto de la raiz $absoluto_raiz\"]\n",
    "end\n",
    "\n",
    "            "
   ]
  },
  {
   "cell_type": "code",
   "execution_count": 2,
   "metadata": {
    "scrolled": true
   },
   "outputs": [
    {
     "data": {
      "text/plain": [
       "6-element Array{String,1}:\n",
       " \"la raiz es: 1.1655611852183934\"\n",
       " \"iteraciones 31\"\n",
       " \"valor de la función: 4.958256027975949e-11\"\n",
       " \"error absoluto 2.7939672797572257e-10\"\n",
       " \"error relativo 2.397100483320794e-10\"\n",
       " \"valor absoluto de la raiz 4.958256027975949e-11\""
      ]
     },
     "execution_count": 2,
     "metadata": {},
     "output_type": "execute_result"
    }
   ],
   "source": [
    "f(x) = tan(x) - 2x\n",
    "Biseccion(f,0.8,1.4)\n",
    "# Se puede ver que son necesarias 31 interaciones\n",
    "# Pero no se como dar el valor de la tolerancia desde afuera"
   ]
  },
  {
   "cell_type": "code",
   "execution_count": 74,
   "metadata": {},
   "outputs": [
    {
     "name": "stdout",
     "output_type": "stream",
     "text": [
      "(\"la raiz es: 1.732050807448104\", \"iteraciones 33\", \"valor de la función: -4.1837067144001594e-10\", \"error absoluto 1.1641532182693481e-10\", \"error relativo 6.721241739474685e-11\", \"valor absoluto de la raiz 4.1837067144001594e-10\")1.7320508075688772\n"
     ]
    }
   ],
   "source": [
    "g(x) = x^2 - 3\n",
    "a = Biseccion(g,1.0,2.0)\n",
    "b = sqrt(3)\n",
    "println(a,b)"
   ]
  },
  {
   "cell_type": "code",
   "execution_count": 55,
   "metadata": {},
   "outputs": [],
   "source": [
    "using Plots"
   ]
  },
  {
   "cell_type": "code",
   "execution_count": 65,
   "metadata": {},
   "outputs": [
    {
     "data": {
      "image/svg+xml": [
       "<?xml version=\"1.0\" encoding=\"utf-8\"?>\n",
       "<svg xmlns=\"http://www.w3.org/2000/svg\" xmlns:xlink=\"http://www.w3.org/1999/xlink\" width=\"600\" height=\"400\" viewBox=\"0 0 2400 1600\">\n",
       "<defs>\n",
       "  <clipPath id=\"clip610\">\n",
       "    <rect x=\"0\" y=\"0\" width=\"2400\" height=\"1600\"/>\n",
       "  </clipPath>\n",
       "</defs>\n",
       "<path clip-path=\"url(#clip610)\" d=\"\n",
       "M0 1600 L2400 1600 L2400 0 L0 0  Z\n",
       "  \" fill=\"#ffffff\" fill-rule=\"evenodd\" fill-opacity=\"1\"/>\n",
       "<defs>\n",
       "  <clipPath id=\"clip611\">\n",
       "    <rect x=\"480\" y=\"0\" width=\"1681\" height=\"1600\"/>\n",
       "  </clipPath>\n",
       "</defs>\n",
       "<path clip-path=\"url(#clip610)\" d=\"\n",
       "M179.654 1486.45 L2352.76 1486.45 L2352.76 47.2441 L179.654 47.2441  Z\n",
       "  \" fill=\"#ffffff\" fill-rule=\"evenodd\" fill-opacity=\"1\"/>\n",
       "<defs>\n",
       "  <clipPath id=\"clip612\">\n",
       "    <rect x=\"179\" y=\"47\" width=\"2174\" height=\"1440\"/>\n",
       "  </clipPath>\n",
       "</defs>\n",
       "<polyline clip-path=\"url(#clip612)\" style=\"stroke:#000000; stroke-width:2; stroke-opacity:0.1; fill:none\" points=\"\n",
       "  241.157,1486.45 241.157,47.2441 \n",
       "  \"/>\n",
       "<polyline clip-path=\"url(#clip612)\" style=\"stroke:#000000; stroke-width:2; stroke-opacity:0.1; fill:none\" points=\"\n",
       "  686.83,1486.45 686.83,47.2441 \n",
       "  \"/>\n",
       "<polyline clip-path=\"url(#clip612)\" style=\"stroke:#000000; stroke-width:2; stroke-opacity:0.1; fill:none\" points=\"\n",
       "  1132.5,1486.45 1132.5,47.2441 \n",
       "  \"/>\n",
       "<polyline clip-path=\"url(#clip612)\" style=\"stroke:#000000; stroke-width:2; stroke-opacity:0.1; fill:none\" points=\"\n",
       "  1578.18,1486.45 1578.18,47.2441 \n",
       "  \"/>\n",
       "<polyline clip-path=\"url(#clip612)\" style=\"stroke:#000000; stroke-width:2; stroke-opacity:0.1; fill:none\" points=\"\n",
       "  2023.85,1486.45 2023.85,47.2441 \n",
       "  \"/>\n",
       "<polyline clip-path=\"url(#clip610)\" style=\"stroke:#000000; stroke-width:4; stroke-opacity:1; fill:none\" points=\"\n",
       "  179.654,1486.45 2352.76,1486.45 \n",
       "  \"/>\n",
       "<polyline clip-path=\"url(#clip610)\" style=\"stroke:#000000; stroke-width:4; stroke-opacity:1; fill:none\" points=\"\n",
       "  241.157,1486.45 241.157,1469.18 \n",
       "  \"/>\n",
       "<polyline clip-path=\"url(#clip610)\" style=\"stroke:#000000; stroke-width:4; stroke-opacity:1; fill:none\" points=\"\n",
       "  686.83,1486.45 686.83,1469.18 \n",
       "  \"/>\n",
       "<polyline clip-path=\"url(#clip610)\" style=\"stroke:#000000; stroke-width:4; stroke-opacity:1; fill:none\" points=\"\n",
       "  1132.5,1486.45 1132.5,1469.18 \n",
       "  \"/>\n",
       "<polyline clip-path=\"url(#clip610)\" style=\"stroke:#000000; stroke-width:4; stroke-opacity:1; fill:none\" points=\"\n",
       "  1578.18,1486.45 1578.18,1469.18 \n",
       "  \"/>\n",
       "<polyline clip-path=\"url(#clip610)\" style=\"stroke:#000000; stroke-width:4; stroke-opacity:1; fill:none\" points=\"\n",
       "  2023.85,1486.45 2023.85,1469.18 \n",
       "  \"/>\n",
       "<path clip-path=\"url(#clip610)\" d=\"M 0 0 M194.942 1530.29 L224.617 1530.29 L224.617 1534.23 L194.942 1534.23 L194.942 1530.29 Z\" fill=\"#000000\" fill-rule=\"evenodd\" fill-opacity=\"1\" /><path clip-path=\"url(#clip610)\" d=\"M 0 0 M230.497 1543.18 L238.136 1543.18 L238.136 1516.82 L229.826 1518.49 L229.826 1514.23 L238.089 1512.56 L242.765 1512.56 L242.765 1543.18 L250.404 1543.18 L250.404 1547.12 L230.497 1547.12 L230.497 1543.18 Z\" fill=\"#000000\" fill-rule=\"evenodd\" fill-opacity=\"1\" /><path clip-path=\"url(#clip610)\" d=\"M 0 0 M255.474 1541.24 L260.358 1541.24 L260.358 1547.12 L255.474 1547.12 L255.474 1541.24 Z\" fill=\"#000000\" fill-rule=\"evenodd\" fill-opacity=\"1\" /><path clip-path=\"url(#clip610)\" d=\"M 0 0 M275.427 1515.64 Q271.816 1515.64 269.987 1519.2 Q268.182 1522.75 268.182 1529.87 Q268.182 1536.98 269.987 1540.55 Q271.816 1544.09 275.427 1544.09 Q279.061 1544.09 280.867 1540.55 Q282.696 1536.98 282.696 1529.87 Q282.696 1522.75 280.867 1519.2 Q279.061 1515.64 275.427 1515.64 M275.427 1511.93 Q281.237 1511.93 284.293 1516.54 Q287.372 1521.12 287.372 1529.87 Q287.372 1538.6 284.293 1543.21 Q281.237 1547.79 275.427 1547.79 Q269.617 1547.79 266.538 1543.21 Q263.483 1538.6 263.483 1529.87 Q263.483 1521.12 266.538 1516.54 Q269.617 1511.93 275.427 1511.93 Z\" fill=\"#000000\" fill-rule=\"evenodd\" fill-opacity=\"1\" /><path clip-path=\"url(#clip610)\" d=\"M 0 0 M640.499 1530.29 L670.175 1530.29 L670.175 1534.23 L640.499 1534.23 L640.499 1530.29 Z\" fill=\"#000000\" fill-rule=\"evenodd\" fill-opacity=\"1\" /><path clip-path=\"url(#clip610)\" d=\"M 0 0 M685.244 1515.64 Q681.633 1515.64 679.804 1519.2 Q677.999 1522.75 677.999 1529.87 Q677.999 1536.98 679.804 1540.55 Q681.633 1544.09 685.244 1544.09 Q688.878 1544.09 690.684 1540.55 Q692.513 1536.98 692.513 1529.87 Q692.513 1522.75 690.684 1519.2 Q688.878 1515.64 685.244 1515.64 M685.244 1511.93 Q691.054 1511.93 694.11 1516.54 Q697.188 1521.12 697.188 1529.87 Q697.188 1538.6 694.11 1543.21 Q691.054 1547.79 685.244 1547.79 Q679.434 1547.79 676.355 1543.21 Q673.3 1538.6 673.3 1529.87 Q673.3 1521.12 676.355 1516.54 Q679.434 1511.93 685.244 1511.93 Z\" fill=\"#000000\" fill-rule=\"evenodd\" fill-opacity=\"1\" /><path clip-path=\"url(#clip610)\" d=\"M 0 0 M702.258 1541.24 L707.142 1541.24 L707.142 1547.12 L702.258 1547.12 L702.258 1541.24 Z\" fill=\"#000000\" fill-rule=\"evenodd\" fill-opacity=\"1\" /><path clip-path=\"url(#clip610)\" d=\"M 0 0 M712.258 1512.56 L730.614 1512.56 L730.614 1516.5 L716.54 1516.5 L716.54 1524.97 Q717.559 1524.62 718.577 1524.46 Q719.596 1524.27 720.614 1524.27 Q726.401 1524.27 729.781 1527.44 Q733.16 1530.62 733.16 1536.03 Q733.16 1541.61 729.688 1544.71 Q726.216 1547.79 719.897 1547.79 Q717.721 1547.79 715.452 1547.42 Q713.207 1547.05 710.799 1546.31 L710.799 1541.61 Q712.883 1542.74 715.105 1543.3 Q717.327 1543.86 719.804 1543.86 Q723.809 1543.86 726.147 1541.75 Q728.485 1539.64 728.485 1536.03 Q728.485 1532.42 726.147 1530.31 Q723.809 1528.21 719.804 1528.21 Q717.929 1528.21 716.054 1528.62 Q714.202 1529.04 712.258 1529.92 L712.258 1512.56 Z\" fill=\"#000000\" fill-rule=\"evenodd\" fill-opacity=\"1\" /><path clip-path=\"url(#clip610)\" d=\"M 0 0 M1114.02 1515.64 Q1110.41 1515.64 1108.58 1519.2 Q1106.77 1522.75 1106.77 1529.87 Q1106.77 1536.98 1108.58 1540.55 Q1110.41 1544.09 1114.02 1544.09 Q1117.65 1544.09 1119.46 1540.55 Q1121.29 1536.98 1121.29 1529.87 Q1121.29 1522.75 1119.46 1519.2 Q1117.65 1515.64 1114.02 1515.64 M1114.02 1511.93 Q1119.83 1511.93 1122.88 1516.54 Q1125.96 1521.12 1125.96 1529.87 Q1125.96 1538.6 1122.88 1543.21 Q1119.83 1547.79 1114.02 1547.79 Q1108.21 1547.79 1105.13 1543.21 Q1102.07 1538.6 1102.07 1529.87 Q1102.07 1521.12 1105.13 1516.54 Q1108.21 1511.93 1114.02 1511.93 Z\" fill=\"#000000\" fill-rule=\"evenodd\" fill-opacity=\"1\" /><path clip-path=\"url(#clip610)\" d=\"M 0 0 M1131.03 1541.24 L1135.92 1541.24 L1135.92 1547.12 L1131.03 1547.12 L1131.03 1541.24 Z\" fill=\"#000000\" fill-rule=\"evenodd\" fill-opacity=\"1\" /><path clip-path=\"url(#clip610)\" d=\"M 0 0 M1150.99 1515.64 Q1147.38 1515.64 1145.55 1519.2 Q1143.74 1522.75 1143.74 1529.87 Q1143.74 1536.98 1145.55 1540.55 Q1147.38 1544.09 1150.99 1544.09 Q1154.62 1544.09 1156.43 1540.55 Q1158.26 1536.98 1158.26 1529.87 Q1158.26 1522.75 1156.43 1519.2 Q1154.62 1515.64 1150.99 1515.64 M1150.99 1511.93 Q1156.8 1511.93 1159.85 1516.54 Q1162.93 1521.12 1162.93 1529.87 Q1162.93 1538.6 1159.85 1543.21 Q1156.8 1547.79 1150.99 1547.79 Q1145.18 1547.79 1142.1 1543.21 Q1139.04 1538.6 1139.04 1529.87 Q1139.04 1521.12 1142.1 1516.54 Q1145.18 1511.93 1150.99 1511.93 Z\" fill=\"#000000\" fill-rule=\"evenodd\" fill-opacity=\"1\" /><path clip-path=\"url(#clip610)\" d=\"M 0 0 M1560.19 1515.64 Q1556.58 1515.64 1554.75 1519.2 Q1552.94 1522.75 1552.94 1529.87 Q1552.94 1536.98 1554.75 1540.55 Q1556.58 1544.09 1560.19 1544.09 Q1563.82 1544.09 1565.63 1540.55 Q1567.46 1536.98 1567.46 1529.87 Q1567.46 1522.75 1565.63 1519.2 Q1563.82 1515.64 1560.19 1515.64 M1560.19 1511.93 Q1566 1511.93 1569.06 1516.54 Q1572.13 1521.12 1572.13 1529.87 Q1572.13 1538.6 1569.06 1543.21 Q1566 1547.79 1560.19 1547.79 Q1554.38 1547.79 1551.3 1543.21 Q1548.25 1538.6 1548.25 1529.87 Q1548.25 1521.12 1551.3 1516.54 Q1554.38 1511.93 1560.19 1511.93 Z\" fill=\"#000000\" fill-rule=\"evenodd\" fill-opacity=\"1\" /><path clip-path=\"url(#clip610)\" d=\"M 0 0 M1577.2 1541.24 L1582.09 1541.24 L1582.09 1547.12 L1577.2 1547.12 L1577.2 1541.24 Z\" fill=\"#000000\" fill-rule=\"evenodd\" fill-opacity=\"1\" /><path clip-path=\"url(#clip610)\" d=\"M 0 0 M1587.2 1512.56 L1605.56 1512.56 L1605.56 1516.5 L1591.49 1516.5 L1591.49 1524.97 Q1592.5 1524.62 1593.52 1524.46 Q1594.54 1524.27 1595.56 1524.27 Q1601.35 1524.27 1604.73 1527.44 Q1608.11 1530.62 1608.11 1536.03 Q1608.11 1541.61 1604.63 1544.71 Q1601.16 1547.79 1594.84 1547.79 Q1592.67 1547.79 1590.4 1547.42 Q1588.15 1547.05 1585.75 1546.31 L1585.75 1541.61 Q1587.83 1542.74 1590.05 1543.3 Q1592.27 1543.86 1594.75 1543.86 Q1598.75 1543.86 1601.09 1541.75 Q1603.43 1539.64 1603.43 1536.03 Q1603.43 1532.42 1601.09 1530.31 Q1598.75 1528.21 1594.75 1528.21 Q1592.87 1528.21 1591 1528.62 Q1589.15 1529.04 1587.2 1529.92 L1587.2 1512.56 Z\" fill=\"#000000\" fill-rule=\"evenodd\" fill-opacity=\"1\" /><path clip-path=\"url(#clip610)\" d=\"M 0 0 M1995.75 1543.18 L2003.39 1543.18 L2003.39 1516.82 L1995.08 1518.49 L1995.08 1514.23 L2003.34 1512.56 L2008.02 1512.56 L2008.02 1543.18 L2015.65 1543.18 L2015.65 1547.12 L1995.75 1547.12 L1995.75 1543.18 Z\" fill=\"#000000\" fill-rule=\"evenodd\" fill-opacity=\"1\" /><path clip-path=\"url(#clip610)\" d=\"M 0 0 M2020.72 1541.24 L2025.61 1541.24 L2025.61 1547.12 L2020.72 1547.12 L2020.72 1541.24 Z\" fill=\"#000000\" fill-rule=\"evenodd\" fill-opacity=\"1\" /><path clip-path=\"url(#clip610)\" d=\"M 0 0 M2040.68 1515.64 Q2037.07 1515.64 2035.24 1519.2 Q2033.43 1522.75 2033.43 1529.87 Q2033.43 1536.98 2035.24 1540.55 Q2037.07 1544.09 2040.68 1544.09 Q2044.31 1544.09 2046.12 1540.55 Q2047.95 1536.98 2047.95 1529.87 Q2047.95 1522.75 2046.12 1519.2 Q2044.31 1515.64 2040.68 1515.64 M2040.68 1511.93 Q2046.49 1511.93 2049.54 1516.54 Q2052.62 1521.12 2052.62 1529.87 Q2052.62 1538.6 2049.54 1543.21 Q2046.49 1547.79 2040.68 1547.79 Q2034.87 1547.79 2031.79 1543.21 Q2028.73 1538.6 2028.73 1529.87 Q2028.73 1521.12 2031.79 1516.54 Q2034.87 1511.93 2040.68 1511.93 Z\" fill=\"#000000\" fill-rule=\"evenodd\" fill-opacity=\"1\" /><polyline clip-path=\"url(#clip612)\" style=\"stroke:#000000; stroke-width:2; stroke-opacity:0.1; fill:none\" points=\"\n",
       "  179.654,1384.64 2352.76,1384.64 \n",
       "  \"/>\n",
       "<polyline clip-path=\"url(#clip612)\" style=\"stroke:#000000; stroke-width:2; stroke-opacity:0.1; fill:none\" points=\"\n",
       "  179.654,953.023 2352.76,953.023 \n",
       "  \"/>\n",
       "<polyline clip-path=\"url(#clip612)\" style=\"stroke:#000000; stroke-width:2; stroke-opacity:0.1; fill:none\" points=\"\n",
       "  179.654,521.407 2352.76,521.407 \n",
       "  \"/>\n",
       "<polyline clip-path=\"url(#clip612)\" style=\"stroke:#000000; stroke-width:2; stroke-opacity:0.1; fill:none\" points=\"\n",
       "  179.654,89.7912 2352.76,89.7912 \n",
       "  \"/>\n",
       "<polyline clip-path=\"url(#clip610)\" style=\"stroke:#000000; stroke-width:4; stroke-opacity:1; fill:none\" points=\"\n",
       "  179.654,1486.45 179.654,47.2441 \n",
       "  \"/>\n",
       "<polyline clip-path=\"url(#clip610)\" style=\"stroke:#000000; stroke-width:4; stroke-opacity:1; fill:none\" points=\"\n",
       "  179.654,1384.64 205.731,1384.64 \n",
       "  \"/>\n",
       "<polyline clip-path=\"url(#clip610)\" style=\"stroke:#000000; stroke-width:4; stroke-opacity:1; fill:none\" points=\"\n",
       "  179.654,953.023 205.731,953.023 \n",
       "  \"/>\n",
       "<polyline clip-path=\"url(#clip610)\" style=\"stroke:#000000; stroke-width:4; stroke-opacity:1; fill:none\" points=\"\n",
       "  179.654,521.407 205.731,521.407 \n",
       "  \"/>\n",
       "<polyline clip-path=\"url(#clip610)\" style=\"stroke:#000000; stroke-width:4; stroke-opacity:1; fill:none\" points=\"\n",
       "  179.654,89.7912 205.731,89.7912 \n",
       "  \"/>\n",
       "<path clip-path=\"url(#clip610)\" d=\"M 0 0 M50.9921 1385.09 L80.6679 1385.09 L80.6679 1389.03 L50.9921 1389.03 L50.9921 1385.09 Z\" fill=\"#000000\" fill-rule=\"evenodd\" fill-opacity=\"1\" /><path clip-path=\"url(#clip610)\" d=\"M 0 0 M95.7373 1370.44 Q92.1262 1370.44 90.2975 1374 Q88.4919 1377.54 88.4919 1384.67 Q88.4919 1391.78 90.2975 1395.34 Q92.1262 1398.89 95.7373 1398.89 Q99.3715 1398.89 101.177 1395.34 Q103.006 1391.78 103.006 1384.67 Q103.006 1377.54 101.177 1374 Q99.3715 1370.44 95.7373 1370.44 M95.7373 1366.73 Q101.547 1366.73 104.603 1371.34 Q107.682 1375.92 107.682 1384.67 Q107.682 1393.4 104.603 1398.01 Q101.547 1402.59 95.7373 1402.59 Q89.9271 1402.59 86.8484 1398.01 Q83.7929 1393.4 83.7929 1384.67 Q83.7929 1375.92 86.8484 1371.34 Q89.9271 1366.73 95.7373 1366.73 Z\" fill=\"#000000\" fill-rule=\"evenodd\" fill-opacity=\"1\" /><path clip-path=\"url(#clip610)\" d=\"M 0 0 M112.751 1396.04 L117.635 1396.04 L117.635 1401.92 L112.751 1401.92 L112.751 1396.04 Z\" fill=\"#000000\" fill-rule=\"evenodd\" fill-opacity=\"1\" /><path clip-path=\"url(#clip610)\" d=\"M 0 0 M122.751 1367.36 L141.107 1367.36 L141.107 1371.29 L127.033 1371.29 L127.033 1379.77 Q128.052 1379.42 129.07 1379.26 Q130.089 1379.07 131.107 1379.07 Q136.894 1379.07 140.274 1382.24 Q143.654 1385.41 143.654 1390.83 Q143.654 1396.41 140.181 1399.51 Q136.709 1402.59 130.39 1402.59 Q128.214 1402.59 125.945 1402.22 Q123.7 1401.85 121.293 1401.11 L121.293 1396.41 Q123.376 1397.54 125.598 1398.1 Q127.82 1398.65 130.297 1398.65 Q134.302 1398.65 136.64 1396.55 Q138.978 1394.44 138.978 1390.83 Q138.978 1387.22 136.64 1385.11 Q134.302 1383.01 130.297 1383.01 Q128.422 1383.01 126.547 1383.42 Q124.695 1383.84 122.751 1384.72 L122.751 1367.36 Z\" fill=\"#000000\" fill-rule=\"evenodd\" fill-opacity=\"1\" /><path clip-path=\"url(#clip610)\" d=\"M 0 0 M94.7419 938.822 Q91.1308 938.822 89.3021 942.386 Q87.4966 945.928 87.4966 953.058 Q87.4966 960.164 89.3021 963.729 Q91.1308 967.271 94.7419 967.271 Q98.3761 967.271 100.182 963.729 Q102.01 960.164 102.01 953.058 Q102.01 945.928 100.182 942.386 Q98.3761 938.822 94.7419 938.822 M94.7419 935.118 Q100.552 935.118 103.608 939.724 Q106.686 944.308 106.686 953.058 Q106.686 961.784 103.608 966.391 Q100.552 970.974 94.7419 970.974 Q88.9317 970.974 85.8531 966.391 Q82.7975 961.784 82.7975 953.058 Q82.7975 944.308 85.8531 939.724 Q88.9317 935.118 94.7419 935.118 Z\" fill=\"#000000\" fill-rule=\"evenodd\" fill-opacity=\"1\" /><path clip-path=\"url(#clip610)\" d=\"M 0 0 M111.756 964.423 L116.64 964.423 L116.64 970.303 L111.756 970.303 L111.756 964.423 Z\" fill=\"#000000\" fill-rule=\"evenodd\" fill-opacity=\"1\" /><path clip-path=\"url(#clip610)\" d=\"M 0 0 M131.709 938.822 Q128.098 938.822 126.27 942.386 Q124.464 945.928 124.464 953.058 Q124.464 960.164 126.27 963.729 Q128.098 967.271 131.709 967.271 Q135.344 967.271 137.149 963.729 Q138.978 960.164 138.978 953.058 Q138.978 945.928 137.149 942.386 Q135.344 938.822 131.709 938.822 M131.709 935.118 Q137.519 935.118 140.575 939.724 Q143.654 944.308 143.654 953.058 Q143.654 961.784 140.575 966.391 Q137.519 970.974 131.709 970.974 Q125.899 970.974 122.82 966.391 Q119.765 961.784 119.765 953.058 Q119.765 944.308 122.82 939.724 Q125.899 935.118 131.709 935.118 Z\" fill=\"#000000\" fill-rule=\"evenodd\" fill-opacity=\"1\" /><path clip-path=\"url(#clip610)\" d=\"M 0 0 M95.7373 507.206 Q92.1262 507.206 90.2975 510.771 Q88.4919 514.312 88.4919 521.442 Q88.4919 528.548 90.2975 532.113 Q92.1262 535.655 95.7373 535.655 Q99.3715 535.655 101.177 532.113 Q103.006 528.548 103.006 521.442 Q103.006 514.312 101.177 510.771 Q99.3715 507.206 95.7373 507.206 M95.7373 503.502 Q101.547 503.502 104.603 508.109 Q107.682 512.692 107.682 521.442 Q107.682 530.169 104.603 534.775 Q101.547 539.358 95.7373 539.358 Q89.9271 539.358 86.8484 534.775 Q83.7929 530.169 83.7929 521.442 Q83.7929 512.692 86.8484 508.109 Q89.9271 503.502 95.7373 503.502 Z\" fill=\"#000000\" fill-rule=\"evenodd\" fill-opacity=\"1\" /><path clip-path=\"url(#clip610)\" d=\"M 0 0 M112.751 532.807 L117.635 532.807 L117.635 538.687 L112.751 538.687 L112.751 532.807 Z\" fill=\"#000000\" fill-rule=\"evenodd\" fill-opacity=\"1\" /><path clip-path=\"url(#clip610)\" d=\"M 0 0 M122.751 504.127 L141.107 504.127 L141.107 508.062 L127.033 508.062 L127.033 516.534 Q128.052 516.187 129.07 516.025 Q130.089 515.84 131.107 515.84 Q136.894 515.84 140.274 519.011 Q143.654 522.183 143.654 527.599 Q143.654 533.178 140.181 536.28 Q136.709 539.358 130.39 539.358 Q128.214 539.358 125.945 538.988 Q123.7 538.618 121.293 537.877 L121.293 533.178 Q123.376 534.312 125.598 534.868 Q127.82 535.423 130.297 535.423 Q134.302 535.423 136.64 533.317 Q138.978 531.21 138.978 527.599 Q138.978 523.988 136.64 521.882 Q134.302 519.775 130.297 519.775 Q128.422 519.775 126.547 520.192 Q124.695 520.608 122.751 521.488 L122.751 504.127 Z\" fill=\"#000000\" fill-rule=\"evenodd\" fill-opacity=\"1\" /><path clip-path=\"url(#clip610)\" d=\"M 0 0 M86.779 103.136 L94.4178 103.136 L94.4178 76.7704 L86.1077 78.4371 L86.1077 74.1778 L94.3715 72.5112 L99.0474 72.5112 L99.0474 103.136 L106.686 103.136 L106.686 107.071 L86.779 107.071 L86.779 103.136 Z\" fill=\"#000000\" fill-rule=\"evenodd\" fill-opacity=\"1\" /><path clip-path=\"url(#clip610)\" d=\"M 0 0 M111.756 101.192 L116.64 101.192 L116.64 107.071 L111.756 107.071 L111.756 101.192 Z\" fill=\"#000000\" fill-rule=\"evenodd\" fill-opacity=\"1\" /><path clip-path=\"url(#clip610)\" d=\"M 0 0 M131.709 75.5899 Q128.098 75.5899 126.27 79.1547 Q124.464 82.6963 124.464 89.8259 Q124.464 96.9323 126.27 100.497 Q128.098 104.039 131.709 104.039 Q135.344 104.039 137.149 100.497 Q138.978 96.9323 138.978 89.8259 Q138.978 82.6963 137.149 79.1547 Q135.344 75.5899 131.709 75.5899 M131.709 71.8862 Q137.519 71.8862 140.575 76.4926 Q143.654 81.0759 143.654 89.8259 Q143.654 98.5527 140.575 103.159 Q137.519 107.742 131.709 107.742 Q125.899 107.742 122.82 103.159 Q119.765 98.5527 119.765 89.8259 Q119.765 81.0759 122.82 76.4926 Q125.899 71.8862 131.709 71.8862 Z\" fill=\"#000000\" fill-rule=\"evenodd\" fill-opacity=\"1\" /><polyline clip-path=\"url(#clip612)\" style=\"stroke:#009af9; stroke-width:4; stroke-opacity:1; fill:none\" points=\"\n",
       "  241.157,570.963 250.07,559.11 258.983,548.131 267.897,537.982 276.81,528.622 285.724,520.011 294.637,512.114 303.551,504.897 312.464,498.327 321.378,492.376 \n",
       "  330.291,487.014 339.205,482.216 348.118,477.956 357.032,474.21 365.945,470.956 374.859,468.174 383.772,465.843 392.685,463.944 401.599,462.46 410.512,461.374 \n",
       "  419.426,460.669 428.339,460.33 437.253,460.343 446.166,460.695 455.08,461.371 463.993,462.359 472.907,463.648 481.82,465.226 490.734,467.082 499.647,469.206 \n",
       "  508.56,471.589 517.474,474.219 526.387,477.09 535.301,480.191 544.214,483.515 553.128,487.054 562.041,490.8 570.955,494.746 579.868,498.884 588.782,503.209 \n",
       "  597.695,507.713 606.609,512.391 615.522,517.236 624.435,522.243 633.349,527.406 642.262,532.72 651.176,538.179 660.089,543.779 669.003,549.515 677.916,555.383 \n",
       "  686.83,561.377 695.743,567.493 704.657,573.728 713.57,580.077 722.484,586.537 731.397,593.103 740.31,599.772 749.224,606.54 758.137,613.404 767.051,620.36 \n",
       "  775.964,627.406 784.878,634.538 793.791,641.753 802.705,649.047 811.618,656.419 820.532,663.865 829.445,671.382 838.359,678.968 847.272,686.62 856.185,694.336 \n",
       "  865.099,702.113 874.012,709.948 882.926,717.839 891.839,725.784 900.753,733.781 909.666,741.826 918.58,749.919 927.493,758.056 936.407,766.236 945.32,774.457 \n",
       "  954.234,782.716 963.147,791.011 972.061,799.341 980.974,807.704 989.887,816.097 998.801,824.518 1007.71,832.966 1016.63,841.439 1025.54,849.935 1034.45,858.452 \n",
       "  1043.37,866.989 1052.28,875.543 1061.2,884.112 1070.11,892.696 1079.02,901.291 1087.94,909.897 1096.85,918.512 1105.76,927.134 1114.68,935.761 1123.59,944.391 \n",
       "  1132.5,953.023 1141.42,961.655 1150.33,970.285 1159.24,978.912 1168.16,987.534 1177.07,996.149 1185.98,1004.75 1194.9,1013.35 1203.81,1021.93 1212.72,1030.5 \n",
       "  1221.64,1039.06 1230.55,1047.59 1239.46,1056.11 1248.38,1064.61 1257.29,1073.08 1266.2,1081.53 1275.12,1089.95 1284.03,1098.34 1292.95,1106.7 1301.86,1115.03 \n",
       "  1310.77,1123.33 1319.69,1131.59 1328.6,1139.81 1337.51,1147.99 1346.43,1156.13 1355.34,1164.22 1364.25,1172.27 1373.17,1180.26 1382.08,1188.21 1390.99,1196.1 \n",
       "  1399.91,1203.93 1408.82,1211.71 1417.73,1219.43 1426.65,1227.08 1435.56,1234.66 1444.47,1242.18 1453.39,1249.63 1462.3,1257 1471.21,1264.29 1480.13,1271.51 \n",
       "  1489.04,1278.64 1497.95,1285.69 1506.87,1292.64 1515.78,1299.51 1524.7,1306.27 1533.61,1312.94 1542.52,1319.51 1551.44,1325.97 1560.35,1332.32 1569.26,1338.55 \n",
       "  1578.18,1344.67 1587.09,1350.66 1596,1356.53 1604.92,1362.27 1613.83,1367.87 1622.74,1373.33 1631.66,1378.64 1640.57,1383.8 1649.48,1388.81 1658.4,1393.65 \n",
       "  1667.31,1398.33 1676.22,1402.84 1685.14,1407.16 1694.05,1411.3 1702.96,1415.25 1711.88,1418.99 1720.79,1422.53 1729.7,1425.85 1738.62,1428.96 1747.53,1431.83 \n",
       "  1756.45,1434.46 1765.36,1436.84 1774.27,1438.96 1783.19,1440.82 1792.1,1442.4 1801.01,1443.69 1809.93,1444.68 1818.84,1445.35 1827.75,1445.7 1836.67,1445.72 \n",
       "  1845.58,1445.38 1854.49,1444.67 1863.41,1443.59 1872.32,1442.1 1881.23,1440.2 1890.15,1437.87 1899.06,1435.09 1907.97,1431.84 1916.89,1428.09 1925.8,1423.83 \n",
       "  1934.71,1419.03 1943.63,1413.67 1952.54,1407.72 1961.45,1401.15 1970.37,1393.93 1979.28,1386.04 1988.2,1377.42 1997.11,1368.06 2006.02,1357.91 2014.94,1346.94 \n",
       "  2023.85,1335.08 2032.76,1322.31 2041.68,1308.56 2050.59,1293.79 2059.5,1277.93 2068.42,1260.92 2077.33,1242.7 2086.24,1223.19 2095.16,1202.31 2104.07,1179.97 \n",
       "  2112.98,1156.09 2121.9,1130.56 2130.81,1103.26 2139.72,1074.09 2148.64,1042.91 2157.55,1009.57 2166.46,973.914 2175.38,935.775 2184.29,894.956 2193.2,851.248 \n",
       "  2202.12,804.416 2211.03,754.199 2219.95,700.308 2228.86,642.419 2237.77,580.167 2246.69,513.146 2255.6,440.894 2264.51,362.889 2273.43,278.537 2282.34,187.159 \n",
       "  2291.25,87.9763 \n",
       "  \"/>\n",
       "<path clip-path=\"url(#clip610)\" d=\"\n",
       "M1987.85 216.178 L2280.32 216.178 L2280.32 95.2176 L1987.85 95.2176  Z\n",
       "  \" fill=\"#ffffff\" fill-rule=\"evenodd\" fill-opacity=\"1\"/>\n",
       "<polyline clip-path=\"url(#clip610)\" style=\"stroke:#000000; stroke-width:4; stroke-opacity:1; fill:none\" points=\"\n",
       "  1987.85,216.178 2280.32,216.178 2280.32,95.2176 1987.85,95.2176 1987.85,216.178 \n",
       "  \"/>\n",
       "<polyline clip-path=\"url(#clip610)\" style=\"stroke:#009af9; stroke-width:4; stroke-opacity:1; fill:none\" points=\"\n",
       "  2011.99,155.698 2156.86,155.698 \n",
       "  \"/>\n",
       "<path clip-path=\"url(#clip610)\" d=\"M 0 0 M2194.85 175.385 Q2193.05 180.015 2191.33 181.427 Q2189.62 182.839 2186.75 182.839 L2183.35 182.839 L2183.35 179.274 L2185.85 179.274 Q2187.61 179.274 2188.58 178.44 Q2189.55 177.607 2190.73 174.505 L2191.5 172.561 L2181.01 147.052 L2185.52 147.052 L2193.63 167.329 L2201.73 147.052 L2206.24 147.052 L2194.85 175.385 Z\" fill=\"#000000\" fill-rule=\"evenodd\" fill-opacity=\"1\" /><path clip-path=\"url(#clip610)\" d=\"M 0 0 M2212.12 169.042 L2219.76 169.042 L2219.76 142.677 L2211.45 144.343 L2211.45 140.084 L2219.71 138.418 L2224.39 138.418 L2224.39 169.042 L2232.03 169.042 L2232.03 172.978 L2212.12 172.978 L2212.12 169.042 Z\" fill=\"#000000\" fill-rule=\"evenodd\" fill-opacity=\"1\" /></svg>\n"
      ]
     },
     "execution_count": 65,
     "metadata": {},
     "output_type": "execute_result"
    }
   ],
   "source": [
    "x = -1:0.01:1.3\n",
    "plot(x,f)\n",
    "#plot(f)"
   ]
  },
  {
   "cell_type": "markdown",
   "metadata": {},
   "source": [
    "# Problema 2\n",
    "\n",
    "Desarrolle una función llamada `newton_raphson` para encontrar la raíz de una función arbitratia\n",
    "$f:x\\in \\mathbb{R}\\to f(x)\\in \\mathbb{R}$ utilizando el método de Newton--Raphson, dando como datos de entrada la función $f$, su derivada $f^{\\prime}$, una estimación inicial $x_0$, la tolerancia $\\varepsilon_x$, la tolerancia $\\varepsilon_f$ y un número máximo de iteraciones `maxiter`. Considere la estimación del error absoluto $A_N=|x_N-x_{N-1}|$ y del error relativo $R_N=|x_N - x_{N-1}|/|x_N|$.\n",
    "\n",
    "La función `newton_raphson` debe finalizar cuando: i) $R_N < \\varepsilon_x$, o ii) $|f(x_N)| < \\varepsilon_f$ o iii) $N \\geq$ `maxiter`.\n",
    "\n",
    "La función `newton_raphson` debe retornar la tupla $N$, $x_N$, $f(x_N)$, $A_N$, $R_N$ y $|f(x_N)|$.\n",
    "\n",
    "Utilice la función `newton_raphson` para resolver los incisos 1. y 2. del problema 1 conn $\\varepsilon_x=\\varepsilon_f=10^{-9}$. \n",
    "\n",
    "Compare la cantidad de evaluaciones de funciones que realizan por iteración estos métodos (el de la bisección y el de Newton-Raphson). Tenga en cuenta para ello que el de Newton-Raphsone evalúa (además de $f$) la función derivada $f^{\\prime}$. Compare luego el número total de evaluaciones de funciones realizado por estos métodos."
   ]
  },
  {
   "cell_type": "code",
   "execution_count": 38,
   "metadata": {},
   "outputs": [
    {
     "data": {
      "text/plain": [
       "newton_raphson (generic function with 1 method)"
      ]
     },
     "execution_count": 38,
     "metadata": {},
     "output_type": "execute_result"
    }
   ],
   "source": [
    "function newton_raphson(f::Function,\n",
    "    der_f::Function,\n",
    "    x_0::Float64;\n",
    "    tol_x::Float64=10^(-9),\n",
    "    tol_y::Float64=10^(-9),\n",
    "    maxiter::Int64=1000)\n",
    "    p0 = f(x_0)\n",
    "    p1 = p0\n",
    "    N = maxiter\n",
    "    fp0 = f(p0)\n",
    "    err_abs = abs(p1-p0)\n",
    "    err_rel = abs(p1-p0)/abs(p1)\n",
    "    i = 1\n",
    "    while i < N\n",
    "        if der_f(x_0) == 0\n",
    "            break\n",
    "        end\n",
    "       \n",
    "        p1 = p0 - ((fp0)/(der_f(p0)))\n",
    "        err_abs = abs(p1-p0)\n",
    "        err_rel = abs(p1-p0)/abs(p1)\n",
    "        #println(p1,\"    \",p0)\n",
    "        p0 = p1\n",
    "        fp0 = f(p0)\n",
    "        if (err_rel < tol_x) || ((abs(f(p1))) < tol_y)\n",
    "            break #error(\"Se han superado las tolerancias\")\n",
    "        end\n",
    "        i += 1\n",
    "    end\n",
    "    absoluto_raiz = abs(fp0)\n",
    "    return[\"la raiz es: $p0\",\n",
    "        \"iteraciones $i\",\n",
    "        \"valor de la función: $fp0\",\n",
    "        \"error absoluto $err_abs\",\n",
    "        \"error relativo $err_rel\",\n",
    "        \"valor absoluto de la raiz $absoluto_raiz\"]\n",
    "end"
   ]
  },
  {
   "cell_type": "code",
   "execution_count": 69,
   "metadata": {},
   "outputs": [
    {
     "name": "stdout",
     "output_type": "stream",
     "text": [
      "1.30565767982137    1.0021024479679785\n",
      "1.220368426137392    1.30565767982137\n",
      "1.1748573667543274    1.220368426137392\n",
      "1.1658487013762642    1.1748573667543274\n",
      "1.165561464683038    1.1658487013762642\n",
      "1.1655611852074754    1.165561464683038\n"
     ]
    },
    {
     "data": {
      "text/plain": [
       "6-element Array{String,1}:\n",
       " \"la raiz es: 1.1655611852074754\"\n",
       " \"iteraciones 6\"\n",
       " \"valor de la función: 1.1710632463746151e-12\"\n",
       " \"error absoluto 2.7947556247021055e-7\"\n",
       " \"error relativo 2.397776847900632e-7\"\n",
       " \"valor absoluto de la raiz 1.1710632463746151e-12\""
      ]
     },
     "execution_count": 69,
     "metadata": {},
     "output_type": "execute_result"
    }
   ],
   "source": [
    "# inciso 1\n",
    "# 1.1655611852183934\n",
    "f(x) = tan(x) - 2x\n",
    "der_f(x) = 1/(cos(x)^2) - 2\n",
    "newton_raphson(f,der_f,1.3)"
   ]
  },
  {
   "cell_type": "code",
   "execution_count": 54,
   "metadata": {},
   "outputs": [
    {
     "name": "stdout",
     "output_type": "stream",
     "text": [
      "2.0    1.0\n",
      "1.75    2.0\n",
      "1.7321428571428572    1.75\n",
      "1.7320508100147276    1.7321428571428572\n",
      "1.7320508075688772    1.7320508100147276\n",
      "[\"la raiz es: 1.7320508075688772\", \"iteraciones 5\", \"valor de la función: -4.440892098500626e-16\", \"error absoluto 2.445850411092465e-9\", \"error relativo 1.4121123932417916e-9\", \"valor absoluto de la raiz 4.440892098500626e-16\"]1.7320508075688772\n"
     ]
    }
   ],
   "source": [
    "# inciso 2\n",
    "g(x) = x^2 - 3\n",
    "der_g(x) = 2x\n",
    "a = newton_raphson(g,der_g,2.0)\n",
    "b = sqrt(3)\n",
    "println(a,b)"
   ]
  },
  {
   "cell_type": "code",
   "execution_count": 2,
   "metadata": {},
   "outputs": [],
   "source": [
    "using Plots"
   ]
  },
  {
   "cell_type": "code",
   "execution_count": 107,
   "metadata": {},
   "outputs": [
    {
     "data": {
      "image/svg+xml": [
       "<?xml version=\"1.0\" encoding=\"utf-8\"?>\n",
       "<svg xmlns=\"http://www.w3.org/2000/svg\" xmlns:xlink=\"http://www.w3.org/1999/xlink\" width=\"600\" height=\"400\" viewBox=\"0 0 2400 1600\">\n",
       "<defs>\n",
       "  <clipPath id=\"clip390\">\n",
       "    <rect x=\"0\" y=\"0\" width=\"2400\" height=\"1600\"/>\n",
       "  </clipPath>\n",
       "</defs>\n",
       "<path clip-path=\"url(#clip390)\" d=\"\n",
       "M0 1600 L2400 1600 L2400 0 L0 0  Z\n",
       "  \" fill=\"#ffffff\" fill-rule=\"evenodd\" fill-opacity=\"1\"/>\n",
       "<defs>\n",
       "  <clipPath id=\"clip391\">\n",
       "    <rect x=\"480\" y=\"0\" width=\"1681\" height=\"1600\"/>\n",
       "  </clipPath>\n",
       "</defs>\n",
       "<path clip-path=\"url(#clip390)\" d=\"\n",
       "M142.455 1486.45 L2352.76 1486.45 L2352.76 47.2441 L142.455 47.2441  Z\n",
       "  \" fill=\"#ffffff\" fill-rule=\"evenodd\" fill-opacity=\"1\"/>\n",
       "<defs>\n",
       "  <clipPath id=\"clip392\">\n",
       "    <rect x=\"142\" y=\"47\" width=\"2211\" height=\"1440\"/>\n",
       "  </clipPath>\n",
       "</defs>\n",
       "<polyline clip-path=\"url(#clip392)\" style=\"stroke:#000000; stroke-width:2; stroke-opacity:0.1; fill:none\" points=\"\n",
       "  205.01,1486.45 205.01,47.2441 \n",
       "  \"/>\n",
       "<polyline clip-path=\"url(#clip392)\" style=\"stroke:#000000; stroke-width:2; stroke-opacity:0.1; fill:none\" points=\"\n",
       "  726.308,1486.45 726.308,47.2441 \n",
       "  \"/>\n",
       "<polyline clip-path=\"url(#clip392)\" style=\"stroke:#000000; stroke-width:2; stroke-opacity:0.1; fill:none\" points=\"\n",
       "  1247.61,1486.45 1247.61,47.2441 \n",
       "  \"/>\n",
       "<polyline clip-path=\"url(#clip392)\" style=\"stroke:#000000; stroke-width:2; stroke-opacity:0.1; fill:none\" points=\"\n",
       "  1768.9,1486.45 1768.9,47.2441 \n",
       "  \"/>\n",
       "<polyline clip-path=\"url(#clip392)\" style=\"stroke:#000000; stroke-width:2; stroke-opacity:0.1; fill:none\" points=\"\n",
       "  2290.2,1486.45 2290.2,47.2441 \n",
       "  \"/>\n",
       "<polyline clip-path=\"url(#clip390)\" style=\"stroke:#000000; stroke-width:4; stroke-opacity:1; fill:none\" points=\"\n",
       "  142.455,1486.45 2352.76,1486.45 \n",
       "  \"/>\n",
       "<polyline clip-path=\"url(#clip390)\" style=\"stroke:#000000; stroke-width:4; stroke-opacity:1; fill:none\" points=\"\n",
       "  205.01,1486.45 205.01,1469.18 \n",
       "  \"/>\n",
       "<polyline clip-path=\"url(#clip390)\" style=\"stroke:#000000; stroke-width:4; stroke-opacity:1; fill:none\" points=\"\n",
       "  726.308,1486.45 726.308,1469.18 \n",
       "  \"/>\n",
       "<polyline clip-path=\"url(#clip390)\" style=\"stroke:#000000; stroke-width:4; stroke-opacity:1; fill:none\" points=\"\n",
       "  1247.61,1486.45 1247.61,1469.18 \n",
       "  \"/>\n",
       "<polyline clip-path=\"url(#clip390)\" style=\"stroke:#000000; stroke-width:4; stroke-opacity:1; fill:none\" points=\"\n",
       "  1768.9,1486.45 1768.9,1469.18 \n",
       "  \"/>\n",
       "<polyline clip-path=\"url(#clip390)\" style=\"stroke:#000000; stroke-width:4; stroke-opacity:1; fill:none\" points=\"\n",
       "  2290.2,1486.45 2290.2,1469.18 \n",
       "  \"/>\n",
       "<path clip-path=\"url(#clip390)\" d=\"M 0 0 M163.402 1543.18 L171.041 1543.18 L171.041 1516.82 L162.731 1518.49 L162.731 1514.23 L170.994 1512.56 L175.67 1512.56 L175.67 1543.18 L183.309 1543.18 L183.309 1547.12 L163.402 1547.12 L163.402 1543.18 Z\" fill=\"#000000\" fill-rule=\"evenodd\" fill-opacity=\"1\" /><path clip-path=\"url(#clip390)\" d=\"M 0 0 M188.379 1541.24 L193.263 1541.24 L193.263 1547.12 L188.379 1547.12 L188.379 1541.24 Z\" fill=\"#000000\" fill-rule=\"evenodd\" fill-opacity=\"1\" /><path clip-path=\"url(#clip390)\" d=\"M 0 0 M208.332 1515.64 Q204.721 1515.64 202.892 1519.2 Q201.087 1522.75 201.087 1529.87 Q201.087 1536.98 202.892 1540.55 Q204.721 1544.09 208.332 1544.09 Q211.966 1544.09 213.772 1540.55 Q215.601 1536.98 215.601 1529.87 Q215.601 1522.75 213.772 1519.2 Q211.966 1515.64 208.332 1515.64 M208.332 1511.93 Q214.142 1511.93 217.198 1516.54 Q220.277 1521.12 220.277 1529.87 Q220.277 1538.6 217.198 1543.21 Q214.142 1547.79 208.332 1547.79 Q202.522 1547.79 199.443 1543.21 Q196.388 1538.6 196.388 1529.87 Q196.388 1521.12 199.443 1516.54 Q202.522 1511.93 208.332 1511.93 Z\" fill=\"#000000\" fill-rule=\"evenodd\" fill-opacity=\"1\" /><path clip-path=\"url(#clip390)\" d=\"M 0 0 M235.346 1515.64 Q231.735 1515.64 229.906 1519.2 Q228.101 1522.75 228.101 1529.87 Q228.101 1536.98 229.906 1540.55 Q231.735 1544.09 235.346 1544.09 Q238.98 1544.09 240.786 1540.55 Q242.614 1536.98 242.614 1529.87 Q242.614 1522.75 240.786 1519.2 Q238.98 1515.64 235.346 1515.64 M235.346 1511.93 Q241.156 1511.93 244.212 1516.54 Q247.29 1521.12 247.29 1529.87 Q247.29 1538.6 244.212 1543.21 Q241.156 1547.79 235.346 1547.79 Q229.536 1547.79 226.457 1543.21 Q223.402 1538.6 223.402 1529.87 Q223.402 1521.12 226.457 1516.54 Q229.536 1511.93 235.346 1511.93 Z\" fill=\"#000000\" fill-rule=\"evenodd\" fill-opacity=\"1\" /><path clip-path=\"url(#clip390)\" d=\"M 0 0 M685.996 1543.18 L693.634 1543.18 L693.634 1516.82 L685.324 1518.49 L685.324 1514.23 L693.588 1512.56 L698.264 1512.56 L698.264 1543.18 L705.903 1543.18 L705.903 1547.12 L685.996 1547.12 L685.996 1543.18 Z\" fill=\"#000000\" fill-rule=\"evenodd\" fill-opacity=\"1\" /><path clip-path=\"url(#clip390)\" d=\"M 0 0 M710.972 1541.24 L715.857 1541.24 L715.857 1547.12 L710.972 1547.12 L710.972 1541.24 Z\" fill=\"#000000\" fill-rule=\"evenodd\" fill-opacity=\"1\" /><path clip-path=\"url(#clip390)\" d=\"M 0 0 M724.954 1543.18 L741.273 1543.18 L741.273 1547.12 L719.329 1547.12 L719.329 1543.18 Q721.991 1540.43 726.574 1535.8 Q731.181 1531.15 732.361 1529.81 Q734.606 1527.28 735.486 1525.55 Q736.389 1523.79 736.389 1522.1 Q736.389 1519.34 734.444 1517.61 Q732.523 1515.87 729.421 1515.87 Q727.222 1515.87 724.769 1516.63 Q722.338 1517.4 719.56 1518.95 L719.56 1514.23 Q722.384 1513.09 724.838 1512.51 Q727.292 1511.93 729.329 1511.93 Q734.699 1511.93 737.894 1514.62 Q741.088 1517.31 741.088 1521.8 Q741.088 1523.93 740.278 1525.85 Q739.491 1527.74 737.384 1530.34 Q736.806 1531.01 733.704 1534.23 Q730.602 1537.42 724.954 1543.18 Z\" fill=\"#000000\" fill-rule=\"evenodd\" fill-opacity=\"1\" /><path clip-path=\"url(#clip390)\" d=\"M 0 0 M746.389 1512.56 L764.745 1512.56 L764.745 1516.5 L750.671 1516.5 L750.671 1524.97 Q751.69 1524.62 752.708 1524.46 Q753.727 1524.27 754.745 1524.27 Q760.532 1524.27 763.912 1527.44 Q767.291 1530.62 767.291 1536.03 Q767.291 1541.61 763.819 1544.71 Q760.347 1547.79 754.028 1547.79 Q751.852 1547.79 749.583 1547.42 Q747.338 1547.05 744.931 1546.31 L744.931 1541.61 Q747.014 1542.74 749.236 1543.3 Q751.458 1543.86 753.935 1543.86 Q757.94 1543.86 760.278 1541.75 Q762.616 1539.64 762.616 1536.03 Q762.616 1532.42 760.278 1530.31 Q757.94 1528.21 753.935 1528.21 Q752.06 1528.21 750.185 1528.62 Q748.333 1529.04 746.389 1529.92 L746.389 1512.56 Z\" fill=\"#000000\" fill-rule=\"evenodd\" fill-opacity=\"1\" /><path clip-path=\"url(#clip390)\" d=\"M 0 0 M1206.49 1543.18 L1214.13 1543.18 L1214.13 1516.82 L1205.82 1518.49 L1205.82 1514.23 L1214.09 1512.56 L1218.76 1512.56 L1218.76 1543.18 L1226.4 1543.18 L1226.4 1547.12 L1206.49 1547.12 L1206.49 1543.18 Z\" fill=\"#000000\" fill-rule=\"evenodd\" fill-opacity=\"1\" /><path clip-path=\"url(#clip390)\" d=\"M 0 0 M1231.47 1541.24 L1236.36 1541.24 L1236.36 1547.12 L1231.47 1547.12 L1231.47 1541.24 Z\" fill=\"#000000\" fill-rule=\"evenodd\" fill-opacity=\"1\" /><path clip-path=\"url(#clip390)\" d=\"M 0 0 M1241.47 1512.56 L1259.83 1512.56 L1259.83 1516.5 L1245.75 1516.5 L1245.75 1524.97 Q1246.77 1524.62 1247.79 1524.46 Q1248.81 1524.27 1249.83 1524.27 Q1255.61 1524.27 1258.99 1527.44 Q1262.37 1530.62 1262.37 1536.03 Q1262.37 1541.61 1258.9 1544.71 Q1255.43 1547.79 1249.11 1547.79 Q1246.93 1547.79 1244.67 1547.42 Q1242.42 1547.05 1240.01 1546.31 L1240.01 1541.61 Q1242.1 1542.74 1244.32 1543.3 Q1246.54 1543.86 1249.02 1543.86 Q1253.02 1543.86 1255.36 1541.75 Q1257.7 1539.64 1257.7 1536.03 Q1257.7 1532.42 1255.36 1530.31 Q1253.02 1528.21 1249.02 1528.21 Q1247.14 1528.21 1245.27 1528.62 Q1243.42 1529.04 1241.47 1529.92 L1241.47 1512.56 Z\" fill=\"#000000\" fill-rule=\"evenodd\" fill-opacity=\"1\" /><path clip-path=\"url(#clip390)\" d=\"M 0 0 M1277.44 1515.64 Q1273.83 1515.64 1272 1519.2 Q1270.2 1522.75 1270.2 1529.87 Q1270.2 1536.98 1272 1540.55 Q1273.83 1544.09 1277.44 1544.09 Q1281.08 1544.09 1282.88 1540.55 Q1284.71 1536.98 1284.71 1529.87 Q1284.71 1522.75 1282.88 1519.2 Q1281.08 1515.64 1277.44 1515.64 M1277.44 1511.93 Q1283.25 1511.93 1286.31 1516.54 Q1289.39 1521.12 1289.39 1529.87 Q1289.39 1538.6 1286.31 1543.21 Q1283.25 1547.79 1277.44 1547.79 Q1271.63 1547.79 1268.55 1543.21 Q1265.5 1538.6 1265.5 1529.87 Q1265.5 1521.12 1268.55 1516.54 Q1271.63 1511.93 1277.44 1511.93 Z\" fill=\"#000000\" fill-rule=\"evenodd\" fill-opacity=\"1\" /><path clip-path=\"url(#clip390)\" d=\"M 0 0 M1728.24 1543.18 L1735.88 1543.18 L1735.88 1516.82 L1727.57 1518.49 L1727.57 1514.23 L1735.84 1512.56 L1740.51 1512.56 L1740.51 1543.18 L1748.15 1543.18 L1748.15 1547.12 L1728.24 1547.12 L1728.24 1543.18 Z\" fill=\"#000000\" fill-rule=\"evenodd\" fill-opacity=\"1\" /><path clip-path=\"url(#clip390)\" d=\"M 0 0 M1753.22 1541.24 L1758.1 1541.24 L1758.1 1547.12 L1753.22 1547.12 L1753.22 1541.24 Z\" fill=\"#000000\" fill-rule=\"evenodd\" fill-opacity=\"1\" /><path clip-path=\"url(#clip390)\" d=\"M 0 0 M1761.99 1512.56 L1784.22 1512.56 L1784.22 1514.55 L1771.67 1547.12 L1766.78 1547.12 L1778.59 1516.5 L1761.99 1516.5 L1761.99 1512.56 Z\" fill=\"#000000\" fill-rule=\"evenodd\" fill-opacity=\"1\" /><path clip-path=\"url(#clip390)\" d=\"M 0 0 M1789.33 1512.56 L1807.69 1512.56 L1807.69 1516.5 L1793.61 1516.5 L1793.61 1524.97 Q1794.63 1524.62 1795.65 1524.46 Q1796.67 1524.27 1797.69 1524.27 Q1803.47 1524.27 1806.85 1527.44 Q1810.23 1530.62 1810.23 1536.03 Q1810.23 1541.61 1806.76 1544.71 Q1803.29 1547.79 1796.97 1547.79 Q1794.79 1547.79 1792.53 1547.42 Q1790.28 1547.05 1787.87 1546.31 L1787.87 1541.61 Q1789.96 1542.74 1792.18 1543.3 Q1794.4 1543.86 1796.88 1543.86 Q1800.88 1543.86 1803.22 1541.75 Q1805.56 1539.64 1805.56 1536.03 Q1805.56 1532.42 1803.22 1530.31 Q1800.88 1528.21 1796.88 1528.21 Q1795 1528.21 1793.13 1528.62 Q1791.28 1529.04 1789.33 1529.92 L1789.33 1512.56 Z\" fill=\"#000000\" fill-rule=\"evenodd\" fill-opacity=\"1\" /><path clip-path=\"url(#clip390)\" d=\"M 0 0 M2252.86 1543.18 L2269.18 1543.18 L2269.18 1547.12 L2247.24 1547.12 L2247.24 1543.18 Q2249.9 1540.43 2254.48 1535.8 Q2259.09 1531.15 2260.27 1529.81 Q2262.52 1527.28 2263.39 1525.55 Q2264.3 1523.79 2264.3 1522.1 Q2264.3 1519.34 2262.35 1517.61 Q2260.43 1515.87 2257.33 1515.87 Q2255.13 1515.87 2252.68 1516.63 Q2250.25 1517.4 2247.47 1518.95 L2247.47 1514.23 Q2250.29 1513.09 2252.75 1512.51 Q2255.2 1511.93 2257.24 1511.93 Q2262.61 1511.93 2265.8 1514.62 Q2269 1517.31 2269 1521.8 Q2269 1523.93 2268.19 1525.85 Q2267.4 1527.74 2265.29 1530.34 Q2264.71 1531.01 2261.61 1534.23 Q2258.51 1537.42 2252.86 1543.18 Z\" fill=\"#000000\" fill-rule=\"evenodd\" fill-opacity=\"1\" /><path clip-path=\"url(#clip390)\" d=\"M 0 0 M2274.25 1541.24 L2279.14 1541.24 L2279.14 1547.12 L2274.25 1547.12 L2274.25 1541.24 Z\" fill=\"#000000\" fill-rule=\"evenodd\" fill-opacity=\"1\" /><path clip-path=\"url(#clip390)\" d=\"M 0 0 M2294.2 1515.64 Q2290.59 1515.64 2288.77 1519.2 Q2286.96 1522.75 2286.96 1529.87 Q2286.96 1536.98 2288.77 1540.55 Q2290.59 1544.09 2294.2 1544.09 Q2297.84 1544.09 2299.64 1540.55 Q2301.47 1536.98 2301.47 1529.87 Q2301.47 1522.75 2299.64 1519.2 Q2297.84 1515.64 2294.2 1515.64 M2294.2 1511.93 Q2300.01 1511.93 2303.07 1516.54 Q2306.15 1521.12 2306.15 1529.87 Q2306.15 1538.6 2303.07 1543.21 Q2300.01 1547.79 2294.2 1547.79 Q2288.39 1547.79 2285.32 1543.21 Q2282.26 1538.6 2282.26 1529.87 Q2282.26 1521.12 2285.32 1516.54 Q2288.39 1511.93 2294.2 1511.93 Z\" fill=\"#000000\" fill-rule=\"evenodd\" fill-opacity=\"1\" /><path clip-path=\"url(#clip390)\" d=\"M 0 0 M2321.22 1515.64 Q2317.61 1515.64 2315.78 1519.2 Q2313.97 1522.75 2313.97 1529.87 Q2313.97 1536.98 2315.78 1540.55 Q2317.61 1544.09 2321.22 1544.09 Q2324.85 1544.09 2326.66 1540.55 Q2328.49 1536.98 2328.49 1529.87 Q2328.49 1522.75 2326.66 1519.2 Q2324.85 1515.64 2321.22 1515.64 M2321.22 1511.93 Q2327.03 1511.93 2330.08 1516.54 Q2333.16 1521.12 2333.16 1529.87 Q2333.16 1538.6 2330.08 1543.21 Q2327.03 1547.79 2321.22 1547.79 Q2315.41 1547.79 2312.33 1543.21 Q2309.27 1538.6 2309.27 1529.87 Q2309.27 1521.12 2312.33 1516.54 Q2315.41 1511.93 2321.22 1511.93 Z\" fill=\"#000000\" fill-rule=\"evenodd\" fill-opacity=\"1\" /><polyline clip-path=\"url(#clip392)\" style=\"stroke:#000000; stroke-width:2; stroke-opacity:0.1; fill:none\" points=\"\n",
       "  142.455,1445.72 2352.76,1445.72 \n",
       "  \"/>\n",
       "<polyline clip-path=\"url(#clip392)\" style=\"stroke:#000000; stroke-width:2; stroke-opacity:0.1; fill:none\" points=\"\n",
       "  142.455,993.136 2352.76,993.136 \n",
       "  \"/>\n",
       "<polyline clip-path=\"url(#clip392)\" style=\"stroke:#000000; stroke-width:2; stroke-opacity:0.1; fill:none\" points=\"\n",
       "  142.455,540.556 2352.76,540.556 \n",
       "  \"/>\n",
       "<polyline clip-path=\"url(#clip392)\" style=\"stroke:#000000; stroke-width:2; stroke-opacity:0.1; fill:none\" points=\"\n",
       "  142.455,87.9763 2352.76,87.9763 \n",
       "  \"/>\n",
       "<polyline clip-path=\"url(#clip390)\" style=\"stroke:#000000; stroke-width:4; stroke-opacity:1; fill:none\" points=\"\n",
       "  142.455,1486.45 142.455,47.2441 \n",
       "  \"/>\n",
       "<polyline clip-path=\"url(#clip390)\" style=\"stroke:#000000; stroke-width:4; stroke-opacity:1; fill:none\" points=\"\n",
       "  142.455,1445.72 168.978,1445.72 \n",
       "  \"/>\n",
       "<polyline clip-path=\"url(#clip390)\" style=\"stroke:#000000; stroke-width:4; stroke-opacity:1; fill:none\" points=\"\n",
       "  142.455,993.136 168.978,993.136 \n",
       "  \"/>\n",
       "<polyline clip-path=\"url(#clip390)\" style=\"stroke:#000000; stroke-width:4; stroke-opacity:1; fill:none\" points=\"\n",
       "  142.455,540.556 168.978,540.556 \n",
       "  \"/>\n",
       "<polyline clip-path=\"url(#clip390)\" style=\"stroke:#000000; stroke-width:4; stroke-opacity:1; fill:none\" points=\"\n",
       "  142.455,87.9763 168.978,87.9763 \n",
       "  \"/>\n",
       "<path clip-path=\"url(#clip390)\" d=\"M 0 0 M51.3625 1446.17 L81.0383 1446.17 L81.0383 1450.1 L51.3625 1450.1 L51.3625 1446.17 Z\" fill=\"#000000\" fill-rule=\"evenodd\" fill-opacity=\"1\" /><path clip-path=\"url(#clip390)\" d=\"M 0 0 M90.1354 1459.06 L106.455 1459.06 L106.455 1463 L84.5105 1463 L84.5105 1459.06 Q87.1725 1456.31 91.7558 1451.68 Q96.3623 1447.02 97.5428 1445.68 Q99.7882 1443.16 100.668 1441.42 Q101.571 1439.66 101.571 1437.97 Q101.571 1435.22 99.6261 1433.48 Q97.7048 1431.75 94.603 1431.75 Q92.4039 1431.75 89.9503 1432.51 Q87.5197 1433.27 84.7419 1434.82 L84.7419 1430.1 Q87.566 1428.97 90.0197 1428.39 Q92.4734 1427.81 94.5104 1427.81 Q99.8808 1427.81 103.075 1430.5 Q106.27 1433.18 106.27 1437.67 Q106.27 1439.8 105.459 1441.72 Q104.672 1443.62 102.566 1446.21 Q101.987 1446.88 98.8854 1450.1 Q95.7836 1453.3 90.1354 1459.06 Z\" fill=\"#000000\" fill-rule=\"evenodd\" fill-opacity=\"1\" /><path clip-path=\"url(#clip390)\" d=\"M 0 0 M50.9921 993.587 L80.6679 993.587 L80.6679 997.522 L50.9921 997.522 L50.9921 993.587 Z\" fill=\"#000000\" fill-rule=\"evenodd\" fill-opacity=\"1\" /><path clip-path=\"url(#clip390)\" d=\"M 0 0 M86.5475 1006.48 L94.1863 1006.48 L94.1863 980.115 L85.8762 981.782 L85.8762 977.523 L94.14 975.856 L98.8159 975.856 L98.8159 1006.48 L106.455 1006.48 L106.455 1010.42 L86.5475 1010.42 L86.5475 1006.48 Z\" fill=\"#000000\" fill-rule=\"evenodd\" fill-opacity=\"1\" /><path clip-path=\"url(#clip390)\" d=\"M 0 0 M94.5104 526.355 Q90.8993 526.355 89.0706 529.92 Q87.2651 533.461 87.2651 540.591 Q87.2651 547.697 89.0706 551.262 Q90.8993 554.804 94.5104 554.804 Q98.1447 554.804 99.9502 551.262 Q101.779 547.697 101.779 540.591 Q101.779 533.461 99.9502 529.92 Q98.1447 526.355 94.5104 526.355 M94.5104 522.651 Q100.321 522.651 103.376 527.258 Q106.455 531.841 106.455 540.591 Q106.455 549.318 103.376 553.924 Q100.321 558.507 94.5104 558.507 Q88.7003 558.507 85.6216 553.924 Q82.566 549.318 82.566 540.591 Q82.566 531.841 85.6216 527.258 Q88.7003 522.651 94.5104 522.651 Z\" fill=\"#000000\" fill-rule=\"evenodd\" fill-opacity=\"1\" /><path clip-path=\"url(#clip390)\" d=\"M 0 0 M86.5475 101.321 L94.1863 101.321 L94.1863 74.9555 L85.8762 76.6222 L85.8762 72.3629 L94.14 70.6963 L98.8159 70.6963 L98.8159 101.321 L106.455 101.321 L106.455 105.256 L86.5475 105.256 L86.5475 101.321 Z\" fill=\"#000000\" fill-rule=\"evenodd\" fill-opacity=\"1\" /><polyline clip-path=\"url(#clip392)\" style=\"stroke:#009af9; stroke-width:4; stroke-opacity:1; fill:none\" points=\"\n",
       "  205.01,1445.72 225.862,1436.62 246.714,1427.43 267.566,1418.15 288.418,1408.79 309.27,1399.33 330.122,1389.78 350.974,1380.14 371.826,1370.41 392.678,1360.59 \n",
       "  413.529,1350.67 434.381,1340.67 455.233,1330.58 476.085,1320.4 496.937,1310.12 517.789,1299.76 538.641,1289.3 559.493,1278.76 580.345,1268.12 601.197,1257.4 \n",
       "  622.048,1246.58 642.9,1235.67 663.752,1224.68 684.604,1213.59 705.456,1202.41 726.308,1191.14 747.16,1179.78 768.012,1168.33 788.864,1156.79 809.716,1145.16 \n",
       "  830.567,1133.44 851.419,1121.62 872.271,1109.72 893.123,1097.73 913.975,1085.64 934.827,1073.47 955.679,1061.2 976.531,1048.85 997.383,1036.4 1018.23,1023.87 \n",
       "  1039.09,1011.24 1059.94,998.522 1080.79,985.714 1101.64,972.815 1122.49,959.826 1143.35,946.746 1164.2,933.576 1185.05,920.316 1205.9,906.965 1226.75,893.523 \n",
       "  1247.61,879.991 1268.46,866.368 1289.31,852.655 1310.16,838.851 1331.01,824.957 1351.86,810.973 1372.72,796.897 1393.57,782.732 1414.42,768.475 1435.27,754.128 \n",
       "  1456.12,739.691 1476.98,725.163 1497.83,710.545 1518.68,695.836 1539.53,681.037 1560.38,666.147 1581.24,651.167 1602.09,636.096 1622.94,620.934 1643.79,605.682 \n",
       "  1664.64,590.34 1685.5,574.907 1706.35,559.383 1727.2,543.769 1748.05,528.065 1768.9,512.27 1789.75,496.384 1810.61,480.408 1831.46,464.342 1852.31,448.185 \n",
       "  1873.16,431.937 1894.01,415.599 1914.87,399.17 1935.72,382.651 1956.57,366.041 1977.42,349.341 1998.27,332.55 2019.13,315.669 2039.98,298.697 2060.83,281.635 \n",
       "  2081.68,264.482 2102.53,247.239 2123.39,229.905 2144.24,212.481 2165.09,194.966 2185.94,177.361 2206.79,159.665 2227.64,141.879 2248.5,124.002 2269.35,106.034 \n",
       "  2290.2,87.9763 \n",
       "  \"/>\n",
       "<path clip-path=\"url(#clip390)\" d=\"\n",
       "M1982.47 216.178 L2279.08 216.178 L2279.08 95.2176 L1982.47 95.2176  Z\n",
       "  \" fill=\"#ffffff\" fill-rule=\"evenodd\" fill-opacity=\"1\"/>\n",
       "<polyline clip-path=\"url(#clip390)\" style=\"stroke:#000000; stroke-width:4; stroke-opacity:1; fill:none\" points=\"\n",
       "  1982.47,216.178 2279.08,216.178 2279.08,95.2176 1982.47,95.2176 1982.47,216.178 \n",
       "  \"/>\n",
       "<polyline clip-path=\"url(#clip390)\" style=\"stroke:#009af9; stroke-width:4; stroke-opacity:1; fill:none\" points=\"\n",
       "  2007.03,155.698 2154.38,155.698 \n",
       "  \"/>\n",
       "<path clip-path=\"url(#clip390)\" d=\"M 0 0 M2192.79 175.385 Q2190.98 180.015 2189.27 181.427 Q2187.55 182.839 2184.68 182.839 L2181.28 182.839 L2181.28 179.274 L2183.78 179.274 Q2185.54 179.274 2186.51 178.44 Q2187.48 177.607 2188.67 174.505 L2189.43 172.561 L2178.94 147.052 L2183.46 147.052 L2191.56 167.329 L2199.66 147.052 L2204.17 147.052 L2192.79 175.385 Z\" fill=\"#000000\" fill-rule=\"evenodd\" fill-opacity=\"1\" /><path clip-path=\"url(#clip390)\" d=\"M 0 0 M2210.05 169.042 L2217.69 169.042 L2217.69 142.677 L2209.38 144.343 L2209.38 140.084 L2217.65 138.418 L2222.32 138.418 L2222.32 169.042 L2229.96 169.042 L2229.96 172.978 L2210.05 172.978 L2210.05 169.042 Z\" fill=\"#000000\" fill-rule=\"evenodd\" fill-opacity=\"1\" /></svg>\n"
      ]
     },
     "execution_count": 107,
     "metadata": {},
     "output_type": "execute_result"
    }
   ],
   "source": [
    "g(x) = x^2 - 3\n",
    "der_g(x) = 2x\n",
    "x = 1:0.01:2\n",
    "plot(x,g)"
   ]
  },
  {
   "cell_type": "code",
   "execution_count": 108,
   "metadata": {},
   "outputs": [
    {
     "data": {
      "image/svg+xml": [
       "<?xml version=\"1.0\" encoding=\"utf-8\"?>\n",
       "<svg xmlns=\"http://www.w3.org/2000/svg\" xmlns:xlink=\"http://www.w3.org/1999/xlink\" width=\"600\" height=\"400\" viewBox=\"0 0 2400 1600\">\n",
       "<defs>\n",
       "  <clipPath id=\"clip430\">\n",
       "    <rect x=\"0\" y=\"0\" width=\"2400\" height=\"1600\"/>\n",
       "  </clipPath>\n",
       "</defs>\n",
       "<path clip-path=\"url(#clip430)\" d=\"\n",
       "M0 1600 L2400 1600 L2400 0 L0 0  Z\n",
       "  \" fill=\"#ffffff\" fill-rule=\"evenodd\" fill-opacity=\"1\"/>\n",
       "<defs>\n",
       "  <clipPath id=\"clip431\">\n",
       "    <rect x=\"480\" y=\"0\" width=\"1681\" height=\"1600\"/>\n",
       "  </clipPath>\n",
       "</defs>\n",
       "<path clip-path=\"url(#clip430)\" d=\"\n",
       "M149.145 1486.45 L2352.76 1486.45 L2352.76 47.2441 L149.145 47.2441  Z\n",
       "  \" fill=\"#ffffff\" fill-rule=\"evenodd\" fill-opacity=\"1\"/>\n",
       "<defs>\n",
       "  <clipPath id=\"clip432\">\n",
       "    <rect x=\"149\" y=\"47\" width=\"2205\" height=\"1440\"/>\n",
       "  </clipPath>\n",
       "</defs>\n",
       "<polyline clip-path=\"url(#clip432)\" style=\"stroke:#000000; stroke-width:2; stroke-opacity:0.1; fill:none\" points=\"\n",
       "  211.511,1486.45 211.511,47.2441 \n",
       "  \"/>\n",
       "<polyline clip-path=\"url(#clip432)\" style=\"stroke:#000000; stroke-width:2; stroke-opacity:0.1; fill:none\" points=\"\n",
       "  731.231,1486.45 731.231,47.2441 \n",
       "  \"/>\n",
       "<polyline clip-path=\"url(#clip432)\" style=\"stroke:#000000; stroke-width:2; stroke-opacity:0.1; fill:none\" points=\"\n",
       "  1250.95,1486.45 1250.95,47.2441 \n",
       "  \"/>\n",
       "<polyline clip-path=\"url(#clip432)\" style=\"stroke:#000000; stroke-width:2; stroke-opacity:0.1; fill:none\" points=\"\n",
       "  1770.67,1486.45 1770.67,47.2441 \n",
       "  \"/>\n",
       "<polyline clip-path=\"url(#clip432)\" style=\"stroke:#000000; stroke-width:2; stroke-opacity:0.1; fill:none\" points=\"\n",
       "  2290.39,1486.45 2290.39,47.2441 \n",
       "  \"/>\n",
       "<polyline clip-path=\"url(#clip430)\" style=\"stroke:#000000; stroke-width:4; stroke-opacity:1; fill:none\" points=\"\n",
       "  149.145,1486.45 2352.76,1486.45 \n",
       "  \"/>\n",
       "<polyline clip-path=\"url(#clip430)\" style=\"stroke:#000000; stroke-width:4; stroke-opacity:1; fill:none\" points=\"\n",
       "  211.511,1486.45 211.511,1469.18 \n",
       "  \"/>\n",
       "<polyline clip-path=\"url(#clip430)\" style=\"stroke:#000000; stroke-width:4; stroke-opacity:1; fill:none\" points=\"\n",
       "  731.231,1486.45 731.231,1469.18 \n",
       "  \"/>\n",
       "<polyline clip-path=\"url(#clip430)\" style=\"stroke:#000000; stroke-width:4; stroke-opacity:1; fill:none\" points=\"\n",
       "  1250.95,1486.45 1250.95,1469.18 \n",
       "  \"/>\n",
       "<polyline clip-path=\"url(#clip430)\" style=\"stroke:#000000; stroke-width:4; stroke-opacity:1; fill:none\" points=\"\n",
       "  1770.67,1486.45 1770.67,1469.18 \n",
       "  \"/>\n",
       "<polyline clip-path=\"url(#clip430)\" style=\"stroke:#000000; stroke-width:4; stroke-opacity:1; fill:none\" points=\"\n",
       "  2290.39,1486.45 2290.39,1469.18 \n",
       "  \"/>\n",
       "<path clip-path=\"url(#clip430)\" d=\"M 0 0 M169.902 1543.18 L177.541 1543.18 L177.541 1516.82 L169.231 1518.49 L169.231 1514.23 L177.495 1512.56 L182.171 1512.56 L182.171 1543.18 L189.81 1543.18 L189.81 1547.12 L169.902 1547.12 L169.902 1543.18 Z\" fill=\"#000000\" fill-rule=\"evenodd\" fill-opacity=\"1\" /><path clip-path=\"url(#clip430)\" d=\"M 0 0 M194.879 1541.24 L199.763 1541.24 L199.763 1547.12 L194.879 1547.12 L194.879 1541.24 Z\" fill=\"#000000\" fill-rule=\"evenodd\" fill-opacity=\"1\" /><path clip-path=\"url(#clip430)\" d=\"M 0 0 M214.833 1515.64 Q211.222 1515.64 209.393 1519.2 Q207.587 1522.75 207.587 1529.87 Q207.587 1536.98 209.393 1540.55 Q211.222 1544.09 214.833 1544.09 Q218.467 1544.09 220.272 1540.55 Q222.101 1536.98 222.101 1529.87 Q222.101 1522.75 220.272 1519.2 Q218.467 1515.64 214.833 1515.64 M214.833 1511.93 Q220.643 1511.93 223.698 1516.54 Q226.777 1521.12 226.777 1529.87 Q226.777 1538.6 223.698 1543.21 Q220.643 1547.79 214.833 1547.79 Q209.023 1547.79 205.944 1543.21 Q202.888 1538.6 202.888 1529.87 Q202.888 1521.12 205.944 1516.54 Q209.023 1511.93 214.833 1511.93 Z\" fill=\"#000000\" fill-rule=\"evenodd\" fill-opacity=\"1\" /><path clip-path=\"url(#clip430)\" d=\"M 0 0 M241.846 1515.64 Q238.235 1515.64 236.407 1519.2 Q234.601 1522.75 234.601 1529.87 Q234.601 1536.98 236.407 1540.55 Q238.235 1544.09 241.846 1544.09 Q245.481 1544.09 247.286 1540.55 Q249.115 1536.98 249.115 1529.87 Q249.115 1522.75 247.286 1519.2 Q245.481 1515.64 241.846 1515.64 M241.846 1511.93 Q247.657 1511.93 250.712 1516.54 Q253.791 1521.12 253.791 1529.87 Q253.791 1538.6 250.712 1543.21 Q247.657 1547.79 241.846 1547.79 Q236.036 1547.79 232.958 1543.21 Q229.902 1538.6 229.902 1529.87 Q229.902 1521.12 232.958 1516.54 Q236.036 1511.93 241.846 1511.93 Z\" fill=\"#000000\" fill-rule=\"evenodd\" fill-opacity=\"1\" /><path clip-path=\"url(#clip430)\" d=\"M 0 0 M690.918 1543.18 L698.557 1543.18 L698.557 1516.82 L690.247 1518.49 L690.247 1514.23 L698.511 1512.56 L703.187 1512.56 L703.187 1543.18 L710.826 1543.18 L710.826 1547.12 L690.918 1547.12 L690.918 1543.18 Z\" fill=\"#000000\" fill-rule=\"evenodd\" fill-opacity=\"1\" /><path clip-path=\"url(#clip430)\" d=\"M 0 0 M715.895 1541.24 L720.779 1541.24 L720.779 1547.12 L715.895 1547.12 L715.895 1541.24 Z\" fill=\"#000000\" fill-rule=\"evenodd\" fill-opacity=\"1\" /><path clip-path=\"url(#clip430)\" d=\"M 0 0 M729.876 1543.18 L746.196 1543.18 L746.196 1547.12 L724.251 1547.12 L724.251 1543.18 Q726.913 1540.43 731.497 1535.8 Q736.103 1531.15 737.284 1529.81 Q739.529 1527.28 740.409 1525.55 Q741.312 1523.79 741.312 1522.1 Q741.312 1519.34 739.367 1517.61 Q737.446 1515.87 734.344 1515.87 Q732.145 1515.87 729.691 1516.63 Q727.261 1517.4 724.483 1518.95 L724.483 1514.23 Q727.307 1513.09 729.761 1512.51 Q732.214 1511.93 734.251 1511.93 Q739.622 1511.93 742.816 1514.62 Q746.011 1517.31 746.011 1521.8 Q746.011 1523.93 745.2 1525.85 Q744.413 1527.74 742.307 1530.34 Q741.728 1531.01 738.626 1534.23 Q735.525 1537.42 729.876 1543.18 Z\" fill=\"#000000\" fill-rule=\"evenodd\" fill-opacity=\"1\" /><path clip-path=\"url(#clip430)\" d=\"M 0 0 M751.311 1512.56 L769.668 1512.56 L769.668 1516.5 L755.594 1516.5 L755.594 1524.97 Q756.612 1524.62 757.631 1524.46 Q758.649 1524.27 759.668 1524.27 Q765.455 1524.27 768.835 1527.44 Q772.214 1530.62 772.214 1536.03 Q772.214 1541.61 768.742 1544.71 Q765.27 1547.79 758.95 1547.79 Q756.774 1547.79 754.506 1547.42 Q752.261 1547.05 749.853 1546.31 L749.853 1541.61 Q751.936 1542.74 754.159 1543.3 Q756.381 1543.86 758.858 1543.86 Q762.862 1543.86 765.2 1541.75 Q767.538 1539.64 767.538 1536.03 Q767.538 1532.42 765.2 1530.31 Q762.862 1528.21 758.858 1528.21 Q756.983 1528.21 755.108 1528.62 Q753.256 1529.04 751.311 1529.92 L751.311 1512.56 Z\" fill=\"#000000\" fill-rule=\"evenodd\" fill-opacity=\"1\" /><path clip-path=\"url(#clip430)\" d=\"M 0 0 M1209.84 1543.18 L1217.48 1543.18 L1217.48 1516.82 L1209.17 1518.49 L1209.17 1514.23 L1217.43 1512.56 L1222.11 1512.56 L1222.11 1543.18 L1229.75 1543.18 L1229.75 1547.12 L1209.84 1547.12 L1209.84 1543.18 Z\" fill=\"#000000\" fill-rule=\"evenodd\" fill-opacity=\"1\" /><path clip-path=\"url(#clip430)\" d=\"M 0 0 M1234.82 1541.24 L1239.7 1541.24 L1239.7 1547.12 L1234.82 1547.12 L1234.82 1541.24 Z\" fill=\"#000000\" fill-rule=\"evenodd\" fill-opacity=\"1\" /><path clip-path=\"url(#clip430)\" d=\"M 0 0 M1244.82 1512.56 L1263.17 1512.56 L1263.17 1516.5 L1249.1 1516.5 L1249.1 1524.97 Q1250.12 1524.62 1251.14 1524.46 Q1252.15 1524.27 1253.17 1524.27 Q1258.96 1524.27 1262.34 1527.44 Q1265.72 1530.62 1265.72 1536.03 Q1265.72 1541.61 1262.25 1544.71 Q1258.77 1547.79 1252.45 1547.79 Q1250.28 1547.79 1248.01 1547.42 Q1245.77 1547.05 1243.36 1546.31 L1243.36 1541.61 Q1245.44 1542.74 1247.66 1543.3 Q1249.89 1543.86 1252.36 1543.86 Q1256.37 1543.86 1258.7 1541.75 Q1261.04 1539.64 1261.04 1536.03 Q1261.04 1532.42 1258.7 1530.31 Q1256.37 1528.21 1252.36 1528.21 Q1250.49 1528.21 1248.61 1528.62 Q1246.76 1529.04 1244.82 1529.92 L1244.82 1512.56 Z\" fill=\"#000000\" fill-rule=\"evenodd\" fill-opacity=\"1\" /><path clip-path=\"url(#clip430)\" d=\"M 0 0 M1280.79 1515.64 Q1277.18 1515.64 1275.35 1519.2 Q1273.54 1522.75 1273.54 1529.87 Q1273.54 1536.98 1275.35 1540.55 Q1277.18 1544.09 1280.79 1544.09 Q1284.42 1544.09 1286.23 1540.55 Q1288.06 1536.98 1288.06 1529.87 Q1288.06 1522.75 1286.23 1519.2 Q1284.42 1515.64 1280.79 1515.64 M1280.79 1511.93 Q1286.6 1511.93 1289.65 1516.54 Q1292.73 1521.12 1292.73 1529.87 Q1292.73 1538.6 1289.65 1543.21 Q1286.6 1547.79 1280.79 1547.79 Q1274.98 1547.79 1271.9 1543.21 Q1268.84 1538.6 1268.84 1529.87 Q1268.84 1521.12 1271.9 1516.54 Q1274.98 1511.93 1280.79 1511.93 Z\" fill=\"#000000\" fill-rule=\"evenodd\" fill-opacity=\"1\" /><path clip-path=\"url(#clip430)\" d=\"M 0 0 M1730.01 1543.18 L1737.65 1543.18 L1737.65 1516.82 L1729.34 1518.49 L1729.34 1514.23 L1737.6 1512.56 L1742.28 1512.56 L1742.28 1543.18 L1749.92 1543.18 L1749.92 1547.12 L1730.01 1547.12 L1730.01 1543.18 Z\" fill=\"#000000\" fill-rule=\"evenodd\" fill-opacity=\"1\" /><path clip-path=\"url(#clip430)\" d=\"M 0 0 M1754.99 1541.24 L1759.87 1541.24 L1759.87 1547.12 L1754.99 1547.12 L1754.99 1541.24 Z\" fill=\"#000000\" fill-rule=\"evenodd\" fill-opacity=\"1\" /><path clip-path=\"url(#clip430)\" d=\"M 0 0 M1763.76 1512.56 L1785.98 1512.56 L1785.98 1514.55 L1773.44 1547.12 L1768.55 1547.12 L1780.36 1516.5 L1763.76 1516.5 L1763.76 1512.56 Z\" fill=\"#000000\" fill-rule=\"evenodd\" fill-opacity=\"1\" /><path clip-path=\"url(#clip430)\" d=\"M 0 0 M1791.1 1512.56 L1809.45 1512.56 L1809.45 1516.5 L1795.38 1516.5 L1795.38 1524.97 Q1796.4 1524.62 1797.42 1524.46 Q1798.44 1524.27 1799.45 1524.27 Q1805.24 1524.27 1808.62 1527.44 Q1812 1530.62 1812 1536.03 Q1812 1541.61 1808.53 1544.71 Q1805.06 1547.79 1798.74 1547.79 Q1796.56 1547.79 1794.29 1547.42 Q1792.05 1547.05 1789.64 1546.31 L1789.64 1541.61 Q1791.72 1542.74 1793.95 1543.3 Q1796.17 1543.86 1798.64 1543.86 Q1802.65 1543.86 1804.99 1541.75 Q1807.32 1539.64 1807.32 1536.03 Q1807.32 1532.42 1804.99 1530.31 Q1802.65 1528.21 1798.64 1528.21 Q1796.77 1528.21 1794.89 1528.62 Q1793.04 1529.04 1791.1 1529.92 L1791.1 1512.56 Z\" fill=\"#000000\" fill-rule=\"evenodd\" fill-opacity=\"1\" /><path clip-path=\"url(#clip430)\" d=\"M 0 0 M2253.05 1543.18 L2269.37 1543.18 L2269.37 1547.12 L2247.43 1547.12 L2247.43 1543.18 Q2250.09 1540.43 2254.67 1535.8 Q2259.28 1531.15 2260.46 1529.81 Q2262.7 1527.28 2263.58 1525.55 Q2264.49 1523.79 2264.49 1522.1 Q2264.49 1519.34 2262.54 1517.61 Q2260.62 1515.87 2257.52 1515.87 Q2255.32 1515.87 2252.87 1516.63 Q2250.44 1517.4 2247.66 1518.95 L2247.66 1514.23 Q2250.48 1513.09 2252.94 1512.51 Q2255.39 1511.93 2257.43 1511.93 Q2262.8 1511.93 2265.99 1514.62 Q2269.19 1517.31 2269.19 1521.8 Q2269.19 1523.93 2268.38 1525.85 Q2267.59 1527.74 2265.48 1530.34 Q2264.9 1531.01 2261.8 1534.23 Q2258.7 1537.42 2253.05 1543.18 Z\" fill=\"#000000\" fill-rule=\"evenodd\" fill-opacity=\"1\" /><path clip-path=\"url(#clip430)\" d=\"M 0 0 M2274.44 1541.24 L2279.32 1541.24 L2279.32 1547.12 L2274.44 1547.12 L2274.44 1541.24 Z\" fill=\"#000000\" fill-rule=\"evenodd\" fill-opacity=\"1\" /><path clip-path=\"url(#clip430)\" d=\"M 0 0 M2294.39 1515.64 Q2290.78 1515.64 2288.95 1519.2 Q2287.15 1522.75 2287.15 1529.87 Q2287.15 1536.98 2288.95 1540.55 Q2290.78 1544.09 2294.39 1544.09 Q2298.03 1544.09 2299.83 1540.55 Q2301.66 1536.98 2301.66 1529.87 Q2301.66 1522.75 2299.83 1519.2 Q2298.03 1515.64 2294.39 1515.64 M2294.39 1511.93 Q2300.2 1511.93 2303.26 1516.54 Q2306.34 1521.12 2306.34 1529.87 Q2306.34 1538.6 2303.26 1543.21 Q2300.2 1547.79 2294.39 1547.79 Q2288.58 1547.79 2285.51 1543.21 Q2282.45 1538.6 2282.45 1529.87 Q2282.45 1521.12 2285.51 1516.54 Q2288.58 1511.93 2294.39 1511.93 Z\" fill=\"#000000\" fill-rule=\"evenodd\" fill-opacity=\"1\" /><path clip-path=\"url(#clip430)\" d=\"M 0 0 M2321.41 1515.64 Q2317.8 1515.64 2315.97 1519.2 Q2314.16 1522.75 2314.16 1529.87 Q2314.16 1536.98 2315.97 1540.55 Q2317.8 1544.09 2321.41 1544.09 Q2325.04 1544.09 2326.85 1540.55 Q2328.68 1536.98 2328.68 1529.87 Q2328.68 1522.75 2326.85 1519.2 Q2325.04 1515.64 2321.41 1515.64 M2321.41 1511.93 Q2327.22 1511.93 2330.27 1516.54 Q2333.35 1521.12 2333.35 1529.87 Q2333.35 1538.6 2330.27 1543.21 Q2327.22 1547.79 2321.41 1547.79 Q2315.6 1547.79 2312.52 1543.21 Q2309.46 1538.6 2309.46 1529.87 Q2309.46 1521.12 2312.52 1516.54 Q2315.6 1511.93 2321.41 1511.93 Z\" fill=\"#000000\" fill-rule=\"evenodd\" fill-opacity=\"1\" /><polyline clip-path=\"url(#clip432)\" style=\"stroke:#000000; stroke-width:2; stroke-opacity:0.1; fill:none\" points=\"\n",
       "  149.145,1445.72 2352.76,1445.72 \n",
       "  \"/>\n",
       "<polyline clip-path=\"url(#clip432)\" style=\"stroke:#000000; stroke-width:2; stroke-opacity:0.1; fill:none\" points=\"\n",
       "  149.145,1106.28 2352.76,1106.28 \n",
       "  \"/>\n",
       "<polyline clip-path=\"url(#clip432)\" style=\"stroke:#000000; stroke-width:2; stroke-opacity:0.1; fill:none\" points=\"\n",
       "  149.145,766.846 2352.76,766.846 \n",
       "  \"/>\n",
       "<polyline clip-path=\"url(#clip432)\" style=\"stroke:#000000; stroke-width:2; stroke-opacity:0.1; fill:none\" points=\"\n",
       "  149.145,427.411 2352.76,427.411 \n",
       "  \"/>\n",
       "<polyline clip-path=\"url(#clip432)\" style=\"stroke:#000000; stroke-width:2; stroke-opacity:0.1; fill:none\" points=\"\n",
       "  149.145,87.9763 2352.76,87.9763 \n",
       "  \"/>\n",
       "<polyline clip-path=\"url(#clip430)\" style=\"stroke:#000000; stroke-width:4; stroke-opacity:1; fill:none\" points=\"\n",
       "  149.145,1486.45 149.145,47.2441 \n",
       "  \"/>\n",
       "<polyline clip-path=\"url(#clip430)\" style=\"stroke:#000000; stroke-width:4; stroke-opacity:1; fill:none\" points=\"\n",
       "  149.145,1445.72 175.588,1445.72 \n",
       "  \"/>\n",
       "<polyline clip-path=\"url(#clip430)\" style=\"stroke:#000000; stroke-width:4; stroke-opacity:1; fill:none\" points=\"\n",
       "  149.145,1106.28 175.588,1106.28 \n",
       "  \"/>\n",
       "<polyline clip-path=\"url(#clip430)\" style=\"stroke:#000000; stroke-width:4; stroke-opacity:1; fill:none\" points=\"\n",
       "  149.145,766.846 175.588,766.846 \n",
       "  \"/>\n",
       "<polyline clip-path=\"url(#clip430)\" style=\"stroke:#000000; stroke-width:4; stroke-opacity:1; fill:none\" points=\"\n",
       "  149.145,427.411 175.588,427.411 \n",
       "  \"/>\n",
       "<polyline clip-path=\"url(#clip430)\" style=\"stroke:#000000; stroke-width:4; stroke-opacity:1; fill:none\" points=\"\n",
       "  149.145,87.9763 175.588,87.9763 \n",
       "  \"/>\n",
       "<path clip-path=\"url(#clip430)\" d=\"M 0 0 M59.8578 1459.06 L76.1772 1459.06 L76.1772 1463 L54.2328 1463 L54.2328 1459.06 Q56.8949 1456.31 61.4782 1451.68 Q66.0846 1447.02 67.2652 1445.68 Q69.5105 1443.16 70.3902 1441.42 Q71.2929 1439.66 71.2929 1437.97 Q71.2929 1435.22 69.3485 1433.48 Q67.4272 1431.75 64.3254 1431.75 Q62.1263 1431.75 59.6726 1432.51 Q57.2421 1433.27 54.4643 1434.82 L54.4643 1430.1 Q57.2884 1428.97 59.7421 1428.39 Q62.1958 1427.81 64.2328 1427.81 Q69.6031 1427.81 72.7976 1430.5 Q75.992 1433.18 75.992 1437.67 Q75.992 1439.8 75.1818 1441.72 Q74.3948 1443.62 72.2883 1446.21 Q71.7096 1446.88 68.6078 1450.1 Q65.5059 1453.3 59.8578 1459.06 Z\" fill=\"#000000\" fill-rule=\"evenodd\" fill-opacity=\"1\" /><path clip-path=\"url(#clip430)\" d=\"M 0 0 M81.2466 1457.12 L86.1308 1457.12 L86.1308 1463 L81.2466 1463 L81.2466 1457.12 Z\" fill=\"#000000\" fill-rule=\"evenodd\" fill-opacity=\"1\" /><path clip-path=\"url(#clip430)\" d=\"M 0 0 M101.2 1431.51 Q97.5891 1431.51 95.7604 1435.08 Q93.9549 1438.62 93.9549 1445.75 Q93.9549 1452.86 95.7604 1456.42 Q97.5891 1459.96 101.2 1459.96 Q104.834 1459.96 106.64 1456.42 Q108.469 1452.86 108.469 1445.75 Q108.469 1438.62 106.64 1435.08 Q104.834 1431.51 101.2 1431.51 M101.2 1427.81 Q107.01 1427.81 110.066 1432.42 Q113.145 1437 113.145 1445.75 Q113.145 1454.48 110.066 1459.08 Q107.01 1463.67 101.2 1463.67 Q95.39 1463.67 92.3113 1459.08 Q89.2558 1454.48 89.2558 1445.75 Q89.2558 1437 92.3113 1432.42 Q95.39 1427.81 101.2 1427.81 Z\" fill=\"#000000\" fill-rule=\"evenodd\" fill-opacity=\"1\" /><path clip-path=\"url(#clip430)\" d=\"M 0 0 M60.8532 1119.63 L77.1725 1119.63 L77.1725 1123.56 L55.2282 1123.56 L55.2282 1119.63 Q57.8902 1116.87 62.4735 1112.24 Q67.08 1107.59 68.2606 1106.25 Q70.5059 1103.72 71.3855 1101.99 Q72.2883 1100.23 72.2883 1098.54 Q72.2883 1095.78 70.3439 1094.05 Q68.4226 1092.31 65.3208 1092.31 Q63.1217 1092.31 60.668 1093.07 Q58.2375 1093.84 55.4597 1095.39 L55.4597 1090.67 Q58.2838 1089.53 60.7374 1088.95 Q63.1911 1088.38 65.2282 1088.38 Q70.5985 1088.38 73.7929 1091.06 Q76.9874 1093.75 76.9874 1098.24 Q76.9874 1100.37 76.1772 1102.29 Q75.3901 1104.19 73.2837 1106.78 Q72.705 1107.45 69.6031 1110.67 Q66.5013 1113.86 60.8532 1119.63 Z\" fill=\"#000000\" fill-rule=\"evenodd\" fill-opacity=\"1\" /><path clip-path=\"url(#clip430)\" d=\"M 0 0 M82.242 1117.68 L87.1262 1117.68 L87.1262 1123.56 L82.242 1123.56 L82.242 1117.68 Z\" fill=\"#000000\" fill-rule=\"evenodd\" fill-opacity=\"1\" /><path clip-path=\"url(#clip430)\" d=\"M 0 0 M92.2419 1089 L110.598 1089 L110.598 1092.94 L96.5243 1092.94 L96.5243 1101.41 Q97.5428 1101.06 98.5613 1100.9 Q99.5798 1100.71 100.598 1100.71 Q106.385 1100.71 109.765 1103.89 Q113.145 1107.06 113.145 1112.47 Q113.145 1118.05 109.672 1121.15 Q106.2 1124.23 99.8808 1124.23 Q97.7048 1124.23 95.4363 1123.86 Q93.191 1123.49 90.7836 1122.75 L90.7836 1118.05 Q92.8669 1119.19 95.0891 1119.74 Q97.3113 1120.3 99.7882 1120.3 Q103.793 1120.3 106.131 1118.19 Q108.469 1116.08 108.469 1112.47 Q108.469 1108.86 106.131 1106.76 Q103.793 1104.65 99.7882 1104.65 Q97.9132 1104.65 96.0382 1105.07 Q94.1863 1105.48 92.2419 1106.36 L92.2419 1089 Z\" fill=\"#000000\" fill-rule=\"evenodd\" fill-opacity=\"1\" /><path clip-path=\"url(#clip430)\" d=\"M 0 0 M69.0476 765.492 Q72.404 766.209 74.279 768.478 Q76.1772 770.746 76.1772 774.08 Q76.1772 779.195 72.6587 781.996 Q69.1402 784.797 62.6587 784.797 Q60.4828 784.797 58.168 784.357 Q55.8764 783.941 53.4227 783.084 L53.4227 778.57 Q55.3671 779.705 57.6819 780.283 Q59.9967 780.862 62.5198 780.862 Q66.918 780.862 69.2096 779.126 Q71.5244 777.39 71.5244 774.08 Q71.5244 771.024 69.3717 769.311 Q67.242 767.575 63.4226 767.575 L59.3949 767.575 L59.3949 763.733 L63.6078 763.733 Q67.0569 763.733 68.8855 762.367 Q70.7142 760.978 70.7142 758.385 Q70.7142 755.723 68.8161 754.311 Q66.9411 752.876 63.4226 752.876 Q61.5013 752.876 59.3023 753.293 Q57.1032 753.709 54.4643 754.589 L54.4643 750.422 Q57.1264 749.682 59.4412 749.311 Q61.7791 748.941 63.8393 748.941 Q69.1633 748.941 72.2652 751.372 Q75.367 753.779 75.367 757.899 Q75.367 760.77 73.7235 762.76 Q72.08 764.728 69.0476 765.492 Z\" fill=\"#000000\" fill-rule=\"evenodd\" fill-opacity=\"1\" /><path clip-path=\"url(#clip430)\" d=\"M 0 0 M81.2466 778.246 L86.1308 778.246 L86.1308 784.126 L81.2466 784.126 L81.2466 778.246 Z\" fill=\"#000000\" fill-rule=\"evenodd\" fill-opacity=\"1\" /><path clip-path=\"url(#clip430)\" d=\"M 0 0 M101.2 752.645 Q97.5891 752.645 95.7604 756.209 Q93.9549 759.751 93.9549 766.881 Q93.9549 773.987 95.7604 777.552 Q97.5891 781.094 101.2 781.094 Q104.834 781.094 106.64 777.552 Q108.469 773.987 108.469 766.881 Q108.469 759.751 106.64 756.209 Q104.834 752.645 101.2 752.645 M101.2 748.941 Q107.01 748.941 110.066 753.547 Q113.145 758.131 113.145 766.881 Q113.145 775.608 110.066 780.214 Q107.01 784.797 101.2 784.797 Q95.39 784.797 92.3113 780.214 Q89.2558 775.608 89.2558 766.881 Q89.2558 758.131 92.3113 753.547 Q95.39 748.941 101.2 748.941 Z\" fill=\"#000000\" fill-rule=\"evenodd\" fill-opacity=\"1\" /><path clip-path=\"url(#clip430)\" d=\"M 0 0 M70.0429 426.057 Q73.3994 426.775 75.2744 429.043 Q77.1725 431.312 77.1725 434.645 Q77.1725 439.761 73.654 442.562 Q70.1355 445.362 63.6541 445.362 Q61.4782 445.362 59.1634 444.923 Q56.8717 444.506 54.418 443.649 L54.418 439.136 Q56.3625 440.27 58.6773 440.849 Q60.9921 441.427 63.5152 441.427 Q67.9133 441.427 70.205 439.691 Q72.5198 437.955 72.5198 434.645 Q72.5198 431.589 70.367 429.876 Q68.2374 428.14 64.418 428.14 L60.3902 428.14 L60.3902 424.298 L64.6032 424.298 Q68.0522 424.298 69.8809 422.932 Q71.7096 421.543 71.7096 418.951 Q71.7096 416.289 69.8115 414.876 Q67.9365 413.441 64.418 413.441 Q62.4967 413.441 60.2976 413.858 Q58.0986 414.275 55.4597 415.154 L55.4597 410.988 Q58.1217 410.247 60.4365 409.877 Q62.7745 409.506 64.8346 409.506 Q70.1587 409.506 73.2605 411.937 Q76.3624 414.344 76.3624 418.464 Q76.3624 421.335 74.7189 423.326 Q73.0753 425.293 70.0429 426.057 Z\" fill=\"#000000\" fill-rule=\"evenodd\" fill-opacity=\"1\" /><path clip-path=\"url(#clip430)\" d=\"M 0 0 M82.242 438.812 L87.1262 438.812 L87.1262 444.691 L82.242 444.691 L82.242 438.812 Z\" fill=\"#000000\" fill-rule=\"evenodd\" fill-opacity=\"1\" /><path clip-path=\"url(#clip430)\" d=\"M 0 0 M92.2419 410.131 L110.598 410.131 L110.598 414.066 L96.5243 414.066 L96.5243 422.538 Q97.5428 422.191 98.5613 422.029 Q99.5798 421.844 100.598 421.844 Q106.385 421.844 109.765 425.015 Q113.145 428.187 113.145 433.603 Q113.145 439.182 109.672 442.284 Q106.2 445.362 99.8808 445.362 Q97.7048 445.362 95.4363 444.992 Q93.191 444.622 90.7836 443.881 L90.7836 439.182 Q92.8669 440.316 95.0891 440.872 Q97.3113 441.427 99.7882 441.427 Q103.793 441.427 106.131 439.321 Q108.469 437.214 108.469 433.603 Q108.469 429.992 106.131 427.886 Q103.793 425.779 99.7882 425.779 Q97.9132 425.779 96.0382 426.196 Q94.1863 426.613 92.2419 427.492 L92.2419 410.131 Z\" fill=\"#000000\" fill-rule=\"evenodd\" fill-opacity=\"1\" /><path clip-path=\"url(#clip430)\" d=\"M 0 0 M66.5939 74.7703 L54.7884 93.2193 L66.5939 93.2193 L66.5939 74.7703 M65.367 70.6963 L71.2466 70.6963 L71.2466 93.2193 L76.1772 93.2193 L76.1772 97.1082 L71.2466 97.1082 L71.2466 105.256 L66.5939 105.256 L66.5939 97.1082 L50.9921 97.1082 L50.9921 92.5943 L65.367 70.6963 Z\" fill=\"#000000\" fill-rule=\"evenodd\" fill-opacity=\"1\" /><path clip-path=\"url(#clip430)\" d=\"M 0 0 M81.2466 99.3767 L86.1308 99.3767 L86.1308 105.256 L81.2466 105.256 L81.2466 99.3767 Z\" fill=\"#000000\" fill-rule=\"evenodd\" fill-opacity=\"1\" /><path clip-path=\"url(#clip430)\" d=\"M 0 0 M101.2 73.775 Q97.5891 73.775 95.7604 77.3398 Q93.9549 80.8814 93.9549 88.011 Q93.9549 95.1174 95.7604 98.6822 Q97.5891 102.224 101.2 102.224 Q104.834 102.224 106.64 98.6822 Q108.469 95.1174 108.469 88.011 Q108.469 80.8814 106.64 77.3398 Q104.834 73.775 101.2 73.775 M101.2 70.0713 Q107.01 70.0713 110.066 74.6777 Q113.145 79.261 113.145 88.011 Q113.145 96.7378 110.066 101.344 Q107.01 105.928 101.2 105.928 Q95.39 105.928 92.3113 101.344 Q89.2558 96.7378 89.2558 88.011 Q89.2558 79.261 92.3113 74.6777 Q95.39 70.0713 101.2 70.0713 Z\" fill=\"#000000\" fill-rule=\"evenodd\" fill-opacity=\"1\" /><polyline clip-path=\"url(#clip432)\" style=\"stroke:#009af9; stroke-width:4; stroke-opacity:1; fill:none\" points=\"\n",
       "  211.511,1445.72 232.3,1432.14 253.089,1418.56 273.877,1404.98 294.666,1391.41 315.455,1377.83 336.244,1364.25 357.032,1350.67 377.821,1337.1 398.61,1323.52 \n",
       "  419.399,1309.94 440.188,1296.36 460.976,1282.79 481.765,1269.21 502.554,1255.63 523.343,1242.05 544.132,1228.48 564.92,1214.9 585.709,1201.32 606.498,1187.75 \n",
       "  627.287,1174.17 648.075,1160.59 668.864,1147.01 689.653,1133.44 710.442,1119.86 731.231,1106.28 752.019,1092.7 772.808,1079.13 793.597,1065.55 814.386,1051.97 \n",
       "  835.175,1038.39 855.963,1024.82 876.752,1011.24 897.541,997.662 918.33,984.084 939.118,970.507 959.907,956.93 980.696,943.352 1001.48,929.775 1022.27,916.197 \n",
       "  1043.06,902.62 1063.85,889.043 1084.64,875.465 1105.43,861.888 1126.22,848.31 1147.01,834.733 1167.8,821.156 1188.58,807.578 1209.37,794.001 1230.16,780.423 \n",
       "  1250.95,766.846 1271.74,753.269 1292.53,739.691 1313.32,726.114 1334.11,712.536 1354.89,698.959 1375.68,685.382 1396.47,671.804 1417.26,658.227 1438.05,644.649 \n",
       "  1458.84,631.072 1479.63,617.495 1500.42,603.917 1521.2,590.34 1541.99,576.762 1562.78,563.185 1583.57,549.608 1604.36,536.03 1625.15,522.453 1645.94,508.875 \n",
       "  1666.73,495.298 1687.51,481.721 1708.3,468.143 1729.09,454.566 1749.88,440.989 1770.67,427.411 1791.46,413.834 1812.25,400.256 1833.04,386.679 1853.83,373.102 \n",
       "  1874.61,359.524 1895.4,345.947 1916.19,332.369 1936.98,318.792 1957.77,305.215 1978.56,291.637 1999.35,278.06 2020.14,264.482 2040.92,250.905 2061.71,237.328 \n",
       "  2082.5,223.75 2103.29,210.173 2124.08,196.595 2144.87,183.018 2165.66,169.441 2186.45,155.863 2207.23,142.286 2228.02,128.708 2248.81,115.131 2269.6,101.554 \n",
       "  2290.39,87.9763 \n",
       "  \"/>\n",
       "<path clip-path=\"url(#clip430)\" d=\"\n",
       "M1983.44 216.178 L2279.3 216.178 L2279.3 95.2176 L1983.44 95.2176  Z\n",
       "  \" fill=\"#ffffff\" fill-rule=\"evenodd\" fill-opacity=\"1\"/>\n",
       "<polyline clip-path=\"url(#clip430)\" style=\"stroke:#000000; stroke-width:4; stroke-opacity:1; fill:none\" points=\"\n",
       "  1983.44,216.178 2279.3,216.178 2279.3,95.2176 1983.44,95.2176 1983.44,216.178 \n",
       "  \"/>\n",
       "<polyline clip-path=\"url(#clip430)\" style=\"stroke:#009af9; stroke-width:4; stroke-opacity:1; fill:none\" points=\"\n",
       "  2007.92,155.698 2154.83,155.698 \n",
       "  \"/>\n",
       "<path clip-path=\"url(#clip430)\" d=\"M 0 0 M2193.16 175.385 Q2191.35 180.015 2189.64 181.427 Q2187.93 182.839 2185.06 182.839 L2181.65 182.839 L2181.65 179.274 L2184.15 179.274 Q2185.91 179.274 2186.88 178.44 Q2187.86 177.607 2189.04 174.505 L2189.8 172.561 L2179.31 147.052 L2183.83 147.052 L2191.93 167.329 L2200.03 147.052 L2204.55 147.052 L2193.16 175.385 Z\" fill=\"#000000\" fill-rule=\"evenodd\" fill-opacity=\"1\" /><path clip-path=\"url(#clip430)\" d=\"M 0 0 M2210.43 169.042 L2218.06 169.042 L2218.06 142.677 L2209.75 144.343 L2209.75 140.084 L2218.02 138.418 L2222.69 138.418 L2222.69 169.042 L2230.33 169.042 L2230.33 172.978 L2210.43 172.978 L2210.43 169.042 Z\" fill=\"#000000\" fill-rule=\"evenodd\" fill-opacity=\"1\" /></svg>\n"
      ]
     },
     "execution_count": 108,
     "metadata": {},
     "output_type": "execute_result"
    }
   ],
   "source": [
    "g(x) = x^2 - 3\n",
    "der_g(x) = 2x\n",
    "x = 1:0.01:2\n",
    "plot(x,der_g)"
   ]
  },
  {
   "cell_type": "markdown",
   "metadata": {},
   "source": [
    "# Problema 3\n",
    "\n",
    "Modifique la función anterior para guardar en cada paso dos vectores, en uno el error relativo (usando como valor exacto `sqrt(BigFloat(3))`) y en otro el error relativo estimado ($|x_k - x_{k-1}|/|x_k|$) \n",
    "de la aproximación $k$-ésima de $\\sqrt{3}$  (pensada como raíz de la función $f(x) = x^2-3$) \n",
    "en función de $k$, empleando el método de bisección (use el intervalo inicial $[0.,2.5]$ y el \n",
    "de Newton-Raphson (use $x_0 = 2.5$). \n",
    "Escriba los programas en doble precisión, y fije una tolerancia de $10^{-10}$ como\n",
    "criterio de detención. Grafique los vectores y compare los resultados en un único gráfico en \n",
    "escala *log-log*. \n",
    "Recuerde de poner título, nombre a los ejes y leyendas para las distintas curvas. "
   ]
  },
  {
   "cell_type": "code",
   "execution_count": 6,
   "metadata": {},
   "outputs": [
    {
     "name": "stdout",
     "output_type": "stream",
     "text": [
      "[\"la raiz es: 1.732050807622727\", \"iteraciones 34\", \"valor de la función: 1.8654100486514835e-10\", \"error absoluto 1.4551915228366852e-10\", \"error relativo 8.401552174322216371498489468677980121684984642635781725673620916262409770612954e-11\", \"valor absoluto de la raiz 1.8654100486514835e-10\"]"
     ]
    }
   ],
   "source": [
    "#function Biseccion_3(f::Function,\n",
    " #   a::Float64,\n",
    "  #  b::Float64;\n",
    "    #tol_x::Float64=10.0^(-10),    #Agregar valores iniciales\n",
    "    #tol_y::Float64=10.0^(-10),\n",
    "    #maxiter::Int64=1000)\n",
    "    f(x) = x^2 - 3\n",
    "    a1 = 0.0   \n",
    "    b1 = 2.5  \n",
    "    fa = f(a1)\n",
    "    fb = f(b1)\n",
    "    p1 = (a1+b1)/2.0\n",
    "    fp = f(p1)\n",
    "    err_abs= abs(b1-a1)/2.0\n",
    "    err_rel = abs(b1-a1)/(2.0 * sqrt(BigFloat(3)))\n",
    "    err_rel_est= abs(b1-a1)/abs(b1+a1)\n",
    "    vec_err_rel = Vector()\n",
    "    vec_err_rel_est = Vector()\n",
    "    #if fa*fb >= 0\n",
    "    #    error(\"Error, no se encuentran raices en el intervalo\")\n",
    "    #end\n",
    "    i = 1\n",
    "    N = 1000\n",
    "    while i <= N\n",
    "        if sign(fp) == sign(fa)\n",
    "            a1 = p1\n",
    "            fa = fp\n",
    "        elseif sign(fp) == sign(fb)\n",
    "            b1 = p1\n",
    "            fb = fp\n",
    "        end\n",
    "        if fp == 0\n",
    "            break\n",
    "        end\n",
    "        i = i + 1\n",
    "        err_abs= abs(b1-a1)/2\n",
    "        err_rel_est= abs(b1-a1)/abs(b1+a1)\n",
    "        err_rel = abs(b1-a1)/(2.0 * sqrt(BigFloat(3)))\n",
    "        \n",
    "        push!(vec_err_rel , err_rel)\n",
    "        push!(vec_err_rel_est , err_rel_est)\n",
    "        \n",
    "        if err_rel < 10.0^(-10) || (abs(fp)) < 10.0^(-10)\n",
    "            break\n",
    "        end\n",
    "        p1 = (a1+b1)/2.0\n",
    "        fp = f(p1)\n",
    "    end\n",
    "    absoluto_raiz = abs(fp)\n",
    "    print([\"la raiz es: $p1\",\n",
    "        \"iteraciones $i\",\n",
    "        \"valor de la función: $fp\",\n",
    "        \"error absoluto $err_abs\",\n",
    "        \"error relativo $err_rel\",\n",
    "        \"valor absoluto de la raiz $absoluto_raiz\",\n",
    "       # vec_err_rel_est, vec_err_rel]\n",
    "        ])\n",
    "        "
   ]
  },
  {
   "cell_type": "code",
   "execution_count": 11,
   "metadata": {
    "scrolled": true
   },
   "outputs": [
    {
     "data": {
      "image/svg+xml": [
       "<?xml version=\"1.0\" encoding=\"utf-8\"?>\n",
       "<svg xmlns=\"http://www.w3.org/2000/svg\" xmlns:xlink=\"http://www.w3.org/1999/xlink\" width=\"600\" height=\"400\" viewBox=\"0 0 2400 1600\">\n",
       "<defs>\n",
       "  <clipPath id=\"clip970\">\n",
       "    <rect x=\"0\" y=\"0\" width=\"2400\" height=\"1600\"/>\n",
       "  </clipPath>\n",
       "</defs>\n",
       "<path clip-path=\"url(#clip970)\" d=\"\n",
       "M0 1600 L2400 1600 L2400 0 L0 0  Z\n",
       "  \" fill=\"#ffffff\" fill-rule=\"evenodd\" fill-opacity=\"1\"/>\n",
       "<defs>\n",
       "  <clipPath id=\"clip971\">\n",
       "    <rect x=\"480\" y=\"0\" width=\"1681\" height=\"1600\"/>\n",
       "  </clipPath>\n",
       "</defs>\n",
       "<path clip-path=\"url(#clip970)\" d=\"\n",
       "M201.597 1486.45 L2352.76 1486.45 L2352.76 47.2441 L201.597 47.2441  Z\n",
       "  \" fill=\"#ffffff\" fill-rule=\"evenodd\" fill-opacity=\"1\"/>\n",
       "<defs>\n",
       "  <clipPath id=\"clip972\">\n",
       "    <rect x=\"201\" y=\"47\" width=\"2152\" height=\"1440\"/>\n",
       "  </clipPath>\n",
       "</defs>\n",
       "<polyline clip-path=\"url(#clip972)\" style=\"stroke:#000000; stroke-width:2; stroke-opacity:0.1; fill:none\" points=\"\n",
       "  516.153,1486.45 516.153,47.2441 \n",
       "  \"/>\n",
       "<polyline clip-path=\"url(#clip972)\" style=\"stroke:#000000; stroke-width:2; stroke-opacity:0.1; fill:none\" points=\"\n",
       "  833.246,1486.45 833.246,47.2441 \n",
       "  \"/>\n",
       "<polyline clip-path=\"url(#clip972)\" style=\"stroke:#000000; stroke-width:2; stroke-opacity:0.1; fill:none\" points=\"\n",
       "  1150.34,1486.45 1150.34,47.2441 \n",
       "  \"/>\n",
       "<polyline clip-path=\"url(#clip972)\" style=\"stroke:#000000; stroke-width:2; stroke-opacity:0.1; fill:none\" points=\"\n",
       "  1467.43,1486.45 1467.43,47.2441 \n",
       "  \"/>\n",
       "<polyline clip-path=\"url(#clip972)\" style=\"stroke:#000000; stroke-width:2; stroke-opacity:0.1; fill:none\" points=\"\n",
       "  1784.53,1486.45 1784.53,47.2441 \n",
       "  \"/>\n",
       "<polyline clip-path=\"url(#clip972)\" style=\"stroke:#000000; stroke-width:2; stroke-opacity:0.1; fill:none\" points=\"\n",
       "  2101.62,1486.45 2101.62,47.2441 \n",
       "  \"/>\n",
       "<polyline clip-path=\"url(#clip970)\" style=\"stroke:#000000; stroke-width:4; stroke-opacity:1; fill:none\" points=\"\n",
       "  201.597,1486.45 2352.76,1486.45 \n",
       "  \"/>\n",
       "<polyline clip-path=\"url(#clip970)\" style=\"stroke:#000000; stroke-width:4; stroke-opacity:1; fill:none\" points=\"\n",
       "  516.153,1486.45 516.153,1469.18 \n",
       "  \"/>\n",
       "<polyline clip-path=\"url(#clip970)\" style=\"stroke:#000000; stroke-width:4; stroke-opacity:1; fill:none\" points=\"\n",
       "  833.246,1486.45 833.246,1469.18 \n",
       "  \"/>\n",
       "<polyline clip-path=\"url(#clip970)\" style=\"stroke:#000000; stroke-width:4; stroke-opacity:1; fill:none\" points=\"\n",
       "  1150.34,1486.45 1150.34,1469.18 \n",
       "  \"/>\n",
       "<polyline clip-path=\"url(#clip970)\" style=\"stroke:#000000; stroke-width:4; stroke-opacity:1; fill:none\" points=\"\n",
       "  1467.43,1486.45 1467.43,1469.18 \n",
       "  \"/>\n",
       "<polyline clip-path=\"url(#clip970)\" style=\"stroke:#000000; stroke-width:4; stroke-opacity:1; fill:none\" points=\"\n",
       "  1784.53,1486.45 1784.53,1469.18 \n",
       "  \"/>\n",
       "<polyline clip-path=\"url(#clip970)\" style=\"stroke:#000000; stroke-width:4; stroke-opacity:1; fill:none\" points=\"\n",
       "  2101.62,1486.45 2101.62,1469.18 \n",
       "  \"/>\n",
       "<path clip-path=\"url(#clip970)\" d=\"M 0 0 M506.431 1512.56 L524.787 1512.56 L524.787 1516.5 L510.713 1516.5 L510.713 1524.97 Q511.732 1524.62 512.75 1524.46 Q513.769 1524.27 514.787 1524.27 Q520.574 1524.27 523.954 1527.44 Q527.333 1530.62 527.333 1536.03 Q527.333 1541.61 523.861 1544.71 Q520.389 1547.79 514.07 1547.79 Q511.894 1547.79 509.625 1547.42 Q507.38 1547.05 504.972 1546.31 L504.972 1541.61 Q507.056 1542.74 509.278 1543.3 Q511.5 1543.86 513.977 1543.86 Q517.982 1543.86 520.32 1541.75 Q522.657 1539.64 522.657 1536.03 Q522.657 1532.42 520.32 1530.31 Q517.982 1528.21 513.977 1528.21 Q512.102 1528.21 510.227 1528.62 Q508.375 1529.04 506.431 1529.92 L506.431 1512.56 Z\" fill=\"#000000\" fill-rule=\"evenodd\" fill-opacity=\"1\" /><path clip-path=\"url(#clip970)\" d=\"M 0 0 M810.121 1543.18 L817.76 1543.18 L817.76 1516.82 L809.45 1518.49 L809.45 1514.23 L817.714 1512.56 L822.39 1512.56 L822.39 1543.18 L830.028 1543.18 L830.028 1547.12 L810.121 1547.12 L810.121 1543.18 Z\" fill=\"#000000\" fill-rule=\"evenodd\" fill-opacity=\"1\" /><path clip-path=\"url(#clip970)\" d=\"M 0 0 M845.098 1515.64 Q841.487 1515.64 839.658 1519.2 Q837.852 1522.75 837.852 1529.87 Q837.852 1536.98 839.658 1540.55 Q841.487 1544.09 845.098 1544.09 Q848.732 1544.09 850.538 1540.55 Q852.366 1536.98 852.366 1529.87 Q852.366 1522.75 850.538 1519.2 Q848.732 1515.64 845.098 1515.64 M845.098 1511.93 Q850.908 1511.93 853.963 1516.54 Q857.042 1521.12 857.042 1529.87 Q857.042 1538.6 853.963 1543.21 Q850.908 1547.79 845.098 1547.79 Q839.288 1547.79 836.209 1543.21 Q833.153 1538.6 833.153 1529.87 Q833.153 1521.12 836.209 1516.54 Q839.288 1511.93 845.098 1511.93 Z\" fill=\"#000000\" fill-rule=\"evenodd\" fill-opacity=\"1\" /><path clip-path=\"url(#clip970)\" d=\"M 0 0 M1127.71 1543.18 L1135.35 1543.18 L1135.35 1516.82 L1127.04 1518.49 L1127.04 1514.23 L1135.3 1512.56 L1139.98 1512.56 L1139.98 1543.18 L1147.62 1543.18 L1147.62 1547.12 L1127.71 1547.12 L1127.71 1543.18 Z\" fill=\"#000000\" fill-rule=\"evenodd\" fill-opacity=\"1\" /><path clip-path=\"url(#clip970)\" d=\"M 0 0 M1152.73 1512.56 L1171.09 1512.56 L1171.09 1516.5 L1157.02 1516.5 L1157.02 1524.97 Q1158.04 1524.62 1159.05 1524.46 Q1160.07 1524.27 1161.09 1524.27 Q1166.88 1524.27 1170.26 1527.44 Q1173.64 1530.62 1173.64 1536.03 Q1173.64 1541.61 1170.17 1544.71 Q1166.69 1547.79 1160.37 1547.79 Q1158.2 1547.79 1155.93 1547.42 Q1153.68 1547.05 1151.28 1546.31 L1151.28 1541.61 Q1153.36 1542.74 1155.58 1543.3 Q1157.8 1543.86 1160.28 1543.86 Q1164.29 1543.86 1166.62 1541.75 Q1168.96 1539.64 1168.96 1536.03 Q1168.96 1532.42 1166.62 1530.31 Q1164.29 1528.21 1160.28 1528.21 Q1158.41 1528.21 1156.53 1528.62 Q1154.68 1529.04 1152.73 1529.92 L1152.73 1512.56 Z\" fill=\"#000000\" fill-rule=\"evenodd\" fill-opacity=\"1\" /><path clip-path=\"url(#clip970)\" d=\"M 0 0 M1448.58 1543.18 L1464.9 1543.18 L1464.9 1547.12 L1442.95 1547.12 L1442.95 1543.18 Q1445.62 1540.43 1450.2 1535.8 Q1454.8 1531.15 1455.99 1529.81 Q1458.23 1527.28 1459.11 1525.55 Q1460.01 1523.79 1460.01 1522.1 Q1460.01 1519.34 1458.07 1517.61 Q1456.15 1515.87 1453.05 1515.87 Q1450.85 1515.87 1448.39 1516.63 Q1445.96 1517.4 1443.18 1518.95 L1443.18 1514.23 Q1446.01 1513.09 1448.46 1512.51 Q1450.92 1511.93 1452.95 1511.93 Q1458.32 1511.93 1461.52 1514.62 Q1464.71 1517.31 1464.71 1521.8 Q1464.71 1523.93 1463.9 1525.85 Q1463.11 1527.74 1461.01 1530.34 Q1460.43 1531.01 1457.33 1534.23 Q1454.23 1537.42 1448.58 1543.18 Z\" fill=\"#000000\" fill-rule=\"evenodd\" fill-opacity=\"1\" /><path clip-path=\"url(#clip970)\" d=\"M 0 0 M1479.97 1515.64 Q1476.36 1515.64 1474.53 1519.2 Q1472.72 1522.75 1472.72 1529.87 Q1472.72 1536.98 1474.53 1540.55 Q1476.36 1544.09 1479.97 1544.09 Q1483.6 1544.09 1485.41 1540.55 Q1487.24 1536.98 1487.24 1529.87 Q1487.24 1522.75 1485.41 1519.2 Q1483.6 1515.64 1479.97 1515.64 M1479.97 1511.93 Q1485.78 1511.93 1488.83 1516.54 Q1491.91 1521.12 1491.91 1529.87 Q1491.91 1538.6 1488.83 1543.21 Q1485.78 1547.79 1479.97 1547.79 Q1474.16 1547.79 1471.08 1543.21 Q1468.02 1538.6 1468.02 1529.87 Q1468.02 1521.12 1471.08 1516.54 Q1474.16 1511.93 1479.97 1511.93 Z\" fill=\"#000000\" fill-rule=\"evenodd\" fill-opacity=\"1\" /><path clip-path=\"url(#clip970)\" d=\"M 0 0 M1766.17 1543.18 L1782.49 1543.18 L1782.49 1547.12 L1760.54 1547.12 L1760.54 1543.18 Q1763.21 1540.43 1767.79 1535.8 Q1772.4 1531.15 1773.58 1529.81 Q1775.82 1527.28 1776.7 1525.55 Q1777.6 1523.79 1777.6 1522.1 Q1777.6 1519.34 1775.66 1517.61 Q1773.74 1515.87 1770.64 1515.87 Q1768.44 1515.87 1765.98 1516.63 Q1763.55 1517.4 1760.78 1518.95 L1760.78 1514.23 Q1763.6 1513.09 1766.05 1512.51 Q1768.51 1511.93 1770.54 1511.93 Q1775.91 1511.93 1779.11 1514.62 Q1782.3 1517.31 1782.3 1521.8 Q1782.3 1523.93 1781.49 1525.85 Q1780.71 1527.74 1778.6 1530.34 Q1778.02 1531.01 1774.92 1534.23 Q1771.82 1537.42 1766.17 1543.18 Z\" fill=\"#000000\" fill-rule=\"evenodd\" fill-opacity=\"1\" /><path clip-path=\"url(#clip970)\" d=\"M 0 0 M1787.6 1512.56 L1805.96 1512.56 L1805.96 1516.5 L1791.89 1516.5 L1791.89 1524.97 Q1792.9 1524.62 1793.92 1524.46 Q1794.94 1524.27 1795.96 1524.27 Q1801.75 1524.27 1805.13 1527.44 Q1808.51 1530.62 1808.51 1536.03 Q1808.51 1541.61 1805.03 1544.71 Q1801.56 1547.79 1795.24 1547.79 Q1793.07 1547.79 1790.8 1547.42 Q1788.55 1547.05 1786.15 1546.31 L1786.15 1541.61 Q1788.23 1542.74 1790.45 1543.3 Q1792.67 1543.86 1795.15 1543.86 Q1799.15 1543.86 1801.49 1541.75 Q1803.83 1539.64 1803.83 1536.03 Q1803.83 1532.42 1801.49 1530.31 Q1799.15 1528.21 1795.15 1528.21 Q1793.28 1528.21 1791.4 1528.62 Q1789.55 1529.04 1787.6 1529.92 L1787.6 1512.56 Z\" fill=\"#000000\" fill-rule=\"evenodd\" fill-opacity=\"1\" /><path clip-path=\"url(#clip970)\" d=\"M 0 0 M2092.36 1528.49 Q2095.72 1529.2 2097.59 1531.47 Q2099.49 1533.74 2099.49 1537.07 Q2099.49 1542.19 2095.97 1544.99 Q2092.45 1547.79 2085.97 1547.79 Q2083.79 1547.79 2081.48 1547.35 Q2079.19 1546.93 2076.73 1546.08 L2076.73 1541.56 Q2078.68 1542.7 2080.99 1543.28 Q2083.31 1543.86 2085.83 1543.86 Q2090.23 1543.86 2092.52 1542.12 Q2094.84 1540.38 2094.84 1537.07 Q2094.84 1534.02 2092.68 1532.31 Q2090.55 1530.57 2086.73 1530.57 L2082.71 1530.57 L2082.71 1526.73 L2086.92 1526.73 Q2090.37 1526.73 2092.2 1525.36 Q2094.03 1523.97 2094.03 1521.38 Q2094.03 1518.72 2092.13 1517.31 Q2090.25 1515.87 2086.73 1515.87 Q2084.81 1515.87 2082.61 1516.29 Q2080.41 1516.7 2077.78 1517.58 L2077.78 1513.42 Q2080.44 1512.68 2082.75 1512.31 Q2085.09 1511.93 2087.15 1511.93 Q2092.47 1511.93 2095.58 1514.37 Q2098.68 1516.77 2098.68 1520.89 Q2098.68 1523.76 2097.03 1525.75 Q2095.39 1527.72 2092.36 1528.49 Z\" fill=\"#000000\" fill-rule=\"evenodd\" fill-opacity=\"1\" /><path clip-path=\"url(#clip970)\" d=\"M 0 0 M2114.56 1515.64 Q2110.95 1515.64 2109.12 1519.2 Q2107.31 1522.75 2107.31 1529.87 Q2107.31 1536.98 2109.12 1540.55 Q2110.95 1544.09 2114.56 1544.09 Q2118.19 1544.09 2120 1540.55 Q2121.83 1536.98 2121.83 1529.87 Q2121.83 1522.75 2120 1519.2 Q2118.19 1515.64 2114.56 1515.64 M2114.56 1511.93 Q2120.37 1511.93 2123.42 1516.54 Q2126.5 1521.12 2126.5 1529.87 Q2126.5 1538.6 2123.42 1543.21 Q2120.37 1547.79 2114.56 1547.79 Q2108.75 1547.79 2105.67 1543.21 Q2102.61 1538.6 2102.61 1529.87 Q2102.61 1521.12 2105.67 1516.54 Q2108.75 1511.93 2114.56 1511.93 Z\" fill=\"#000000\" fill-rule=\"evenodd\" fill-opacity=\"1\" /><polyline clip-path=\"url(#clip972)\" style=\"stroke:#000000; stroke-width:2; stroke-opacity:0.1; fill:none\" points=\"\n",
       "  201.597,1435.05 2352.76,1435.05 \n",
       "  \"/>\n",
       "<polyline clip-path=\"url(#clip972)\" style=\"stroke:#000000; stroke-width:2; stroke-opacity:0.1; fill:none\" points=\"\n",
       "  201.597,1153.16 2352.76,1153.16 \n",
       "  \"/>\n",
       "<polyline clip-path=\"url(#clip972)\" style=\"stroke:#000000; stroke-width:2; stroke-opacity:0.1; fill:none\" points=\"\n",
       "  201.597,871.265 2352.76,871.265 \n",
       "  \"/>\n",
       "<polyline clip-path=\"url(#clip972)\" style=\"stroke:#000000; stroke-width:2; stroke-opacity:0.1; fill:none\" points=\"\n",
       "  201.597,589.371 2352.76,589.371 \n",
       "  \"/>\n",
       "<polyline clip-path=\"url(#clip972)\" style=\"stroke:#000000; stroke-width:2; stroke-opacity:0.1; fill:none\" points=\"\n",
       "  201.597,307.476 2352.76,307.476 \n",
       "  \"/>\n",
       "<polyline clip-path=\"url(#clip970)\" style=\"stroke:#000000; stroke-width:4; stroke-opacity:1; fill:none\" points=\"\n",
       "  201.597,1486.45 201.597,47.2441 \n",
       "  \"/>\n",
       "<polyline clip-path=\"url(#clip970)\" style=\"stroke:#000000; stroke-width:4; stroke-opacity:1; fill:none\" points=\"\n",
       "  201.597,1435.05 227.41,1435.05 \n",
       "  \"/>\n",
       "<polyline clip-path=\"url(#clip970)\" style=\"stroke:#000000; stroke-width:4; stroke-opacity:1; fill:none\" points=\"\n",
       "  201.597,1153.16 227.41,1153.16 \n",
       "  \"/>\n",
       "<polyline clip-path=\"url(#clip970)\" style=\"stroke:#000000; stroke-width:4; stroke-opacity:1; fill:none\" points=\"\n",
       "  201.597,871.265 227.41,871.265 \n",
       "  \"/>\n",
       "<polyline clip-path=\"url(#clip970)\" style=\"stroke:#000000; stroke-width:4; stroke-opacity:1; fill:none\" points=\"\n",
       "  201.597,589.371 227.41,589.371 \n",
       "  \"/>\n",
       "<polyline clip-path=\"url(#clip970)\" style=\"stroke:#000000; stroke-width:4; stroke-opacity:1; fill:none\" points=\"\n",
       "  201.597,307.476 227.41,307.476 \n",
       "  \"/>\n",
       "<path clip-path=\"url(#clip970)\" d=\"M 0 0 M51.6634 1454.85 L59.3023 1454.85 L59.3023 1428.48 L50.9921 1430.15 L50.9921 1425.89 L59.256 1424.22 L63.9319 1424.22 L63.9319 1454.85 L71.5707 1454.85 L71.5707 1458.78 L51.6634 1458.78 L51.6634 1454.85 Z\" fill=\"#000000\" fill-rule=\"evenodd\" fill-opacity=\"1\" /><path clip-path=\"url(#clip970)\" d=\"M 0 0 M86.6401 1427.3 Q83.029 1427.3 81.2003 1430.87 Q79.3948 1434.41 79.3948 1441.54 Q79.3948 1448.64 81.2003 1452.21 Q83.029 1455.75 86.6401 1455.75 Q90.2743 1455.75 92.0799 1452.21 Q93.9086 1448.64 93.9086 1441.54 Q93.9086 1434.41 92.0799 1430.87 Q90.2743 1427.3 86.6401 1427.3 M86.6401 1423.6 Q92.4502 1423.6 95.5058 1428.2 Q98.5845 1432.79 98.5845 1441.54 Q98.5845 1450.26 95.5058 1454.87 Q92.4502 1459.45 86.6401 1459.45 Q80.8299 1459.45 77.7512 1454.87 Q74.6957 1450.26 74.6957 1441.54 Q74.6957 1432.79 77.7512 1428.2 Q80.8299 1423.6 86.6401 1423.6 Z\" fill=\"#000000\" fill-rule=\"evenodd\" fill-opacity=\"1\" /><path clip-path=\"url(#clip970)\" d=\"M 0 0 M98.5845 1417.7 L122.696 1417.7 L122.696 1420.9 L98.5845 1420.9 L98.5845 1417.7 Z\" fill=\"#000000\" fill-rule=\"evenodd\" fill-opacity=\"1\" /><path clip-path=\"url(#clip970)\" d=\"M 0 0 M127.473 1428.17 L133.68 1428.17 L133.68 1406.75 L126.928 1408.11 L126.928 1404.65 L133.642 1403.29 L137.441 1403.29 L137.441 1428.17 L143.648 1428.17 L143.648 1431.37 L127.473 1431.37 L127.473 1428.17 Z\" fill=\"#000000\" fill-rule=\"evenodd\" fill-opacity=\"1\" /><path clip-path=\"url(#clip970)\" d=\"M 0 0 M155.892 1405.79 Q152.958 1405.79 151.472 1408.69 Q150.005 1411.57 150.005 1417.36 Q150.005 1423.13 151.472 1426.03 Q152.958 1428.91 155.892 1428.91 Q158.845 1428.91 160.312 1426.03 Q161.797 1423.13 161.797 1417.36 Q161.797 1411.57 160.312 1408.69 Q158.845 1405.79 155.892 1405.79 M155.892 1402.78 Q160.612 1402.78 163.095 1406.53 Q165.597 1410.25 165.597 1417.36 Q165.597 1424.45 163.095 1428.19 Q160.612 1431.92 155.892 1431.92 Q151.171 1431.92 148.67 1428.19 Q146.187 1424.45 146.187 1417.36 Q146.187 1410.25 148.67 1406.53 Q151.171 1402.78 155.892 1402.78 Z\" fill=\"#000000\" fill-rule=\"evenodd\" fill-opacity=\"1\" /><path clip-path=\"url(#clip970)\" d=\"M 0 0 M72.6905 1172.95 L80.3294 1172.95 L80.3294 1146.59 L72.0192 1148.25 L72.0192 1143.99 L80.2831 1142.33 L84.959 1142.33 L84.959 1172.95 L92.5978 1172.95 L92.5978 1176.89 L72.6905 1176.89 L72.6905 1172.95 Z\" fill=\"#000000\" fill-rule=\"evenodd\" fill-opacity=\"1\" /><path clip-path=\"url(#clip970)\" d=\"M 0 0 M107.667 1145.41 Q104.056 1145.41 102.227 1148.97 Q100.422 1152.51 100.422 1159.64 Q100.422 1166.75 102.227 1170.31 Q104.056 1173.86 107.667 1173.86 Q111.301 1173.86 113.107 1170.31 Q114.936 1166.75 114.936 1159.64 Q114.936 1152.51 113.107 1148.97 Q111.301 1145.41 107.667 1145.41 M107.667 1141.7 Q113.477 1141.7 116.533 1146.31 Q119.612 1150.89 119.612 1159.64 Q119.612 1168.37 116.533 1172.98 Q113.477 1177.56 107.667 1177.56 Q101.857 1177.56 98.7783 1172.98 Q95.7228 1168.37 95.7228 1159.64 Q95.7228 1150.89 98.7783 1146.31 Q101.857 1141.7 107.667 1141.7 Z\" fill=\"#000000\" fill-rule=\"evenodd\" fill-opacity=\"1\" /><path clip-path=\"url(#clip970)\" d=\"M 0 0 M119.612 1135.8 L143.723 1135.8 L143.723 1139 L119.612 1139 L119.612 1135.8 Z\" fill=\"#000000\" fill-rule=\"evenodd\" fill-opacity=\"1\" /><path clip-path=\"url(#clip970)\" d=\"M 0 0 M155.967 1136.14 Q153.259 1136.14 151.698 1137.59 Q150.155 1139.04 150.155 1141.58 Q150.155 1144.12 151.698 1145.57 Q153.259 1147.01 155.967 1147.01 Q158.675 1147.01 160.236 1145.57 Q161.797 1144.1 161.797 1141.58 Q161.797 1139.04 160.236 1137.59 Q158.694 1136.14 155.967 1136.14 M152.168 1134.52 Q149.723 1133.92 148.35 1132.25 Q146.996 1130.58 146.996 1128.17 Q146.996 1124.8 149.384 1122.85 Q151.792 1120.89 155.967 1120.89 Q160.161 1120.89 162.55 1122.85 Q164.938 1124.8 164.938 1128.17 Q164.938 1130.58 163.565 1132.25 Q162.211 1133.92 159.785 1134.52 Q162.531 1135.16 164.054 1137.03 Q165.597 1138.89 165.597 1141.58 Q165.597 1145.66 163.095 1147.84 Q160.612 1150.02 155.967 1150.02 Q151.321 1150.02 148.82 1147.84 Q146.337 1145.66 146.337 1141.58 Q146.337 1138.89 147.88 1137.03 Q149.422 1135.16 152.168 1134.52 M150.776 1128.53 Q150.776 1130.71 152.13 1131.93 Q153.503 1133.15 155.967 1133.15 Q158.412 1133.15 159.785 1131.93 Q161.177 1130.71 161.177 1128.53 Q161.177 1126.34 159.785 1125.12 Q158.412 1123.9 155.967 1123.9 Q153.503 1123.9 152.13 1125.12 Q150.776 1126.34 150.776 1128.53 Z\" fill=\"#000000\" fill-rule=\"evenodd\" fill-opacity=\"1\" /><path clip-path=\"url(#clip970)\" d=\"M 0 0 M72.4836 891.058 L80.1225 891.058 L80.1225 864.692 L71.8123 866.359 L71.8123 862.1 L80.0762 860.433 L84.7521 860.433 L84.7521 891.058 L92.3909 891.058 L92.3909 894.993 L72.4836 894.993 L72.4836 891.058 Z\" fill=\"#000000\" fill-rule=\"evenodd\" fill-opacity=\"1\" /><path clip-path=\"url(#clip970)\" d=\"M 0 0 M107.46 863.512 Q103.849 863.512 102.02 867.076 Q100.215 870.618 100.215 877.748 Q100.215 884.854 102.02 888.419 Q103.849 891.96 107.46 891.96 Q111.095 891.96 112.9 888.419 Q114.729 884.854 114.729 877.748 Q114.729 870.618 112.9 867.076 Q111.095 863.512 107.46 863.512 M107.46 859.808 Q113.27 859.808 116.326 864.414 Q119.405 868.998 119.405 877.748 Q119.405 886.474 116.326 891.081 Q113.27 895.664 107.46 895.664 Q101.65 895.664 98.5714 891.081 Q95.5159 886.474 95.5159 877.748 Q95.5159 868.998 98.5714 864.414 Q101.65 859.808 107.46 859.808 Z\" fill=\"#000000\" fill-rule=\"evenodd\" fill-opacity=\"1\" /><path clip-path=\"url(#clip970)\" d=\"M 0 0 M119.405 853.909 L143.516 853.909 L143.516 857.107 L119.405 857.107 L119.405 853.909 Z\" fill=\"#000000\" fill-rule=\"evenodd\" fill-opacity=\"1\" /><path clip-path=\"url(#clip970)\" d=\"M 0 0 M156.23 852.028 Q153.672 852.028 152.168 853.778 Q150.682 855.527 150.682 858.574 Q150.682 861.602 152.168 863.37 Q153.672 865.119 156.23 865.119 Q158.788 865.119 160.274 863.37 Q161.779 861.602 161.779 858.574 Q161.779 855.527 160.274 853.778 Q158.788 852.028 156.23 852.028 M163.772 840.123 L163.772 843.584 Q162.343 842.907 160.876 842.549 Q159.428 842.192 157.998 842.192 Q154.237 842.192 152.243 844.731 Q150.268 847.27 149.986 852.405 Q151.096 850.768 152.77 849.903 Q154.444 849.019 156.456 849.019 Q160.688 849.019 163.133 851.596 Q165.597 854.154 165.597 858.574 Q165.597 862.899 163.039 865.514 Q160.481 868.128 156.23 868.128 Q151.359 868.128 148.782 864.404 Q146.206 860.661 146.206 853.571 Q146.206 846.913 149.365 842.963 Q152.525 838.995 157.848 838.995 Q159.277 838.995 160.725 839.277 Q162.192 839.559 163.772 840.123 Z\" fill=\"#000000\" fill-rule=\"evenodd\" fill-opacity=\"1\" /><path clip-path=\"url(#clip970)\" d=\"M 0 0 M72.2203 609.163 L79.8592 609.163 L79.8592 582.798 L71.549 584.464 L71.549 580.205 L79.8129 578.538 L84.4888 578.538 L84.4888 609.163 L92.1276 609.163 L92.1276 613.098 L72.2203 613.098 L72.2203 609.163 Z\" fill=\"#000000\" fill-rule=\"evenodd\" fill-opacity=\"1\" /><path clip-path=\"url(#clip970)\" d=\"M 0 0 M107.197 581.617 Q103.586 581.617 101.757 585.182 Q99.9516 588.723 99.9516 595.853 Q99.9516 602.96 101.757 606.524 Q103.586 610.066 107.197 610.066 Q110.831 610.066 112.637 606.524 Q114.465 602.96 114.465 595.853 Q114.465 588.723 112.637 585.182 Q110.831 581.617 107.197 581.617 M107.197 577.913 Q113.007 577.913 116.063 582.52 Q119.141 587.103 119.141 595.853 Q119.141 604.58 116.063 609.186 Q113.007 613.77 107.197 613.77 Q101.387 613.77 98.3081 609.186 Q95.2526 604.58 95.2526 595.853 Q95.2526 587.103 98.3081 582.52 Q101.387 577.913 107.197 577.913 Z\" fill=\"#000000\" fill-rule=\"evenodd\" fill-opacity=\"1\" /><path clip-path=\"url(#clip970)\" d=\"M 0 0 M119.141 572.015 L143.253 572.015 L143.253 575.212 L119.141 575.212 L119.141 572.015 Z\" fill=\"#000000\" fill-rule=\"evenodd\" fill-opacity=\"1\" /><path clip-path=\"url(#clip970)\" d=\"M 0 0 M157.81 560.918 L148.218 575.908 L157.81 575.908 L157.81 560.918 M156.813 557.608 L161.59 557.608 L161.59 575.908 L165.597 575.908 L165.597 579.068 L161.59 579.068 L161.59 585.688 L157.81 585.688 L157.81 579.068 L145.134 579.068 L145.134 575.4 L156.813 557.608 Z\" fill=\"#000000\" fill-rule=\"evenodd\" fill-opacity=\"1\" /><path clip-path=\"url(#clip970)\" d=\"M 0 0 M73.913 327.269 L81.5519 327.269 L81.5519 300.903 L73.2417 302.57 L73.2417 298.31 L81.5056 296.644 L86.1815 296.644 L86.1815 327.269 L93.8203 327.269 L93.8203 331.204 L73.913 331.204 L73.913 327.269 Z\" fill=\"#000000\" fill-rule=\"evenodd\" fill-opacity=\"1\" /><path clip-path=\"url(#clip970)\" d=\"M 0 0 M108.89 299.722 Q105.279 299.722 103.45 303.287 Q101.644 306.829 101.644 313.959 Q101.644 321.065 103.45 324.63 Q105.279 328.171 108.89 328.171 Q112.524 328.171 114.329 324.63 Q116.158 321.065 116.158 313.959 Q116.158 306.829 114.329 303.287 Q112.524 299.722 108.89 299.722 M108.89 296.019 Q114.7 296.019 117.755 300.625 Q120.834 305.209 120.834 313.959 Q120.834 322.685 117.755 327.292 Q114.7 331.875 108.89 331.875 Q103.08 331.875 100.001 327.292 Q96.9453 322.685 96.9453 313.959 Q96.9453 305.209 100.001 300.625 Q103.08 296.019 108.89 296.019 Z\" fill=\"#000000\" fill-rule=\"evenodd\" fill-opacity=\"1\" /><path clip-path=\"url(#clip970)\" d=\"M 0 0 M120.834 290.12 L144.946 290.12 L144.946 293.317 L120.834 293.317 L120.834 290.12 Z\" fill=\"#000000\" fill-rule=\"evenodd\" fill-opacity=\"1\" /><path clip-path=\"url(#clip970)\" d=\"M 0 0 M152.337 300.596 L165.597 300.596 L165.597 303.793 L147.767 303.793 L147.767 300.596 Q149.93 298.358 153.654 294.596 Q157.396 290.816 158.356 289.725 Q160.18 287.675 160.895 286.265 Q161.628 284.835 161.628 283.462 Q161.628 281.224 160.048 279.813 Q158.487 278.403 155.967 278.403 Q154.18 278.403 152.187 279.024 Q150.212 279.644 147.955 280.904 L147.955 277.068 Q150.249 276.146 152.243 275.676 Q154.237 275.206 155.892 275.206 Q160.255 275.206 162.851 277.387 Q165.446 279.569 165.446 283.218 Q165.446 284.948 164.788 286.509 Q164.148 288.051 162.437 290.158 Q161.967 290.703 159.446 293.317 Q156.926 295.913 152.337 300.596 Z\" fill=\"#000000\" fill-rule=\"evenodd\" fill-opacity=\"1\" /><circle clip-path=\"url(#clip972)\" cx=\"262.478\" cy=\"87.9763\" r=\"14\" fill=\"#009af9\" fill-rule=\"evenodd\" fill-opacity=\"1\" stroke=\"#000000\" stroke-opacity=\"1\" stroke-width=\"3.2\"/>\n",
       "<circle clip-path=\"url(#clip972)\" cx=\"325.897\" cy=\"130.406\" r=\"14\" fill=\"#009af9\" fill-rule=\"evenodd\" fill-opacity=\"1\" stroke=\"#000000\" stroke-opacity=\"1\" stroke-width=\"3.2\"/>\n",
       "<circle clip-path=\"url(#clip972)\" cx=\"389.316\" cy=\"172.835\" r=\"14\" fill=\"#009af9\" fill-rule=\"evenodd\" fill-opacity=\"1\" stroke=\"#000000\" stroke-opacity=\"1\" stroke-width=\"3.2\"/>\n",
       "<circle clip-path=\"url(#clip972)\" cx=\"452.734\" cy=\"215.264\" r=\"14\" fill=\"#009af9\" fill-rule=\"evenodd\" fill-opacity=\"1\" stroke=\"#000000\" stroke-opacity=\"1\" stroke-width=\"3.2\"/>\n",
       "<circle clip-path=\"url(#clip972)\" cx=\"516.153\" cy=\"257.694\" r=\"14\" fill=\"#009af9\" fill-rule=\"evenodd\" fill-opacity=\"1\" stroke=\"#000000\" stroke-opacity=\"1\" stroke-width=\"3.2\"/>\n",
       "<circle clip-path=\"url(#clip972)\" cx=\"579.571\" cy=\"300.123\" r=\"14\" fill=\"#009af9\" fill-rule=\"evenodd\" fill-opacity=\"1\" stroke=\"#000000\" stroke-opacity=\"1\" stroke-width=\"3.2\"/>\n",
       "<circle clip-path=\"url(#clip972)\" cx=\"642.99\" cy=\"342.552\" r=\"14\" fill=\"#009af9\" fill-rule=\"evenodd\" fill-opacity=\"1\" stroke=\"#000000\" stroke-opacity=\"1\" stroke-width=\"3.2\"/>\n",
       "<circle clip-path=\"url(#clip972)\" cx=\"706.409\" cy=\"384.982\" r=\"14\" fill=\"#009af9\" fill-rule=\"evenodd\" fill-opacity=\"1\" stroke=\"#000000\" stroke-opacity=\"1\" stroke-width=\"3.2\"/>\n",
       "<circle clip-path=\"url(#clip972)\" cx=\"769.827\" cy=\"427.411\" r=\"14\" fill=\"#009af9\" fill-rule=\"evenodd\" fill-opacity=\"1\" stroke=\"#000000\" stroke-opacity=\"1\" stroke-width=\"3.2\"/>\n",
       "<circle clip-path=\"url(#clip972)\" cx=\"833.246\" cy=\"469.84\" r=\"14\" fill=\"#009af9\" fill-rule=\"evenodd\" fill-opacity=\"1\" stroke=\"#000000\" stroke-opacity=\"1\" stroke-width=\"3.2\"/>\n",
       "<circle clip-path=\"url(#clip972)\" cx=\"896.665\" cy=\"512.27\" r=\"14\" fill=\"#009af9\" fill-rule=\"evenodd\" fill-opacity=\"1\" stroke=\"#000000\" stroke-opacity=\"1\" stroke-width=\"3.2\"/>\n",
       "<circle clip-path=\"url(#clip972)\" cx=\"960.083\" cy=\"554.699\" r=\"14\" fill=\"#009af9\" fill-rule=\"evenodd\" fill-opacity=\"1\" stroke=\"#000000\" stroke-opacity=\"1\" stroke-width=\"3.2\"/>\n",
       "<circle clip-path=\"url(#clip972)\" cx=\"1023.5\" cy=\"597.129\" r=\"14\" fill=\"#009af9\" fill-rule=\"evenodd\" fill-opacity=\"1\" stroke=\"#000000\" stroke-opacity=\"1\" stroke-width=\"3.2\"/>\n",
       "<circle clip-path=\"url(#clip972)\" cx=\"1086.92\" cy=\"639.558\" r=\"14\" fill=\"#009af9\" fill-rule=\"evenodd\" fill-opacity=\"1\" stroke=\"#000000\" stroke-opacity=\"1\" stroke-width=\"3.2\"/>\n",
       "<circle clip-path=\"url(#clip972)\" cx=\"1150.34\" cy=\"681.987\" r=\"14\" fill=\"#009af9\" fill-rule=\"evenodd\" fill-opacity=\"1\" stroke=\"#000000\" stroke-opacity=\"1\" stroke-width=\"3.2\"/>\n",
       "<circle clip-path=\"url(#clip972)\" cx=\"1213.76\" cy=\"724.417\" r=\"14\" fill=\"#009af9\" fill-rule=\"evenodd\" fill-opacity=\"1\" stroke=\"#000000\" stroke-opacity=\"1\" stroke-width=\"3.2\"/>\n",
       "<circle clip-path=\"url(#clip972)\" cx=\"1277.18\" cy=\"766.846\" r=\"14\" fill=\"#009af9\" fill-rule=\"evenodd\" fill-opacity=\"1\" stroke=\"#000000\" stroke-opacity=\"1\" stroke-width=\"3.2\"/>\n",
       "<circle clip-path=\"url(#clip972)\" cx=\"1340.59\" cy=\"809.275\" r=\"14\" fill=\"#009af9\" fill-rule=\"evenodd\" fill-opacity=\"1\" stroke=\"#000000\" stroke-opacity=\"1\" stroke-width=\"3.2\"/>\n",
       "<circle clip-path=\"url(#clip972)\" cx=\"1404.01\" cy=\"851.705\" r=\"14\" fill=\"#009af9\" fill-rule=\"evenodd\" fill-opacity=\"1\" stroke=\"#000000\" stroke-opacity=\"1\" stroke-width=\"3.2\"/>\n",
       "<circle clip-path=\"url(#clip972)\" cx=\"1467.43\" cy=\"894.134\" r=\"14\" fill=\"#009af9\" fill-rule=\"evenodd\" fill-opacity=\"1\" stroke=\"#000000\" stroke-opacity=\"1\" stroke-width=\"3.2\"/>\n",
       "<circle clip-path=\"url(#clip972)\" cx=\"1530.85\" cy=\"936.563\" r=\"14\" fill=\"#009af9\" fill-rule=\"evenodd\" fill-opacity=\"1\" stroke=\"#000000\" stroke-opacity=\"1\" stroke-width=\"3.2\"/>\n",
       "<circle clip-path=\"url(#clip972)\" cx=\"1594.27\" cy=\"978.993\" r=\"14\" fill=\"#009af9\" fill-rule=\"evenodd\" fill-opacity=\"1\" stroke=\"#000000\" stroke-opacity=\"1\" stroke-width=\"3.2\"/>\n",
       "<circle clip-path=\"url(#clip972)\" cx=\"1657.69\" cy=\"1021.42\" r=\"14\" fill=\"#009af9\" fill-rule=\"evenodd\" fill-opacity=\"1\" stroke=\"#000000\" stroke-opacity=\"1\" stroke-width=\"3.2\"/>\n",
       "<circle clip-path=\"url(#clip972)\" cx=\"1721.11\" cy=\"1063.85\" r=\"14\" fill=\"#009af9\" fill-rule=\"evenodd\" fill-opacity=\"1\" stroke=\"#000000\" stroke-opacity=\"1\" stroke-width=\"3.2\"/>\n",
       "<circle clip-path=\"url(#clip972)\" cx=\"1784.53\" cy=\"1106.28\" r=\"14\" fill=\"#009af9\" fill-rule=\"evenodd\" fill-opacity=\"1\" stroke=\"#000000\" stroke-opacity=\"1\" stroke-width=\"3.2\"/>\n",
       "<circle clip-path=\"url(#clip972)\" cx=\"1847.94\" cy=\"1148.71\" r=\"14\" fill=\"#009af9\" fill-rule=\"evenodd\" fill-opacity=\"1\" stroke=\"#000000\" stroke-opacity=\"1\" stroke-width=\"3.2\"/>\n",
       "<circle clip-path=\"url(#clip972)\" cx=\"1911.36\" cy=\"1191.14\" r=\"14\" fill=\"#009af9\" fill-rule=\"evenodd\" fill-opacity=\"1\" stroke=\"#000000\" stroke-opacity=\"1\" stroke-width=\"3.2\"/>\n",
       "<circle clip-path=\"url(#clip972)\" cx=\"1974.78\" cy=\"1233.57\" r=\"14\" fill=\"#009af9\" fill-rule=\"evenodd\" fill-opacity=\"1\" stroke=\"#000000\" stroke-opacity=\"1\" stroke-width=\"3.2\"/>\n",
       "<circle clip-path=\"url(#clip972)\" cx=\"2038.2\" cy=\"1276\" r=\"14\" fill=\"#009af9\" fill-rule=\"evenodd\" fill-opacity=\"1\" stroke=\"#000000\" stroke-opacity=\"1\" stroke-width=\"3.2\"/>\n",
       "<circle clip-path=\"url(#clip972)\" cx=\"2101.62\" cy=\"1318.43\" r=\"14\" fill=\"#009af9\" fill-rule=\"evenodd\" fill-opacity=\"1\" stroke=\"#000000\" stroke-opacity=\"1\" stroke-width=\"3.2\"/>\n",
       "<circle clip-path=\"url(#clip972)\" cx=\"2165.04\" cy=\"1360.86\" r=\"14\" fill=\"#009af9\" fill-rule=\"evenodd\" fill-opacity=\"1\" stroke=\"#000000\" stroke-opacity=\"1\" stroke-width=\"3.2\"/>\n",
       "<circle clip-path=\"url(#clip972)\" cx=\"2228.46\" cy=\"1403.29\" r=\"14\" fill=\"#009af9\" fill-rule=\"evenodd\" fill-opacity=\"1\" stroke=\"#000000\" stroke-opacity=\"1\" stroke-width=\"3.2\"/>\n",
       "<circle clip-path=\"url(#clip972)\" cx=\"2291.87\" cy=\"1445.72\" r=\"14\" fill=\"#009af9\" fill-rule=\"evenodd\" fill-opacity=\"1\" stroke=\"#000000\" stroke-opacity=\"1\" stroke-width=\"3.2\"/>\n",
       "<circle clip-path=\"url(#clip972)\" cx=\"262.478\" cy=\"92.8306\" r=\"14\" fill=\"#e26f46\" fill-rule=\"evenodd\" fill-opacity=\"1\" stroke=\"#000000\" stroke-opacity=\"1\" stroke-width=\"3.2\"/>\n",
       "<circle clip-path=\"url(#clip972)\" cx=\"325.897\" cy=\"124.1\" r=\"14\" fill=\"#e26f46\" fill-rule=\"evenodd\" fill-opacity=\"1\" stroke=\"#000000\" stroke-opacity=\"1\" stroke-width=\"3.2\"/>\n",
       "<circle clip-path=\"url(#clip972)\" cx=\"389.316\" cy=\"172.363\" r=\"14\" fill=\"#e26f46\" fill-rule=\"evenodd\" fill-opacity=\"1\" stroke=\"#000000\" stroke-opacity=\"1\" stroke-width=\"3.2\"/>\n",
       "<circle clip-path=\"url(#clip972)\" cx=\"452.734\" cy=\"217.513\" r=\"14\" fill=\"#e26f46\" fill-rule=\"evenodd\" fill-opacity=\"1\" stroke=\"#000000\" stroke-opacity=\"1\" stroke-width=\"3.2\"/>\n",
       "<circle clip-path=\"url(#clip972)\" cx=\"516.153\" cy=\"258.597\" r=\"14\" fill=\"#e26f46\" fill-rule=\"evenodd\" fill-opacity=\"1\" stroke=\"#000000\" stroke-opacity=\"1\" stroke-width=\"3.2\"/>\n",
       "<circle clip-path=\"url(#clip972)\" cx=\"579.571\" cy=\"300.343\" r=\"14\" fill=\"#e26f46\" fill-rule=\"evenodd\" fill-opacity=\"1\" stroke=\"#000000\" stroke-opacity=\"1\" stroke-width=\"3.2\"/>\n",
       "<circle clip-path=\"url(#clip972)\" cx=\"642.99\" cy=\"342.427\" r=\"14\" fill=\"#e26f46\" fill-rule=\"evenodd\" fill-opacity=\"1\" stroke=\"#000000\" stroke-opacity=\"1\" stroke-width=\"3.2\"/>\n",
       "<circle clip-path=\"url(#clip972)\" cx=\"706.409\" cy=\"385.029\" r=\"14\" fill=\"#e26f46\" fill-rule=\"evenodd\" fill-opacity=\"1\" stroke=\"#000000\" stroke-opacity=\"1\" stroke-width=\"3.2\"/>\n",
       "<circle clip-path=\"url(#clip972)\" cx=\"769.827\" cy=\"427.372\" r=\"14\" fill=\"#e26f46\" fill-rule=\"evenodd\" fill-opacity=\"1\" stroke=\"#000000\" stroke-opacity=\"1\" stroke-width=\"3.2\"/>\n",
       "<circle clip-path=\"url(#clip972)\" cx=\"833.246\" cy=\"469.845\" r=\"14\" fill=\"#e26f46\" fill-rule=\"evenodd\" fill-opacity=\"1\" stroke=\"#000000\" stroke-opacity=\"1\" stroke-width=\"3.2\"/>\n",
       "<circle clip-path=\"url(#clip972)\" cx=\"896.665\" cy=\"512.253\" r=\"14\" fill=\"#e26f46\" fill-rule=\"evenodd\" fill-opacity=\"1\" stroke=\"#000000\" stroke-opacity=\"1\" stroke-width=\"3.2\"/>\n",
       "<circle clip-path=\"url(#clip972)\" cx=\"960.083\" cy=\"554.693\" r=\"14\" fill=\"#e26f46\" fill-rule=\"evenodd\" fill-opacity=\"1\" stroke=\"#000000\" stroke-opacity=\"1\" stroke-width=\"3.2\"/>\n",
       "<circle clip-path=\"url(#clip972)\" cx=\"1023.5\" cy=\"597.128\" r=\"14\" fill=\"#e26f46\" fill-rule=\"evenodd\" fill-opacity=\"1\" stroke=\"#000000\" stroke-opacity=\"1\" stroke-width=\"3.2\"/>\n",
       "<circle clip-path=\"url(#clip972)\" cx=\"1086.92\" cy=\"639.56\" r=\"14\" fill=\"#e26f46\" fill-rule=\"evenodd\" fill-opacity=\"1\" stroke=\"#000000\" stroke-opacity=\"1\" stroke-width=\"3.2\"/>\n",
       "<circle clip-path=\"url(#clip972)\" cx=\"1150.34\" cy=\"681.988\" r=\"14\" fill=\"#e26f46\" fill-rule=\"evenodd\" fill-opacity=\"1\" stroke=\"#000000\" stroke-opacity=\"1\" stroke-width=\"3.2\"/>\n",
       "<circle clip-path=\"url(#clip972)\" cx=\"1213.76\" cy=\"724.416\" r=\"14\" fill=\"#e26f46\" fill-rule=\"evenodd\" fill-opacity=\"1\" stroke=\"#000000\" stroke-opacity=\"1\" stroke-width=\"3.2\"/>\n",
       "<circle clip-path=\"url(#clip972)\" cx=\"1277.18\" cy=\"766.846\" r=\"14\" fill=\"#e26f46\" fill-rule=\"evenodd\" fill-opacity=\"1\" stroke=\"#000000\" stroke-opacity=\"1\" stroke-width=\"3.2\"/>\n",
       "<circle clip-path=\"url(#clip972)\" cx=\"1340.59\" cy=\"809.275\" r=\"14\" fill=\"#e26f46\" fill-rule=\"evenodd\" fill-opacity=\"1\" stroke=\"#000000\" stroke-opacity=\"1\" stroke-width=\"3.2\"/>\n",
       "<circle clip-path=\"url(#clip972)\" cx=\"1404.01\" cy=\"851.705\" r=\"14\" fill=\"#e26f46\" fill-rule=\"evenodd\" fill-opacity=\"1\" stroke=\"#000000\" stroke-opacity=\"1\" stroke-width=\"3.2\"/>\n",
       "<circle clip-path=\"url(#clip972)\" cx=\"1467.43\" cy=\"894.134\" r=\"14\" fill=\"#e26f46\" fill-rule=\"evenodd\" fill-opacity=\"1\" stroke=\"#000000\" stroke-opacity=\"1\" stroke-width=\"3.2\"/>\n",
       "<circle clip-path=\"url(#clip972)\" cx=\"1530.85\" cy=\"936.563\" r=\"14\" fill=\"#e26f46\" fill-rule=\"evenodd\" fill-opacity=\"1\" stroke=\"#000000\" stroke-opacity=\"1\" stroke-width=\"3.2\"/>\n",
       "<circle clip-path=\"url(#clip972)\" cx=\"1594.27\" cy=\"978.993\" r=\"14\" fill=\"#e26f46\" fill-rule=\"evenodd\" fill-opacity=\"1\" stroke=\"#000000\" stroke-opacity=\"1\" stroke-width=\"3.2\"/>\n",
       "<circle clip-path=\"url(#clip972)\" cx=\"1657.69\" cy=\"1021.42\" r=\"14\" fill=\"#e26f46\" fill-rule=\"evenodd\" fill-opacity=\"1\" stroke=\"#000000\" stroke-opacity=\"1\" stroke-width=\"3.2\"/>\n",
       "<circle clip-path=\"url(#clip972)\" cx=\"1721.11\" cy=\"1063.85\" r=\"14\" fill=\"#e26f46\" fill-rule=\"evenodd\" fill-opacity=\"1\" stroke=\"#000000\" stroke-opacity=\"1\" stroke-width=\"3.2\"/>\n",
       "<circle clip-path=\"url(#clip972)\" cx=\"1784.53\" cy=\"1106.28\" r=\"14\" fill=\"#e26f46\" fill-rule=\"evenodd\" fill-opacity=\"1\" stroke=\"#000000\" stroke-opacity=\"1\" stroke-width=\"3.2\"/>\n",
       "<circle clip-path=\"url(#clip972)\" cx=\"1847.94\" cy=\"1148.71\" r=\"14\" fill=\"#e26f46\" fill-rule=\"evenodd\" fill-opacity=\"1\" stroke=\"#000000\" stroke-opacity=\"1\" stroke-width=\"3.2\"/>\n",
       "<circle clip-path=\"url(#clip972)\" cx=\"1911.36\" cy=\"1191.14\" r=\"14\" fill=\"#e26f46\" fill-rule=\"evenodd\" fill-opacity=\"1\" stroke=\"#000000\" stroke-opacity=\"1\" stroke-width=\"3.2\"/>\n",
       "<circle clip-path=\"url(#clip972)\" cx=\"1974.78\" cy=\"1233.57\" r=\"14\" fill=\"#e26f46\" fill-rule=\"evenodd\" fill-opacity=\"1\" stroke=\"#000000\" stroke-opacity=\"1\" stroke-width=\"3.2\"/>\n",
       "<circle clip-path=\"url(#clip972)\" cx=\"2038.2\" cy=\"1276\" r=\"14\" fill=\"#e26f46\" fill-rule=\"evenodd\" fill-opacity=\"1\" stroke=\"#000000\" stroke-opacity=\"1\" stroke-width=\"3.2\"/>\n",
       "<circle clip-path=\"url(#clip972)\" cx=\"2101.62\" cy=\"1318.43\" r=\"14\" fill=\"#e26f46\" fill-rule=\"evenodd\" fill-opacity=\"1\" stroke=\"#000000\" stroke-opacity=\"1\" stroke-width=\"3.2\"/>\n",
       "<circle clip-path=\"url(#clip972)\" cx=\"2165.04\" cy=\"1360.86\" r=\"14\" fill=\"#e26f46\" fill-rule=\"evenodd\" fill-opacity=\"1\" stroke=\"#000000\" stroke-opacity=\"1\" stroke-width=\"3.2\"/>\n",
       "<circle clip-path=\"url(#clip972)\" cx=\"2228.46\" cy=\"1403.29\" r=\"14\" fill=\"#e26f46\" fill-rule=\"evenodd\" fill-opacity=\"1\" stroke=\"#000000\" stroke-opacity=\"1\" stroke-width=\"3.2\"/>\n",
       "<circle clip-path=\"url(#clip972)\" cx=\"2291.87\" cy=\"1445.72\" r=\"14\" fill=\"#e26f46\" fill-rule=\"evenodd\" fill-opacity=\"1\" stroke=\"#000000\" stroke-opacity=\"1\" stroke-width=\"3.2\"/>\n",
       "<path clip-path=\"url(#clip970)\" d=\"\n",
       "M1991.01 276.658 L2281.05 276.658 L2281.05 95.2176 L1991.01 95.2176  Z\n",
       "  \" fill=\"#ffffff\" fill-rule=\"evenodd\" fill-opacity=\"1\"/>\n",
       "<polyline clip-path=\"url(#clip970)\" style=\"stroke:#000000; stroke-width:4; stroke-opacity:1; fill:none\" points=\"\n",
       "  1991.01,276.658 2281.05,276.658 2281.05,95.2176 1991.01,95.2176 1991.01,276.658 \n",
       "  \"/>\n",
       "<circle clip-path=\"url(#clip970)\" cx=\"2086.62\" cy=\"155.698\" r=\"23\" fill=\"#009af9\" fill-rule=\"evenodd\" fill-opacity=\"1\" stroke=\"#000000\" stroke-opacity=\"1\" stroke-width=\"5.12\"/>\n",
       "<path clip-path=\"url(#clip970)\" d=\"M 0 0 M2196.07 175.385 Q2194.27 180.015 2192.55 181.427 Q2190.84 182.839 2187.97 182.839 L2184.57 182.839 L2184.57 179.274 L2187.07 179.274 Q2188.83 179.274 2189.8 178.44 Q2190.77 177.607 2191.95 174.505 L2192.71 172.561 L2182.23 147.052 L2186.74 147.052 L2194.84 167.329 L2202.95 147.052 L2207.46 147.052 L2196.07 175.385 Z\" fill=\"#000000\" fill-rule=\"evenodd\" fill-opacity=\"1\" /><path clip-path=\"url(#clip970)\" d=\"M 0 0 M2213.34 169.042 L2220.98 169.042 L2220.98 142.677 L2212.67 144.343 L2212.67 140.084 L2220.93 138.418 L2225.61 138.418 L2225.61 169.042 L2233.25 169.042 L2233.25 172.978 L2213.34 172.978 L2213.34 169.042 Z\" fill=\"#000000\" fill-rule=\"evenodd\" fill-opacity=\"1\" /><circle clip-path=\"url(#clip970)\" cx=\"2086.62\" cy=\"216.178\" r=\"23\" fill=\"#e26f46\" fill-rule=\"evenodd\" fill-opacity=\"1\" stroke=\"#000000\" stroke-opacity=\"1\" stroke-width=\"5.12\"/>\n",
       "<path clip-path=\"url(#clip970)\" d=\"M 0 0 M2196.07 235.865 Q2194.27 240.495 2192.55 241.907 Q2190.84 243.319 2187.97 243.319 L2184.57 243.319 L2184.57 239.754 L2187.07 239.754 Q2188.83 239.754 2189.8 238.92 Q2190.77 238.087 2191.95 234.985 L2192.71 233.041 L2182.23 207.532 L2186.74 207.532 L2194.84 227.809 L2202.95 207.532 L2207.46 207.532 L2196.07 235.865 Z\" fill=\"#000000\" fill-rule=\"evenodd\" fill-opacity=\"1\" /><path clip-path=\"url(#clip970)\" d=\"M 0 0 M2216.56 229.522 L2232.88 229.522 L2232.88 233.458 L2210.93 233.458 L2210.93 229.522 Q2213.59 226.768 2218.18 222.138 Q2222.78 217.485 2223.96 216.143 Q2226.21 213.62 2227.09 211.884 Q2227.99 210.124 2227.99 208.435 Q2227.99 205.68 2226.05 203.944 Q2224.13 202.208 2221.02 202.208 Q2218.83 202.208 2216.37 202.972 Q2213.94 203.735 2211.16 205.286 L2211.16 200.564 Q2213.99 199.43 2216.44 198.851 Q2218.9 198.273 2220.93 198.273 Q2226.3 198.273 2229.5 200.958 Q2232.69 203.643 2232.69 208.134 Q2232.69 210.263 2231.88 212.185 Q2231.09 214.083 2228.99 216.675 Q2228.41 217.347 2225.31 220.564 Q2222.21 223.759 2216.56 229.522 Z\" fill=\"#000000\" fill-rule=\"evenodd\" fill-opacity=\"1\" /></svg>\n"
      ]
     },
     "execution_count": 11,
     "metadata": {},
     "output_type": "execute_result"
    }
   ],
   "source": [
    "scatter(vec_err_rel,\n",
    "    #xaxis=:log,\n",
    "    yaxis=:log\n",
    "    )\n",
    "scatter!(vec_err_rel_est)\n",
    "# Se puede ver el decaimiento exponencial del error. Y un comportamiento similar del error estimado al estable."
   ]
  },
  {
   "cell_type": "markdown",
   "metadata": {},
   "source": [
    "## Parte Newton Raphson"
   ]
  },
  {
   "cell_type": "code",
   "execution_count": 21,
   "metadata": {},
   "outputs": [
    {
     "data": {
      "text/plain": [
       "newton_raphson_raiz_3 (generic function with 1 method)"
      ]
     },
     "execution_count": 21,
     "metadata": {},
     "output_type": "execute_result"
    }
   ],
   "source": [
    "function newton_raphson_raiz_3(f::Function,\n",
    "    der_f::Function,\n",
    "    x_0::Float64;\n",
    "    tol_x::Float64=10^(-10),\n",
    "    tol_y::Float64=10^(-10),\n",
    "    maxiter::Int64=100)\n",
    "    p0 = f(x_0)\n",
    "    p1 = p0\n",
    "    \n",
    "    #Defino los vectores:\n",
    "    errores_relativos = zeros(maxiter)\n",
    "    errores_relativos_estables = zeros(maxiter)\n",
    "    \n",
    "    N = maxiter\n",
    "    raiz_3 = sqrt(BigFloat(3))\n",
    "    fp0 = f(p0)\n",
    "    err_abs = abs(p1-p0)\n",
    "    err_rel = abs(p1-p0)/abs(p1) #error relativo\n",
    "    err_rel_est = abs(p1-p0)/abs(raiz_3) #error relativo estable\n",
    "    i = 1\n",
    "    while i < N\n",
    "        if der_f(x_0) == 0\n",
    "            break\n",
    "        end\n",
    "       \n",
    "        p1 = p0 - ((fp0)/(der_f(p0)))\n",
    "        err_abs = abs(p1-p0)\n",
    "        err_rel = abs(p1-p0)/abs(p1)\n",
    "        err_rel_est = abs(p1-p0)/abs(raiz_3)\n",
    "        #println(p1,\"    \",p0)\n",
    "        p0 = p1\n",
    "        fp0 = f(p0)\n",
    "        errores_relativos_estables[i] = err_rel_est\n",
    "        errores_relativos[i] = err_rel\n",
    "        if (err_rel < tol_x) || ((abs(f(p1))) < tol_y)\n",
    "            break #error(\"Se han superado las tolerancias\")\n",
    "        end\n",
    "        i += 1\n",
    "    end\n",
    "    absoluto_raiz = abs(fp0)\n",
    "    return[errores_relativos,\n",
    "        errores_relativos_estables,\n",
    "        \"la raiz es: $p0\",\n",
    "        \"iteraciones $i\",\n",
    "        \"valor de la función: $fp0\",\n",
    "        \"error absoluto $err_abs\",\n",
    "        \"error relativo $err_rel\",\n",
    "        \"valor absoluto de la raiz $absoluto_raiz\"]\n",
    "end"
   ]
  },
  {
   "cell_type": "code",
   "execution_count": 22,
   "metadata": {},
   "outputs": [],
   "source": [
    "g(x) = x^2 - 3\n",
    "der_g(x) = 2x\n",
    "sol = newton_raphson_raiz_3(g,der_g,2.5);"
   ]
  },
  {
   "cell_type": "code",
   "execution_count": 15,
   "metadata": {},
   "outputs": [
    {
     "data": {
      "text/plain": [
       "QuitarCeros (generic function with 1 method)"
      ]
     },
     "execution_count": 15,
     "metadata": {},
     "output_type": "execute_result"
    }
   ],
   "source": [
    "function QuitarCeros(v::Array{Float64,1})\n",
    "    N = length(v)\n",
    "    sinceros = Vector()\n",
    "    for i ∈ 1:N\n",
    "        if !(v[i]==0)\n",
    "            push!(sinceros,v[i])\n",
    "        end\n",
    "    end\n",
    "    return[sinceros]\n",
    "end "
   ]
  },
  {
   "cell_type": "code",
   "execution_count": 47,
   "metadata": {},
   "outputs": [
    {
     "data": {
      "text/plain": [
       "1-element Array{Array{Any,1},1}:\n",
       " [0.6717248324225453, 0.18727812148186176, 0.017236877029658756, 0.00014853290120663505, 1.103101122348559e-8]"
      ]
     },
     "execution_count": 47,
     "metadata": {},
     "output_type": "execute_result"
    }
   ],
   "source": [
    "errores_relativos = QuitarCeros(sol[1])\n",
    "errores_relativos_estables = QuitarCeros(sol[2])"
   ]
  },
  {
   "cell_type": "code",
   "execution_count": 54,
   "metadata": {
    "scrolled": true
   },
   "outputs": [
    {
     "data": {
      "image/svg+xml": [
       "<?xml version=\"1.0\" encoding=\"utf-8\"?>\n",
       "<svg xmlns=\"http://www.w3.org/2000/svg\" xmlns:xlink=\"http://www.w3.org/1999/xlink\" width=\"600\" height=\"400\" viewBox=\"0 0 2400 1600\">\n",
       "<defs>\n",
       "  <clipPath id=\"clip410\">\n",
       "    <rect x=\"0\" y=\"0\" width=\"2400\" height=\"1600\"/>\n",
       "  </clipPath>\n",
       "</defs>\n",
       "<path clip-path=\"url(#clip410)\" d=\"\n",
       "M0 1600 L2400 1600 L2400 0 L0 0  Z\n",
       "  \" fill=\"#ffffff\" fill-rule=\"evenodd\" fill-opacity=\"1\"/>\n",
       "<defs>\n",
       "  <clipPath id=\"clip411\">\n",
       "    <rect x=\"480\" y=\"0\" width=\"1681\" height=\"1600\"/>\n",
       "  </clipPath>\n",
       "</defs>\n",
       "<path clip-path=\"url(#clip410)\" d=\"\n",
       "M181.04 1486.45 L1988.05 1486.45 L1988.05 47.2441 L181.04 47.2441  Z\n",
       "  \" fill=\"#ffffff\" fill-rule=\"evenodd\" fill-opacity=\"1\"/>\n",
       "<defs>\n",
       "  <clipPath id=\"clip412\">\n",
       "    <rect x=\"181\" y=\"47\" width=\"1808\" height=\"1440\"/>\n",
       "  </clipPath>\n",
       "</defs>\n",
       "<polyline clip-path=\"url(#clip412)\" style=\"stroke:#000000; stroke-width:2; stroke-opacity:0.1; fill:none\" points=\"\n",
       "  232.181,1486.45 232.181,47.2441 \n",
       "  \"/>\n",
       "<polyline clip-path=\"url(#clip412)\" style=\"stroke:#000000; stroke-width:2; stroke-opacity:0.1; fill:none\" points=\"\n",
       "  658.362,1486.45 658.362,47.2441 \n",
       "  \"/>\n",
       "<polyline clip-path=\"url(#clip412)\" style=\"stroke:#000000; stroke-width:2; stroke-opacity:0.1; fill:none\" points=\"\n",
       "  1084.54,1486.45 1084.54,47.2441 \n",
       "  \"/>\n",
       "<polyline clip-path=\"url(#clip412)\" style=\"stroke:#000000; stroke-width:2; stroke-opacity:0.1; fill:none\" points=\"\n",
       "  1510.72,1486.45 1510.72,47.2441 \n",
       "  \"/>\n",
       "<polyline clip-path=\"url(#clip412)\" style=\"stroke:#000000; stroke-width:2; stroke-opacity:0.1; fill:none\" points=\"\n",
       "  1936.9,1486.45 1936.9,47.2441 \n",
       "  \"/>\n",
       "<polyline clip-path=\"url(#clip410)\" style=\"stroke:#000000; stroke-width:4; stroke-opacity:1; fill:none\" points=\"\n",
       "  181.04,1486.45 1988.05,1486.45 \n",
       "  \"/>\n",
       "<polyline clip-path=\"url(#clip410)\" style=\"stroke:#000000; stroke-width:4; stroke-opacity:1; fill:none\" points=\"\n",
       "  232.181,1486.45 232.181,1469.18 \n",
       "  \"/>\n",
       "<polyline clip-path=\"url(#clip410)\" style=\"stroke:#000000; stroke-width:4; stroke-opacity:1; fill:none\" points=\"\n",
       "  658.362,1486.45 658.362,1469.18 \n",
       "  \"/>\n",
       "<polyline clip-path=\"url(#clip410)\" style=\"stroke:#000000; stroke-width:4; stroke-opacity:1; fill:none\" points=\"\n",
       "  1084.54,1486.45 1084.54,1469.18 \n",
       "  \"/>\n",
       "<polyline clip-path=\"url(#clip410)\" style=\"stroke:#000000; stroke-width:4; stroke-opacity:1; fill:none\" points=\"\n",
       "  1510.72,1486.45 1510.72,1469.18 \n",
       "  \"/>\n",
       "<polyline clip-path=\"url(#clip410)\" style=\"stroke:#000000; stroke-width:4; stroke-opacity:1; fill:none\" points=\"\n",
       "  1936.9,1486.45 1936.9,1469.18 \n",
       "  \"/>\n",
       "<path clip-path=\"url(#clip410)\" d=\"M 0 0 M222.563 1543.18 L230.202 1543.18 L230.202 1516.82 L221.892 1518.49 L221.892 1514.23 L230.156 1512.56 L234.832 1512.56 L234.832 1543.18 L242.471 1543.18 L242.471 1547.12 L222.563 1547.12 L222.563 1543.18 Z\" fill=\"#000000\" fill-rule=\"evenodd\" fill-opacity=\"1\" /><path clip-path=\"url(#clip410)\" d=\"M 0 0 M653.015 1543.18 L669.334 1543.18 L669.334 1547.12 L647.39 1547.12 L647.39 1543.18 Q650.052 1540.43 654.635 1535.8 Q659.242 1531.15 660.422 1529.81 Q662.667 1527.28 663.547 1525.55 Q664.45 1523.79 664.45 1522.1 Q664.45 1519.34 662.505 1517.61 Q660.584 1515.87 657.482 1515.87 Q655.283 1515.87 652.83 1516.63 Q650.399 1517.4 647.621 1518.95 L647.621 1514.23 Q650.445 1513.09 652.899 1512.51 Q655.353 1511.93 657.39 1511.93 Q662.76 1511.93 665.954 1514.62 Q669.149 1517.31 669.149 1521.8 Q669.149 1523.93 668.339 1525.85 Q667.552 1527.74 665.445 1530.34 Q664.866 1531.01 661.765 1534.23 Q658.663 1537.42 653.015 1543.18 Z\" fill=\"#000000\" fill-rule=\"evenodd\" fill-opacity=\"1\" /><path clip-path=\"url(#clip410)\" d=\"M 0 0 M1088.79 1528.49 Q1092.15 1529.2 1094.02 1531.47 Q1095.92 1533.74 1095.92 1537.07 Q1095.92 1542.19 1092.4 1544.99 Q1088.88 1547.79 1082.4 1547.79 Q1080.23 1547.79 1077.91 1547.35 Q1075.62 1546.93 1073.17 1546.08 L1073.17 1541.56 Q1075.11 1542.7 1077.42 1543.28 Q1079.74 1543.86 1082.26 1543.86 Q1086.66 1543.86 1088.95 1542.12 Q1091.27 1540.38 1091.27 1537.07 Q1091.27 1534.02 1089.11 1532.31 Q1086.98 1530.57 1083.17 1530.57 L1079.14 1530.57 L1079.14 1526.73 L1083.35 1526.73 Q1086.8 1526.73 1088.63 1525.36 Q1090.46 1523.97 1090.46 1521.38 Q1090.46 1518.72 1088.56 1517.31 Q1086.68 1515.87 1083.17 1515.87 Q1081.24 1515.87 1079.04 1516.29 Q1076.85 1516.7 1074.21 1517.58 L1074.21 1513.42 Q1076.87 1512.68 1079.18 1512.31 Q1081.52 1511.93 1083.58 1511.93 Q1088.91 1511.93 1092.01 1514.37 Q1095.11 1516.77 1095.11 1520.89 Q1095.11 1523.76 1093.47 1525.75 Q1091.82 1527.72 1088.79 1528.49 Z\" fill=\"#000000\" fill-rule=\"evenodd\" fill-opacity=\"1\" /><path clip-path=\"url(#clip410)\" d=\"M 0 0 M1513.73 1516.63 L1501.93 1535.08 L1513.73 1535.08 L1513.73 1516.63 M1512.51 1512.56 L1518.39 1512.56 L1518.39 1535.08 L1523.32 1535.08 L1523.32 1538.97 L1518.39 1538.97 L1518.39 1547.12 L1513.73 1547.12 L1513.73 1538.97 L1498.13 1538.97 L1498.13 1534.46 L1512.51 1512.56 Z\" fill=\"#000000\" fill-rule=\"evenodd\" fill-opacity=\"1\" /><path clip-path=\"url(#clip410)\" d=\"M 0 0 M1927.18 1512.56 L1945.54 1512.56 L1945.54 1516.5 L1931.46 1516.5 L1931.46 1524.97 Q1932.48 1524.62 1933.5 1524.46 Q1934.52 1524.27 1935.54 1524.27 Q1941.32 1524.27 1944.7 1527.44 Q1948.08 1530.62 1948.08 1536.03 Q1948.08 1541.61 1944.61 1544.71 Q1941.14 1547.79 1934.82 1547.79 Q1932.64 1547.79 1930.38 1547.42 Q1928.13 1547.05 1925.72 1546.31 L1925.72 1541.61 Q1927.81 1542.74 1930.03 1543.3 Q1932.25 1543.86 1934.73 1543.86 Q1938.73 1543.86 1941.07 1541.75 Q1943.41 1539.64 1943.41 1536.03 Q1943.41 1532.42 1941.07 1530.31 Q1938.73 1528.21 1934.73 1528.21 Q1932.85 1528.21 1930.98 1528.62 Q1929.13 1529.04 1927.18 1529.92 L1927.18 1512.56 Z\" fill=\"#000000\" fill-rule=\"evenodd\" fill-opacity=\"1\" /><polyline clip-path=\"url(#clip412)\" style=\"stroke:#000000; stroke-width:2; stroke-opacity:0.1; fill:none\" points=\"\n",
       "  181.04,1453.15 1988.05,1453.15 \n",
       "  \"/>\n",
       "<polyline clip-path=\"url(#clip412)\" style=\"stroke:#000000; stroke-width:2; stroke-opacity:0.1; fill:none\" points=\"\n",
       "  181.04,1104.32 1988.05,1104.32 \n",
       "  \"/>\n",
       "<polyline clip-path=\"url(#clip412)\" style=\"stroke:#000000; stroke-width:2; stroke-opacity:0.1; fill:none\" points=\"\n",
       "  181.04,755.492 1988.05,755.492 \n",
       "  \"/>\n",
       "<polyline clip-path=\"url(#clip412)\" style=\"stroke:#000000; stroke-width:2; stroke-opacity:0.1; fill:none\" points=\"\n",
       "  181.04,406.664 1988.05,406.664 \n",
       "  \"/>\n",
       "<polyline clip-path=\"url(#clip412)\" style=\"stroke:#000000; stroke-width:2; stroke-opacity:0.1; fill:none\" points=\"\n",
       "  181.04,57.836 1988.05,57.836 \n",
       "  \"/>\n",
       "<polyline clip-path=\"url(#clip410)\" style=\"stroke:#000000; stroke-width:4; stroke-opacity:1; fill:none\" points=\"\n",
       "  181.04,1486.45 181.04,47.2441 \n",
       "  \"/>\n",
       "<polyline clip-path=\"url(#clip410)\" style=\"stroke:#000000; stroke-width:4; stroke-opacity:1; fill:none\" points=\"\n",
       "  181.04,1453.15 202.724,1453.15 \n",
       "  \"/>\n",
       "<polyline clip-path=\"url(#clip410)\" style=\"stroke:#000000; stroke-width:4; stroke-opacity:1; fill:none\" points=\"\n",
       "  181.04,1104.32 202.724,1104.32 \n",
       "  \"/>\n",
       "<polyline clip-path=\"url(#clip410)\" style=\"stroke:#000000; stroke-width:4; stroke-opacity:1; fill:none\" points=\"\n",
       "  181.04,755.492 202.724,755.492 \n",
       "  \"/>\n",
       "<polyline clip-path=\"url(#clip410)\" style=\"stroke:#000000; stroke-width:4; stroke-opacity:1; fill:none\" points=\"\n",
       "  181.04,406.664 202.724,406.664 \n",
       "  \"/>\n",
       "<polyline clip-path=\"url(#clip410)\" style=\"stroke:#000000; stroke-width:4; stroke-opacity:1; fill:none\" points=\"\n",
       "  181.04,57.836 202.724,57.836 \n",
       "  \"/>\n",
       "<path clip-path=\"url(#clip410)\" d=\"M 0 0 M52.1336 1472.94 L59.7725 1472.94 L59.7725 1446.58 L51.4623 1448.24 L51.4623 1443.98 L59.7262 1442.32 L64.4021 1442.32 L64.4021 1472.94 L72.0409 1472.94 L72.0409 1476.88 L52.1336 1476.88 L52.1336 1472.94 Z\" fill=\"#000000\" fill-rule=\"evenodd\" fill-opacity=\"1\" /><path clip-path=\"url(#clip410)\" d=\"M 0 0 M87.1103 1445.39 Q83.4992 1445.39 81.6705 1448.96 Q79.8649 1452.5 79.8649 1459.63 Q79.8649 1466.74 81.6705 1470.3 Q83.4992 1473.84 87.1103 1473.84 Q90.7445 1473.84 92.5501 1470.3 Q94.3788 1466.74 94.3788 1459.63 Q94.3788 1452.5 92.5501 1448.96 Q90.7445 1445.39 87.1103 1445.39 M87.1103 1441.69 Q92.9204 1441.69 95.976 1446.3 Q99.0547 1450.88 99.0547 1459.63 Q99.0547 1468.36 95.976 1472.96 Q92.9204 1477.55 87.1103 1477.55 Q81.3001 1477.55 78.2214 1472.96 Q75.1659 1468.36 75.1659 1459.63 Q75.1659 1450.88 78.2214 1446.3 Q81.3001 1441.69 87.1103 1441.69 Z\" fill=\"#000000\" fill-rule=\"evenodd\" fill-opacity=\"1\" /><path clip-path=\"url(#clip410)\" d=\"M 0 0 M99.0547 1435.79 L123.166 1435.79 L123.166 1438.99 L99.0547 1438.99 L99.0547 1435.79 Z\" fill=\"#000000\" fill-rule=\"evenodd\" fill-opacity=\"1\" /><path clip-path=\"url(#clip410)\" d=\"M 0 0 M135.41 1436.13 Q132.702 1436.13 131.141 1437.58 Q129.598 1439.03 129.598 1441.57 Q129.598 1444.11 131.141 1445.55 Q132.702 1447 135.41 1447 Q138.118 1447 139.679 1445.55 Q141.24 1444.09 141.24 1441.57 Q141.24 1439.03 139.679 1437.58 Q138.137 1436.13 135.41 1436.13 M131.611 1434.51 Q129.166 1433.91 127.793 1432.24 Q126.439 1430.56 126.439 1428.16 Q126.439 1424.79 128.827 1422.83 Q131.235 1420.88 135.41 1420.88 Q139.604 1420.88 141.993 1422.83 Q144.381 1424.79 144.381 1428.16 Q144.381 1430.56 143.008 1432.24 Q141.654 1433.91 139.228 1434.51 Q141.974 1435.15 143.497 1437.01 Q145.04 1438.88 145.04 1441.57 Q145.04 1445.65 142.538 1447.83 Q140.056 1450.01 135.41 1450.01 Q130.765 1450.01 128.263 1447.83 Q125.78 1445.65 125.78 1441.57 Q125.78 1438.88 127.323 1437.01 Q128.865 1435.15 131.611 1434.51 M130.219 1428.51 Q130.219 1430.7 131.573 1431.92 Q132.946 1433.14 135.41 1433.14 Q137.855 1433.14 139.228 1431.92 Q140.62 1430.7 140.62 1428.51 Q140.62 1426.33 139.228 1425.11 Q137.855 1423.89 135.41 1423.89 Q132.946 1423.89 131.573 1425.11 Q130.219 1426.33 130.219 1428.51 Z\" fill=\"#000000\" fill-rule=\"evenodd\" fill-opacity=\"1\" /><path clip-path=\"url(#clip410)\" d=\"M 0 0 M51.9267 1124.11 L59.5656 1124.11 L59.5656 1097.75 L51.2554 1099.41 L51.2554 1095.15 L59.5193 1093.49 L64.1952 1093.49 L64.1952 1124.11 L71.834 1124.11 L71.834 1128.05 L51.9267 1128.05 L51.9267 1124.11 Z\" fill=\"#000000\" fill-rule=\"evenodd\" fill-opacity=\"1\" /><path clip-path=\"url(#clip410)\" d=\"M 0 0 M86.9034 1096.57 Q83.2923 1096.57 81.4636 1100.13 Q79.6581 1103.67 79.6581 1110.8 Q79.6581 1117.91 81.4636 1121.47 Q83.2923 1125.02 86.9034 1125.02 Q90.5376 1125.02 92.3432 1121.47 Q94.1719 1117.91 94.1719 1110.8 Q94.1719 1103.67 92.3432 1100.13 Q90.5376 1096.57 86.9034 1096.57 M86.9034 1092.86 Q92.7135 1092.86 95.7691 1097.47 Q98.8478 1102.05 98.8478 1110.8 Q98.8478 1119.53 95.7691 1124.14 Q92.7135 1128.72 86.9034 1128.72 Q81.0932 1128.72 78.0146 1124.14 Q74.959 1119.53 74.959 1110.8 Q74.959 1102.05 78.0146 1097.47 Q81.0932 1092.86 86.9034 1092.86 Z\" fill=\"#000000\" fill-rule=\"evenodd\" fill-opacity=\"1\" /><path clip-path=\"url(#clip410)\" d=\"M 0 0 M98.8478 1086.96 L122.959 1086.96 L122.959 1090.16 L98.8478 1090.16 L98.8478 1086.96 Z\" fill=\"#000000\" fill-rule=\"evenodd\" fill-opacity=\"1\" /><path clip-path=\"url(#clip410)\" d=\"M 0 0 M135.673 1085.08 Q133.116 1085.08 131.611 1086.83 Q130.125 1088.58 130.125 1091.63 Q130.125 1094.66 131.611 1096.42 Q133.116 1098.17 135.673 1098.17 Q138.231 1098.17 139.717 1096.42 Q141.222 1094.66 141.222 1091.63 Q141.222 1088.58 139.717 1086.83 Q138.231 1085.08 135.673 1085.08 M143.215 1073.18 L143.215 1076.64 Q141.786 1075.96 140.319 1075.6 Q138.871 1075.25 137.441 1075.25 Q133.68 1075.25 131.686 1077.79 Q129.711 1080.33 129.429 1085.46 Q130.539 1083.82 132.213 1082.96 Q133.887 1082.07 135.899 1082.07 Q140.131 1082.07 142.576 1084.65 Q145.04 1087.21 145.04 1091.63 Q145.04 1095.95 142.482 1098.57 Q139.924 1101.18 135.673 1101.18 Q130.802 1101.18 128.226 1097.46 Q125.649 1093.72 125.649 1086.63 Q125.649 1079.97 128.809 1076.02 Q131.968 1072.05 137.291 1072.05 Q138.72 1072.05 140.168 1072.33 Q141.635 1072.61 143.215 1073.18 Z\" fill=\"#000000\" fill-rule=\"evenodd\" fill-opacity=\"1\" /><path clip-path=\"url(#clip410)\" d=\"M 0 0 M51.6634 775.285 L59.3023 775.285 L59.3023 748.919 L50.9921 750.586 L50.9921 746.326 L59.256 744.66 L63.9319 744.66 L63.9319 775.285 L71.5707 775.285 L71.5707 779.22 L51.6634 779.22 L51.6634 775.285 Z\" fill=\"#000000\" fill-rule=\"evenodd\" fill-opacity=\"1\" /><path clip-path=\"url(#clip410)\" d=\"M 0 0 M86.6401 747.739 Q83.029 747.739 81.2003 751.303 Q79.3948 754.845 79.3948 761.975 Q79.3948 769.081 81.2003 772.646 Q83.029 776.187 86.6401 776.187 Q90.2743 776.187 92.0799 772.646 Q93.9086 769.081 93.9086 761.975 Q93.9086 754.845 92.0799 751.303 Q90.2743 747.739 86.6401 747.739 M86.6401 744.035 Q92.4502 744.035 95.5058 748.641 Q98.5845 753.225 98.5845 761.975 Q98.5845 770.701 95.5058 775.308 Q92.4502 779.891 86.6401 779.891 Q80.8299 779.891 77.7512 775.308 Q74.6957 770.701 74.6957 761.975 Q74.6957 753.225 77.7512 748.641 Q80.8299 744.035 86.6401 744.035 Z\" fill=\"#000000\" fill-rule=\"evenodd\" fill-opacity=\"1\" /><path clip-path=\"url(#clip410)\" d=\"M 0 0 M98.5845 738.136 L122.696 738.136 L122.696 741.333 L98.5845 741.333 L98.5845 738.136 Z\" fill=\"#000000\" fill-rule=\"evenodd\" fill-opacity=\"1\" /><path clip-path=\"url(#clip410)\" d=\"M 0 0 M137.253 727.04 L127.661 742.029 L137.253 742.029 L137.253 727.04 M136.256 723.729 L141.034 723.729 L141.034 742.029 L145.04 742.029 L145.04 745.189 L141.034 745.189 L141.034 751.809 L137.253 751.809 L137.253 745.189 L124.577 745.189 L124.577 741.522 L136.256 723.729 Z\" fill=\"#000000\" fill-rule=\"evenodd\" fill-opacity=\"1\" /><path clip-path=\"url(#clip410)\" d=\"M 0 0 M53.3561 426.457 L60.995 426.457 L60.995 400.091 L52.6848 401.758 L52.6848 397.498 L60.9487 395.832 L65.6246 395.832 L65.6246 426.457 L73.2634 426.457 L73.2634 430.392 L53.3561 430.392 L53.3561 426.457 Z\" fill=\"#000000\" fill-rule=\"evenodd\" fill-opacity=\"1\" /><path clip-path=\"url(#clip410)\" d=\"M 0 0 M88.3328 398.91 Q84.7217 398.91 82.893 402.475 Q81.0875 406.017 81.0875 413.146 Q81.0875 420.253 82.893 423.818 Q84.7217 427.359 88.3328 427.359 Q91.967 427.359 93.7726 423.818 Q95.6013 420.253 95.6013 413.146 Q95.6013 406.017 93.7726 402.475 Q91.967 398.91 88.3328 398.91 M88.3328 395.207 Q94.1429 395.207 97.1985 399.813 Q100.277 404.396 100.277 413.146 Q100.277 421.873 97.1985 426.48 Q94.1429 431.063 88.3328 431.063 Q82.5226 431.063 79.4439 426.48 Q76.3884 421.873 76.3884 413.146 Q76.3884 404.396 79.4439 399.813 Q82.5226 395.207 88.3328 395.207 Z\" fill=\"#000000\" fill-rule=\"evenodd\" fill-opacity=\"1\" /><path clip-path=\"url(#clip410)\" d=\"M 0 0 M100.277 389.308 L124.389 389.308 L124.389 392.505 L100.277 392.505 L100.277 389.308 Z\" fill=\"#000000\" fill-rule=\"evenodd\" fill-opacity=\"1\" /><path clip-path=\"url(#clip410)\" d=\"M 0 0 M131.78 399.784 L145.04 399.784 L145.04 402.981 L127.21 402.981 L127.21 399.784 Q129.373 397.546 133.097 393.784 Q136.839 390.004 137.799 388.913 Q139.623 386.863 140.338 385.452 Q141.071 384.023 141.071 382.65 Q141.071 380.412 139.491 379.001 Q137.93 377.591 135.41 377.591 Q133.623 377.591 131.63 378.211 Q129.655 378.832 127.398 380.092 L127.398 376.255 Q129.693 375.334 131.686 374.864 Q133.68 374.394 135.335 374.394 Q139.698 374.394 142.294 376.575 Q144.889 378.757 144.889 382.406 Q144.889 384.136 144.231 385.697 Q143.591 387.239 141.88 389.346 Q141.41 389.891 138.89 392.505 Q136.369 395.101 131.78 399.784 Z\" fill=\"#000000\" fill-rule=\"evenodd\" fill-opacity=\"1\" /><path clip-path=\"url(#clip410)\" d=\"M 0 0 M78.709 77.6285 L86.3478 77.6285 L86.3478 51.2629 L78.0377 52.9295 L78.0377 48.6703 L86.3015 47.0036 L90.9774 47.0036 L90.9774 77.6285 L98.6163 77.6285 L98.6163 81.5636 L78.709 81.5636 L78.709 77.6285 Z\" fill=\"#000000\" fill-rule=\"evenodd\" fill-opacity=\"1\" /><path clip-path=\"url(#clip410)\" d=\"M 0 0 M113.686 50.0823 Q110.075 50.0823 108.246 53.6471 Q106.44 57.1888 106.44 64.3184 Q106.44 71.4248 108.246 74.9896 Q110.075 78.5312 113.686 78.5312 Q117.32 78.5312 119.125 74.9896 Q120.954 71.4248 120.954 64.3184 Q120.954 57.1888 119.125 53.6471 Q117.32 50.0823 113.686 50.0823 M113.686 46.3786 Q119.496 46.3786 122.551 50.9851 Q125.63 55.5684 125.63 64.3184 Q125.63 73.0452 122.551 77.6516 Q119.496 82.2349 113.686 82.2349 Q107.876 82.2349 104.797 77.6516 Q101.741 73.0452 101.741 64.3184 Q101.741 55.5684 104.797 50.9851 Q107.876 46.3786 113.686 46.3786 Z\" fill=\"#000000\" fill-rule=\"evenodd\" fill-opacity=\"1\" /><path clip-path=\"url(#clip410)\" d=\"M 0 0 M135.335 28.5747 Q132.401 28.5747 130.915 31.4711 Q129.448 34.3486 129.448 40.1414 Q129.448 45.9154 130.915 48.8118 Q132.401 51.6894 135.335 51.6894 Q138.288 51.6894 139.755 48.8118 Q141.24 45.9154 141.24 40.1414 Q141.24 34.3486 139.755 31.4711 Q138.288 28.5747 135.335 28.5747 M135.335 25.5654 Q140.056 25.5654 142.538 29.3082 Q145.04 33.0321 145.04 40.1414 Q145.04 47.232 142.538 50.9747 Q140.056 54.6987 135.335 54.6987 Q130.614 54.6987 128.113 50.9747 Q125.63 47.232 125.63 40.1414 Q125.63 33.0321 128.113 29.3082 Q130.614 25.5654 135.335 25.5654 Z\" fill=\"#000000\" fill-rule=\"evenodd\" fill-opacity=\"1\" /><circle clip-path=\"url(#clip412)\" cx=\"232.181\" cy=\"102.08\" r=\"14\" fill=\"#009af9\" fill-rule=\"evenodd\" fill-opacity=\"1\" stroke=\"#000000\" stroke-opacity=\"1\" stroke-width=\"3.2\"/>\n",
       "<circle clip-path=\"url(#clip412)\" cx=\"658.362\" cy=\"186.03\" r=\"14\" fill=\"#009af9\" fill-rule=\"evenodd\" fill-opacity=\"1\" stroke=\"#000000\" stroke-opacity=\"1\" stroke-width=\"3.2\"/>\n",
       "<circle clip-path=\"url(#clip412)\" cx=\"1084.54\" cy=\"365.434\" r=\"14\" fill=\"#009af9\" fill-rule=\"evenodd\" fill-opacity=\"1\" stroke=\"#000000\" stroke-opacity=\"1\" stroke-width=\"3.2\"/>\n",
       "<circle clip-path=\"url(#clip412)\" cx=\"1510.72\" cy=\"725.524\" r=\"14\" fill=\"#009af9\" fill-rule=\"evenodd\" fill-opacity=\"1\" stroke=\"#000000\" stroke-opacity=\"1\" stroke-width=\"3.2\"/>\n",
       "<circle clip-path=\"url(#clip412)\" cx=\"1936.9\" cy=\"1445.72\" r=\"14\" fill=\"#009af9\" fill-rule=\"evenodd\" fill-opacity=\"1\" stroke=\"#000000\" stroke-opacity=\"1\" stroke-width=\"3.2\"/>\n",
       "<circle clip-path=\"url(#clip412)\" cx=\"232.181\" cy=\"87.9763\" r=\"14\" fill=\"#e26f46\" fill-rule=\"evenodd\" fill-opacity=\"1\" stroke=\"#000000\" stroke-opacity=\"1\" stroke-width=\"3.2\"/>\n",
       "<circle clip-path=\"url(#clip412)\" cx=\"658.362\" cy=\"184.725\" r=\"14\" fill=\"#e26f46\" fill-rule=\"evenodd\" fill-opacity=\"1\" stroke=\"#000000\" stroke-opacity=\"1\" stroke-width=\"3.2\"/>\n",
       "<circle clip-path=\"url(#clip412)\" cx=\"1084.54\" cy=\"365.422\" r=\"14\" fill=\"#e26f46\" fill-rule=\"evenodd\" fill-opacity=\"1\" stroke=\"#000000\" stroke-opacity=\"1\" stroke-width=\"3.2\"/>\n",
       "<circle clip-path=\"url(#clip412)\" cx=\"1510.72\" cy=\"725.524\" r=\"14\" fill=\"#e26f46\" fill-rule=\"evenodd\" fill-opacity=\"1\" stroke=\"#000000\" stroke-opacity=\"1\" stroke-width=\"3.2\"/>\n",
       "<circle clip-path=\"url(#clip412)\" cx=\"1936.9\" cy=\"1445.72\" r=\"14\" fill=\"#e26f46\" fill-rule=\"evenodd\" fill-opacity=\"1\" stroke=\"#000000\" stroke-opacity=\"1\" stroke-width=\"3.2\"/>\n",
       "<path clip-path=\"url(#clip410)\" d=\"\n",
       "M2060.44 276.658 L2352.76 276.658 L2352.76 95.2176 L2060.44 95.2176  Z\n",
       "  \" fill=\"#ffffff\" fill-rule=\"evenodd\" fill-opacity=\"1\"/>\n",
       "<polyline clip-path=\"url(#clip410)\" style=\"stroke:#000000; stroke-width:4; stroke-opacity:1; fill:none\" points=\"\n",
       "  2060.44,276.658 2352.76,276.658 2352.76,95.2176 2060.44,95.2176 2060.44,276.658 \n",
       "  \"/>\n",
       "<circle clip-path=\"url(#clip410)\" cx=\"2156.96\" cy=\"155.698\" r=\"23\" fill=\"#009af9\" fill-rule=\"evenodd\" fill-opacity=\"1\" stroke=\"#000000\" stroke-opacity=\"1\" stroke-width=\"5.12\"/>\n",
       "<path clip-path=\"url(#clip410)\" d=\"M 0 0 M2267.32 175.385 Q2265.51 180.015 2263.8 181.427 Q2262.09 182.839 2259.22 182.839 L2255.82 182.839 L2255.82 179.274 L2258.32 179.274 Q2260.07 179.274 2261.05 178.44 Q2262.02 177.607 2263.2 174.505 L2263.96 172.561 L2253.48 147.052 L2257.99 147.052 L2266.09 167.329 L2274.19 147.052 L2278.71 147.052 L2267.32 175.385 Z\" fill=\"#000000\" fill-rule=\"evenodd\" fill-opacity=\"1\" /><path clip-path=\"url(#clip410)\" d=\"M 0 0 M2284.59 169.042 L2292.23 169.042 L2292.23 142.677 L2283.92 144.343 L2283.92 140.084 L2292.18 138.418 L2296.86 138.418 L2296.86 169.042 L2304.5 169.042 L2304.5 172.978 L2284.59 172.978 L2284.59 169.042 Z\" fill=\"#000000\" fill-rule=\"evenodd\" fill-opacity=\"1\" /><circle clip-path=\"url(#clip410)\" cx=\"2156.96\" cy=\"216.178\" r=\"23\" fill=\"#e26f46\" fill-rule=\"evenodd\" fill-opacity=\"1\" stroke=\"#000000\" stroke-opacity=\"1\" stroke-width=\"5.12\"/>\n",
       "<path clip-path=\"url(#clip410)\" d=\"M 0 0 M2267.32 235.865 Q2265.51 240.495 2263.8 241.907 Q2262.09 243.319 2259.22 243.319 L2255.82 243.319 L2255.82 239.754 L2258.32 239.754 Q2260.07 239.754 2261.05 238.92 Q2262.02 238.087 2263.2 234.985 L2263.96 233.041 L2253.48 207.532 L2257.99 207.532 L2266.09 227.809 L2274.19 207.532 L2278.71 207.532 L2267.32 235.865 Z\" fill=\"#000000\" fill-rule=\"evenodd\" fill-opacity=\"1\" /><path clip-path=\"url(#clip410)\" d=\"M 0 0 M2287.81 229.522 L2304.13 229.522 L2304.13 233.458 L2282.18 233.458 L2282.18 229.522 Q2284.84 226.768 2289.43 222.138 Q2294.03 217.485 2295.21 216.143 Q2297.46 213.62 2298.34 211.884 Q2299.24 210.124 2299.24 208.435 Q2299.24 205.68 2297.3 203.944 Q2295.38 202.208 2292.27 202.208 Q2290.07 202.208 2287.62 202.972 Q2285.19 203.735 2282.41 205.286 L2282.41 200.564 Q2285.24 199.43 2287.69 198.851 Q2290.14 198.273 2292.18 198.273 Q2297.55 198.273 2300.75 200.958 Q2303.94 203.643 2303.94 208.134 Q2303.94 210.263 2303.13 212.185 Q2302.34 214.083 2300.24 216.675 Q2299.66 217.347 2296.56 220.564 Q2293.45 223.759 2287.81 229.522 Z\" fill=\"#000000\" fill-rule=\"evenodd\" fill-opacity=\"1\" /></svg>\n"
      ]
     },
     "execution_count": 54,
     "metadata": {},
     "output_type": "execute_result"
    }
   ],
   "source": [
    "scatter(errores_relativos,\n",
    "    legend=:outertopright,\n",
    "    #xaxis=:log,\n",
    "    yaxis=:log\n",
    "    )\n",
    "scatter!(errores_relativos_estables)"
   ]
  },
  {
   "cell_type": "markdown",
   "metadata": {},
   "source": [
    "#### En conclusión los errores relativos que calculamos tienen relación con los errores relativos estables calculados a partir de un valor conocido."
   ]
  },
  {
   "cell_type": "markdown",
   "metadata": {},
   "source": [
    "# Problema 4\n",
    "\n",
    "Un objeto en caída vertical en el aire está sujeto a la fuerza\n",
    "de gravedad y a la resistencia del aire. Si un objeto de masa $m$ es\n",
    "dejado caer desde una altura $h_0$, su altura luego de $t$ segundos está\n",
    "dada por:\n",
    "$$\n",
    "h(t) = h_0 - \\frac{mg}{k} t + \\frac{m^2 g}{k^2} \\left( 1 - e^{-kt/m}\\right)\n",
    "$$\n",
    "donde $g=9.8\\, m/s^2$ y $k$ representa el coeficiente de resistencia del aire\n",
    "en $kg / s$.\n",
    "Suponga que $h_0 = 10m$, $m=0.1\\, kg$, y $k = 0.149\\,  kg/s$.\n",
    "Grafique $h(t)$ y analice su comportamiento.\n",
    "Encuentre, con una precisión de $0.01\\,s$, el tiempo que le toma a este\n",
    "objeto llegar al suelo. Utilice el método de bisección y el de\n",
    "Newton--Raphson."
   ]
  },
  {
   "cell_type": "code",
   "execution_count": 55,
   "metadata": {},
   "outputs": [],
   "source": [
    "using Plots"
   ]
  },
  {
   "cell_type": "code",
   "execution_count": 64,
   "metadata": {},
   "outputs": [
    {
     "data": {
      "text/plain": [
       "h (generic function with 1 method)"
      ]
     },
     "execution_count": 64,
     "metadata": {},
     "output_type": "execute_result"
    }
   ],
   "source": [
    "G = 9.8 \n",
    "h0 = 10.0\n",
    "m = 0.1\n",
    "k = 0.149\n",
    "h(t) = h0 - m*G*t/k + G*m^2/k^(1-exp(-k*t/m))"
   ]
  },
  {
   "cell_type": "code",
   "execution_count": 76,
   "metadata": {},
   "outputs": [
    {
     "data": {
      "text/plain": [
       "dh (generic function with 1 method)"
      ]
     },
     "execution_count": 76,
     "metadata": {},
     "output_type": "execute_result"
    }
   ],
   "source": [
    "dh(t) = - m*G/k + (m*G/k)*exp(-k*t/m)"
   ]
  },
  {
   "cell_type": "code",
   "execution_count": 66,
   "metadata": {
    "scrolled": true
   },
   "outputs": [
    {
     "data": {
      "image/svg+xml": [
       "<?xml version=\"1.0\" encoding=\"utf-8\"?>\n",
       "<svg xmlns=\"http://www.w3.org/2000/svg\" xmlns:xlink=\"http://www.w3.org/1999/xlink\" width=\"600\" height=\"400\" viewBox=\"0 0 2400 1600\">\n",
       "<defs>\n",
       "  <clipPath id=\"clip450\">\n",
       "    <rect x=\"0\" y=\"0\" width=\"2400\" height=\"1600\"/>\n",
       "  </clipPath>\n",
       "</defs>\n",
       "<path clip-path=\"url(#clip450)\" d=\"\n",
       "M0 1600 L2400 1600 L2400 0 L0 0  Z\n",
       "  \" fill=\"#ffffff\" fill-rule=\"evenodd\" fill-opacity=\"1\"/>\n",
       "<defs>\n",
       "  <clipPath id=\"clip451\">\n",
       "    <rect x=\"480\" y=\"0\" width=\"1681\" height=\"1600\"/>\n",
       "  </clipPath>\n",
       "</defs>\n",
       "<path clip-path=\"url(#clip450)\" d=\"\n",
       "M169.469 1486.45 L2352.76 1486.45 L2352.76 47.2441 L169.469 47.2441  Z\n",
       "  \" fill=\"#ffffff\" fill-rule=\"evenodd\" fill-opacity=\"1\"/>\n",
       "<defs>\n",
       "  <clipPath id=\"clip452\">\n",
       "    <rect x=\"169\" y=\"47\" width=\"2184\" height=\"1440\"/>\n",
       "  </clipPath>\n",
       "</defs>\n",
       "<polyline clip-path=\"url(#clip452)\" style=\"stroke:#000000; stroke-width:2; stroke-opacity:0.1; fill:none\" points=\"\n",
       "  437.23,1486.45 437.23,47.2441 \n",
       "  \"/>\n",
       "<polyline clip-path=\"url(#clip452)\" style=\"stroke:#000000; stroke-width:2; stroke-opacity:0.1; fill:none\" points=\"\n",
       "  849.171,1486.45 849.171,47.2441 \n",
       "  \"/>\n",
       "<polyline clip-path=\"url(#clip452)\" style=\"stroke:#000000; stroke-width:2; stroke-opacity:0.1; fill:none\" points=\"\n",
       "  1261.11,1486.45 1261.11,47.2441 \n",
       "  \"/>\n",
       "<polyline clip-path=\"url(#clip452)\" style=\"stroke:#000000; stroke-width:2; stroke-opacity:0.1; fill:none\" points=\"\n",
       "  1673.05,1486.45 1673.05,47.2441 \n",
       "  \"/>\n",
       "<polyline clip-path=\"url(#clip452)\" style=\"stroke:#000000; stroke-width:2; stroke-opacity:0.1; fill:none\" points=\"\n",
       "  2084.99,1486.45 2084.99,47.2441 \n",
       "  \"/>\n",
       "<polyline clip-path=\"url(#clip450)\" style=\"stroke:#000000; stroke-width:4; stroke-opacity:1; fill:none\" points=\"\n",
       "  169.469,1486.45 2352.76,1486.45 \n",
       "  \"/>\n",
       "<polyline clip-path=\"url(#clip450)\" style=\"stroke:#000000; stroke-width:4; stroke-opacity:1; fill:none\" points=\"\n",
       "  437.23,1486.45 437.23,1469.18 \n",
       "  \"/>\n",
       "<polyline clip-path=\"url(#clip450)\" style=\"stroke:#000000; stroke-width:4; stroke-opacity:1; fill:none\" points=\"\n",
       "  849.171,1486.45 849.171,1469.18 \n",
       "  \"/>\n",
       "<polyline clip-path=\"url(#clip450)\" style=\"stroke:#000000; stroke-width:4; stroke-opacity:1; fill:none\" points=\"\n",
       "  1261.11,1486.45 1261.11,1469.18 \n",
       "  \"/>\n",
       "<polyline clip-path=\"url(#clip450)\" style=\"stroke:#000000; stroke-width:4; stroke-opacity:1; fill:none\" points=\"\n",
       "  1673.05,1486.45 1673.05,1469.18 \n",
       "  \"/>\n",
       "<polyline clip-path=\"url(#clip450)\" style=\"stroke:#000000; stroke-width:4; stroke-opacity:1; fill:none\" points=\"\n",
       "  2084.99,1486.45 2084.99,1469.18 \n",
       "  \"/>\n",
       "<path clip-path=\"url(#clip450)\" d=\"M 0 0 M408.642 1530.29 L438.318 1530.29 L438.318 1534.23 L408.642 1534.23 L408.642 1530.29 Z\" fill=\"#000000\" fill-rule=\"evenodd\" fill-opacity=\"1\" /><path clip-path=\"url(#clip450)\" d=\"M 0 0 M456.235 1516.63 L444.429 1535.08 L456.235 1535.08 L456.235 1516.63 M455.008 1512.56 L460.887 1512.56 L460.887 1535.08 L465.818 1535.08 L465.818 1538.97 L460.887 1538.97 L460.887 1547.12 L456.235 1547.12 L456.235 1538.97 L440.633 1538.97 L440.633 1534.46 L455.008 1512.56 Z\" fill=\"#000000\" fill-rule=\"evenodd\" fill-opacity=\"1\" /><path clip-path=\"url(#clip450)\" d=\"M 0 0 M821.625 1530.29 L851.301 1530.29 L851.301 1534.23 L821.625 1534.23 L821.625 1530.29 Z\" fill=\"#000000\" fill-rule=\"evenodd\" fill-opacity=\"1\" /><path clip-path=\"url(#clip450)\" d=\"M 0 0 M860.398 1543.18 L876.717 1543.18 L876.717 1547.12 L854.773 1547.12 L854.773 1543.18 Q857.435 1540.43 862.018 1535.8 Q866.625 1531.15 867.805 1529.81 Q870.051 1527.28 870.93 1525.55 Q871.833 1523.79 871.833 1522.1 Q871.833 1519.34 869.889 1517.61 Q867.967 1515.87 864.866 1515.87 Q862.667 1515.87 860.213 1516.63 Q857.782 1517.4 855.005 1518.95 L855.005 1514.23 Q857.829 1513.09 860.282 1512.51 Q862.736 1511.93 864.773 1511.93 Q870.143 1511.93 873.338 1514.62 Q876.532 1517.31 876.532 1521.8 Q876.532 1523.93 875.722 1525.85 Q874.935 1527.74 872.828 1530.34 Q872.25 1531.01 869.148 1534.23 Q866.046 1537.42 860.398 1543.18 Z\" fill=\"#000000\" fill-rule=\"evenodd\" fill-opacity=\"1\" /><path clip-path=\"url(#clip450)\" d=\"M 0 0 M1261.11 1515.64 Q1257.5 1515.64 1255.67 1519.2 Q1253.87 1522.75 1253.87 1529.87 Q1253.87 1536.98 1255.67 1540.55 Q1257.5 1544.09 1261.11 1544.09 Q1264.75 1544.09 1266.55 1540.55 Q1268.38 1536.98 1268.38 1529.87 Q1268.38 1522.75 1266.55 1519.2 Q1264.75 1515.64 1261.11 1515.64 M1261.11 1511.93 Q1266.92 1511.93 1269.98 1516.54 Q1273.06 1521.12 1273.06 1529.87 Q1273.06 1538.6 1269.98 1543.21 Q1266.92 1547.79 1261.11 1547.79 Q1255.3 1547.79 1252.22 1543.21 Q1249.17 1538.6 1249.17 1529.87 Q1249.17 1521.12 1252.22 1516.54 Q1255.3 1511.93 1261.11 1511.93 Z\" fill=\"#000000\" fill-rule=\"evenodd\" fill-opacity=\"1\" /><path clip-path=\"url(#clip450)\" d=\"M 0 0 M1667.71 1543.18 L1684.03 1543.18 L1684.03 1547.12 L1662.08 1547.12 L1662.08 1543.18 Q1664.74 1540.43 1669.33 1535.8 Q1673.93 1531.15 1675.11 1529.81 Q1677.36 1527.28 1678.24 1525.55 Q1679.14 1523.79 1679.14 1522.1 Q1679.14 1519.34 1677.2 1517.61 Q1675.28 1515.87 1672.17 1515.87 Q1669.97 1515.87 1667.52 1516.63 Q1665.09 1517.4 1662.31 1518.95 L1662.31 1514.23 Q1665.14 1513.09 1667.59 1512.51 Q1670.04 1511.93 1672.08 1511.93 Q1677.45 1511.93 1680.65 1514.62 Q1683.84 1517.31 1683.84 1521.8 Q1683.84 1523.93 1683.03 1525.85 Q1682.24 1527.74 1680.14 1530.34 Q1679.56 1531.01 1676.46 1534.23 Q1673.35 1537.42 1667.71 1543.18 Z\" fill=\"#000000\" fill-rule=\"evenodd\" fill-opacity=\"1\" /><path clip-path=\"url(#clip450)\" d=\"M 0 0 M2088 1516.63 L2076.2 1535.08 L2088 1535.08 L2088 1516.63 M2086.78 1512.56 L2092.66 1512.56 L2092.66 1535.08 L2097.59 1535.08 L2097.59 1538.97 L2092.66 1538.97 L2092.66 1547.12 L2088 1547.12 L2088 1538.97 L2072.4 1538.97 L2072.4 1534.46 L2086.78 1512.56 Z\" fill=\"#000000\" fill-rule=\"evenodd\" fill-opacity=\"1\" /><polyline clip-path=\"url(#clip452)\" style=\"stroke:#000000; stroke-width:2; stroke-opacity:0.1; fill:none\" points=\"\n",
       "  169.469,1399.24 2352.76,1399.24 \n",
       "  \"/>\n",
       "<polyline clip-path=\"url(#clip452)\" style=\"stroke:#000000; stroke-width:2; stroke-opacity:0.1; fill:none\" points=\"\n",
       "  169.469,1190.72 2352.76,1190.72 \n",
       "  \"/>\n",
       "<polyline clip-path=\"url(#clip452)\" style=\"stroke:#000000; stroke-width:2; stroke-opacity:0.1; fill:none\" points=\"\n",
       "  169.469,982.21 2352.76,982.21 \n",
       "  \"/>\n",
       "<polyline clip-path=\"url(#clip452)\" style=\"stroke:#000000; stroke-width:2; stroke-opacity:0.1; fill:none\" points=\"\n",
       "  169.469,773.696 2352.76,773.696 \n",
       "  \"/>\n",
       "<polyline clip-path=\"url(#clip452)\" style=\"stroke:#000000; stroke-width:2; stroke-opacity:0.1; fill:none\" points=\"\n",
       "  169.469,565.181 2352.76,565.181 \n",
       "  \"/>\n",
       "<polyline clip-path=\"url(#clip452)\" style=\"stroke:#000000; stroke-width:2; stroke-opacity:0.1; fill:none\" points=\"\n",
       "  169.469,356.666 2352.76,356.666 \n",
       "  \"/>\n",
       "<polyline clip-path=\"url(#clip452)\" style=\"stroke:#000000; stroke-width:2; stroke-opacity:0.1; fill:none\" points=\"\n",
       "  169.469,148.152 2352.76,148.152 \n",
       "  \"/>\n",
       "<polyline clip-path=\"url(#clip450)\" style=\"stroke:#000000; stroke-width:4; stroke-opacity:1; fill:none\" points=\"\n",
       "  169.469,1486.45 169.469,47.2441 \n",
       "  \"/>\n",
       "<polyline clip-path=\"url(#clip450)\" style=\"stroke:#000000; stroke-width:4; stroke-opacity:1; fill:none\" points=\"\n",
       "  169.469,1399.24 195.668,1399.24 \n",
       "  \"/>\n",
       "<polyline clip-path=\"url(#clip450)\" style=\"stroke:#000000; stroke-width:4; stroke-opacity:1; fill:none\" points=\"\n",
       "  169.469,1190.72 195.668,1190.72 \n",
       "  \"/>\n",
       "<polyline clip-path=\"url(#clip450)\" style=\"stroke:#000000; stroke-width:4; stroke-opacity:1; fill:none\" points=\"\n",
       "  169.469,982.21 195.668,982.21 \n",
       "  \"/>\n",
       "<polyline clip-path=\"url(#clip450)\" style=\"stroke:#000000; stroke-width:4; stroke-opacity:1; fill:none\" points=\"\n",
       "  169.469,773.696 195.668,773.696 \n",
       "  \"/>\n",
       "<polyline clip-path=\"url(#clip450)\" style=\"stroke:#000000; stroke-width:4; stroke-opacity:1; fill:none\" points=\"\n",
       "  169.469,565.181 195.668,565.181 \n",
       "  \"/>\n",
       "<polyline clip-path=\"url(#clip450)\" style=\"stroke:#000000; stroke-width:4; stroke-opacity:1; fill:none\" points=\"\n",
       "  169.469,356.666 195.668,356.666 \n",
       "  \"/>\n",
       "<polyline clip-path=\"url(#clip450)\" style=\"stroke:#000000; stroke-width:4; stroke-opacity:1; fill:none\" points=\"\n",
       "  169.469,148.152 195.668,148.152 \n",
       "  \"/>\n",
       "<path clip-path=\"url(#clip450)\" d=\"M 0 0 M51.3625 1399.69 L81.0383 1399.69 L81.0383 1403.63 L51.3625 1403.63 L51.3625 1399.69 Z\" fill=\"#000000\" fill-rule=\"evenodd\" fill-opacity=\"1\" /><path clip-path=\"url(#clip450)\" d=\"M 0 0 M90.1354 1412.58 L106.455 1412.58 L106.455 1416.52 L84.5105 1416.52 L84.5105 1412.58 Q87.1725 1409.83 91.7558 1405.2 Q96.3623 1400.55 97.5428 1399.2 Q99.7882 1396.68 100.668 1394.95 Q101.571 1393.19 101.571 1391.5 Q101.571 1388.74 99.6261 1387.01 Q97.7048 1385.27 94.603 1385.27 Q92.4039 1385.27 89.9503 1386.03 Q87.5197 1386.8 84.7419 1388.35 L84.7419 1383.63 Q87.566 1382.49 90.0197 1381.91 Q92.4734 1381.33 94.5104 1381.33 Q99.8808 1381.33 103.075 1384.02 Q106.27 1386.7 106.27 1391.2 Q106.27 1393.33 105.459 1395.25 Q104.672 1397.14 102.566 1399.74 Q101.987 1400.41 98.8854 1403.63 Q95.7836 1406.82 90.1354 1412.58 Z\" fill=\"#000000\" fill-rule=\"evenodd\" fill-opacity=\"1\" /><path clip-path=\"url(#clip450)\" d=\"M 0 0 M121.524 1385.04 Q117.913 1385.04 116.084 1388.6 Q114.279 1392.14 114.279 1399.27 Q114.279 1406.38 116.084 1409.95 Q117.913 1413.49 121.524 1413.49 Q125.158 1413.49 126.964 1409.95 Q128.793 1406.38 128.793 1399.27 Q128.793 1392.14 126.964 1388.6 Q125.158 1385.04 121.524 1385.04 M121.524 1381.33 Q127.334 1381.33 130.39 1385.94 Q133.469 1390.52 133.469 1399.27 Q133.469 1408 130.39 1412.61 Q127.334 1417.19 121.524 1417.19 Q115.714 1417.19 112.635 1412.61 Q109.58 1408 109.58 1399.27 Q109.58 1390.52 112.635 1385.94 Q115.714 1381.33 121.524 1381.33 Z\" fill=\"#000000\" fill-rule=\"evenodd\" fill-opacity=\"1\" /><path clip-path=\"url(#clip450)\" d=\"M 0 0 M50.9921 1191.18 L80.6679 1191.18 L80.6679 1195.11 L50.9921 1195.11 L50.9921 1191.18 Z\" fill=\"#000000\" fill-rule=\"evenodd\" fill-opacity=\"1\" /><path clip-path=\"url(#clip450)\" d=\"M 0 0 M86.5475 1204.07 L94.1863 1204.07 L94.1863 1177.7 L85.8762 1179.37 L85.8762 1175.11 L94.14 1173.44 L98.8159 1173.44 L98.8159 1204.07 L106.455 1204.07 L106.455 1208 L86.5475 1208 L86.5475 1204.07 Z\" fill=\"#000000\" fill-rule=\"evenodd\" fill-opacity=\"1\" /><path clip-path=\"url(#clip450)\" d=\"M 0 0 M121.524 1176.52 Q117.913 1176.52 116.084 1180.09 Q114.279 1183.63 114.279 1190.76 Q114.279 1197.87 116.084 1201.43 Q117.913 1204.97 121.524 1204.97 Q125.158 1204.97 126.964 1201.43 Q128.793 1197.87 128.793 1190.76 Q128.793 1183.63 126.964 1180.09 Q125.158 1176.52 121.524 1176.52 M121.524 1172.82 Q127.334 1172.82 130.39 1177.43 Q133.469 1182.01 133.469 1190.76 Q133.469 1199.49 130.39 1204.09 Q127.334 1208.68 121.524 1208.68 Q115.714 1208.68 112.635 1204.09 Q109.58 1199.49 109.58 1190.76 Q109.58 1182.01 112.635 1177.43 Q115.714 1172.82 121.524 1172.82 Z\" fill=\"#000000\" fill-rule=\"evenodd\" fill-opacity=\"1\" /><path clip-path=\"url(#clip450)\" d=\"M 0 0 M121.524 968.009 Q117.913 968.009 116.084 971.574 Q114.279 975.115 114.279 982.245 Q114.279 989.351 116.084 992.916 Q117.913 996.458 121.524 996.458 Q125.158 996.458 126.964 992.916 Q128.793 989.351 128.793 982.245 Q128.793 975.115 126.964 971.574 Q125.158 968.009 121.524 968.009 M121.524 964.305 Q127.334 964.305 130.39 968.912 Q133.469 973.495 133.469 982.245 Q133.469 990.972 130.39 995.578 Q127.334 1000.16 121.524 1000.16 Q115.714 1000.16 112.635 995.578 Q109.58 990.972 109.58 982.245 Q109.58 973.495 112.635 968.912 Q115.714 964.305 121.524 964.305 Z\" fill=\"#000000\" fill-rule=\"evenodd\" fill-opacity=\"1\" /><path clip-path=\"url(#clip450)\" d=\"M 0 0 M86.5475 787.04 L94.1863 787.04 L94.1863 760.675 L85.8762 762.341 L85.8762 758.082 L94.14 756.416 L98.8159 756.416 L98.8159 787.04 L106.455 787.04 L106.455 790.976 L86.5475 790.976 L86.5475 787.04 Z\" fill=\"#000000\" fill-rule=\"evenodd\" fill-opacity=\"1\" /><path clip-path=\"url(#clip450)\" d=\"M 0 0 M121.524 759.494 Q117.913 759.494 116.084 763.059 Q114.279 766.601 114.279 773.73 Q114.279 780.837 116.084 784.402 Q117.913 787.943 121.524 787.943 Q125.158 787.943 126.964 784.402 Q128.793 780.837 128.793 773.73 Q128.793 766.601 126.964 763.059 Q125.158 759.494 121.524 759.494 M121.524 755.791 Q127.334 755.791 130.39 760.397 Q133.469 764.98 133.469 773.73 Q133.469 782.457 130.39 787.064 Q127.334 791.647 121.524 791.647 Q115.714 791.647 112.635 787.064 Q109.58 782.457 109.58 773.73 Q109.58 764.98 112.635 760.397 Q115.714 755.791 121.524 755.791 Z\" fill=\"#000000\" fill-rule=\"evenodd\" fill-opacity=\"1\" /><path clip-path=\"url(#clip450)\" d=\"M 0 0 M90.1354 578.526 L106.455 578.526 L106.455 582.461 L84.5105 582.461 L84.5105 578.526 Q87.1725 575.771 91.7558 571.142 Q96.3623 566.489 97.5428 565.146 Q99.7882 562.623 100.668 560.887 Q101.571 559.128 101.571 557.438 Q101.571 554.683 99.6261 552.947 Q97.7048 551.211 94.603 551.211 Q92.4039 551.211 89.9503 551.975 Q87.5197 552.739 84.7419 554.29 L84.7419 549.568 Q87.566 548.433 90.0197 547.855 Q92.4734 547.276 94.5104 547.276 Q99.8808 547.276 103.075 549.961 Q106.27 552.646 106.27 557.137 Q106.27 559.267 105.459 561.188 Q104.672 563.086 102.566 565.679 Q101.987 566.35 98.8854 569.567 Q95.7836 572.762 90.1354 578.526 Z\" fill=\"#000000\" fill-rule=\"evenodd\" fill-opacity=\"1\" /><path clip-path=\"url(#clip450)\" d=\"M 0 0 M121.524 550.98 Q117.913 550.98 116.084 554.544 Q114.279 558.086 114.279 565.216 Q114.279 572.322 116.084 575.887 Q117.913 579.429 121.524 579.429 Q125.158 579.429 126.964 575.887 Q128.793 572.322 128.793 565.216 Q128.793 558.086 126.964 554.544 Q125.158 550.98 121.524 550.98 M121.524 547.276 Q127.334 547.276 130.39 551.882 Q133.469 556.466 133.469 565.216 Q133.469 573.942 130.39 578.549 Q127.334 583.132 121.524 583.132 Q115.714 583.132 112.635 578.549 Q109.58 573.942 109.58 565.216 Q109.58 556.466 112.635 551.882 Q115.714 547.276 121.524 547.276 Z\" fill=\"#000000\" fill-rule=\"evenodd\" fill-opacity=\"1\" /><path clip-path=\"url(#clip450)\" d=\"M 0 0 M99.3252 355.312 Q102.682 356.03 104.557 358.298 Q106.455 360.567 106.455 363.9 Q106.455 369.016 102.936 371.817 Q99.4178 374.618 92.9363 374.618 Q90.7604 374.618 88.4456 374.178 Q86.154 373.761 83.7003 372.905 L83.7003 368.391 Q85.6447 369.525 87.9595 370.104 Q90.2743 370.682 92.7975 370.682 Q97.1956 370.682 99.4872 368.946 Q101.802 367.21 101.802 363.9 Q101.802 360.845 99.6493 359.132 Q97.5197 357.395 93.7002 357.395 L89.6725 357.395 L89.6725 353.553 L93.8854 353.553 Q97.3345 353.553 99.1632 352.187 Q100.992 350.798 100.992 348.206 Q100.992 345.544 99.0937 344.132 Q97.2187 342.696 93.7002 342.696 Q91.7789 342.696 89.5799 343.113 Q87.3808 343.53 84.7419 344.409 L84.7419 340.243 Q87.404 339.502 89.7188 339.132 Q92.0567 338.761 94.1169 338.761 Q99.4409 338.761 102.543 341.192 Q105.645 343.599 105.645 347.72 Q105.645 350.59 104.001 352.581 Q102.358 354.548 99.3252 355.312 Z\" fill=\"#000000\" fill-rule=\"evenodd\" fill-opacity=\"1\" /><path clip-path=\"url(#clip450)\" d=\"M 0 0 M121.524 342.465 Q117.913 342.465 116.084 346.03 Q114.279 349.571 114.279 356.701 Q114.279 363.807 116.084 367.372 Q117.913 370.914 121.524 370.914 Q125.158 370.914 126.964 367.372 Q128.793 363.807 128.793 356.701 Q128.793 349.571 126.964 346.03 Q125.158 342.465 121.524 342.465 M121.524 338.761 Q127.334 338.761 130.39 343.368 Q133.469 347.951 133.469 356.701 Q133.469 365.428 130.39 370.034 Q127.334 374.618 121.524 374.618 Q115.714 374.618 112.635 370.034 Q109.58 365.428 109.58 356.701 Q109.58 347.951 112.635 343.368 Q115.714 338.761 121.524 338.761 Z\" fill=\"#000000\" fill-rule=\"evenodd\" fill-opacity=\"1\" /><path clip-path=\"url(#clip450)\" d=\"M 0 0 M96.8715 134.946 L85.066 153.395 L96.8715 153.395 L96.8715 134.946 M95.6447 130.872 L101.524 130.872 L101.524 153.395 L106.455 153.395 L106.455 157.284 L101.524 157.284 L101.524 165.432 L96.8715 165.432 L96.8715 157.284 L81.2697 157.284 L81.2697 152.77 L95.6447 130.872 Z\" fill=\"#000000\" fill-rule=\"evenodd\" fill-opacity=\"1\" /><path clip-path=\"url(#clip450)\" d=\"M 0 0 M121.524 133.95 Q117.913 133.95 116.084 137.515 Q114.279 141.057 114.279 148.186 Q114.279 155.293 116.084 158.858 Q117.913 162.399 121.524 162.399 Q125.158 162.399 126.964 158.858 Q128.793 155.293 128.793 148.186 Q128.793 141.057 126.964 137.515 Q125.158 133.95 121.524 133.95 M121.524 130.247 Q127.334 130.247 130.39 134.853 Q133.469 139.436 133.469 148.186 Q133.469 156.913 130.39 161.52 Q127.334 166.103 121.524 166.103 Q115.714 166.103 112.635 161.52 Q109.58 156.913 109.58 148.186 Q109.58 139.436 112.635 134.853 Q115.714 130.247 121.524 130.247 Z\" fill=\"#000000\" fill-rule=\"evenodd\" fill-opacity=\"1\" /><polyline clip-path=\"url(#clip452)\" style=\"stroke:#009af9; stroke-width:4; stroke-opacity:1; fill:none\" points=\"\n",
       "  231.26,87.9763 251.374,101.369 437.364,225.209 549.136,299.632 643.638,362.555 746.293,430.907 840.932,493.922 942.395,561.48 1059.95,639.75 1164.42,709.016 \n",
       "  1256.03,768.409 1355.91,831.559 1456.38,895.088 1567.47,966.536 1673.16,1035.61 1783.06,1108.1 1875.57,1169.42 1988.52,1244.45 2094.69,1315.08 2264.79,1428.29 \n",
       "  2290.96,1445.72 \n",
       "  \"/>\n",
       "<path clip-path=\"url(#clip450)\" d=\"\n",
       "M1986.37 216.178 L2279.98 216.178 L2279.98 95.2176 L1986.37 95.2176  Z\n",
       "  \" fill=\"#ffffff\" fill-rule=\"evenodd\" fill-opacity=\"1\"/>\n",
       "<polyline clip-path=\"url(#clip450)\" style=\"stroke:#000000; stroke-width:4; stroke-opacity:1; fill:none\" points=\"\n",
       "  1986.37,216.178 2279.98,216.178 2279.98,95.2176 1986.37,95.2176 1986.37,216.178 \n",
       "  \"/>\n",
       "<polyline clip-path=\"url(#clip450)\" style=\"stroke:#009af9; stroke-width:4; stroke-opacity:1; fill:none\" points=\"\n",
       "  2010.63,155.698 2156.19,155.698 \n",
       "  \"/>\n",
       "<path clip-path=\"url(#clip450)\" d=\"M 0 0 M2194.29 175.385 Q2192.48 180.015 2190.77 181.427 Q2189.05 182.839 2186.18 182.839 L2182.78 182.839 L2182.78 179.274 L2185.28 179.274 Q2187.04 179.274 2188.01 178.44 Q2188.99 177.607 2190.17 174.505 L2190.93 172.561 L2180.44 147.052 L2184.96 147.052 L2193.06 167.329 L2201.16 147.052 L2205.68 147.052 L2194.29 175.385 Z\" fill=\"#000000\" fill-rule=\"evenodd\" fill-opacity=\"1\" /><path clip-path=\"url(#clip450)\" d=\"M 0 0 M2211.55 169.042 L2219.19 169.042 L2219.19 142.677 L2210.88 144.343 L2210.88 140.084 L2219.15 138.418 L2223.82 138.418 L2223.82 169.042 L2231.46 169.042 L2231.46 172.978 L2211.55 172.978 L2211.55 169.042 Z\" fill=\"#000000\" fill-rule=\"evenodd\" fill-opacity=\"1\" /></svg>\n"
      ]
     },
     "execution_count": 66,
     "metadata": {},
     "output_type": "execute_result"
    }
   ],
   "source": [
    "plot(h)"
   ]
  },
  {
   "cell_type": "code",
   "execution_count": 73,
   "metadata": {},
   "outputs": [
    {
     "data": {
      "text/plain": [
       "6-element Array{String,1}:\n",
       " \"la raiz es: 1.59375\"\n",
       " \"iteraciones 8\"\n",
       " \"valor de la función: 0.0685648188160376\"\n",
       " \"error absoluto 0.015625\"\n",
       " \"error relativo 0.009708737864077669\"\n",
       " \"valor absoluto de la raiz 0.0685648188160376\""
      ]
     },
     "execution_count": 73,
     "metadata": {},
     "output_type": "execute_result"
    }
   ],
   "source": [
    "Biseccion(h,-2.0,2.0,tol_x=0.01,tol_y=0.01)"
   ]
  },
  {
   "cell_type": "markdown",
   "metadata": {},
   "source": [
    "### Resultado con método bisección: $$t = (1.59 \\pm 0.01)s$$ "
   ]
  },
  {
   "cell_type": "code",
   "execution_count": 85,
   "metadata": {},
   "outputs": [
    {
     "data": {
      "text/plain": [
       "6-element Array{String,1}:\n",
       " \"la raiz es: 1.6037905378852533\"\n",
       " \"iteraciones 2\"\n",
       " \"valor de la función: 0.003977456467803897\"\n",
       " \"error absoluto 0.00879637240536102\"\n",
       " \"error relativo 0.00548473893415025\"\n",
       " \"valor absoluto de la raiz 0.003977456467803897\""
      ]
     },
     "execution_count": 85,
     "metadata": {},
     "output_type": "execute_result"
    }
   ],
   "source": [
    "newton_raphson(h,dh,1.0,tol_x=0.01,tol_y=0.01)"
   ]
  },
  {
   "cell_type": "markdown",
   "metadata": {},
   "source": [
    "### Resultado con método Newton-Raphson: $$t = (1.60 \\pm 0.01)s$$ "
   ]
  },
  {
   "cell_type": "markdown",
   "metadata": {},
   "source": [
    "# Problema 5\n",
    "\n",
    "Escriba un programa para hallar la solución a la ecuación \n",
    "\n",
    "$$x - \\cos x = 0$$\n",
    "\n",
    "en el intervalo $[0, \\pi/2]$:\n",
    "\n",
    "1. utilizando el método de la secante.\n",
    "\n",
    "2. utilizando el método de *Regula Falsi*."
   ]
  },
  {
   "cell_type": "markdown",
   "metadata": {},
   "source": [
    "Considere la estimación del error absoluto 𝐴𝑁=|𝑥𝑁−𝑥𝑁−1| y del error relativo 𝑅𝑁=|𝑥𝑁−𝑥𝑁−1|/|𝑥𝑁|."
   ]
  },
  {
   "cell_type": "code",
   "execution_count": 2,
   "metadata": {},
   "outputs": [
    {
     "data": {
      "text/plain": [
       "Met_Secante (generic function with 1 method)"
      ]
     },
     "execution_count": 2,
     "metadata": {},
     "output_type": "execute_result"
    }
   ],
   "source": [
    "function Met_Secante(f::Function,\n",
    "    a::Float64,\n",
    "    b::Float64;\n",
    "    x_tol::Float64=10e-10,\n",
    "    y_tol::Float64=10e-10,\n",
    "    maxiter::Int64=100)\n",
    "    p0 = a\n",
    "    p1 = b\n",
    "    fp0 = f(p0)\n",
    "    fp1 = f(p1)\n",
    "    error_abs = abs(p1-p0)\n",
    "    error_rel = abs(p1-p0)/abs(p1)\n",
    "    i = 1\n",
    "    for i ∈ 1:maxiter\n",
    "        if x_tol > error_rel || y_tol > abs(fp1)\n",
    "            break\n",
    "        end        \n",
    "        \n",
    "        p2 = p1 - fp1 * (p1-p0)/(fp1-fp0)  # Paso n-ésimo del algoritmo, aca p2 es nuestra aproximación.\n",
    "        \n",
    "        p0 = p1  # Valuo nuevamente las variables.\n",
    "        p1 = p2\n",
    "        \n",
    "        error_abs = abs(p1-p0) # Vuelvo a calcular los errores y los valores de las funciones.\n",
    "        error_rel = abs(p1-p0)/abs(p1)\n",
    "        fp0 = f(p0)\n",
    "        fp1 = f(p1)\n",
    "        i += 1\n",
    "    end\n",
    "    absoluto_raiz = abs(fp1)\n",
    "    return[\"la raiz es: $p1\",\n",
    "        \"iteraciones $i\",\n",
    "        \"valor de la función: $fp1\",\n",
    "        \"error absoluto $error_abs\",\n",
    "        \"error relativo $error_rel\",\n",
    "        \"valor absoluto de la raiz $absoluto_raiz\"]\n",
    "end\n",
    "        "
   ]
  },
  {
   "cell_type": "code",
   "execution_count": 3,
   "metadata": {
    "scrolled": true
   },
   "outputs": [
    {
     "data": {
      "text/plain": [
       "6-element Array{String,1}:\n",
       " \"la raiz es: 0.739085133034638\"\n",
       " \"iteraciones 1\"\n",
       " \"valor de la función: -3.0212499169124385e-10\"\n",
       " \"error absoluto 1.6965315616790377e-6\"\n",
       " \"error relativo 2.2954480963690663e-6\"\n",
       " \"valor absoluto de la raiz 3.0212499169124385e-10\""
      ]
     },
     "execution_count": 3,
     "metadata": {},
     "output_type": "execute_result"
    }
   ],
   "source": [
    "h(x) = x - cos(x)\n",
    "Met_Secante(h,0.0,π/2)\n",
    "# Parece que encuentra muy rapido la solucion porque el valor absoluto de la función cae a la -10"
   ]
  },
  {
   "cell_type": "code",
   "execution_count": 26,
   "metadata": {},
   "outputs": [],
   "source": [
    "using Plots"
   ]
  },
  {
   "cell_type": "code",
   "execution_count": 12,
   "metadata": {
    "scrolled": true
   },
   "outputs": [
    {
     "data": {
      "image/svg+xml": [
       "<?xml version=\"1.0\" encoding=\"utf-8\"?>\n",
       "<svg xmlns=\"http://www.w3.org/2000/svg\" xmlns:xlink=\"http://www.w3.org/1999/xlink\" width=\"600\" height=\"400\" viewBox=\"0 0 2400 1600\">\n",
       "<defs>\n",
       "  <clipPath id=\"clip510\">\n",
       "    <rect x=\"0\" y=\"0\" width=\"2400\" height=\"1600\"/>\n",
       "  </clipPath>\n",
       "</defs>\n",
       "<path clip-path=\"url(#clip510)\" d=\"\n",
       "M0 1600 L2400 1600 L2400 0 L0 0  Z\n",
       "  \" fill=\"#ffffff\" fill-rule=\"evenodd\" fill-opacity=\"1\"/>\n",
       "<defs>\n",
       "  <clipPath id=\"clip511\">\n",
       "    <rect x=\"480\" y=\"0\" width=\"1681\" height=\"1600\"/>\n",
       "  </clipPath>\n",
       "</defs>\n",
       "<path clip-path=\"url(#clip510)\" d=\"\n",
       "M144.168 1486.45 L2352.76 1486.45 L2352.76 47.2441 L144.168 47.2441  Z\n",
       "  \" fill=\"#ffffff\" fill-rule=\"evenodd\" fill-opacity=\"1\"/>\n",
       "<defs>\n",
       "  <clipPath id=\"clip512\">\n",
       "    <rect x=\"144\" y=\"47\" width=\"2210\" height=\"1440\"/>\n",
       "  </clipPath>\n",
       "</defs>\n",
       "<polyline clip-path=\"url(#clip512)\" style=\"stroke:#000000; stroke-width:2; stroke-opacity:0.1; fill:none\" points=\"\n",
       "  415.032,1486.45 415.032,47.2441 \n",
       "  \"/>\n",
       "<polyline clip-path=\"url(#clip512)\" style=\"stroke:#000000; stroke-width:2; stroke-opacity:0.1; fill:none\" points=\"\n",
       "  831.747,1486.45 831.747,47.2441 \n",
       "  \"/>\n",
       "<polyline clip-path=\"url(#clip512)\" style=\"stroke:#000000; stroke-width:2; stroke-opacity:0.1; fill:none\" points=\"\n",
       "  1248.46,1486.45 1248.46,47.2441 \n",
       "  \"/>\n",
       "<polyline clip-path=\"url(#clip512)\" style=\"stroke:#000000; stroke-width:2; stroke-opacity:0.1; fill:none\" points=\"\n",
       "  1665.18,1486.45 1665.18,47.2441 \n",
       "  \"/>\n",
       "<polyline clip-path=\"url(#clip512)\" style=\"stroke:#000000; stroke-width:2; stroke-opacity:0.1; fill:none\" points=\"\n",
       "  2081.89,1486.45 2081.89,47.2441 \n",
       "  \"/>\n",
       "<polyline clip-path=\"url(#clip510)\" style=\"stroke:#000000; stroke-width:4; stroke-opacity:1; fill:none\" points=\"\n",
       "  144.168,1486.45 2352.76,1486.45 \n",
       "  \"/>\n",
       "<polyline clip-path=\"url(#clip510)\" style=\"stroke:#000000; stroke-width:4; stroke-opacity:1; fill:none\" points=\"\n",
       "  415.032,1486.45 415.032,1469.18 \n",
       "  \"/>\n",
       "<polyline clip-path=\"url(#clip510)\" style=\"stroke:#000000; stroke-width:4; stroke-opacity:1; fill:none\" points=\"\n",
       "  831.747,1486.45 831.747,1469.18 \n",
       "  \"/>\n",
       "<polyline clip-path=\"url(#clip510)\" style=\"stroke:#000000; stroke-width:4; stroke-opacity:1; fill:none\" points=\"\n",
       "  1248.46,1486.45 1248.46,1469.18 \n",
       "  \"/>\n",
       "<polyline clip-path=\"url(#clip510)\" style=\"stroke:#000000; stroke-width:4; stroke-opacity:1; fill:none\" points=\"\n",
       "  1665.18,1486.45 1665.18,1469.18 \n",
       "  \"/>\n",
       "<polyline clip-path=\"url(#clip510)\" style=\"stroke:#000000; stroke-width:4; stroke-opacity:1; fill:none\" points=\"\n",
       "  2081.89,1486.45 2081.89,1469.18 \n",
       "  \"/>\n",
       "<path clip-path=\"url(#clip510)\" d=\"M 0 0 M386.445 1530.29 L416.12 1530.29 L416.12 1534.23 L386.445 1534.23 L386.445 1530.29 Z\" fill=\"#000000\" fill-rule=\"evenodd\" fill-opacity=\"1\" /><path clip-path=\"url(#clip510)\" d=\"M 0 0 M434.037 1516.63 L422.231 1535.08 L434.037 1535.08 L434.037 1516.63 M432.81 1512.56 L438.69 1512.56 L438.69 1535.08 L443.62 1535.08 L443.62 1538.97 L438.69 1538.97 L438.69 1547.12 L434.037 1547.12 L434.037 1538.97 L418.435 1538.97 L418.435 1534.46 L432.81 1512.56 Z\" fill=\"#000000\" fill-rule=\"evenodd\" fill-opacity=\"1\" /><path clip-path=\"url(#clip510)\" d=\"M 0 0 M804.201 1530.29 L833.877 1530.29 L833.877 1534.23 L804.201 1534.23 L804.201 1530.29 Z\" fill=\"#000000\" fill-rule=\"evenodd\" fill-opacity=\"1\" /><path clip-path=\"url(#clip510)\" d=\"M 0 0 M842.974 1543.18 L859.293 1543.18 L859.293 1547.12 L837.349 1547.12 L837.349 1543.18 Q840.011 1540.43 844.594 1535.8 Q849.201 1531.15 850.381 1529.81 Q852.627 1527.28 853.506 1525.55 Q854.409 1523.79 854.409 1522.1 Q854.409 1519.34 852.465 1517.61 Q850.543 1515.87 847.441 1515.87 Q845.242 1515.87 842.789 1516.63 Q840.358 1517.4 837.58 1518.95 L837.58 1514.23 Q840.404 1513.09 842.858 1512.51 Q845.312 1511.93 847.349 1511.93 Q852.719 1511.93 855.914 1514.62 Q859.108 1517.31 859.108 1521.8 Q859.108 1523.93 858.298 1525.85 Q857.511 1527.74 855.404 1530.34 Q854.826 1531.01 851.724 1534.23 Q848.622 1537.42 842.974 1543.18 Z\" fill=\"#000000\" fill-rule=\"evenodd\" fill-opacity=\"1\" /><path clip-path=\"url(#clip510)\" d=\"M 0 0 M1248.46 1515.64 Q1244.85 1515.64 1243.02 1519.2 Q1241.22 1522.75 1241.22 1529.87 Q1241.22 1536.98 1243.02 1540.55 Q1244.85 1544.09 1248.46 1544.09 Q1252.1 1544.09 1253.9 1540.55 Q1255.73 1536.98 1255.73 1529.87 Q1255.73 1522.75 1253.9 1519.2 Q1252.1 1515.64 1248.46 1515.64 M1248.46 1511.93 Q1254.27 1511.93 1257.33 1516.54 Q1260.41 1521.12 1260.41 1529.87 Q1260.41 1538.6 1257.33 1543.21 Q1254.27 1547.79 1248.46 1547.79 Q1242.65 1547.79 1239.57 1543.21 Q1236.52 1538.6 1236.52 1529.87 Q1236.52 1521.12 1239.57 1516.54 Q1242.65 1511.93 1248.46 1511.93 Z\" fill=\"#000000\" fill-rule=\"evenodd\" fill-opacity=\"1\" /><path clip-path=\"url(#clip510)\" d=\"M 0 0 M1659.83 1543.18 L1676.15 1543.18 L1676.15 1547.12 L1654.2 1547.12 L1654.2 1543.18 Q1656.87 1540.43 1661.45 1535.8 Q1666.06 1531.15 1667.24 1529.81 Q1669.48 1527.28 1670.36 1525.55 Q1671.26 1523.79 1671.26 1522.1 Q1671.26 1519.34 1669.32 1517.61 Q1667.4 1515.87 1664.3 1515.87 Q1662.1 1515.87 1659.64 1516.63 Q1657.21 1517.4 1654.44 1518.95 L1654.44 1514.23 Q1657.26 1513.09 1659.71 1512.51 Q1662.17 1511.93 1664.2 1511.93 Q1669.57 1511.93 1672.77 1514.62 Q1675.96 1517.31 1675.96 1521.8 Q1675.96 1523.93 1675.15 1525.85 Q1674.37 1527.74 1672.26 1530.34 Q1671.68 1531.01 1668.58 1534.23 Q1665.48 1537.42 1659.83 1543.18 Z\" fill=\"#000000\" fill-rule=\"evenodd\" fill-opacity=\"1\" /><path clip-path=\"url(#clip510)\" d=\"M 0 0 M2084.9 1516.63 L2073.1 1535.08 L2084.9 1535.08 L2084.9 1516.63 M2083.67 1512.56 L2089.55 1512.56 L2089.55 1535.08 L2094.48 1535.08 L2094.48 1538.97 L2089.55 1538.97 L2089.55 1547.12 L2084.9 1547.12 L2084.9 1538.97 L2069.3 1538.97 L2069.3 1534.46 L2083.67 1512.56 Z\" fill=\"#000000\" fill-rule=\"evenodd\" fill-opacity=\"1\" /><polyline clip-path=\"url(#clip512)\" style=\"stroke:#000000; stroke-width:2; stroke-opacity:0.1; fill:none\" points=\"\n",
       "  144.168,1271.43 2352.76,1271.43 \n",
       "  \"/>\n",
       "<polyline clip-path=\"url(#clip512)\" style=\"stroke:#000000; stroke-width:2; stroke-opacity:0.1; fill:none\" points=\"\n",
       "  144.168,999.88 2352.76,999.88 \n",
       "  \"/>\n",
       "<polyline clip-path=\"url(#clip512)\" style=\"stroke:#000000; stroke-width:2; stroke-opacity:0.1; fill:none\" points=\"\n",
       "  144.168,728.332 2352.76,728.332 \n",
       "  \"/>\n",
       "<polyline clip-path=\"url(#clip512)\" style=\"stroke:#000000; stroke-width:2; stroke-opacity:0.1; fill:none\" points=\"\n",
       "  144.168,456.784 2352.76,456.784 \n",
       "  \"/>\n",
       "<polyline clip-path=\"url(#clip512)\" style=\"stroke:#000000; stroke-width:2; stroke-opacity:0.1; fill:none\" points=\"\n",
       "  144.168,185.236 2352.76,185.236 \n",
       "  \"/>\n",
       "<polyline clip-path=\"url(#clip510)\" style=\"stroke:#000000; stroke-width:4; stroke-opacity:1; fill:none\" points=\"\n",
       "  144.168,1486.45 144.168,47.2441 \n",
       "  \"/>\n",
       "<polyline clip-path=\"url(#clip510)\" style=\"stroke:#000000; stroke-width:4; stroke-opacity:1; fill:none\" points=\"\n",
       "  144.168,1271.43 170.671,1271.43 \n",
       "  \"/>\n",
       "<polyline clip-path=\"url(#clip510)\" style=\"stroke:#000000; stroke-width:4; stroke-opacity:1; fill:none\" points=\"\n",
       "  144.168,999.88 170.671,999.88 \n",
       "  \"/>\n",
       "<polyline clip-path=\"url(#clip510)\" style=\"stroke:#000000; stroke-width:4; stroke-opacity:1; fill:none\" points=\"\n",
       "  144.168,728.332 170.671,728.332 \n",
       "  \"/>\n",
       "<polyline clip-path=\"url(#clip510)\" style=\"stroke:#000000; stroke-width:4; stroke-opacity:1; fill:none\" points=\"\n",
       "  144.168,456.784 170.671,456.784 \n",
       "  \"/>\n",
       "<polyline clip-path=\"url(#clip510)\" style=\"stroke:#000000; stroke-width:4; stroke-opacity:1; fill:none\" points=\"\n",
       "  144.168,185.236 170.671,185.236 \n",
       "  \"/>\n",
       "<path clip-path=\"url(#clip510)\" d=\"M 0 0 M50.9921 1271.88 L80.6679 1271.88 L80.6679 1275.81 L50.9921 1275.81 L50.9921 1271.88 Z\" fill=\"#000000\" fill-rule=\"evenodd\" fill-opacity=\"1\" /><path clip-path=\"url(#clip510)\" d=\"M 0 0 M98.5845 1258.22 L86.779 1276.67 L98.5845 1276.67 L98.5845 1258.22 M97.3576 1254.15 L103.237 1254.15 L103.237 1276.67 L108.168 1276.67 L108.168 1280.56 L103.237 1280.56 L103.237 1288.71 L98.5845 1288.71 L98.5845 1280.56 L82.9827 1280.56 L82.9827 1276.05 L97.3576 1254.15 Z\" fill=\"#000000\" fill-rule=\"evenodd\" fill-opacity=\"1\" /><path clip-path=\"url(#clip510)\" d=\"M 0 0 M53.0754 1000.33 L82.7512 1000.33 L82.7512 1004.27 L53.0754 1004.27 L53.0754 1000.33 Z\" fill=\"#000000\" fill-rule=\"evenodd\" fill-opacity=\"1\" /><path clip-path=\"url(#clip510)\" d=\"M 0 0 M91.8484 1013.22 L108.168 1013.22 L108.168 1017.16 L86.2234 1017.16 L86.2234 1013.22 Q88.8854 1010.47 93.4688 1005.84 Q98.0752 1001.19 99.2558 999.845 Q101.501 997.322 102.381 995.586 Q103.284 993.827 103.284 992.137 Q103.284 989.382 101.339 987.646 Q99.4178 985.91 96.316 985.91 Q94.1169 985.91 91.6632 986.674 Q89.2327 987.438 86.4549 988.989 L86.4549 984.267 Q89.279 983.132 91.7326 982.554 Q94.1863 981.975 96.2234 981.975 Q101.594 981.975 104.788 984.66 Q107.983 987.345 107.983 991.836 Q107.983 993.966 107.172 995.887 Q106.385 997.785 104.279 1000.38 Q103.7 1001.05 100.598 1004.27 Q97.4965 1007.46 91.8484 1013.22 Z\" fill=\"#000000\" fill-rule=\"evenodd\" fill-opacity=\"1\" /><path clip-path=\"url(#clip510)\" d=\"M 0 0 M96.2234 714.131 Q92.6123 714.131 90.7836 717.696 Q88.978 721.237 88.978 728.367 Q88.978 735.473 90.7836 739.038 Q92.6123 742.58 96.2234 742.58 Q99.8576 742.58 101.663 739.038 Q103.492 735.473 103.492 728.367 Q103.492 721.237 101.663 717.696 Q99.8576 714.131 96.2234 714.131 M96.2234 710.427 Q102.034 710.427 105.089 715.034 Q108.168 719.617 108.168 728.367 Q108.168 737.094 105.089 741.7 Q102.034 746.283 96.2234 746.283 Q90.4132 746.283 87.3345 741.7 Q84.279 737.094 84.279 728.367 Q84.279 719.617 87.3345 715.034 Q90.4132 710.427 96.2234 710.427 Z\" fill=\"#000000\" fill-rule=\"evenodd\" fill-opacity=\"1\" /><path clip-path=\"url(#clip510)\" d=\"M 0 0 M91.8484 470.129 L108.168 470.129 L108.168 474.064 L86.2234 474.064 L86.2234 470.129 Q88.8854 467.374 93.4688 462.745 Q98.0752 458.092 99.2558 456.749 Q101.501 454.226 102.381 452.49 Q103.284 450.731 103.284 449.041 Q103.284 446.287 101.339 444.55 Q99.4178 442.814 96.316 442.814 Q94.1169 442.814 91.6632 443.578 Q89.2327 444.342 86.4549 445.893 L86.4549 441.171 Q89.279 440.037 91.7326 439.458 Q94.1863 438.879 96.2234 438.879 Q101.594 438.879 104.788 441.564 Q107.983 444.25 107.983 448.74 Q107.983 450.87 107.172 452.791 Q106.385 454.689 104.279 457.282 Q103.7 457.953 100.598 461.171 Q97.4965 464.365 91.8484 470.129 Z\" fill=\"#000000\" fill-rule=\"evenodd\" fill-opacity=\"1\" /><path clip-path=\"url(#clip510)\" d=\"M 0 0 M98.5845 172.03 L86.779 190.479 L98.5845 190.479 L98.5845 172.03 M97.3576 167.956 L103.237 167.956 L103.237 190.479 L108.168 190.479 L108.168 194.368 L103.237 194.368 L103.237 202.516 L98.5845 202.516 L98.5845 194.368 L82.9827 194.368 L82.9827 189.854 L97.3576 167.956 Z\" fill=\"#000000\" fill-rule=\"evenodd\" fill-opacity=\"1\" /><polyline clip-path=\"url(#clip512)\" style=\"stroke:#009af9; stroke-width:4; stroke-opacity:1; fill:none\" points=\"\n",
       "  206.675,1445.72 216.849,1432.69 227.023,1419.58 321.095,1297.53 415.168,1182.53 471.701,1121.41 528.235,1068.57 576.033,1031.24 623.832,1000.99 675.754,976.103 \n",
       "  727.677,958.964 775.545,949.145 823.413,943.917 926.052,941.605 1044.97,936.942 1097.81,928.306 1150.65,913.157 1196.98,893.528 1243.32,867.415 1293.84,831.329 \n",
       "  1344.36,787.489 1395.18,736.209 1445.99,678.805 1558.37,537.698 1665.29,400.144 1720.87,333.383 1776.46,272.786 1823.25,227.835 1870.04,189.209 1927.17,151.194 \n",
       "  1984.3,123.254 2038,105.566 2091.7,95.0305 2177.73,88.8751 2263.77,88.419 2277.01,88.2585 2290.25,87.9763 \n",
       "  \"/>\n",
       "<path clip-path=\"url(#clip510)\" d=\"\n",
       "M1982.72 216.178 L2279.14 216.178 L2279.14 95.2176 L1982.72 95.2176  Z\n",
       "  \" fill=\"#ffffff\" fill-rule=\"evenodd\" fill-opacity=\"1\"/>\n",
       "<polyline clip-path=\"url(#clip510)\" style=\"stroke:#000000; stroke-width:4; stroke-opacity:1; fill:none\" points=\"\n",
       "  1982.72,216.178 2279.14,216.178 2279.14,95.2176 1982.72,95.2176 1982.72,216.178 \n",
       "  \"/>\n",
       "<polyline clip-path=\"url(#clip510)\" style=\"stroke:#009af9; stroke-width:4; stroke-opacity:1; fill:none\" points=\"\n",
       "  2007.26,155.698 2154.5,155.698 \n",
       "  \"/>\n",
       "<path clip-path=\"url(#clip510)\" d=\"M 0 0 M2192.88 175.385 Q2191.08 180.015 2189.36 181.427 Q2187.65 182.839 2184.78 182.839 L2181.38 182.839 L2181.38 179.274 L2183.88 179.274 Q2185.64 179.274 2186.61 178.44 Q2187.58 177.607 2188.76 174.505 L2189.52 172.561 L2179.04 147.052 L2183.55 147.052 L2191.65 167.329 L2199.76 147.052 L2204.27 147.052 L2192.88 175.385 Z\" fill=\"#000000\" fill-rule=\"evenodd\" fill-opacity=\"1\" /><path clip-path=\"url(#clip510)\" d=\"M 0 0 M2210.15 169.042 L2217.79 169.042 L2217.79 142.677 L2209.48 144.343 L2209.48 140.084 L2217.74 138.418 L2222.42 138.418 L2222.42 169.042 L2230.06 169.042 L2230.06 172.978 L2210.15 172.978 L2210.15 169.042 Z\" fill=\"#000000\" fill-rule=\"evenodd\" fill-opacity=\"1\" /></svg>\n"
      ]
     },
     "execution_count": 12,
     "metadata": {},
     "output_type": "execute_result"
    }
   ],
   "source": [
    "plot(h)"
   ]
  },
  {
   "cell_type": "code",
   "execution_count": 18,
   "metadata": {},
   "outputs": [
    {
     "data": {
      "text/plain": [
       "Regula_Falsi (generic function with 1 method)"
      ]
     },
     "execution_count": 18,
     "metadata": {},
     "output_type": "execute_result"
    }
   ],
   "source": [
    "# Regula Falsi\n",
    "function Regula_Falsi(f::Function,\n",
    "    a::Float64,\n",
    "    b::Float64;\n",
    "    x_tol::Float64=10e-10,\n",
    "    y_tol::Float64=10e-10,\n",
    "    maxiter::Int64=100)\n",
    "    p0 = a\n",
    "    p1 = b\n",
    "    fp0 = f(p0)\n",
    "    fp1 = f(p1)\n",
    "    error_abs = abs(p1-p0)\n",
    "    error_rel = abs(p1-p0)/abs(p1)\n",
    "    if fp0*fp1 > 0\n",
    "        error(\"Los puntos iniciales tienen el mismo signo\")\n",
    "    end\n",
    "    # i = 1\n",
    "    for j ∈ 1:maxiter\n",
    "        if x_tol > error_rel || y_tol > abs(fp1)\n",
    "            #break\n",
    "                absoluto_raiz = abs(fp1)\n",
    "            return[\"la raiz es: $p1\",\n",
    "            \"iteraciones $j\",\n",
    "            \"valor de la función: $fp1\",\n",
    "            \"error absoluto $error_abs\",\n",
    "            \"error relativo $error_rel\",\n",
    "            \"valor absoluto de la raiz $absoluto_raiz\"]\n",
    "        end\n",
    "        \n",
    "        p2 = p1 - fp1 * (p1-p0)/(fp1-fp0)\n",
    "        \n",
    "        if p1*p0 > 0\n",
    "            p0 = p1\n",
    "        #elseif p1*p0 < 0\n",
    "         #   p0 = p0\n",
    "        end\n",
    "        \n",
    "        p1 = p2\n",
    "        \n",
    "        error_abs = abs(p1-p0) # Vuelvo a calcular los errores y los valores de las funciones.\n",
    "        error_rel = abs(p1-p0)/abs(p1)\n",
    "        fp0 = f(p0)\n",
    "        fp1 = f(p1)\n",
    "       # i += 1\n",
    "        \n",
    "    end\n",
    "  #  absoluto_raiz = abs(fp1)\n",
    "   # return[\"la raiz es: $p1\",\n",
    "    #    \"iteraciones $i\",\n",
    "     #   \"valor de la función: $fp1\",\n",
    "      #  \"error absoluto $error_abs\",\n",
    "       # \"error relativo $error_rel\",\n",
    "        #\"valor absoluto de la raiz $absoluto_raiz\"]\n",
    "    prinln(\"no converge\")\n",
    "end     "
   ]
  },
  {
   "cell_type": "code",
   "execution_count": 19,
   "metadata": {
    "scrolled": true
   },
   "outputs": [
    {
     "data": {
      "text/plain": [
       "6-element Array{String,1}:\n",
       " \"la raiz es: 0.7390851332150788\"\n",
       " \"iteraciones 6\"\n",
       " \"valor de la función: -1.368904989362818e-13\"\n",
       " \"error absoluto 1.650342318360032e-8\"\n",
       " \"error relativo 2.23295293626177e-8\"\n",
       " \"valor absoluto de la raiz 1.368904989362818e-13\""
      ]
     },
     "execution_count": 19,
     "metadata": {},
     "output_type": "execute_result"
    }
   ],
   "source": [
    "Regula_Falsi(h,0.5,π/(2.1))"
   ]
  },
  {
   "cell_type": "code",
   "execution_count": 32,
   "metadata": {},
   "outputs": [
    {
     "data": {
      "text/plain": [
       "p (generic function with 1 method)"
      ]
     },
     "execution_count": 32,
     "metadata": {},
     "output_type": "execute_result"
    }
   ],
   "source": [
    "G = 9.8 \n",
    "h0 = 10.0\n",
    "m = 0.1\n",
    "k = 0.149\n",
    "p(t) = h0 - m*G*t/k + G*m^2/k^(1-exp(-k*t/m))"
   ]
  },
  {
   "cell_type": "code",
   "execution_count": 33,
   "metadata": {},
   "outputs": [
    {
     "data": {
      "text/plain": [
       "6-element Array{String,1}:\n",
       " \"la raiz es: 1.6044087693745415\"\n",
       " \"iteraciones 1\"\n",
       " \"valor de la función: -1.1102230246251565e-16\"\n",
       " \"error absoluto 3.301647844011768e-10\"\n",
       " \"error relativo 2.0578595100168105e-10\"\n",
       " \"valor absoluto de la raiz 1.1102230246251565e-16\""
      ]
     },
     "execution_count": 33,
     "metadata": {},
     "output_type": "execute_result"
    }
   ],
   "source": [
    "Met_Secante(p,-2.0,2.0)\n",
    "# Preguntar porque da un error tan alto"
   ]
  },
  {
   "cell_type": "code",
   "execution_count": 34,
   "metadata": {},
   "outputs": [
    {
     "data": {
      "text/plain": [
       "6-element Array{String,1}:\n",
       " \"la raiz es: 1.6044087693822624\"\n",
       " \"iteraciones 1\"\n",
       " \"valor de la función: -4.9672821411661516e-11\"\n",
       " \"error absoluto 3.604408769382262\"\n",
       " \"error relativo 2.246565113683622\"\n",
       " \"valor absoluto de la raiz 4.9672821411661516e-11\""
      ]
     },
     "execution_count": 34,
     "metadata": {},
     "output_type": "execute_result"
    }
   ],
   "source": [
    "Regula_Falsi(p,-2.0,2.0)"
   ]
  },
  {
   "cell_type": "markdown",
   "metadata": {},
   "source": [
    "# Problema 6\n",
    "\n",
    "Resuelva el problema 3 con el método de la secante con intervalo inicial $[0,2.5]$."
   ]
  },
  {
   "cell_type": "code",
   "execution_count": 5,
   "metadata": {},
   "outputs": [
    {
     "data": {
      "text/plain": [
       "Met_Secante_Problema3 (generic function with 1 method)"
      ]
     },
     "execution_count": 5,
     "metadata": {},
     "output_type": "execute_result"
    }
   ],
   "source": [
    "function Met_Secante_Problema3(f::Function,\n",
    "    a::Float64,\n",
    "    b::Float64;\n",
    "    x_tol::Float64=10e-10,\n",
    "    y_tol::Float64=10e-10,\n",
    "    maxiter::Int64=100)\n",
    "    p0 = a\n",
    "    p1 = b\n",
    "    fp0 = f(p0)\n",
    "    fp1 = f(p1)\n",
    "    raiz_3 = sqrt(BigFloat(3))\n",
    "    \n",
    "    error_abs = abs(p1-p0)/2.0\n",
    "    error_rel = abs(p1-p0)/abs(p1)\n",
    "    error_rel_est= abs(p1-p0)/(2.0 * raiz_3)\n",
    "    \n",
    "    vec_err_rel = zeros(maxiter)\n",
    "    vec_err_rel_est = zeros(maxiter)\n",
    "    \n",
    "    i = 1\n",
    "    for i ∈ 1:maxiter\n",
    "        if x_tol > error_rel || y_tol > abs(fp1)\n",
    "            break\n",
    "        end        \n",
    "        \n",
    "        p2 = p1 - fp1 * (p1-p0)/(fp1-fp0)  # Paso n-ésimo del algoritmo, aca p2 es nuestra aproximación.\n",
    "        \n",
    "        p0 = p1  # Valuo nuevamente las variables.\n",
    "        p1 = p2\n",
    "        \n",
    "        vec_err_rel[i] = error_rel\n",
    "        vec_err_rel_est[i] = error_rel_est\n",
    "        \n",
    "        error_abs = abs(p1-p0)/2.0 # Vuelvo a calcular los errores y los valores de las funciones.\n",
    "        error_rel = abs(p1-p0)/abs(p1)\n",
    "        error_rel_est= abs(p1-p0)/(2.0 * raiz_3)\n",
    "        \n",
    "        fp0 = f(p0)\n",
    "        fp1 = f(p1)\n",
    "        i += 1\n",
    "    end\n",
    "    absoluto_raiz = abs(fp1)\n",
    "    return[\"la raiz es: $p1\",\n",
    "        \"iteraciones $i\",\n",
    "        \"valor de la función: $fp1\",\n",
    "        \"error absoluto $error_abs\",\n",
    "        \"error relativo $error_rel\",\n",
    "        \"valor absoluto de la raiz $absoluto_raiz\",\n",
    "        vec_err_rel,\n",
    "        vec_err_rel_est]\n",
    "end\n",
    "        "
   ]
  },
  {
   "cell_type": "code",
   "execution_count": 6,
   "metadata": {
    "scrolled": true
   },
   "outputs": [
    {
     "data": {
      "text/plain": [
       "8-element Array{Any,1}:\n",
       " \"la raiz es: 1.7320508075688763\"\n",
       " \"iteraciones 1\"\n",
       " \"valor de la función: -3.552713678800501e-15\"\n",
       " \"error absoluto 4.0061032269278485e-10\"\n",
       " \"error relativo 4.6258495529364464e-10\"\n",
       " \"valor absoluto de la raiz 3.552713678800501e-15\"\n",
       " [1.0, 1.0833333333333335, 0.25999999999999995, 0.07487815684537011, 0.012420326498632069, 0.00039106631528954027, 2.3516237810190665e-6, 0.0, 0.0, 0.0  …  0.0, 0.0, 0.0, 0.0, 0.0, 0.0, 0.0, 0.0, 0.0, 0.0]\n",
       " [0.7216878364870322, 0.37527767497325676, 0.12171167836970487, 0.03788917190627794, 0.006207720068271911, 0.00019553269791479702, 1.1758118910534455e-6, 0.0, 0.0, 0.0  …  0.0, 0.0, 0.0, 0.0, 0.0, 0.0, 0.0, 0.0, 0.0, 0.0]"
      ]
     },
     "execution_count": 6,
     "metadata": {},
     "output_type": "execute_result"
    }
   ],
   "source": [
    "p3(x) = x^2 - 3\n",
    "solp6 = Met_Secante_Problema3(p3,0.0,2.5)"
   ]
  },
  {
   "cell_type": "code",
   "execution_count": 7,
   "metadata": {},
   "outputs": [],
   "source": [
    "using Plots"
   ]
  },
  {
   "cell_type": "code",
   "execution_count": 16,
   "metadata": {},
   "outputs": [
    {
     "data": {
      "text/plain": [
       "1-element Array{Array{Any,1},1}:\n",
       " [0.7216878364870322, 0.37527767497325676, 0.12171167836970487, 0.03788917190627794, 0.006207720068271911, 0.00019553269791479702, 1.1758118910534455e-6]"
      ]
     },
     "execution_count": 16,
     "metadata": {},
     "output_type": "execute_result"
    }
   ],
   "source": [
    "v1 = QuitarCeros(solp6[7])\n",
    "v2 = QuitarCeros(solp6[8])"
   ]
  },
  {
   "cell_type": "code",
   "execution_count": 18,
   "metadata": {},
   "outputs": [
    {
     "data": {
      "image/svg+xml": [
       "<?xml version=\"1.0\" encoding=\"utf-8\"?>\n",
       "<svg xmlns=\"http://www.w3.org/2000/svg\" xmlns:xlink=\"http://www.w3.org/1999/xlink\" width=\"600\" height=\"400\" viewBox=\"0 0 2400 1600\">\n",
       "<defs>\n",
       "  <clipPath id=\"clip070\">\n",
       "    <rect x=\"0\" y=\"0\" width=\"2400\" height=\"1600\"/>\n",
       "  </clipPath>\n",
       "</defs>\n",
       "<path clip-path=\"url(#clip070)\" d=\"\n",
       "M0 1600 L2400 1600 L2400 0 L0 0  Z\n",
       "  \" fill=\"#ffffff\" fill-rule=\"evenodd\" fill-opacity=\"1\"/>\n",
       "<defs>\n",
       "  <clipPath id=\"clip071\">\n",
       "    <rect x=\"480\" y=\"0\" width=\"1681\" height=\"1600\"/>\n",
       "  </clipPath>\n",
       "</defs>\n",
       "<path clip-path=\"url(#clip070)\" d=\"\n",
       "M181.04 1486.45 L1988.05 1486.45 L1988.05 47.2441 L181.04 47.2441  Z\n",
       "  \" fill=\"#ffffff\" fill-rule=\"evenodd\" fill-opacity=\"1\"/>\n",
       "<defs>\n",
       "  <clipPath id=\"clip072\">\n",
       "    <rect x=\"181\" y=\"47\" width=\"1808\" height=\"1440\"/>\n",
       "  </clipPath>\n",
       "</defs>\n",
       "<polyline clip-path=\"url(#clip072)\" style=\"stroke:#000000; stroke-width:2; stroke-opacity:0.1; fill:none\" points=\"\n",
       "  232.181,1486.45 232.181,47.2441 \n",
       "  \"/>\n",
       "<polyline clip-path=\"url(#clip072)\" style=\"stroke:#000000; stroke-width:2; stroke-opacity:0.1; fill:none\" points=\"\n",
       "  516.302,1486.45 516.302,47.2441 \n",
       "  \"/>\n",
       "<polyline clip-path=\"url(#clip072)\" style=\"stroke:#000000; stroke-width:2; stroke-opacity:0.1; fill:none\" points=\"\n",
       "  800.422,1486.45 800.422,47.2441 \n",
       "  \"/>\n",
       "<polyline clip-path=\"url(#clip072)\" style=\"stroke:#000000; stroke-width:2; stroke-opacity:0.1; fill:none\" points=\"\n",
       "  1084.54,1486.45 1084.54,47.2441 \n",
       "  \"/>\n",
       "<polyline clip-path=\"url(#clip072)\" style=\"stroke:#000000; stroke-width:2; stroke-opacity:0.1; fill:none\" points=\"\n",
       "  1368.66,1486.45 1368.66,47.2441 \n",
       "  \"/>\n",
       "<polyline clip-path=\"url(#clip072)\" style=\"stroke:#000000; stroke-width:2; stroke-opacity:0.1; fill:none\" points=\"\n",
       "  1652.78,1486.45 1652.78,47.2441 \n",
       "  \"/>\n",
       "<polyline clip-path=\"url(#clip072)\" style=\"stroke:#000000; stroke-width:2; stroke-opacity:0.1; fill:none\" points=\"\n",
       "  1936.9,1486.45 1936.9,47.2441 \n",
       "  \"/>\n",
       "<polyline clip-path=\"url(#clip070)\" style=\"stroke:#000000; stroke-width:4; stroke-opacity:1; fill:none\" points=\"\n",
       "  181.04,1486.45 1988.05,1486.45 \n",
       "  \"/>\n",
       "<polyline clip-path=\"url(#clip070)\" style=\"stroke:#000000; stroke-width:4; stroke-opacity:1; fill:none\" points=\"\n",
       "  232.181,1486.45 232.181,1469.18 \n",
       "  \"/>\n",
       "<polyline clip-path=\"url(#clip070)\" style=\"stroke:#000000; stroke-width:4; stroke-opacity:1; fill:none\" points=\"\n",
       "  516.302,1486.45 516.302,1469.18 \n",
       "  \"/>\n",
       "<polyline clip-path=\"url(#clip070)\" style=\"stroke:#000000; stroke-width:4; stroke-opacity:1; fill:none\" points=\"\n",
       "  800.422,1486.45 800.422,1469.18 \n",
       "  \"/>\n",
       "<polyline clip-path=\"url(#clip070)\" style=\"stroke:#000000; stroke-width:4; stroke-opacity:1; fill:none\" points=\"\n",
       "  1084.54,1486.45 1084.54,1469.18 \n",
       "  \"/>\n",
       "<polyline clip-path=\"url(#clip070)\" style=\"stroke:#000000; stroke-width:4; stroke-opacity:1; fill:none\" points=\"\n",
       "  1368.66,1486.45 1368.66,1469.18 \n",
       "  \"/>\n",
       "<polyline clip-path=\"url(#clip070)\" style=\"stroke:#000000; stroke-width:4; stroke-opacity:1; fill:none\" points=\"\n",
       "  1652.78,1486.45 1652.78,1469.18 \n",
       "  \"/>\n",
       "<polyline clip-path=\"url(#clip070)\" style=\"stroke:#000000; stroke-width:4; stroke-opacity:1; fill:none\" points=\"\n",
       "  1936.9,1486.45 1936.9,1469.18 \n",
       "  \"/>\n",
       "<path clip-path=\"url(#clip070)\" d=\"M 0 0 M222.563 1543.18 L230.202 1543.18 L230.202 1516.82 L221.892 1518.49 L221.892 1514.23 L230.156 1512.56 L234.832 1512.56 L234.832 1543.18 L242.471 1543.18 L242.471 1547.12 L222.563 1547.12 L222.563 1543.18 Z\" fill=\"#000000\" fill-rule=\"evenodd\" fill-opacity=\"1\" /><path clip-path=\"url(#clip070)\" d=\"M 0 0 M510.955 1543.18 L527.274 1543.18 L527.274 1547.12 L505.33 1547.12 L505.33 1543.18 Q507.992 1540.43 512.575 1535.8 Q517.181 1531.15 518.362 1529.81 Q520.607 1527.28 521.487 1525.55 Q522.39 1523.79 522.39 1522.1 Q522.39 1519.34 520.445 1517.61 Q518.524 1515.87 515.422 1515.87 Q513.223 1515.87 510.769 1516.63 Q508.339 1517.4 505.561 1518.95 L505.561 1514.23 Q508.385 1513.09 510.839 1512.51 Q513.292 1511.93 515.329 1511.93 Q520.7 1511.93 523.894 1514.62 Q527.089 1517.31 527.089 1521.8 Q527.089 1523.93 526.279 1525.85 Q525.491 1527.74 523.385 1530.34 Q522.806 1531.01 519.704 1534.23 Q516.603 1537.42 510.955 1543.18 Z\" fill=\"#000000\" fill-rule=\"evenodd\" fill-opacity=\"1\" /><path clip-path=\"url(#clip070)\" d=\"M 0 0 M804.67 1528.49 Q808.026 1529.2 809.901 1531.47 Q811.799 1533.74 811.799 1537.07 Q811.799 1542.19 808.281 1544.99 Q804.762 1547.79 798.281 1547.79 Q796.105 1547.79 793.79 1547.35 Q791.499 1546.93 789.045 1546.08 L789.045 1541.56 Q790.989 1542.7 793.304 1543.28 Q795.619 1543.86 798.142 1543.86 Q802.54 1543.86 804.832 1542.12 Q807.147 1540.38 807.147 1537.07 Q807.147 1534.02 804.994 1532.31 Q802.864 1530.57 799.045 1530.57 L795.017 1530.57 L795.017 1526.73 L799.23 1526.73 Q802.679 1526.73 804.508 1525.36 Q806.336 1523.97 806.336 1521.38 Q806.336 1518.72 804.438 1517.31 Q802.563 1515.87 799.045 1515.87 Q797.124 1515.87 794.924 1516.29 Q792.725 1516.7 790.087 1517.58 L790.087 1513.42 Q792.749 1512.68 795.063 1512.31 Q797.401 1511.93 799.461 1511.93 Q804.785 1511.93 807.887 1514.37 Q810.989 1516.77 810.989 1520.89 Q810.989 1523.76 809.346 1525.75 Q807.702 1527.72 804.67 1528.49 Z\" fill=\"#000000\" fill-rule=\"evenodd\" fill-opacity=\"1\" /><path clip-path=\"url(#clip070)\" d=\"M 0 0 M1087.55 1516.63 L1075.75 1535.08 L1087.55 1535.08 L1087.55 1516.63 M1086.32 1512.56 L1092.2 1512.56 L1092.2 1535.08 L1097.14 1535.08 L1097.14 1538.97 L1092.2 1538.97 L1092.2 1547.12 L1087.55 1547.12 L1087.55 1538.97 L1071.95 1538.97 L1071.95 1534.46 L1086.32 1512.56 Z\" fill=\"#000000\" fill-rule=\"evenodd\" fill-opacity=\"1\" /><path clip-path=\"url(#clip070)\" d=\"M 0 0 M1358.94 1512.56 L1377.3 1512.56 L1377.3 1516.5 L1363.22 1516.5 L1363.22 1524.97 Q1364.24 1524.62 1365.26 1524.46 Q1366.28 1524.27 1367.3 1524.27 Q1373.08 1524.27 1376.46 1527.44 Q1379.84 1530.62 1379.84 1536.03 Q1379.84 1541.61 1376.37 1544.71 Q1372.9 1547.79 1366.58 1547.79 Q1364.4 1547.79 1362.14 1547.42 Q1359.89 1547.05 1357.48 1546.31 L1357.48 1541.61 Q1359.57 1542.74 1361.79 1543.3 Q1364.01 1543.86 1366.49 1543.86 Q1370.49 1543.86 1372.83 1541.75 Q1375.17 1539.64 1375.17 1536.03 Q1375.17 1532.42 1372.83 1530.31 Q1370.49 1528.21 1366.49 1528.21 Q1364.61 1528.21 1362.74 1528.62 Q1360.89 1529.04 1358.94 1529.92 L1358.94 1512.56 Z\" fill=\"#000000\" fill-rule=\"evenodd\" fill-opacity=\"1\" /><path clip-path=\"url(#clip070)\" d=\"M 0 0 M1653.19 1527.98 Q1650.04 1527.98 1648.19 1530.13 Q1646.36 1532.28 1646.36 1536.03 Q1646.36 1539.76 1648.19 1541.93 Q1650.04 1544.09 1653.19 1544.09 Q1656.34 1544.09 1658.17 1541.93 Q1660.02 1539.76 1660.02 1536.03 Q1660.02 1532.28 1658.17 1530.13 Q1656.34 1527.98 1653.19 1527.98 M1662.47 1513.32 L1662.47 1517.58 Q1660.71 1516.75 1658.91 1516.31 Q1657.12 1515.87 1655.36 1515.87 Q1650.73 1515.87 1648.28 1519 Q1645.85 1522.12 1645.5 1528.44 Q1646.87 1526.43 1648.93 1525.36 Q1650.99 1524.27 1653.47 1524.27 Q1658.67 1524.27 1661.68 1527.44 Q1664.72 1530.59 1664.72 1536.03 Q1664.72 1541.36 1661.57 1544.57 Q1658.42 1547.79 1653.19 1547.79 Q1647.19 1547.79 1644.02 1543.21 Q1640.85 1538.6 1640.85 1529.87 Q1640.85 1521.68 1644.74 1516.82 Q1648.63 1511.93 1655.18 1511.93 Q1656.94 1511.93 1658.72 1512.28 Q1660.53 1512.63 1662.47 1513.32 Z\" fill=\"#000000\" fill-rule=\"evenodd\" fill-opacity=\"1\" /><path clip-path=\"url(#clip070)\" d=\"M 0 0 M1925.79 1512.56 L1948.01 1512.56 L1948.01 1514.55 L1935.47 1547.12 L1930.58 1547.12 L1942.39 1516.5 L1925.79 1516.5 L1925.79 1512.56 Z\" fill=\"#000000\" fill-rule=\"evenodd\" fill-opacity=\"1\" /><polyline clip-path=\"url(#clip072)\" style=\"stroke:#000000; stroke-width:2; stroke-opacity:0.1; fill:none\" points=\"\n",
       "  181.04,1461.73 1988.05,1461.73 \n",
       "  \"/>\n",
       "<polyline clip-path=\"url(#clip072)\" style=\"stroke:#000000; stroke-width:2; stroke-opacity:0.1; fill:none\" points=\"\n",
       "  181.04,1234.09 1988.05,1234.09 \n",
       "  \"/>\n",
       "<polyline clip-path=\"url(#clip072)\" style=\"stroke:#000000; stroke-width:2; stroke-opacity:0.1; fill:none\" points=\"\n",
       "  181.04,1006.45 1988.05,1006.45 \n",
       "  \"/>\n",
       "<polyline clip-path=\"url(#clip072)\" style=\"stroke:#000000; stroke-width:2; stroke-opacity:0.1; fill:none\" points=\"\n",
       "  181.04,778.808 1988.05,778.808 \n",
       "  \"/>\n",
       "<polyline clip-path=\"url(#clip072)\" style=\"stroke:#000000; stroke-width:2; stroke-opacity:0.1; fill:none\" points=\"\n",
       "  181.04,551.169 1988.05,551.169 \n",
       "  \"/>\n",
       "<polyline clip-path=\"url(#clip072)\" style=\"stroke:#000000; stroke-width:2; stroke-opacity:0.1; fill:none\" points=\"\n",
       "  181.04,323.529 1988.05,323.529 \n",
       "  \"/>\n",
       "<polyline clip-path=\"url(#clip072)\" style=\"stroke:#000000; stroke-width:2; stroke-opacity:0.1; fill:none\" points=\"\n",
       "  181.04,95.8895 1988.05,95.8895 \n",
       "  \"/>\n",
       "<polyline clip-path=\"url(#clip070)\" style=\"stroke:#000000; stroke-width:4; stroke-opacity:1; fill:none\" points=\"\n",
       "  181.04,1486.45 181.04,47.2441 \n",
       "  \"/>\n",
       "<polyline clip-path=\"url(#clip070)\" style=\"stroke:#000000; stroke-width:4; stroke-opacity:1; fill:none\" points=\"\n",
       "  181.04,1461.73 202.724,1461.73 \n",
       "  \"/>\n",
       "<polyline clip-path=\"url(#clip070)\" style=\"stroke:#000000; stroke-width:4; stroke-opacity:1; fill:none\" points=\"\n",
       "  181.04,1234.09 202.724,1234.09 \n",
       "  \"/>\n",
       "<polyline clip-path=\"url(#clip070)\" style=\"stroke:#000000; stroke-width:4; stroke-opacity:1; fill:none\" points=\"\n",
       "  181.04,1006.45 202.724,1006.45 \n",
       "  \"/>\n",
       "<polyline clip-path=\"url(#clip070)\" style=\"stroke:#000000; stroke-width:4; stroke-opacity:1; fill:none\" points=\"\n",
       "  181.04,778.808 202.724,778.808 \n",
       "  \"/>\n",
       "<polyline clip-path=\"url(#clip070)\" style=\"stroke:#000000; stroke-width:4; stroke-opacity:1; fill:none\" points=\"\n",
       "  181.04,551.169 202.724,551.169 \n",
       "  \"/>\n",
       "<polyline clip-path=\"url(#clip070)\" style=\"stroke:#000000; stroke-width:4; stroke-opacity:1; fill:none\" points=\"\n",
       "  181.04,323.529 202.724,323.529 \n",
       "  \"/>\n",
       "<polyline clip-path=\"url(#clip070)\" style=\"stroke:#000000; stroke-width:4; stroke-opacity:1; fill:none\" points=\"\n",
       "  181.04,95.8895 202.724,95.8895 \n",
       "  \"/>\n",
       "<path clip-path=\"url(#clip070)\" d=\"M 0 0 M51.9267 1481.52 L59.5656 1481.52 L59.5656 1455.15 L51.2554 1456.82 L51.2554 1452.56 L59.5193 1450.89 L64.1952 1450.89 L64.1952 1481.52 L71.834 1481.52 L71.834 1485.45 L51.9267 1485.45 L51.9267 1481.52 Z\" fill=\"#000000\" fill-rule=\"evenodd\" fill-opacity=\"1\" /><path clip-path=\"url(#clip070)\" d=\"M 0 0 M86.9034 1453.97 Q83.2923 1453.97 81.4636 1457.54 Q79.6581 1461.08 79.6581 1468.21 Q79.6581 1475.32 81.4636 1478.88 Q83.2923 1482.42 86.9034 1482.42 Q90.5376 1482.42 92.3432 1478.88 Q94.1719 1475.32 94.1719 1468.21 Q94.1719 1461.08 92.3432 1457.54 Q90.5376 1453.97 86.9034 1453.97 M86.9034 1450.27 Q92.7135 1450.27 95.7691 1454.88 Q98.8478 1459.46 98.8478 1468.21 Q98.8478 1476.94 95.7691 1481.54 Q92.7135 1486.13 86.9034 1486.13 Q81.0932 1486.13 78.0146 1481.54 Q74.959 1476.94 74.959 1468.21 Q74.959 1459.46 78.0146 1454.88 Q81.0932 1450.27 86.9034 1450.27 Z\" fill=\"#000000\" fill-rule=\"evenodd\" fill-opacity=\"1\" /><path clip-path=\"url(#clip070)\" d=\"M 0 0 M98.8478 1444.37 L122.959 1444.37 L122.959 1447.57 L98.8478 1447.57 L98.8478 1444.37 Z\" fill=\"#000000\" fill-rule=\"evenodd\" fill-opacity=\"1\" /><path clip-path=\"url(#clip070)\" d=\"M 0 0 M135.673 1442.49 Q133.116 1442.49 131.611 1444.24 Q130.125 1445.99 130.125 1449.04 Q130.125 1452.06 131.611 1453.83 Q133.116 1455.58 135.673 1455.58 Q138.231 1455.58 139.717 1453.83 Q141.222 1452.06 141.222 1449.04 Q141.222 1445.99 139.717 1444.24 Q138.231 1442.49 135.673 1442.49 M143.215 1430.59 L143.215 1434.05 Q141.786 1433.37 140.319 1433.01 Q138.871 1432.65 137.441 1432.65 Q133.68 1432.65 131.686 1435.19 Q129.711 1437.73 129.429 1442.87 Q130.539 1441.23 132.213 1440.37 Q133.887 1439.48 135.899 1439.48 Q140.131 1439.48 142.576 1442.06 Q145.04 1444.62 145.04 1449.04 Q145.04 1453.36 142.482 1455.98 Q139.924 1458.59 135.673 1458.59 Q130.802 1458.59 128.226 1454.87 Q125.649 1451.12 125.649 1444.03 Q125.649 1437.37 128.809 1433.43 Q131.968 1429.46 137.291 1429.46 Q138.72 1429.46 140.168 1429.74 Q141.635 1430.02 143.215 1430.59 Z\" fill=\"#000000\" fill-rule=\"evenodd\" fill-opacity=\"1\" /><path clip-path=\"url(#clip070)\" d=\"M 0 0 M52.8671 1253.88 L60.506 1253.88 L60.506 1227.51 L52.1958 1229.18 L52.1958 1224.92 L60.4597 1223.26 L65.1356 1223.26 L65.1356 1253.88 L72.7744 1253.88 L72.7744 1257.82 L52.8671 1257.82 L52.8671 1253.88 Z\" fill=\"#000000\" fill-rule=\"evenodd\" fill-opacity=\"1\" /><path clip-path=\"url(#clip070)\" d=\"M 0 0 M87.8438 1226.33 Q84.2327 1226.33 82.404 1229.9 Q80.5984 1233.44 80.5984 1240.57 Q80.5984 1247.68 82.404 1251.24 Q84.2327 1254.78 87.8438 1254.78 Q91.478 1254.78 93.2836 1251.24 Q95.1123 1247.68 95.1123 1240.57 Q95.1123 1233.44 93.2836 1229.9 Q91.478 1226.33 87.8438 1226.33 M87.8438 1222.63 Q93.6539 1222.63 96.7095 1227.24 Q99.7882 1231.82 99.7882 1240.57 Q99.7882 1249.3 96.7095 1253.9 Q93.6539 1258.49 87.8438 1258.49 Q82.0336 1258.49 78.9549 1253.9 Q75.8994 1249.3 75.8994 1240.57 Q75.8994 1231.82 78.9549 1227.24 Q82.0336 1222.63 87.8438 1222.63 Z\" fill=\"#000000\" fill-rule=\"evenodd\" fill-opacity=\"1\" /><path clip-path=\"url(#clip070)\" d=\"M 0 0 M99.7882 1216.73 L123.9 1216.73 L123.9 1219.93 L99.7882 1219.93 L99.7882 1216.73 Z\" fill=\"#000000\" fill-rule=\"evenodd\" fill-opacity=\"1\" /><path clip-path=\"url(#clip070)\" d=\"M 0 0 M128.056 1202.32 L142.971 1202.32 L142.971 1205.52 L131.536 1205.52 L131.536 1212.41 Q132.363 1212.12 133.191 1211.99 Q134.018 1211.84 134.846 1211.84 Q139.548 1211.84 142.294 1214.42 Q145.04 1216.99 145.04 1221.4 Q145.04 1225.93 142.218 1228.45 Q139.397 1230.95 134.263 1230.95 Q132.495 1230.95 130.652 1230.65 Q128.827 1230.35 126.871 1229.75 L126.871 1225.93 Q128.564 1226.85 130.37 1227.3 Q132.175 1227.75 134.188 1227.75 Q137.441 1227.75 139.341 1226.04 Q141.24 1224.33 141.24 1221.4 Q141.24 1218.46 139.341 1216.75 Q137.441 1215.04 134.188 1215.04 Q132.664 1215.04 131.141 1215.38 Q129.636 1215.72 128.056 1216.43 L128.056 1202.32 Z\" fill=\"#000000\" fill-rule=\"evenodd\" fill-opacity=\"1\" /><path clip-path=\"url(#clip070)\" d=\"M 0 0 M51.6634 1026.24 L59.3023 1026.24 L59.3023 999.875 L50.9921 1001.54 L50.9921 997.282 L59.256 995.616 L63.9319 995.616 L63.9319 1026.24 L71.5707 1026.24 L71.5707 1030.18 L51.6634 1030.18 L51.6634 1026.24 Z\" fill=\"#000000\" fill-rule=\"evenodd\" fill-opacity=\"1\" /><path clip-path=\"url(#clip070)\" d=\"M 0 0 M86.6401 998.694 Q83.029 998.694 81.2003 1002.26 Q79.3948 1005.8 79.3948 1012.93 Q79.3948 1020.04 81.2003 1023.6 Q83.029 1027.14 86.6401 1027.14 Q90.2743 1027.14 92.0799 1023.6 Q93.9086 1020.04 93.9086 1012.93 Q93.9086 1005.8 92.0799 1002.26 Q90.2743 998.694 86.6401 998.694 M86.6401 994.991 Q92.4502 994.991 95.5058 999.597 Q98.5845 1004.18 98.5845 1012.93 Q98.5845 1021.66 95.5058 1026.26 Q92.4502 1030.85 86.6401 1030.85 Q80.8299 1030.85 77.7512 1026.26 Q74.6957 1021.66 74.6957 1012.93 Q74.6957 1004.18 77.7512 999.597 Q80.8299 994.991 86.6401 994.991 Z\" fill=\"#000000\" fill-rule=\"evenodd\" fill-opacity=\"1\" /><path clip-path=\"url(#clip070)\" d=\"M 0 0 M98.5845 989.092 L122.696 989.092 L122.696 992.289 L98.5845 992.289 L98.5845 989.092 Z\" fill=\"#000000\" fill-rule=\"evenodd\" fill-opacity=\"1\" /><path clip-path=\"url(#clip070)\" d=\"M 0 0 M137.253 977.995 L127.661 992.985 L137.253 992.985 L137.253 977.995 M136.256 974.685 L141.034 974.685 L141.034 992.985 L145.04 992.985 L145.04 996.145 L141.034 996.145 L141.034 1002.77 L137.253 1002.77 L137.253 996.145 L124.577 996.145 L124.577 992.477 L136.256 974.685 Z\" fill=\"#000000\" fill-rule=\"evenodd\" fill-opacity=\"1\" /><path clip-path=\"url(#clip070)\" d=\"M 0 0 M52.585 798.601 L60.2238 798.601 L60.2238 772.235 L51.9137 773.902 L51.9137 769.643 L60.1776 767.976 L64.8535 767.976 L64.8535 798.601 L72.4923 798.601 L72.4923 802.536 L52.585 802.536 L52.585 798.601 Z\" fill=\"#000000\" fill-rule=\"evenodd\" fill-opacity=\"1\" /><path clip-path=\"url(#clip070)\" d=\"M 0 0 M87.5617 771.055 Q83.9506 771.055 82.1219 774.62 Q80.3163 778.161 80.3163 785.291 Q80.3163 792.397 82.1219 795.962 Q83.9506 799.504 87.5617 799.504 Q91.1959 799.504 93.0014 795.962 Q94.8301 792.397 94.8301 785.291 Q94.8301 778.161 93.0014 774.62 Q91.1959 771.055 87.5617 771.055 M87.5617 767.351 Q93.3718 767.351 96.4274 771.958 Q99.506 776.541 99.506 785.291 Q99.506 794.018 96.4274 798.624 Q93.3718 803.207 87.5617 803.207 Q81.7515 803.207 78.6728 798.624 Q75.6173 794.018 75.6173 785.291 Q75.6173 776.541 78.6728 771.958 Q81.7515 767.351 87.5617 767.351 Z\" fill=\"#000000\" fill-rule=\"evenodd\" fill-opacity=\"1\" /><path clip-path=\"url(#clip070)\" d=\"M 0 0 M99.506 761.452 L123.618 761.452 L123.618 764.65 L99.506 764.65 L99.506 761.452 Z\" fill=\"#000000\" fill-rule=\"evenodd\" fill-opacity=\"1\" /><path clip-path=\"url(#clip070)\" d=\"M 0 0 M139.247 759.985 Q141.974 760.568 143.497 762.412 Q145.04 764.255 145.04 766.963 Q145.04 771.12 142.181 773.395 Q139.322 775.671 134.056 775.671 Q132.288 775.671 130.407 775.314 Q128.545 774.975 126.552 774.279 L126.552 770.612 Q128.131 771.533 130.012 772.004 Q131.893 772.474 133.943 772.474 Q137.517 772.474 139.379 771.063 Q141.259 769.653 141.259 766.963 Q141.259 764.48 139.51 763.089 Q137.78 761.678 134.677 761.678 L131.404 761.678 L131.404 758.556 L134.827 758.556 Q137.629 758.556 139.115 757.446 Q140.601 756.318 140.601 754.211 Q140.601 752.049 139.059 750.901 Q137.535 749.735 134.677 749.735 Q133.116 749.735 131.329 750.074 Q129.542 750.412 127.398 751.127 L127.398 747.742 Q129.561 747.14 131.442 746.839 Q133.341 746.538 135.015 746.538 Q139.341 746.538 141.861 748.513 Q144.381 750.469 144.381 753.816 Q144.381 756.149 143.046 757.766 Q141.711 759.365 139.247 759.985 Z\" fill=\"#000000\" fill-rule=\"evenodd\" fill-opacity=\"1\" /><path clip-path=\"url(#clip070)\" d=\"M 0 0 M53.3561 570.961 L60.995 570.961 L60.995 544.596 L52.6848 546.262 L52.6848 542.003 L60.9487 540.336 L65.6246 540.336 L65.6246 570.961 L73.2634 570.961 L73.2634 574.896 L53.3561 574.896 L53.3561 570.961 Z\" fill=\"#000000\" fill-rule=\"evenodd\" fill-opacity=\"1\" /><path clip-path=\"url(#clip070)\" d=\"M 0 0 M88.3328 543.415 Q84.7217 543.415 82.893 546.98 Q81.0875 550.522 81.0875 557.651 Q81.0875 564.758 82.893 568.322 Q84.7217 571.864 88.3328 571.864 Q91.967 571.864 93.7726 568.322 Q95.6013 564.758 95.6013 557.651 Q95.6013 550.522 93.7726 546.98 Q91.967 543.415 88.3328 543.415 M88.3328 539.711 Q94.1429 539.711 97.1985 544.318 Q100.277 548.901 100.277 557.651 Q100.277 566.378 97.1985 570.984 Q94.1429 575.568 88.3328 575.568 Q82.5226 575.568 79.4439 570.984 Q76.3884 566.378 76.3884 557.651 Q76.3884 548.901 79.4439 544.318 Q82.5226 539.711 88.3328 539.711 Z\" fill=\"#000000\" fill-rule=\"evenodd\" fill-opacity=\"1\" /><path clip-path=\"url(#clip070)\" d=\"M 0 0 M100.277 533.813 L124.389 533.813 L124.389 537.01 L100.277 537.01 L100.277 533.813 Z\" fill=\"#000000\" fill-rule=\"evenodd\" fill-opacity=\"1\" /><path clip-path=\"url(#clip070)\" d=\"M 0 0 M131.78 544.289 L145.04 544.289 L145.04 547.486 L127.21 547.486 L127.21 544.289 Q129.373 542.051 133.097 538.289 Q136.839 534.509 137.799 533.418 Q139.623 531.368 140.338 529.957 Q141.071 528.528 141.071 527.155 Q141.071 524.917 139.491 523.506 Q137.93 522.096 135.41 522.096 Q133.623 522.096 131.63 522.716 Q129.655 523.337 127.398 524.597 L127.398 520.76 Q129.693 519.839 131.686 519.368 Q133.68 518.898 135.335 518.898 Q139.698 518.898 142.294 521.08 Q144.889 523.262 144.889 526.91 Q144.889 528.641 144.231 530.202 Q143.591 531.744 141.88 533.85 Q141.41 534.396 138.89 537.01 Q136.369 539.606 131.78 544.289 Z\" fill=\"#000000\" fill-rule=\"evenodd\" fill-opacity=\"1\" /><path clip-path=\"url(#clip070)\" d=\"M 0 0 M53.0552 343.322 L60.694 343.322 L60.694 316.956 L52.3839 318.623 L52.3839 314.363 L60.6477 312.697 L65.3236 312.697 L65.3236 343.322 L72.9625 343.322 L72.9625 347.257 L53.0552 347.257 L53.0552 343.322 Z\" fill=\"#000000\" fill-rule=\"evenodd\" fill-opacity=\"1\" /><path clip-path=\"url(#clip070)\" d=\"M 0 0 M88.0319 315.775 Q84.4208 315.775 82.5921 319.34 Q80.7865 322.882 80.7865 330.011 Q80.7865 337.118 82.5921 340.683 Q84.4208 344.224 88.0319 344.224 Q91.6661 344.224 93.4716 340.683 Q95.3003 337.118 95.3003 330.011 Q95.3003 322.882 93.4716 319.34 Q91.6661 315.775 88.0319 315.775 M88.0319 312.072 Q93.842 312.072 96.8976 316.678 Q99.9762 321.262 99.9762 330.011 Q99.9762 338.738 96.8976 343.345 Q93.842 347.928 88.0319 347.928 Q82.2217 347.928 79.143 343.345 Q76.0875 338.738 76.0875 330.011 Q76.0875 321.262 79.143 316.678 Q82.2217 312.072 88.0319 312.072 Z\" fill=\"#000000\" fill-rule=\"evenodd\" fill-opacity=\"1\" /><path clip-path=\"url(#clip070)\" d=\"M 0 0 M99.9762 306.173 L124.088 306.173 L124.088 309.37 L99.9762 309.37 L99.9762 306.173 Z\" fill=\"#000000\" fill-rule=\"evenodd\" fill-opacity=\"1\" /><path clip-path=\"url(#clip070)\" d=\"M 0 0 M128.865 316.649 L135.072 316.649 L135.072 295.227 L128.32 296.581 L128.32 293.121 L135.034 291.766 L138.833 291.766 L138.833 316.649 L145.04 316.649 L145.04 319.846 L128.865 319.846 L128.865 316.649 Z\" fill=\"#000000\" fill-rule=\"evenodd\" fill-opacity=\"1\" /><path clip-path=\"url(#clip070)\" d=\"M 0 0 M78.709 115.682 L86.3478 115.682 L86.3478 89.3163 L78.0377 90.983 L78.0377 86.7238 L86.3015 85.0571 L90.9774 85.0571 L90.9774 115.682 L98.6163 115.682 L98.6163 119.617 L78.709 119.617 L78.709 115.682 Z\" fill=\"#000000\" fill-rule=\"evenodd\" fill-opacity=\"1\" /><path clip-path=\"url(#clip070)\" d=\"M 0 0 M113.686 88.1358 Q110.075 88.1358 108.246 91.7006 Q106.44 95.2422 106.44 102.372 Q106.44 109.478 108.246 113.043 Q110.075 116.585 113.686 116.585 Q117.32 116.585 119.125 113.043 Q120.954 109.478 120.954 102.372 Q120.954 95.2422 119.125 91.7006 Q117.32 88.1358 113.686 88.1358 M113.686 84.4321 Q119.496 84.4321 122.551 89.0386 Q125.63 93.6219 125.63 102.372 Q125.63 111.099 122.551 115.705 Q119.496 120.288 113.686 120.288 Q107.876 120.288 104.797 115.705 Q101.741 111.099 101.741 102.372 Q101.741 93.6219 104.797 89.0386 Q107.876 84.4321 113.686 84.4321 Z\" fill=\"#000000\" fill-rule=\"evenodd\" fill-opacity=\"1\" /><path clip-path=\"url(#clip070)\" d=\"M 0 0 M135.335 66.6281 Q132.401 66.6281 130.915 69.5245 Q129.448 72.4021 129.448 78.1949 Q129.448 83.9689 130.915 86.8653 Q132.401 89.7429 135.335 89.7429 Q138.288 89.7429 139.755 86.8653 Q141.24 83.9689 141.24 78.1949 Q141.24 72.4021 139.755 69.5245 Q138.288 66.6281 135.335 66.6281 M135.335 63.6189 Q140.056 63.6189 142.538 67.3616 Q145.04 71.0856 145.04 78.1949 Q145.04 85.2855 142.538 89.0282 Q140.056 92.7521 135.335 92.7521 Q130.614 92.7521 128.113 89.0282 Q125.63 85.2855 125.63 78.1949 Q125.63 71.0856 128.113 67.3616 Q130.614 63.6189 135.335 63.6189 Z\" fill=\"#000000\" fill-rule=\"evenodd\" fill-opacity=\"1\" /><circle clip-path=\"url(#clip072)\" cx=\"232.181\" cy=\"95.8895\" r=\"14\" fill=\"#009af9\" fill-rule=\"evenodd\" fill-opacity=\"1\" stroke=\"#000000\" stroke-opacity=\"1\" stroke-width=\"3.2\"/>\n",
       "<circle clip-path=\"url(#clip072)\" cx=\"516.302\" cy=\"87.9763\" r=\"14\" fill=\"#009af9\" fill-rule=\"evenodd\" fill-opacity=\"1\" stroke=\"#000000\" stroke-opacity=\"1\" stroke-width=\"3.2\"/>\n",
       "<circle clip-path=\"url(#clip072)\" cx=\"800.422\" cy=\"229.065\" r=\"14\" fill=\"#009af9\" fill-rule=\"evenodd\" fill-opacity=\"1\" stroke=\"#000000\" stroke-opacity=\"1\" stroke-width=\"3.2\"/>\n",
       "<circle clip-path=\"url(#clip072)\" cx=\"1084.54\" cy=\"352.131\" r=\"14\" fill=\"#009af9\" fill-rule=\"evenodd\" fill-opacity=\"1\" stroke=\"#000000\" stroke-opacity=\"1\" stroke-width=\"3.2\"/>\n",
       "<circle clip-path=\"url(#clip072)\" cx=\"1368.66\" cy=\"529.74\" r=\"14\" fill=\"#009af9\" fill-rule=\"evenodd\" fill-opacity=\"1\" stroke=\"#000000\" stroke-opacity=\"1\" stroke-width=\"3.2\"/>\n",
       "<circle clip-path=\"url(#clip072)\" cx=\"1652.78\" cy=\"871.628\" r=\"14\" fill=\"#009af9\" fill-rule=\"evenodd\" fill-opacity=\"1\" stroke=\"#000000\" stroke-opacity=\"1\" stroke-width=\"3.2\"/>\n",
       "<circle clip-path=\"url(#clip072)\" cx=\"1936.9\" cy=\"1377.19\" r=\"14\" fill=\"#009af9\" fill-rule=\"evenodd\" fill-opacity=\"1\" stroke=\"#000000\" stroke-opacity=\"1\" stroke-width=\"3.2\"/>\n",
       "<circle clip-path=\"url(#clip072)\" cx=\"232.181\" cy=\"128.135\" r=\"14\" fill=\"#e26f46\" fill-rule=\"evenodd\" fill-opacity=\"1\" stroke=\"#000000\" stroke-opacity=\"1\" stroke-width=\"3.2\"/>\n",
       "<circle clip-path=\"url(#clip072)\" cx=\"516.302\" cy=\"192.784\" r=\"14\" fill=\"#e26f46\" fill-rule=\"evenodd\" fill-opacity=\"1\" stroke=\"#000000\" stroke-opacity=\"1\" stroke-width=\"3.2\"/>\n",
       "<circle clip-path=\"url(#clip072)\" cx=\"800.422\" cy=\"304.104\" r=\"14\" fill=\"#e26f46\" fill-rule=\"evenodd\" fill-opacity=\"1\" stroke=\"#000000\" stroke-opacity=\"1\" stroke-width=\"3.2\"/>\n",
       "<circle clip-path=\"url(#clip072)\" cx=\"1084.54\" cy=\"419.476\" r=\"14\" fill=\"#e26f46\" fill-rule=\"evenodd\" fill-opacity=\"1\" stroke=\"#000000\" stroke-opacity=\"1\" stroke-width=\"3.2\"/>\n",
       "<circle clip-path=\"url(#clip072)\" cx=\"1368.66\" cy=\"598.306\" r=\"14\" fill=\"#e26f46\" fill-rule=\"evenodd\" fill-opacity=\"1\" stroke=\"#000000\" stroke-opacity=\"1\" stroke-width=\"3.2\"/>\n",
       "<circle clip-path=\"url(#clip072)\" cx=\"1652.78\" cy=\"940.155\" r=\"14\" fill=\"#e26f46\" fill-rule=\"evenodd\" fill-opacity=\"1\" stroke=\"#000000\" stroke-opacity=\"1\" stroke-width=\"3.2\"/>\n",
       "<circle clip-path=\"url(#clip072)\" cx=\"1936.9\" cy=\"1445.72\" r=\"14\" fill=\"#e26f46\" fill-rule=\"evenodd\" fill-opacity=\"1\" stroke=\"#000000\" stroke-opacity=\"1\" stroke-width=\"3.2\"/>\n",
       "<path clip-path=\"url(#clip070)\" d=\"\n",
       "M2060.44 276.658 L2352.76 276.658 L2352.76 95.2176 L2060.44 95.2176  Z\n",
       "  \" fill=\"#ffffff\" fill-rule=\"evenodd\" fill-opacity=\"1\"/>\n",
       "<polyline clip-path=\"url(#clip070)\" style=\"stroke:#000000; stroke-width:4; stroke-opacity:1; fill:none\" points=\"\n",
       "  2060.44,276.658 2352.76,276.658 2352.76,95.2176 2060.44,95.2176 2060.44,276.658 \n",
       "  \"/>\n",
       "<circle clip-path=\"url(#clip070)\" cx=\"2156.96\" cy=\"155.698\" r=\"23\" fill=\"#009af9\" fill-rule=\"evenodd\" fill-opacity=\"1\" stroke=\"#000000\" stroke-opacity=\"1\" stroke-width=\"5.12\"/>\n",
       "<path clip-path=\"url(#clip070)\" d=\"M 0 0 M2267.32 175.385 Q2265.51 180.015 2263.8 181.427 Q2262.09 182.839 2259.22 182.839 L2255.82 182.839 L2255.82 179.274 L2258.32 179.274 Q2260.07 179.274 2261.05 178.44 Q2262.02 177.607 2263.2 174.505 L2263.96 172.561 L2253.48 147.052 L2257.99 147.052 L2266.09 167.329 L2274.19 147.052 L2278.71 147.052 L2267.32 175.385 Z\" fill=\"#000000\" fill-rule=\"evenodd\" fill-opacity=\"1\" /><path clip-path=\"url(#clip070)\" d=\"M 0 0 M2284.59 169.042 L2292.23 169.042 L2292.23 142.677 L2283.92 144.343 L2283.92 140.084 L2292.18 138.418 L2296.86 138.418 L2296.86 169.042 L2304.5 169.042 L2304.5 172.978 L2284.59 172.978 L2284.59 169.042 Z\" fill=\"#000000\" fill-rule=\"evenodd\" fill-opacity=\"1\" /><circle clip-path=\"url(#clip070)\" cx=\"2156.96\" cy=\"216.178\" r=\"23\" fill=\"#e26f46\" fill-rule=\"evenodd\" fill-opacity=\"1\" stroke=\"#000000\" stroke-opacity=\"1\" stroke-width=\"5.12\"/>\n",
       "<path clip-path=\"url(#clip070)\" d=\"M 0 0 M2267.32 235.865 Q2265.51 240.495 2263.8 241.907 Q2262.09 243.319 2259.22 243.319 L2255.82 243.319 L2255.82 239.754 L2258.32 239.754 Q2260.07 239.754 2261.05 238.92 Q2262.02 238.087 2263.2 234.985 L2263.96 233.041 L2253.48 207.532 L2257.99 207.532 L2266.09 227.809 L2274.19 207.532 L2278.71 207.532 L2267.32 235.865 Z\" fill=\"#000000\" fill-rule=\"evenodd\" fill-opacity=\"1\" /><path clip-path=\"url(#clip070)\" d=\"M 0 0 M2287.81 229.522 L2304.13 229.522 L2304.13 233.458 L2282.18 233.458 L2282.18 229.522 Q2284.84 226.768 2289.43 222.138 Q2294.03 217.485 2295.21 216.143 Q2297.46 213.62 2298.34 211.884 Q2299.24 210.124 2299.24 208.435 Q2299.24 205.68 2297.3 203.944 Q2295.38 202.208 2292.27 202.208 Q2290.07 202.208 2287.62 202.972 Q2285.19 203.735 2282.41 205.286 L2282.41 200.564 Q2285.24 199.43 2287.69 198.851 Q2290.14 198.273 2292.18 198.273 Q2297.55 198.273 2300.75 200.958 Q2303.94 203.643 2303.94 208.134 Q2303.94 210.263 2303.13 212.185 Q2302.34 214.083 2300.24 216.675 Q2299.66 217.347 2296.56 220.564 Q2293.45 223.759 2287.81 229.522 Z\" fill=\"#000000\" fill-rule=\"evenodd\" fill-opacity=\"1\" /></svg>\n"
      ]
     },
     "execution_count": 18,
     "metadata": {},
     "output_type": "execute_result"
    }
   ],
   "source": [
    "scatter(v1,legend=:outertopright,\n",
    "    #xaxis =:log,\n",
    "    yaxis =:log)\n",
    "scatter!(v2)"
   ]
  },
  {
   "cell_type": "markdown",
   "metadata": {},
   "source": [
    "# Ejercicios Complementarios"
   ]
  },
  {
   "cell_type": "markdown",
   "metadata": {},
   "source": [
    "## Problema 7\n",
    "\n",
    "Dado el siguiente polinomio $p(x) = -10 + 5 x - 12 x^2  + 6 x^3  - 2 x^4  + x^5$, grafique el mismo y observe que posee una única raíz real positiva, encuentre la misma utilizando:\n",
    "\n",
    "1. El método de bisección. Elija los valores iniciales utilizando los teoremas que acotan la región del espacio complejo donde se encuentran las raíces.\n",
    "Evalúe el polinomio en una subrutina y utilice el algoritmo de Horner.\n",
    "\n",
    "2. El método de Newton-Raphson. Elija el valor inicial utilizando los teoremas que acotan la región del espacio complejo donde se encuentran las raíces. \n",
    "Evalúe el polinomio y su derivada en una subrutina utilizando el algoritmo de Horner."
   ]
  },
  {
   "cell_type": "markdown",
   "metadata": {},
   "source": [
    "## Problema 8\n",
    "\n",
    "Adapte el programa de Newton--Raphson para calcular una aproximación a la raíz cúbica de un número $R$ positivo. La entrada debe ser el número $R$, la aproximación inicial $x_0$ y el error máximo permitido $\\varepsilon$.\n",
    " "
   ]
  },
  {
   "cell_type": "markdown",
   "metadata": {},
   "source": [
    "## Problema 9\n",
    "\n",
    "Resuelva numéricamente, utilizando el método de Newton-Raphson, \n",
    "el problema de encontrar la raíz que satisfaga $x^3 - 2x - 5 = 0$.\n",
    "\n",
    "Utilizando calculadora y siete cifras decimales calcule los primeros elementos de la secuencia, comenzando con $x_0 = 2$. Pare cuando el error absoluto en el eje de las abcsisas, definido como $\\epsilon_x= |x_n - x_{n-1} |$ sea menor a $10^{-5}$.\n",
    "Escriba en un papel a mano una tabla que en cada fila tenga $n$, $x_n$, $f(x_n)$ y $\\epsilon_x$."
   ]
  },
  {
   "cell_type": "code",
   "execution_count": 44,
   "metadata": {},
   "outputs": [
    {
     "data": {
      "text/plain": [
       "6-element Array{String,1}:\n",
       " \"la raiz es: 2.0945514815423474\"\n",
       " \"iteraciones 6\"\n",
       " \"valor de la función: 2.327027459614328e-13\"\n",
       " \"error absoluto 1.9228192016385037e-7\"\n",
       " \"error relativo 9.180099981226594e-8\"\n",
       " \"valor absoluto de la raiz 2.327027459614328e-13\""
      ]
     },
     "execution_count": 44,
     "metadata": {},
     "output_type": "execute_result"
    }
   ],
   "source": [
    "pol(x) = x^3 - 2x -5\n",
    "dpol(x) = 3x^2 - 2\n",
    "newton_raphson(pol,dpol,2.0)\n"
   ]
  },
  {
   "cell_type": "code",
   "execution_count": 43,
   "metadata": {},
   "outputs": [
    {
     "data": {
      "image/svg+xml": [
       "<?xml version=\"1.0\" encoding=\"utf-8\"?>\n",
       "<svg xmlns=\"http://www.w3.org/2000/svg\" xmlns:xlink=\"http://www.w3.org/1999/xlink\" width=\"600\" height=\"400\" viewBox=\"0 0 2400 1600\">\n",
       "<defs>\n",
       "  <clipPath id=\"clip630\">\n",
       "    <rect x=\"0\" y=\"0\" width=\"2400\" height=\"1600\"/>\n",
       "  </clipPath>\n",
       "</defs>\n",
       "<path clip-path=\"url(#clip630)\" d=\"\n",
       "M0 1600 L2400 1600 L2400 0 L0 0  Z\n",
       "  \" fill=\"#ffffff\" fill-rule=\"evenodd\" fill-opacity=\"1\"/>\n",
       "<defs>\n",
       "  <clipPath id=\"clip631\">\n",
       "    <rect x=\"480\" y=\"0\" width=\"1681\" height=\"1600\"/>\n",
       "  </clipPath>\n",
       "</defs>\n",
       "<path clip-path=\"url(#clip630)\" d=\"\n",
       "M196.482 1486.45 L2352.76 1486.45 L2352.76 47.2441 L196.482 47.2441  Z\n",
       "  \" fill=\"#ffffff\" fill-rule=\"evenodd\" fill-opacity=\"1\"/>\n",
       "<defs>\n",
       "  <clipPath id=\"clip632\">\n",
       "    <rect x=\"196\" y=\"47\" width=\"2157\" height=\"1440\"/>\n",
       "  </clipPath>\n",
       "</defs>\n",
       "<polyline clip-path=\"url(#clip632)\" style=\"stroke:#000000; stroke-width:2; stroke-opacity:0.1; fill:none\" points=\"\n",
       "  460.931,1486.45 460.931,47.2441 \n",
       "  \"/>\n",
       "<polyline clip-path=\"url(#clip632)\" style=\"stroke:#000000; stroke-width:2; stroke-opacity:0.1; fill:none\" points=\"\n",
       "  867.775,1486.45 867.775,47.2441 \n",
       "  \"/>\n",
       "<polyline clip-path=\"url(#clip632)\" style=\"stroke:#000000; stroke-width:2; stroke-opacity:0.1; fill:none\" points=\"\n",
       "  1274.62,1486.45 1274.62,47.2441 \n",
       "  \"/>\n",
       "<polyline clip-path=\"url(#clip632)\" style=\"stroke:#000000; stroke-width:2; stroke-opacity:0.1; fill:none\" points=\"\n",
       "  1681.46,1486.45 1681.46,47.2441 \n",
       "  \"/>\n",
       "<polyline clip-path=\"url(#clip632)\" style=\"stroke:#000000; stroke-width:2; stroke-opacity:0.1; fill:none\" points=\"\n",
       "  2088.31,1486.45 2088.31,47.2441 \n",
       "  \"/>\n",
       "<polyline clip-path=\"url(#clip630)\" style=\"stroke:#000000; stroke-width:4; stroke-opacity:1; fill:none\" points=\"\n",
       "  196.482,1486.45 2352.76,1486.45 \n",
       "  \"/>\n",
       "<polyline clip-path=\"url(#clip630)\" style=\"stroke:#000000; stroke-width:4; stroke-opacity:1; fill:none\" points=\"\n",
       "  460.931,1486.45 460.931,1469.18 \n",
       "  \"/>\n",
       "<polyline clip-path=\"url(#clip630)\" style=\"stroke:#000000; stroke-width:4; stroke-opacity:1; fill:none\" points=\"\n",
       "  867.775,1486.45 867.775,1469.18 \n",
       "  \"/>\n",
       "<polyline clip-path=\"url(#clip630)\" style=\"stroke:#000000; stroke-width:4; stroke-opacity:1; fill:none\" points=\"\n",
       "  1274.62,1486.45 1274.62,1469.18 \n",
       "  \"/>\n",
       "<polyline clip-path=\"url(#clip630)\" style=\"stroke:#000000; stroke-width:4; stroke-opacity:1; fill:none\" points=\"\n",
       "  1681.46,1486.45 1681.46,1469.18 \n",
       "  \"/>\n",
       "<polyline clip-path=\"url(#clip630)\" style=\"stroke:#000000; stroke-width:4; stroke-opacity:1; fill:none\" points=\"\n",
       "  2088.31,1486.45 2088.31,1469.18 \n",
       "  \"/>\n",
       "<path clip-path=\"url(#clip630)\" d=\"M 0 0 M432.343 1530.29 L462.019 1530.29 L462.019 1534.23 L432.343 1534.23 L432.343 1530.29 Z\" fill=\"#000000\" fill-rule=\"evenodd\" fill-opacity=\"1\" /><path clip-path=\"url(#clip630)\" d=\"M 0 0 M479.935 1516.63 L468.13 1535.08 L479.935 1535.08 L479.935 1516.63 M478.709 1512.56 L484.588 1512.56 L484.588 1535.08 L489.519 1535.08 L489.519 1538.97 L484.588 1538.97 L484.588 1547.12 L479.935 1547.12 L479.935 1538.97 L464.334 1538.97 L464.334 1534.46 L478.709 1512.56 Z\" fill=\"#000000\" fill-rule=\"evenodd\" fill-opacity=\"1\" /><path clip-path=\"url(#clip630)\" d=\"M 0 0 M840.229 1530.29 L869.905 1530.29 L869.905 1534.23 L840.229 1534.23 L840.229 1530.29 Z\" fill=\"#000000\" fill-rule=\"evenodd\" fill-opacity=\"1\" /><path clip-path=\"url(#clip630)\" d=\"M 0 0 M879.002 1543.18 L895.321 1543.18 L895.321 1547.12 L873.377 1547.12 L873.377 1543.18 Q876.039 1540.43 880.622 1535.8 Q885.229 1531.15 886.409 1529.81 Q888.655 1527.28 889.534 1525.55 Q890.437 1523.79 890.437 1522.1 Q890.437 1519.34 888.492 1517.61 Q886.571 1515.87 883.469 1515.87 Q881.27 1515.87 878.817 1516.63 Q876.386 1517.4 873.608 1518.95 L873.608 1514.23 Q876.432 1513.09 878.886 1512.51 Q881.34 1511.93 883.377 1511.93 Q888.747 1511.93 891.942 1514.62 Q895.136 1517.31 895.136 1521.8 Q895.136 1523.93 894.326 1525.85 Q893.539 1527.74 891.432 1530.34 Q890.854 1531.01 887.752 1534.23 Q884.65 1537.42 879.002 1543.18 Z\" fill=\"#000000\" fill-rule=\"evenodd\" fill-opacity=\"1\" /><path clip-path=\"url(#clip630)\" d=\"M 0 0 M1274.62 1515.64 Q1271.01 1515.64 1269.18 1519.2 Q1267.37 1522.75 1267.37 1529.87 Q1267.37 1536.98 1269.18 1540.55 Q1271.01 1544.09 1274.62 1544.09 Q1278.25 1544.09 1280.06 1540.55 Q1281.89 1536.98 1281.89 1529.87 Q1281.89 1522.75 1280.06 1519.2 Q1278.25 1515.64 1274.62 1515.64 M1274.62 1511.93 Q1280.43 1511.93 1283.48 1516.54 Q1286.56 1521.12 1286.56 1529.87 Q1286.56 1538.6 1283.48 1543.21 Q1280.43 1547.79 1274.62 1547.79 Q1268.81 1547.79 1265.73 1543.21 Q1262.67 1538.6 1262.67 1529.87 Q1262.67 1521.12 1265.73 1516.54 Q1268.81 1511.93 1274.62 1511.93 Z\" fill=\"#000000\" fill-rule=\"evenodd\" fill-opacity=\"1\" /><path clip-path=\"url(#clip630)\" d=\"M 0 0 M1676.12 1543.18 L1692.44 1543.18 L1692.44 1547.12 L1670.49 1547.12 L1670.49 1543.18 Q1673.15 1540.43 1677.74 1535.8 Q1682.34 1531.15 1683.52 1529.81 Q1685.77 1527.28 1686.65 1525.55 Q1687.55 1523.79 1687.55 1522.1 Q1687.55 1519.34 1685.61 1517.61 Q1683.69 1515.87 1680.58 1515.87 Q1678.38 1515.87 1675.93 1516.63 Q1673.5 1517.4 1670.72 1518.95 L1670.72 1514.23 Q1673.55 1513.09 1676 1512.51 Q1678.45 1511.93 1680.49 1511.93 Q1685.86 1511.93 1689.06 1514.62 Q1692.25 1517.31 1692.25 1521.8 Q1692.25 1523.93 1691.44 1525.85 Q1690.65 1527.74 1688.55 1530.34 Q1687.97 1531.01 1684.87 1534.23 Q1681.76 1537.42 1676.12 1543.18 Z\" fill=\"#000000\" fill-rule=\"evenodd\" fill-opacity=\"1\" /><path clip-path=\"url(#clip630)\" d=\"M 0 0 M2091.32 1516.63 L2079.51 1535.08 L2091.32 1535.08 L2091.32 1516.63 M2090.09 1512.56 L2095.97 1512.56 L2095.97 1535.08 L2100.9 1535.08 L2100.9 1538.97 L2095.97 1538.97 L2095.97 1547.12 L2091.32 1547.12 L2091.32 1538.97 L2075.71 1538.97 L2075.71 1534.46 L2090.09 1512.56 Z\" fill=\"#000000\" fill-rule=\"evenodd\" fill-opacity=\"1\" /><polyline clip-path=\"url(#clip632)\" style=\"stroke:#000000; stroke-width:2; stroke-opacity:0.1; fill:none\" points=\"\n",
       "  196.482,1327.65 2352.76,1327.65 \n",
       "  \"/>\n",
       "<polyline clip-path=\"url(#clip632)\" style=\"stroke:#000000; stroke-width:2; stroke-opacity:0.1; fill:none\" points=\"\n",
       "  196.482,1032.49 2352.76,1032.49 \n",
       "  \"/>\n",
       "<polyline clip-path=\"url(#clip632)\" style=\"stroke:#000000; stroke-width:2; stroke-opacity:0.1; fill:none\" points=\"\n",
       "  196.482,737.33 2352.76,737.33 \n",
       "  \"/>\n",
       "<polyline clip-path=\"url(#clip632)\" style=\"stroke:#000000; stroke-width:2; stroke-opacity:0.1; fill:none\" points=\"\n",
       "  196.482,442.169 2352.76,442.169 \n",
       "  \"/>\n",
       "<polyline clip-path=\"url(#clip632)\" style=\"stroke:#000000; stroke-width:2; stroke-opacity:0.1; fill:none\" points=\"\n",
       "  196.482,147.008 2352.76,147.008 \n",
       "  \"/>\n",
       "<polyline clip-path=\"url(#clip630)\" style=\"stroke:#000000; stroke-width:4; stroke-opacity:1; fill:none\" points=\"\n",
       "  196.482,1486.45 196.482,47.2441 \n",
       "  \"/>\n",
       "<polyline clip-path=\"url(#clip630)\" style=\"stroke:#000000; stroke-width:4; stroke-opacity:1; fill:none\" points=\"\n",
       "  196.482,1327.65 222.358,1327.65 \n",
       "  \"/>\n",
       "<polyline clip-path=\"url(#clip630)\" style=\"stroke:#000000; stroke-width:4; stroke-opacity:1; fill:none\" points=\"\n",
       "  196.482,1032.49 222.358,1032.49 \n",
       "  \"/>\n",
       "<polyline clip-path=\"url(#clip630)\" style=\"stroke:#000000; stroke-width:4; stroke-opacity:1; fill:none\" points=\"\n",
       "  196.482,737.33 222.358,737.33 \n",
       "  \"/>\n",
       "<polyline clip-path=\"url(#clip630)\" style=\"stroke:#000000; stroke-width:4; stroke-opacity:1; fill:none\" points=\"\n",
       "  196.482,442.169 222.358,442.169 \n",
       "  \"/>\n",
       "<polyline clip-path=\"url(#clip630)\" style=\"stroke:#000000; stroke-width:4; stroke-opacity:1; fill:none\" points=\"\n",
       "  196.482,147.008 222.358,147.008 \n",
       "  \"/>\n",
       "<path clip-path=\"url(#clip630)\" d=\"M 0 0 M50.9921 1328.1 L80.6679 1328.1 L80.6679 1332.04 L50.9921 1332.04 L50.9921 1328.1 Z\" fill=\"#000000\" fill-rule=\"evenodd\" fill-opacity=\"1\" /><path clip-path=\"url(#clip630)\" d=\"M 0 0 M86.5475 1341 L94.1863 1341 L94.1863 1314.63 L85.8762 1316.3 L85.8762 1312.04 L94.14 1310.37 L98.8159 1310.37 L98.8159 1341 L106.455 1341 L106.455 1344.93 L86.5475 1344.93 L86.5475 1341 Z\" fill=\"#000000\" fill-rule=\"evenodd\" fill-opacity=\"1\" /><path clip-path=\"url(#clip630)\" d=\"M 0 0 M121.524 1313.45 Q117.913 1313.45 116.084 1317.01 Q114.279 1320.56 114.279 1327.69 Q114.279 1334.79 116.084 1338.36 Q117.913 1341.9 121.524 1341.9 Q125.158 1341.9 126.964 1338.36 Q128.793 1334.79 128.793 1327.69 Q128.793 1320.56 126.964 1317.01 Q125.158 1313.45 121.524 1313.45 M121.524 1309.75 Q127.334 1309.75 130.39 1314.35 Q133.469 1318.94 133.469 1327.69 Q133.469 1336.41 130.39 1341.02 Q127.334 1345.6 121.524 1345.6 Q115.714 1345.6 112.635 1341.02 Q109.58 1336.41 109.58 1327.69 Q109.58 1318.94 112.635 1314.35 Q115.714 1309.75 121.524 1309.75 Z\" fill=\"#000000\" fill-rule=\"evenodd\" fill-opacity=\"1\" /><path clip-path=\"url(#clip630)\" d=\"M 0 0 M148.538 1313.45 Q144.927 1313.45 143.098 1317.01 Q141.293 1320.56 141.293 1327.69 Q141.293 1334.79 143.098 1338.36 Q144.927 1341.9 148.538 1341.9 Q152.172 1341.9 153.978 1338.36 Q155.806 1334.79 155.806 1327.69 Q155.806 1320.56 153.978 1317.01 Q152.172 1313.45 148.538 1313.45 M148.538 1309.75 Q154.348 1309.75 157.404 1314.35 Q160.482 1318.94 160.482 1327.69 Q160.482 1336.41 157.404 1341.02 Q154.348 1345.6 148.538 1345.6 Q142.728 1345.6 139.649 1341.02 Q136.594 1336.41 136.594 1327.69 Q136.594 1318.94 139.649 1314.35 Q142.728 1309.75 148.538 1309.75 Z\" fill=\"#000000\" fill-rule=\"evenodd\" fill-opacity=\"1\" /><path clip-path=\"url(#clip630)\" d=\"M 0 0 M77.7744 1032.94 L107.45 1032.94 L107.45 1036.88 L77.7744 1036.88 L77.7744 1032.94 Z\" fill=\"#000000\" fill-rule=\"evenodd\" fill-opacity=\"1\" /><path clip-path=\"url(#clip630)\" d=\"M 0 0 M112.566 1015.21 L130.922 1015.21 L130.922 1019.15 L116.848 1019.15 L116.848 1027.62 Q117.867 1027.27 118.885 1027.11 Q119.904 1026.92 120.922 1026.92 Q126.709 1026.92 130.089 1030.09 Q133.469 1033.27 133.469 1038.68 Q133.469 1044.26 129.996 1047.36 Q126.524 1050.44 120.205 1050.44 Q118.029 1050.44 115.76 1050.07 Q113.515 1049.7 111.108 1048.96 L111.108 1044.26 Q113.191 1045.4 115.413 1045.95 Q117.635 1046.51 120.112 1046.51 Q124.117 1046.51 126.455 1044.4 Q128.793 1042.29 128.793 1038.68 Q128.793 1035.07 126.455 1032.97 Q124.117 1030.86 120.112 1030.86 Q118.237 1030.86 116.362 1031.28 Q114.51 1031.69 112.566 1032.57 L112.566 1015.21 Z\" fill=\"#000000\" fill-rule=\"evenodd\" fill-opacity=\"1\" /><path clip-path=\"url(#clip630)\" d=\"M 0 0 M148.538 1018.29 Q144.927 1018.29 143.098 1021.85 Q141.293 1025.4 141.293 1032.53 Q141.293 1039.63 143.098 1043.2 Q144.927 1046.74 148.538 1046.74 Q152.172 1046.74 153.978 1043.2 Q155.806 1039.63 155.806 1032.53 Q155.806 1025.4 153.978 1021.85 Q152.172 1018.29 148.538 1018.29 M148.538 1014.59 Q154.348 1014.59 157.404 1019.19 Q160.482 1023.78 160.482 1032.53 Q160.482 1041.25 157.404 1045.86 Q154.348 1050.44 148.538 1050.44 Q142.728 1050.44 139.649 1045.86 Q136.594 1041.25 136.594 1032.53 Q136.594 1023.78 139.649 1019.19 Q142.728 1014.59 148.538 1014.59 Z\" fill=\"#000000\" fill-rule=\"evenodd\" fill-opacity=\"1\" /><path clip-path=\"url(#clip630)\" d=\"M 0 0 M148.538 723.129 Q144.927 723.129 143.098 726.693 Q141.293 730.235 141.293 737.365 Q141.293 744.471 143.098 748.036 Q144.927 751.578 148.538 751.578 Q152.172 751.578 153.978 748.036 Q155.806 744.471 155.806 737.365 Q155.806 730.235 153.978 726.693 Q152.172 723.129 148.538 723.129 M148.538 719.425 Q154.348 719.425 157.404 724.031 Q160.482 728.615 160.482 737.365 Q160.482 746.091 157.404 750.698 Q154.348 755.281 148.538 755.281 Q142.728 755.281 139.649 750.698 Q136.594 746.091 136.594 737.365 Q136.594 728.615 139.649 724.031 Q142.728 719.425 148.538 719.425 Z\" fill=\"#000000\" fill-rule=\"evenodd\" fill-opacity=\"1\" /><path clip-path=\"url(#clip630)\" d=\"M 0 0 M112.566 424.889 L130.922 424.889 L130.922 428.824 L116.848 428.824 L116.848 437.297 Q117.867 436.949 118.885 436.787 Q119.904 436.602 120.922 436.602 Q126.709 436.602 130.089 439.773 Q133.469 442.945 133.469 448.361 Q133.469 453.94 129.996 457.042 Q126.524 460.12 120.205 460.12 Q118.029 460.12 115.76 459.75 Q113.515 459.38 111.108 458.639 L111.108 453.94 Q113.191 455.074 115.413 455.63 Q117.635 456.185 120.112 456.185 Q124.117 456.185 126.455 454.079 Q128.793 451.972 128.793 448.361 Q128.793 444.75 126.455 442.644 Q124.117 440.537 120.112 440.537 Q118.237 440.537 116.362 440.954 Q114.51 441.371 112.566 442.25 L112.566 424.889 Z\" fill=\"#000000\" fill-rule=\"evenodd\" fill-opacity=\"1\" /><path clip-path=\"url(#clip630)\" d=\"M 0 0 M148.538 427.968 Q144.927 427.968 143.098 431.533 Q141.293 435.074 141.293 442.204 Q141.293 449.31 143.098 452.875 Q144.927 456.417 148.538 456.417 Q152.172 456.417 153.978 452.875 Q155.806 449.31 155.806 442.204 Q155.806 435.074 153.978 431.533 Q152.172 427.968 148.538 427.968 M148.538 424.264 Q154.348 424.264 157.404 428.871 Q160.482 433.454 160.482 442.204 Q160.482 450.931 157.404 455.537 Q154.348 460.12 148.538 460.12 Q142.728 460.12 139.649 455.537 Q136.594 450.931 136.594 442.204 Q136.594 433.454 139.649 428.871 Q142.728 424.264 148.538 424.264 Z\" fill=\"#000000\" fill-rule=\"evenodd\" fill-opacity=\"1\" /><path clip-path=\"url(#clip630)\" d=\"M 0 0 M86.5475 160.353 L94.1863 160.353 L94.1863 133.988 L85.8762 135.654 L85.8762 131.395 L94.14 129.728 L98.8159 129.728 L98.8159 160.353 L106.455 160.353 L106.455 164.288 L86.5475 164.288 L86.5475 160.353 Z\" fill=\"#000000\" fill-rule=\"evenodd\" fill-opacity=\"1\" /><path clip-path=\"url(#clip630)\" d=\"M 0 0 M121.524 132.807 Q117.913 132.807 116.084 136.372 Q114.279 139.914 114.279 147.043 Q114.279 154.15 116.084 157.714 Q117.913 161.256 121.524 161.256 Q125.158 161.256 126.964 157.714 Q128.793 154.15 128.793 147.043 Q128.793 139.914 126.964 136.372 Q125.158 132.807 121.524 132.807 M121.524 129.103 Q127.334 129.103 130.39 133.71 Q133.469 138.293 133.469 147.043 Q133.469 155.77 130.39 160.376 Q127.334 164.96 121.524 164.96 Q115.714 164.96 112.635 160.376 Q109.58 155.77 109.58 147.043 Q109.58 138.293 112.635 133.71 Q115.714 129.103 121.524 129.103 Z\" fill=\"#000000\" fill-rule=\"evenodd\" fill-opacity=\"1\" /><path clip-path=\"url(#clip630)\" d=\"M 0 0 M148.538 132.807 Q144.927 132.807 143.098 136.372 Q141.293 139.914 141.293 147.043 Q141.293 154.15 143.098 157.714 Q144.927 161.256 148.538 161.256 Q152.172 161.256 153.978 157.714 Q155.806 154.15 155.806 147.043 Q155.806 139.914 153.978 136.372 Q152.172 132.807 148.538 132.807 M148.538 129.103 Q154.348 129.103 157.404 133.71 Q160.482 138.293 160.482 147.043 Q160.482 155.77 157.404 160.376 Q154.348 164.96 148.538 164.96 Q142.728 164.96 139.649 160.376 Q136.594 155.77 136.594 147.043 Q136.594 138.293 139.649 133.71 Q142.728 129.103 148.538 129.103 Z\" fill=\"#000000\" fill-rule=\"evenodd\" fill-opacity=\"1\" /><polyline clip-path=\"url(#clip632)\" style=\"stroke:#009af9; stroke-width:4; stroke-opacity:1; fill:none\" points=\"\n",
       "  257.509,1445.72 262.475,1435.25 267.442,1424.88 272.408,1414.63 277.375,1404.47 323.297,1315.41 369.219,1234.79 415.141,1162.21 461.063,1097.25 516.257,1028.69 \n",
       "  571.452,969.855 618.118,927.17 664.784,890.501 715.477,856.986 766.17,829.516 812.904,809.075 859.638,792.877 959.846,770.449 1075.95,760.815 1179.12,761.914 \n",
       "  1269.6,766.555 1368.24,771.704 1467.47,773.009 1577.18,764.982 1681.57,743.202 1735.84,724.809 1790.11,700.701 1835.79,675.482 1881.48,645.336 1937.25,601.266 \n",
       "  1993.03,548.522 2045.46,490.381 2097.88,423.324 2139.88,362.769 2181.88,295.792 2223.88,222.082 2265.88,141.326 2272.34,128.253 2278.8,115.004 2285.27,101.579 \n",
       "  2291.73,87.9763 \n",
       "  \"/>\n",
       "<path clip-path=\"url(#clip630)\" d=\"\n",
       "M1990.28 216.178 L2280.88 216.178 L2280.88 95.2176 L1990.28 95.2176  Z\n",
       "  \" fill=\"#ffffff\" fill-rule=\"evenodd\" fill-opacity=\"1\"/>\n",
       "<polyline clip-path=\"url(#clip630)\" style=\"stroke:#000000; stroke-width:4; stroke-opacity:1; fill:none\" points=\"\n",
       "  1990.28,216.178 2280.88,216.178 2280.88,95.2176 1990.28,95.2176 1990.28,216.178 \n",
       "  \"/>\n",
       "<polyline clip-path=\"url(#clip630)\" style=\"stroke:#009af9; stroke-width:4; stroke-opacity:1; fill:none\" points=\"\n",
       "  2014.23,155.698 2157.99,155.698 \n",
       "  \"/>\n",
       "<path clip-path=\"url(#clip630)\" d=\"M 0 0 M2195.79 175.385 Q2193.98 180.015 2192.27 181.427 Q2190.56 182.839 2187.69 182.839 L2184.28 182.839 L2184.28 179.274 L2186.78 179.274 Q2188.54 179.274 2189.51 178.44 Q2190.49 177.607 2191.67 174.505 L2192.43 172.561 L2181.94 147.052 L2186.46 147.052 L2194.56 167.329 L2202.66 147.052 L2207.18 147.052 L2195.79 175.385 Z\" fill=\"#000000\" fill-rule=\"evenodd\" fill-opacity=\"1\" /><path clip-path=\"url(#clip630)\" d=\"M 0 0 M2213.06 169.042 L2220.69 169.042 L2220.69 142.677 L2212.38 144.343 L2212.38 140.084 L2220.65 138.418 L2225.32 138.418 L2225.32 169.042 L2232.96 169.042 L2232.96 172.978 L2213.06 172.978 L2213.06 169.042 Z\" fill=\"#000000\" fill-rule=\"evenodd\" fill-opacity=\"1\" /></svg>\n"
      ]
     },
     "execution_count": 43,
     "metadata": {},
     "output_type": "execute_result"
    }
   ],
   "source": [
    "plot(pol)"
   ]
  },
  {
   "cell_type": "code",
   "execution_count": null,
   "metadata": {},
   "outputs": [],
   "source": []
  }
 ],
 "metadata": {
  "@webio": {
   "lastCommId": null,
   "lastKernelId": null
  },
  "kernelspec": {
   "display_name": "Julia 1.8.0",
   "language": "julia",
   "name": "julia-1.8"
  },
  "language_info": {
   "file_extension": ".jl",
   "mimetype": "application/julia",
   "name": "julia",
   "version": "1.8.0"
  },
  "latex_envs": {
   "LaTeX_envs_menu_present": true,
   "autoclose": false,
   "autocomplete": true,
   "bibliofile": "biblio.bib",
   "cite_by": "apalike",
   "current_citInitial": 1,
   "eqLabelWithNumbers": true,
   "eqNumInitial": 1,
   "hotkeys": {
    "equation": "Ctrl-E",
    "itemize": "Ctrl-I"
   },
   "labels_anchors": false,
   "latex_user_defs": false,
   "report_style_numbering": false,
   "user_envs_cfg": false
  }
 },
 "nbformat": 4,
 "nbformat_minor": 4
}
