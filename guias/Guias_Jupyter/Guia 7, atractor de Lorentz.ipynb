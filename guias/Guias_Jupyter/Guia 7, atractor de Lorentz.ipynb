{
 "cells": [
  {
   "cell_type": "markdown",
   "id": "tracked-colonial",
   "metadata": {},
   "source": [
    "## Problema C.3\n",
    "   \n",
    "El objeto de este problema es familiarizarse con el uso de una librería para resolver un sistema de ecuaciones en derivadas parciales. \n",
    "    Para ello les pedimos que reproduzca en su notebook el **ejemplo 2** de esta página: https://diffeq.sciml.ai/stable/tutorials/ode_example/\n",
    "    Se trata del atractor de Lorenz, un sistema que excibe caos y que es una simplificación *extrema* de un problema de climatología. \n",
    "    Luego de implementarlo, juegue cambiando las condiciones iniciales y/o parámetros. Cambie los métodos de integración. Esta librería tiene decenas de distintos métodos.\n",
    "    \n",
    "**Nota:** Al comienzo tiene que poner: `using Plots, OrdinaryDiffEq`"
   ]
  },
  {
   "cell_type": "code",
   "execution_count": null,
   "id": "photographic-assault",
   "metadata": {},
   "outputs": [],
   "source": []
  }
 ],
 "metadata": {
  "kernelspec": {
   "display_name": "Julia 1.5.4",
   "language": "julia",
   "name": "julia-1.5"
  },
  "language_info": {
   "file_extension": ".jl",
   "mimetype": "application/julia",
   "name": "julia",
   "version": "1.5.4"
  }
 },
 "nbformat": 4,
 "nbformat_minor": 5
}
